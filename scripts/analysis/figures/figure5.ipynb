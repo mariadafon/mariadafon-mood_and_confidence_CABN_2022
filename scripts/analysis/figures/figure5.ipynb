{
 "cells": [
  {
   "cell_type": "code",
   "execution_count": 1,
   "id": "uniform-chorus",
   "metadata": {},
   "outputs": [],
   "source": [
    "import pandas as pd\n",
    "import os\n",
    "import json\n",
    "import numpy as np\n",
    "from itertools import groupby\n",
    "import matplotlib.pyplot as plt\n",
    "from scipy import stats,signal\n",
    "import matplotlib as mpl\n",
    "from sklearn.linear_model import LogisticRegression\n",
    "import random\n",
    "import re\n",
    "import csv\n",
    "from IPython.display import HTML, display, Image\n",
    "import tabulate\n",
    "import math as m\n",
    "import warnings\n",
    "warnings.filterwarnings('ignore')\n",
    "import statsmodels.api as sm\n",
    "import statsmodels.formula.api as smf\n",
    "import itertools\n",
    "\n",
    "import sys\n",
    "# insert at 1, 0 is the script path (or '' in REPL)\n",
    "sys.path.insert(1, '/home/cbclab/Dropbox/postdocUPF/jatos_experiments')\n",
    "import my_functions as myf\n",
    "\n",
    "mpl.rcParams['lines.linewidth'] = 2\n",
    "mpl.rcParams['axes.titlesize'] = 20\n",
    "mpl.rcParams['axes.labelsize'] = 18\n",
    "mpl.rcParams['lines.markersize'] = 10\n",
    "mpl.rcParams['xtick.labelsize'] = 20\n",
    "mpl.rcParams['ytick.labelsize'] = 20\n",
    "mpl.rcParams['axes.linewidth'] = 1\n",
    "#mpl.rcParams['xtick.major.size'] = 20\n",
    "mpl.rcParams['xtick.major.width'] = 1\n",
    "#mpl.rcParams['xtick.minor.size'] = 10\n",
    "mpl.rcParams['xtick.minor.width'] = 1\n",
    "mpl.rcParams['ytick.major.width'] = 1\n",
    "mpl.rcParams['ytick.minor.width'] = 1\n",
    "mpl.rcParams['axes.spines.right'] = False\n",
    "mpl.rcParams['axes.spines.top'] = False\n",
    "\n",
    "fday = [1,2,3,4,5,6,7,8,9,10]\n",
    "fsession = [1,2]\n",
    "session_labels = ['Th','Fr','Sa','Su','Mo','Tu','We','Th','Fr','Sa']\n",
    "\n",
    "SR_color = {'mood': [0.1,0.5,1],'food': [1,0.5,0.1],'sleep': 'y', 'real_stress':[0.1,0.5,0.2]}\n",
    "PV_color = {'DO':[1,0,0.4],'SO':[0.4,0,1],'NO':'k'}\n",
    "PV_line = {'DO':'-','SO':'-','NO':'-'}\n",
    "\n",
    "key_SR = ['mood','food','sleep', 'real_stress']\n",
    "key_PV = ['Dsubj_optout_oo','Ssubj_optout_oo','subj_perf_no','OKubj_RT_no','DoverConf','SoverConf','risk_av']\n",
    "key_LR = ['slope_RT', 'slope_DO', 'slope_SO', 'intercept_RT', 'intercept_DO','intercept_SO']\n",
    "key_name = key_SR+key_PV\n",
    "\n",
    "pair_keys_SR = list(itertools.combinations(key_SR, 2))\n",
    "key_SR = ['mood','food','sleep', 'real_stress']\n",
    "key_SR2plot = [key_SR[:int(len(key_SR)/2)],key_SR[int(len(key_SR)/2):]]\n",
    "\n",
    "# pair of PV \n",
    "pair_keys_PV = list(itertools.combinations(key_PV[:-3], 2))\n",
    "pair_keys_PV2plot = [pair_keys_PV[:int(len(pair_keys_PV)/2)],pair_keys_PV[int(len(pair_keys_PV)/2):]]\n",
    "key_name_PV = {'Dsubj_optout_oo':'DO','Ssubj_optout_oo':'SO','subj_perf_no':'acc NO','OKubj_RT_no':'RT NO',\\\n",
    "              'DoverConf':'DO overconf.','SoverConf':'SO overconf.','risk_av':'risk aversion',\\\n",
    "              'slope_RT':'slope RT', 'slope_DO':'slope DO', 'slope_SO':'slope SO', \\\n",
    "               'intercept_RT':'intercept RT', 'intercept_DO':'intercept DO','intercept_SO':'intercept SO'}\n",
    "pair_key_name_PV2plot = [[[key_name_PV[k] for k in tupl] for tupl in lista] for lista in pair_keys_PV2plot]\n",
    "\n",
    "pair_SR_PV,pair_SR_PV2plot = [],[]\n",
    "for pv in key_PV+key_LR:\n",
    "    aux = []\n",
    "    for sr in key_SR:\n",
    "        pair_SR_PV.append((sr,pv))\n",
    "        aux.append((sr,pv))\n",
    "    pair_SR_PV2plot.append(aux)\n",
    "\n",
    "key_diff = ['Dperf_oo', 'Sperf_oo', 'perf_no', 'Dn_trials_oo', 'Sn_trials_oo', 'NOn_trials', \\\n",
    "            'DRT_OKoo', 'SRT_OKoo', 'RT_no', 'RT_noNOK', 'Doptout', 'Soptout']\n",
    "\n",
    "unique_signals_dots = [1,2,3,4]\n",
    "unique_signals_gabor = [1,2,3]\n",
    "\n",
    "main_path = '/home/cbclab/Dropbox/postdocUPF/jatos_experiments'\n",
    "\n",
    "path_results_dots = main_path + '/dots/notebooks/results_tanda_1/'\n",
    "path_results_gabor = main_path + '/gabor/notebooks/results_tanda_1/'"
   ]
  },
  {
   "cell_type": "code",
   "execution_count": 2,
   "id": "adult-municipality",
   "metadata": {},
   "outputs": [],
   "source": [
    "file=path_results_dots+'mean_across_participants.json'\n",
    "with open(file) as f:\n",
    "    as_dots = json.load(f)\n",
    "file=path_results_dots+'se_across_participants.json'\n",
    "with open(file) as f:\n",
    "    se_dots = json.load(f)"
   ]
  },
  {
   "cell_type": "code",
   "execution_count": 3,
   "id": "pregnant-kuwait",
   "metadata": {},
   "outputs": [],
   "source": [
    "file=path_results_gabor+'mean_across_participants.json'\n",
    "with open(file) as f:\n",
    "    as_gabor = json.load(f)\n",
    "file=path_results_gabor+'se_across_participants.json'\n",
    "with open(file) as f:\n",
    "    se_gabor = json.load(f)"
   ]
  },
  {
   "cell_type": "code",
   "execution_count": 4,
   "id": "beautiful-luther",
   "metadata": {},
   "outputs": [],
   "source": [
    "f='corrSR_PV.json'\n",
    "with open(path_results_dots+f) as f:\n",
    "    data_pd = json.load(f)\n",
    "for k, v in data_pd.items():\n",
    "    globals()[k+'_dots']=v  "
   ]
  },
  {
   "cell_type": "code",
   "execution_count": 5,
   "id": "forbidden-router",
   "metadata": {},
   "outputs": [],
   "source": [
    "# convert string key into tuples\n",
    "\n",
    "new_key = {}\n",
    "for k,v in corr_SR_PV_dots.items():\n",
    "    aux = k.split(\"-\")\n",
    "    new_key[k] = (aux[0],aux[1])\n",
    "for k,v in new_key.items():\n",
    "    corr_SR_PV_dots[v] = corr_SR_PV_dots.pop(k)\n",
    "    p_SR_PV_dots[v] = p_SR_PV_dots.pop(k)\n",
    "    SIG_SR_PV_dots[v] = SIG_SR_PV_dots.pop(k)\n",
    "    NOS_SR_PV_dots[v] = NOS_SR_PV_dots.pop(k)"
   ]
  },
  {
   "cell_type": "code",
   "execution_count": 6,
   "id": "reserved-sequence",
   "metadata": {},
   "outputs": [
    {
     "data": {
      "image/png": "[encoded data removed]",
      "text/plain": [
       "<Figure size 432x288 with 2 Axes>"
      ]
     },
     "metadata": {
      "needs_background": "light"
     },
     "output_type": "display_data"
    }
   ],
   "source": [
    "fig ,(ax1,ax2) = plt.subplots(2,1,gridspec_kw={'hspace':0})\n",
    "\n",
    "ax1.hist([SIG_SR_PV_dots[('mood', 'Dsubj_optout_oo')],NOS_SR_PV_dots[('mood', 'Dsubj_optout_oo')]],\\\n",
    "          bins=np.arange(-1,1,0.1),alpha=0.7,histtype='bar', stacked=True, \\\n",
    "          color=[PV_color['DO'],[1,0.8,0.8]], edgecolor=PV_color['DO'], linewidth=1)\n",
    "ax1.set_yticks([0,3,6])\n",
    "ax1.set_xlim(-1.1,1.1)\n",
    "ax1.set_ylabel('counts',fontsize=20)\n",
    "ax1.yaxis.set_label_coords(-0.07,0)\n",
    "ax1.set_xticks([])\n",
    "ax1.set_ylim(0,8)\n",
    "ax1.spines['bottom'].set_visible(True)\n",
    "ax1.spines['bottom'].set_linewidth(1)\n",
    "ax1.spines['bottom'].set_color('k')\n",
    "ax1.axvline(0,color='k',lw=1)\n",
    "\n",
    "ax2.hist([SIG_SR_PV_dots[('mood', 'Ssubj_optout_oo')],NOS_SR_PV_dots[('mood', 'Ssubj_optout_oo')]],\\\n",
    "          bins=np.arange(-1,1,0.1),color=[PV_color['SO'],[0.8,0.8,1]],alpha=0.7,histtype='bar',\\\n",
    "         stacked=True,edgecolor=PV_color['SO'], linewidth=1)\n",
    "ax2.set_yticks([3,6])\n",
    "ax2.set_xticks([-1,0,1])\n",
    "ax2.set_xticklabels([])\n",
    "ax2.set_xlim(-1.1,1.1)\n",
    "ax2.set_ylim(0,8)\n",
    "ax2.invert_yaxis()\n",
    "ax2.spines['top'].set_visible(True)\n",
    "ax2.spines['top'].set_linewidth(1)\n",
    "ax2.spines['top'].set_color('k')\n",
    "ax2.text(-0.95,7,\"optout & mood\", ha='left', wrap=True,fontsize=20)\n",
    "ax2.axvline(0,color='k',lw=1)\n",
    "\n",
    "plt.tight_layout()\n",
    "plt.savefig('fig5_corr_optout_mood.png')\n",
    "plt.show()"
   ]
  },
  {
   "cell_type": "code",
   "execution_count": null,
   "id": "romantic-ghana",
   "metadata": {},
   "outputs": [],
   "source": [
    "fig ,(ax1,ax2) = plt.subplots(2,1,gridspec_kw={'hspace':0})\n",
    "\n",
    "ax1.hist([SIG_SR_PV_dots[('sleep', 'Dsubj_optout_oo')],NOS_SR_PV_dots[('sleep', 'Dsubj_optout_oo')]],\\\n",
    "          bins=np.arange(-1,1,0.1),alpha=0.7,histtype='bar', stacked=True, \\\n",
    "          color=[PV_color['DO'],[1,0.8,0.8]], edgecolor=PV_color['DO'], linewidth=1)\n",
    "ax1.set_yticks([0,3,6])\n",
    "ax1.set_xlim(-1.1,1.1)\n",
    "ax1.set_ylabel('counts',fontsize=20)\n",
    "ax1.yaxis.set_label_coords(-0.07,0)\n",
    "ax1.set_xticks([])\n",
    "ax1.set_ylim(0,8)\n",
    "ax1.spines['bottom'].set_visible(True)\n",
    "ax1.spines['bottom'].set_linewidth(1)\n",
    "ax1.spines['bottom'].set_color('k')\n",
    "ax1.axvline(0,color='k',lw=1)\n",
    "\n",
    "ax2.hist([SIG_SR_PV_dots[('sleep', 'Ssubj_optout_oo')],NOS_SR_PV_dots[('sleep', 'Ssubj_optout_oo')]],\\\n",
    "          bins=np.arange(-1,1,0.1),color=[PV_color['SO'],[0.8,0.8,1]],alpha=0.7,histtype='bar',\\\n",
    "         stacked=True,edgecolor=PV_color['SO'], linewidth=1)\n",
    "ax2.set_yticks([3,6])\n",
    "ax2.set_xticks([-1,0,1])\n",
    "ax2.set_xticklabels([])\n",
    "ax2.set_xlim(-1.1,1.1)\n",
    "ax2.set_ylim(0,8)\n",
    "ax2.invert_yaxis()\n",
    "ax2.spines['top'].set_visible(True)\n",
    "ax2.spines['top'].set_linewidth(1)\n",
    "ax2.spines['top'].set_color('k')\n",
    "ax2.text(-0.95,7,\"optout & sleep\", ha='left', wrap=True,fontsize=20)\n",
    "ax2.axvline(0,color='k',lw=1)\n",
    "\n",
    "plt.tight_layout()\n",
    "plt.savefig('fig5_corr_optout_sleep.png')\n",
    "plt.show()"
   ]
  },
  {
   "cell_type": "code",
   "execution_count": null,
   "id": "typical-swaziland",
   "metadata": {},
   "outputs": [],
   "source": [
    "fig ,(ax1,ax2) = plt.subplots(2,1,gridspec_kw={'hspace':0})\n",
    "\n",
    "ax1.hist([SIG_SR_PV_dots[('food', 'Dsubj_optout_oo')],NOS_SR_PV_dots[('food', 'Dsubj_optout_oo')]],\\\n",
    "          bins=np.arange(-1,1,0.1),alpha=0.7,histtype='bar', stacked=True, \\\n",
    "          color=[PV_color['DO'],[1,0.8,0.8]], edgecolor=PV_color['DO'], linewidth=1)\n",
    "ax1.set_yticks([0,3,6])\n",
    "ax1.set_xlim(-1.1,1.1)\n",
    "ax1.set_ylabel('counts',fontsize=20)\n",
    "ax1.yaxis.set_label_coords(-0.07,0)\n",
    "ax1.set_xticks([])\n",
    "ax1.set_ylim(0,8)\n",
    "ax1.spines['bottom'].set_visible(True)\n",
    "ax1.spines['bottom'].set_linewidth(1)\n",
    "ax1.spines['bottom'].set_color('k')\n",
    "ax1.axvline(0,color='k',lw=1)\n",
    "\n",
    "ax2.hist([SIG_SR_PV_dots[('food', 'Ssubj_optout_oo')],NOS_SR_PV_dots[('food', 'Ssubj_optout_oo')]],\\\n",
    "          bins=np.arange(-1,1,0.1),color=[PV_color['SO'],[0.8,0.8,1]],alpha=0.7,histtype='bar',\\\n",
    "         stacked=True,edgecolor=PV_color['SO'], linewidth=1)\n",
    "ax2.set_yticks([3,6])\n",
    "ax2.set_xticks([-1,0,1])\n",
    "ax2.set_xticklabels([-1,0,1])\n",
    "ax2.set_xlim(-1.1,1.1)\n",
    "ax2.set_ylim(0,8)\n",
    "ax2.invert_yaxis()\n",
    "ax2.spines['top'].set_visible(True)\n",
    "ax2.spines['top'].set_linewidth(1)\n",
    "ax2.spines['top'].set_color('k')\n",
    "ax2.text(-0.95,7,\"optout & food\", ha='left', wrap=True,fontsize=20)\n",
    "ax2.axvline(0,color='k',lw=1)\n",
    "\n",
    "plt.tight_layout()\n",
    "plt.savefig('fig5_corr_optout_food.png')\n",
    "plt.show()\n"
   ]
  },
  {
   "cell_type": "code",
   "execution_count": 19,
   "id": "liked-guatemala",
   "metadata": {},
   "outputs": [
    {
     "data": {
      "image/png": "[encoded data removed]",
      "text/plain": [
       "<Figure size 432x288 with 2 Axes>"
      ]
     },
     "metadata": {
      "needs_background": "light"
     },
     "output_type": "display_data"
    }
   ],
   "source": [
    "fig ,(ax1,ax2) = plt.subplots(2,1,gridspec_kw={'hspace':0})\n",
    "\n",
    "ax1.hist([SIG_SR_PV_dots[('real_stress', 'Dsubj_optout_oo')],NOS_SR_PV_dots[('real_stress', 'Dsubj_optout_oo')]],\\\n",
    "          bins=np.arange(-1,1,0.1),alpha=0.7,histtype='bar', stacked=True, \\\n",
    "          color=[PV_color['DO'],[1,0.8,0.8]], edgecolor=PV_color['DO'], linewidth=1)\n",
    "ax1.set_yticks([0,3,6])\n",
    "ax1.set_xlim(-1.1,1.1)\n",
    "ax1.set_ylabel('counts',fontsize=20)\n",
    "ax1.yaxis.set_label_coords(-0.07,0)\n",
    "ax1.set_xticks([])\n",
    "ax1.set_ylim(0,8)\n",
    "ax1.spines['bottom'].set_visible(True)\n",
    "ax1.spines['bottom'].set_linewidth(1)\n",
    "ax1.spines['bottom'].set_color('k')\n",
    "\n",
    "\n",
    "ax2.hist([SIG_SR_PV_dots[('real_stress', 'Ssubj_optout_oo')],NOS_SR_PV_dots[('real_stress', 'Ssubj_optout_oo')]],\\\n",
    "          bins=np.arange(-1,1,0.1),color=[PV_color['SO'],[0.8,0.8,1]],alpha=0.7,histtype='bar',\\\n",
    "         stacked=True,edgecolor=PV_color['SO'], linewidth=1)\n",
    "ax2.set_yticks([3,6])\n",
    "ax2.set_xticks([-1,0,1])\n",
    "ax2.set_xlim(-1.1,1.1)\n",
    "ax2.set_ylim(0,8)\n",
    "ax2.invert_yaxis()\n",
    "ax2.spines['top'].set_visible(True)\n",
    "ax2.spines['top'].set_linewidth(1)\n",
    "ax2.spines['top'].set_color('k')\n",
    "ax2.text(-0.95,7,\"optout & stress\", ha='left', wrap=True,fontsize=20)\n",
    "\n",
    "ax2.set_xlabel('Pearson corr. coeff.',fontsize=20)\n",
    "\n",
    "ax1.legend((\"DO *\",\"DO\"),loc='lower left', shadow=True,fontsize=12)\n",
    "ax2.legend((\"SO *\",\"SO\"),loc='upper left', shadow=True,fontsize=12)\n",
    "\n",
    "ax1.axvline(0,color='k',lw=1)\n",
    "ax2.axvline(0,color='k',lw=1)\n",
    "plt.tight_layout()\n",
    "plt.savefig('fig5_corr_optout_stress.png')\n",
    "plt.show()"
   ]
  },
  {
   "cell_type": "code",
   "execution_count": 15,
   "id": "revolutionary-adaptation",
   "metadata": {},
   "outputs": [],
   "source": [
    "round_p_SR_PV = np.array([myf.roundP(p_SR_PV_dots[(pair)]) for pair in pair_SR_PV])\n",
    "round_p_SR_PV = np.reshape(round_p_SR_PV,(13,4))\n",
    "p_value = []\n",
    "ind = -1\n",
    "for key in key_PV+key_LR:\n",
    "    ind += 1\n",
    "    p_value.append(list(round_p_SR_PV[ind]))"
   ]
  },
  {
   "cell_type": "code",
   "execution_count": 16,
   "id": "worldwide-shark",
   "metadata": {},
   "outputs": [
    {
     "data": {
      "text/html": [
       "<table>\n",
       "<tbody>\n",
       "<tr><td>r_value        </td><td>mood  </td><td>food  </td><td>sleep</td><td>real_stress</td></tr>\n",
       "<tr><td>Dsubj_optout_oo</td><td>-0.006</td><td>0.05  </td><td>-0.06</td><td>0.008      </td></tr>\n",
       "<tr><td>Ssubj_optout_oo</td><td>-0.005</td><td>0.05  </td><td>-0.06</td><td>-0.02      </td></tr>\n",
       "<tr><td>subj_perf_no   </td><td>0.05  </td><td>0.007 </td><td>-0.02</td><td>-0.08      </td></tr>\n",
       "<tr><td>OKubj_RT_no    </td><td>-0.09 </td><td>0.0006</td><td>-0.05</td><td>0.06       </td></tr>\n",
       "<tr><td>DoverConf      </td><td>-0.06 </td><td>-0.04 </td><td>0.06 </td><td>0.05       </td></tr>\n",
       "<tr><td>SoverConf      </td><td>-0.02 </td><td>-0.05 </td><td>0.08 </td><td>0.07       </td></tr>\n",
       "<tr><td>risk_av        </td><td>-0.05 </td><td>0.07  </td><td>0.03 </td><td>0.04       </td></tr>\n",
       "<tr><td>slope_RT       </td><td>-0.02 </td><td>0.008 </td><td>-0.04</td><td>-0.01      </td></tr>\n",
       "<tr><td>slope_DO       </td><td>0.003 </td><td>0.02  </td><td>-0.05</td><td>-0.01      </td></tr>\n",
       "<tr><td>slope_SO       </td><td>7e-05 </td><td>0.07  </td><td>0.02 </td><td>0.04       </td></tr>\n",
       "<tr><td>intercept_RT   </td><td>-0.04 </td><td>0.0003</td><td>-0.02</td><td>0.06       </td></tr>\n",
       "<tr><td>intercept_DO   </td><td>-0.03 </td><td>0.02  </td><td>-0.04</td><td>0.05       </td></tr>\n",
       "<tr><td>intercept_SO   </td><td>-0.03 </td><td>0.0003</td><td>-0.06</td><td>-0.01      </td></tr>\n",
       "</tbody>\n",
       "</table>"
      ],
      "text/plain": [
       "<IPython.core.display.HTML object>"
      ]
     },
     "metadata": {},
     "output_type": "display_data"
    }
   ],
   "source": [
    "round_r_SR_PV = np.array([myf.roundP(np.mean(corr_SR_PV_dots[(pair)])) for pair in pair_SR_PV])\n",
    "round_r_SR_PV = np.reshape(round_r_SR_PV,(13,4))\n",
    "r_value = []\n",
    "r_table = [['r_value']+key_SR]\n",
    "ind = -1\n",
    "for key in key_PV+key_LR:\n",
    "    ind += 1\n",
    "    r_value.append(list(round_r_SR_PV[ind]))\n",
    "    r_table.append([key]+list(round_r_SR_PV[ind]))\n",
    "    \n",
    "display(HTML(tabulate.tabulate(r_table, tablefmt='html')))"
   ]
  },
  {
   "cell_type": "code",
   "execution_count": 17,
   "id": "amber-terrace",
   "metadata": {},
   "outputs": [
    {
     "data": {
      "text/plain": [
       "[[0.9, 0.3, 0.4, 0.9],\n",
       " [0.9, 0.2, 0.48, 0.8],\n",
       " [0.4, 0.9, 0.8, 0.1],\n",
       " [0.03, 1.0, 0.4, 0.3],\n",
       " [0.4, 0.4, 0.4, 0.3],\n",
       " [0.7, 0.2, 0.2, 0.1],\n",
       " [0.1, 0.05, 0.7, 0.4],\n",
       " [0.7, 0.8, 0.6, 0.8],\n",
       " [1.0, 0.7, 0.48, 0.8],\n",
       " [1.0, 0.2, 0.8, 0.5],\n",
       " [0.47, 1.0, 0.8, 0.2],\n",
       " [0.6, 0.6, 0.6, 0.4],\n",
       " [0.53, 1.0, 0.4, 0.8]]"
      ]
     },
     "execution_count": 17,
     "metadata": {},
     "output_type": "execute_result"
    }
   ],
   "source": [
    "p_value"
   ]
  },
  {
   "cell_type": "code",
   "execution_count": 18,
   "id": "corresponding-worst",
   "metadata": {},
   "outputs": [
    {
     "data": {
      "image/png": "[encoded data removed]",
      "text/plain": [
       "<Figure size 468x324 with 1 Axes>"
      ]
     },
     "metadata": {
      "needs_background": "light"
     },
     "output_type": "display_data"
    }
   ],
   "source": [
    "plt.figure(figsize=(6.5,4.5))\n",
    "plt.title('NT',fontsize=14)\n",
    "plt.imshow(r_value,cmap='seismic',interpolation='nearest', vmin=-1, vmax=1)\n",
    "plt.xticks(np.arange(4),['mood','food','sleep','stress'],rotation=45,fontsize=14)\n",
    "plt.yticks(np.arange(13),[key_name_PV[k] for k in key_PV+key_LR],ha='right',\n",
    "         verticalalignment='center',\n",
    "         multialignment='center',fontsize=14)\n",
    "#plt.colorbar()\n",
    "#plt.title('Numerosity task')\n",
    "plt.gca().spines['top'].set_visible(True)\n",
    "plt.gca().spines['right'].set_visible(True)\n",
    "\n",
    "for i in range(13):\n",
    "    for j in range(4):\n",
    "        posy = j+0.16\n",
    "        #print(key_PV[i],p_value[i][j],myf.p_stars(p_value[i][j]),i,posy)\n",
    "        plt.text(j,i+0.4,myf.p_stars(p_value[i][j]),fontsize=18, ha='center', wrap=True)\n",
    "plt.tight_layout()\n",
    "plt.savefig('fig5_SR_PV_corr_dots.png')\n",
    "plt.show()"
   ]
  },
  {
   "cell_type": "code",
   "execution_count": 7,
   "id": "antique-difficulty",
   "metadata": {},
   "outputs": [],
   "source": [
    "f='corrSR_PV.json'\n",
    "with open(path_results_gabor+f) as f:\n",
    "    data_pd = json.load(f)\n",
    "for k, v in data_pd.items():\n",
    "    globals()[k+'_gabor']=v  "
   ]
  },
  {
   "cell_type": "code",
   "execution_count": 8,
   "id": "neither-handbook",
   "metadata": {},
   "outputs": [],
   "source": [
    "# convert string key into tuples\n",
    "\n",
    "new_key = {}\n",
    "for k,v in corr_SR_PV_gabor.items():\n",
    "    aux = k.split(\"-\")\n",
    "    new_key[k] = (aux[0],aux[1])\n",
    "for k,v in new_key.items():\n",
    "    corr_SR_PV_gabor[v] = corr_SR_PV_gabor.pop(k)\n",
    "    p_SR_PV_gabor[v] = p_SR_PV_gabor.pop(k)\n",
    "    SIG_SR_PV_gabor[v] = SIG_SR_PV_gabor.pop(k)\n",
    "    NOS_SR_PV_gabor[v] = NOS_SR_PV_gabor.pop(k)"
   ]
  },
  {
   "cell_type": "code",
   "execution_count": 9,
   "id": "western-digest",
   "metadata": {},
   "outputs": [],
   "source": [
    "round_p_SR_PV = np.array([myf.roundP(p_SR_PV_gabor[(pair)]) for pair in pair_SR_PV])\n",
    "round_p_SR_PV = np.reshape(round_p_SR_PV,(13,4))\n",
    "p_value = []\n",
    "ind = -1\n",
    "for key in key_PV+key_LR:\n",
    "    ind += 1\n",
    "    p_value.append(list(round_p_SR_PV[ind]))"
   ]
  },
  {
   "cell_type": "code",
   "execution_count": 10,
   "id": "prime-container",
   "metadata": {},
   "outputs": [
    {
     "data": {
      "text/html": [
       "<table>\n",
       "<tbody>\n",
       "<tr><td>r_value        </td><td>mood   </td><td>food </td><td>sleep</td><td>real_stress</td></tr>\n",
       "<tr><td>Dsubj_optout_oo</td><td>-0.02  </td><td>0.003</td><td>-0.1 </td><td>0.04       </td></tr>\n",
       "<tr><td>Ssubj_optout_oo</td><td>0.05   </td><td>0.1  </td><td>0.1  </td><td>0.005      </td></tr>\n",
       "<tr><td>subj_perf_no   </td><td>-0.02  </td><td>0.02 </td><td>-0.04</td><td>0.01       </td></tr>\n",
       "<tr><td>OKubj_RT_no    </td><td>-0.0002</td><td>-0.02</td><td>0.03 </td><td>0.03       </td></tr>\n",
       "<tr><td>DoverConf      </td><td>0.02   </td><td>0.08 </td><td>-0.04</td><td>-0.007     </td></tr>\n",
       "<tr><td>SoverConf      </td><td>-0.04  </td><td>0.008</td><td>-0.03</td><td>0.01       </td></tr>\n",
       "<tr><td>risk_av        </td><td>-0.02  </td><td>-0.05</td><td>0.1  </td><td>0.04       </td></tr>\n",
       "<tr><td>slope_RT       </td><td>0.03   </td><td>0.07 </td><td>0.09 </td><td>0.04       </td></tr>\n",
       "<tr><td>slope_DO       </td><td>-0.04  </td><td>-0.05</td><td>-0.02</td><td>-0.04      </td></tr>\n",
       "<tr><td>slope_SO       </td><td>0.02   </td><td>0.05 </td><td>-0.02</td><td>-0.05      </td></tr>\n",
       "<tr><td>intercept_RT   </td><td>-0.03  </td><td>-0.07</td><td>-0.05</td><td>-0.005     </td></tr>\n",
       "<tr><td>intercept_DO   </td><td>0.04   </td><td>0.07 </td><td>-0.06</td><td>0.08       </td></tr>\n",
       "<tr><td>intercept_SO   </td><td>0.02   </td><td>0.08 </td><td>0.1  </td><td>0.06       </td></tr>\n",
       "</tbody>\n",
       "</table>"
      ],
      "text/plain": [
       "<IPython.core.display.HTML object>"
      ]
     },
     "metadata": {},
     "output_type": "display_data"
    }
   ],
   "source": [
    "round_r_SR_PV = np.array([myf.roundP(np.mean(corr_SR_PV_gabor[(pair)])) for pair in pair_SR_PV])\n",
    "round_r_SR_PV = np.reshape(round_r_SR_PV,(13,4))\n",
    "r_value = []\n",
    "r_table = [['r_value']+key_SR]\n",
    "ind = -1\n",
    "for key in key_PV+key_LR:\n",
    "    ind += 1\n",
    "    r_value.append(list(round_r_SR_PV[ind]))\n",
    "    r_table.append([key]+list(round_r_SR_PV[ind]))\n",
    "    \n",
    "display(HTML(tabulate.tabulate(r_table, tablefmt='html')))"
   ]
  },
  {
   "cell_type": "code",
   "execution_count": 12,
   "id": "advised-judges",
   "metadata": {},
   "outputs": [
    {
     "data": {
      "image/png": "[encoded data removed]",
      "text/plain": [
       "<Figure size 468x324 with 2 Axes>"
      ]
     },
     "metadata": {
      "needs_background": "light"
     },
     "output_type": "display_data"
    }
   ],
   "source": [
    "plt.figure(figsize=(6.5,4.5))\n",
    "plt.title('OT',fontsize=14)\n",
    "plt.imshow(r_value,cmap='seismic',interpolation='nearest', vmin=-1, vmax=1)\n",
    "plt.xticks(np.arange(4),['mood','food','sleep','stress'],rotation=45,fontsize=14)\n",
    "#plt.yticks(np.arange(4),[key_name_PV[k] for k in key_PV[:-3]])\n",
    "plt.yticks([])\n",
    "cbar = plt.colorbar()\n",
    "for t in cbar.ax.get_yticklabels():\n",
    "     t.set_fontsize(14)\n",
    "plt.gca().spines['top'].set_visible(True)\n",
    "plt.gca().spines['right'].set_visible(True)\n",
    "\n",
    "for i in range(13):\n",
    "    for j in range(4):\n",
    "        if i!=j:\n",
    "            posy = j+0.16\n",
    "            plt.text(i,posy,myf.p_stars(p_value[i][j]),fontsize=18, ha='center', wrap=True)\n",
    "plt.tight_layout()\n",
    "plt.savefig('fig5_SR_PV_corr_gabor.png')\n",
    "plt.show()"
   ]
  },
  {
   "cell_type": "code",
   "execution_count": 13,
   "id": "illegal-husband",
   "metadata": {},
   "outputs": [],
   "source": [
    "f='PV_SR_CC.json'\n",
    "with open(path_results_dots+f) as f:\n",
    "    data_cc = json.load(f)\n",
    "new_key = {}\n",
    "for k,v in data_cc.items():\n",
    "    aux = k.split(\"-\")\n",
    "    new_key[k] = (aux[0],aux[1])\n",
    "for k,v in new_key.items():\n",
    "    data_cc[v] = data_cc.pop(k)"
   ]
  },
  {
   "cell_type": "code",
   "execution_count": 14,
   "id": "shaped-appeal",
   "metadata": {},
   "outputs": [
    {
     "ename": "TypeError",
     "evalue": "list indices must be integers or slices, not str",
     "output_type": "error",
     "traceback": [
      "\u001b[0;31m---------------------------------------------------------------------------\u001b[0m",
      "\u001b[0;31mTypeError\u001b[0m                                 Traceback (most recent call last)",
      "\u001b[0;32m<ipython-input-14-c0ca38b6a92b>\u001b[0m in \u001b[0;36m<module>\u001b[0;34m\u001b[0m\n\u001b[0;32m----> 1\u001b[0;31m np.arange(-int(len(data_cc[(key_SR2plot[k][i],'Dsubj_optout_oo')]['mean'])/2),\\\n\u001b[0m\u001b[1;32m      2\u001b[0m                               len(data_cc[(key_SR2plot[k][i],'Dsubj_optout_oo')]['mean'])/2)\n",
      "\u001b[0;31mTypeError\u001b[0m: list indices must be integers or slices, not str"
     ]
    }
   ],
   "source": [
    "np.arange(-int(len(data_cc[(key_SR2plot[k][i],'Dsubj_optout_oo')]['mean'])/2),\\\n",
    "                              len(data_cc[(key_SR2plot[k][i],'Dsubj_optout_oo')]['mean'])/2)"
   ]
  },
  {
   "cell_type": "code",
   "execution_count": null,
   "id": "amber-fortune",
   "metadata": {},
   "outputs": [],
   "source": [
    "fig, ax = plt.subplots(2,2,figsize=(12,8))\n",
    "plt.subplots_adjust(hspace = 0.8)  \n",
    "plt.subplots_adjust(wspace = 0.3)  \n",
    "\n",
    "for i in range(2):\n",
    "    for k in range(2):\n",
    "        ax[i,k].set_ylim(-0.2,0.23)\n",
    "        \n",
    "        ax[i,k].set_xticks(np.arange(-10,11,2))\n",
    "        ax[i,k].set_xlabel('lag (sessions)')\n",
    "        # DOTS deterministic\n",
    "        '''\n",
    "        for j in range(1,len(data_cc[(key_SR2plot[k][i],'Dsubj_optout_oo')]['mean'])+1):\n",
    "            if data_cc[(key_SR2plot[k][i],'Dsubj_optout_oo')]['pgranger'][j-1]<0.05:\n",
    "                ax[i,k].scatter(j,data_cc[(key_SR2plot[k][i],'Dsubj_optout_oo')]['mean'][j-1],marker='*',s=300,c='#ffffff',edgecolors = PV_color['DO'], zorder=3)\n",
    "        '''\n",
    "        ax[i,k].plot(np.arange(-int(len(data_cc[(key_SR2plot[k][i],'Dsubj_optout_oo')]['mean'])/2),\\\n",
    "                              len(data_cc[(key_SR2plot[k][i],'Dsubj_optout_oo')]['mean'])/2),data_cc[(key_SR2plot[k][i],'Dsubj_optout_oo')]['mean'], color = PV_color['DO'], zorder=2)\n",
    "        ax[i,k].fill_between(np.arange(-int(len(data_cc[(key_SR2plot[k][i],'Dsubj_optout_oo')]['mean'])/2),\\\n",
    "                                      len(data_cc[(key_SR2plot[k][i],'Dsubj_optout_oo')]['mean'])/2),\\\n",
    "                             np.array(data_cc[(key_SR2plot[k][i],'Dsubj_optout_oo')]['mean'])-np.array(data_cc[(key_SR2plot[k][i],'Dsubj_optout_oo')]['se']), \\\n",
    "                           np.array(data_cc[(key_SR2plot[k][i],'Dsubj_optout_oo')]['mean'])+np.array(data_cc[(key_SR2plot[k][i],'Dsubj_optout_oo')]['se']), color = PV_color['DO'], alpha=0.2)\n",
    "        # DOTS stochastic\n",
    "        '''\n",
    "        for j in range(1,len(data_cc[(key_SR2plot[k][i],'Ssubj_optout_oo')]['mean'])+1):\n",
    "            if data_cc[(key_SR2plot[k][i],'Ssubj_optout_oo')]['pgranger'][j-1]<0.05:\n",
    "                ax[i,k].scatter(j,data_cc[(key_SR2plot[k][i],'Ssubj_optout_oo')]['mean'][j-1],marker='*',s=300,c='#ffffff',edgecolors = PV_color['SO'], zorder=3)\n",
    "        '''\n",
    "        ax[i,k].plot(np.arange(-int(len(data_cc[(key_SR2plot[k][i],'Ssubj_optout_oo')]['mean'])/2),\\\n",
    "                              len(data_cc[(key_SR2plot[k][i],'Ssubj_optout_oo')]['mean'])/2),data_cc[(key_SR2plot[k][i],'Ssubj_optout_oo')]['mean'], color = PV_color['SO'], zorder=2)\n",
    "        ax[i,k].fill_between(np.arange(-int(len(data_cc[(key_SR2plot[k][i],'Ssubj_optout_oo')]['mean'])/2),\\\n",
    "                                      len(data_cc[(key_SR2plot[k][i],'Ssubj_optout_oo')]['mean'])/2),\\\n",
    "                             np.array(data_cc[(key_SR2plot[k][i],'Ssubj_optout_oo')]['mean'])-np.array(data_cc[(key_SR2plot[k][i],'Ssubj_optout_oo')]['se']), \\\n",
    "                           np.array(data_cc[(key_SR2plot[k][i],'Ssubj_optout_oo')]['mean'])+np.array(data_cc[(key_SR2plot[k][i],'Ssubj_optout_oo')]['se']), color = PV_color['SO'], alpha=0.2)\n",
    "        if key_SR2plot[k][i]=='real_stress':\n",
    "            label_ = 'stress'\n",
    "        else:\n",
    "            label_ = key_SR2plot[k][i]\n",
    "        ax[i,k].set_ylabel('CC: optout & '+label_)\n",
    "        ax[1,1].legend((\"DO\",\"SO\"),loc='upper right', shadow=True)\n",
    "        ax[i,k].axhline(0.0,c='k',lw=1)\n",
    "        \n",
    "ax[0,1].set_xlim(0.8,4.2)        \n",
    "ax[0,1].set_xticks(np.arange(-4,5,1))\n",
    "ax[0,1].set_xlabel('lag (days)')  \n",
    "\n",
    "plt.tight_layout()\n",
    "plt.savefig('fig5_optout_SR_CC.png')\n",
    "plt.show()"
   ]
  },
  {
   "cell_type": "code",
   "execution_count": null,
   "id": "balanced-poultry",
   "metadata": {},
   "outputs": [],
   "source": []
  }
 ],
 "metadata": {
  "kernelspec": {
   "display_name": "Python 3",
   "language": "python",
   "name": "python3"
  },
  "language_info": {
   "codemirror_mode": {
    "name": "ipython",
    "version": 3
   },
   "file_extension": ".py",
   "mimetype": "text/x-python",
   "name": "python",
   "nbconvert_exporter": "python",
   "pygments_lexer": "ipython3",
   "version": "3.8.5"
  }
 },
 "nbformat": 4,
 "nbformat_minor": 5
}
