{
 "cells": [
  {
   "cell_type": "code",
   "execution_count": 1,
   "id": "uniform-chorus",
   "metadata": {},
   "outputs": [],
   "source": [
    "import pandas as pd\n",
    "import os\n",
    "import json\n",
    "import numpy as np\n",
    "from itertools import groupby\n",
    "import matplotlib.pyplot as plt\n",
    "from scipy import stats,signal\n",
    "import matplotlib as mpl\n",
    "from sklearn.linear_model import LogisticRegression\n",
    "import random\n",
    "import re\n",
    "import csv\n",
    "from IPython.display import HTML, display, Image\n",
    "import tabulate\n",
    "import math as m\n",
    "import warnings\n",
    "warnings.filterwarnings('ignore')\n",
    "import statsmodels.api as sm\n",
    "import statsmodels.formula.api as smf\n",
    "import itertools\n",
    "\n",
    "import sys\n",
    "# insert at 1, 0 is the script path (or '' in REPL)\n",
    "sys.path.insert(1, '/home/cbclab/Dropbox/postdocUPF/jatos_experiments')\n",
    "import my_functions as myf\n",
    "\n",
    "mpl.rcParams['lines.linewidth'] = 2\n",
    "mpl.rcParams['axes.titlesize'] = 20\n",
    "mpl.rcParams['axes.labelsize'] = 18\n",
    "mpl.rcParams['lines.markersize'] = 10\n",
    "mpl.rcParams['xtick.labelsize'] = 20\n",
    "mpl.rcParams['ytick.labelsize'] = 20\n",
    "mpl.rcParams['axes.linewidth'] = 1\n",
    "#mpl.rcParams['xtick.major.size'] = 20\n",
    "mpl.rcParams['xtick.major.width'] = 1\n",
    "#mpl.rcParams['xtick.minor.size'] = 10\n",
    "mpl.rcParams['xtick.minor.width'] = 1\n",
    "mpl.rcParams['ytick.major.width'] = 1\n",
    "mpl.rcParams['ytick.minor.width'] = 1\n",
    "mpl.rcParams['axes.spines.right'] = False\n",
    "mpl.rcParams['axes.spines.top'] = False\n",
    "\n",
    "fday = [1,2,3,4,5,6,7,8,9,10]\n",
    "fsession = [1,2]\n",
    "session_labels = ['Th','Fr','Sa','Su','Mo','Tu','We','Th','Fr','Sa']\n",
    "\n",
    "SR_color = {'mood': [0.1,0.5,1],'food': [1,0.5,0.1],'sleep': 'y', 'real_stress':[0.1,0.5,0.2]}\n",
    "PV_color = {'DO':[1,0,0.4],'SO':[0.4,0,1],'NO':'k'}\n",
    "PV_line = {'DO':'-','SO':'-','NO':'-'}\n",
    "\n",
    "key_SR = ['mood','food','sleep', 'real_stress']\n",
    "key_PV = ['Dsubj_optout_oo','Ssubj_optout_oo','subj_perf_no','OKubj_RT_no','DoverConf','SoverConf','risk_av']\n",
    "key_name = key_SR+key_PV\n",
    "\n",
    "pair_keys_SR = list(itertools.combinations(key_SR, 2))\n",
    "key_SR = ['mood','food','sleep', 'real_stress']\n",
    "key_SR2plot = [key_SR[:int(len(key_SR)/2)],key_SR[int(len(key_SR)/2):]]\n",
    "\n",
    "# pair of PV \n",
    "pair_keys_PV = list(itertools.combinations(key_PV[:-3], 2))\n",
    "pair_keys_PV2plot = [pair_keys_PV[:int(len(pair_keys_PV)/2)],pair_keys_PV[int(len(pair_keys_PV)/2):]]\n",
    "key_name_PV = {'Dsubj_optout_oo':'DO','Ssubj_optout_oo':'SO','subj_perf_no':'acc NO','OKubj_RT_no':'RT NO'}\n",
    "pair_key_name_PV2plot = [[[key_name_PV[k] for k in tupl] for tupl in lista] for lista in pair_keys_PV2plot]\n",
    "\n",
    "pair_SR_PV,pair_SR_PV2plot = [],[]\n",
    "for pv in key_PV:\n",
    "    aux = []\n",
    "    for sr in key_SR:\n",
    "        pair_SR_PV.append((sr,pv))\n",
    "        aux.append((sr,pv))\n",
    "    pair_SR_PV2plot.append(aux)\n",
    "\n",
    "key_diff = ['Dperf_oo', 'Sperf_oo', 'perf_no', 'Dn_trials_oo', 'Sn_trials_oo', 'NOn_trials', \\\n",
    "            'DRT_OKoo', 'SRT_OKoo', 'RT_no', 'RT_noNOK', 'Doptout', 'Soptout']\n",
    "\n",
    "unique_signals_dots = [1,2,3,4]\n",
    "unique_signals_gabor = [1,2,3]\n",
    "\n",
    "main_path = '/home/cbclab/Dropbox/postdocUPF/jatos_experiments'\n",
    "\n",
    "path_results_dots = main_path + '/dots/notebooks/results_tanda_1/'\n",
    "path_results_gabor = main_path + '/gabor/notebooks/results_tanda_1/'"
   ]
  },
  {
   "cell_type": "code",
   "execution_count": 2,
   "id": "handed-compiler",
   "metadata": {},
   "outputs": [],
   "source": [
    "dfGabor=pd.read_csv(path_results_gabor+'BLMMgabor_singleModel.csv')"
   ]
  },
  {
   "cell_type": "code",
   "execution_count": 3,
   "id": "similar-technical",
   "metadata": {},
   "outputs": [],
   "source": [
    "dfDots=pd.read_csv(path_results_dots+'BLMMdots_singleModel.csv')"
   ]
  },
  {
   "cell_type": "code",
   "execution_count": 4,
   "id": "bridal-beaver",
   "metadata": {},
   "outputs": [
    {
     "data": {
      "text/html": [
       "<div>\n",
       "<style scoped>\n",
       "    .dataframe tbody tr th:only-of-type {\n",
       "        vertical-align: middle;\n",
       "    }\n",
       "\n",
       "    .dataframe tbody tr th {\n",
       "        vertical-align: top;\n",
       "    }\n",
       "\n",
       "    .dataframe thead th {\n",
       "        text-align: right;\n",
       "    }\n",
       "</style>\n",
       "<table border=\"1\" class=\"dataframe\">\n",
       "  <thead>\n",
       "    <tr style=\"text-align: right;\">\n",
       "      <th></th>\n",
       "      <th>Unnamed: 0</th>\n",
       "      <th>Unnamed: 1</th>\n",
       "      <th>intercept</th>\n",
       "      <th>1|subj</th>\n",
       "      <th>slope</th>\n",
       "      <th>slope|subj</th>\n",
       "      <th>dwaic</th>\n",
       "      <th>d_loo</th>\n",
       "      <th>r2</th>\n",
       "      <th>r2_std</th>\n",
       "      <th>control_r2</th>\n",
       "      <th>control_r2_std</th>\n",
       "    </tr>\n",
       "  </thead>\n",
       "  <tbody>\n",
       "    <tr>\n",
       "      <th>0</th>\n",
       "      <td>Dsubj_optout_oo</td>\n",
       "      <td>mood</td>\n",
       "      <td>26.522938</td>\n",
       "      <td>0.002964</td>\n",
       "      <td>-2.171847</td>\n",
       "      <td>-0.002585</td>\n",
       "      <td>-1.346714</td>\n",
       "      <td>-1.415893</td>\n",
       "      <td>0.769269</td>\n",
       "      <td>0.009095</td>\n",
       "      <td>0.769647</td>\n",
       "      <td>0.008162</td>\n",
       "    </tr>\n",
       "    <tr>\n",
       "      <th>1</th>\n",
       "      <td>NaN</td>\n",
       "      <td>real_stress</td>\n",
       "      <td>23.975586</td>\n",
       "      <td>-0.105270</td>\n",
       "      <td>2.970884</td>\n",
       "      <td>-0.036636</td>\n",
       "      <td>0.601140</td>\n",
       "      <td>0.386171</td>\n",
       "      <td>0.771576</td>\n",
       "      <td>0.009316</td>\n",
       "      <td>0.769625</td>\n",
       "      <td>0.009008</td>\n",
       "    </tr>\n",
       "    <tr>\n",
       "      <th>2</th>\n",
       "      <td>NaN</td>\n",
       "      <td>food</td>\n",
       "      <td>23.910653</td>\n",
       "      <td>0.032882</td>\n",
       "      <td>1.624105</td>\n",
       "      <td>0.179134</td>\n",
       "      <td>-1.536266</td>\n",
       "      <td>-1.550723</td>\n",
       "      <td>0.768714</td>\n",
       "      <td>0.008501</td>\n",
       "      <td>0.769995</td>\n",
       "      <td>0.008346</td>\n",
       "    </tr>\n",
       "    <tr>\n",
       "      <th>3</th>\n",
       "      <td>NaN</td>\n",
       "      <td>sleep</td>\n",
       "      <td>28.014003</td>\n",
       "      <td>-0.220314</td>\n",
       "      <td>-4.206316</td>\n",
       "      <td>-0.054546</td>\n",
       "      <td>-0.279706</td>\n",
       "      <td>-0.373649</td>\n",
       "      <td>0.744127</td>\n",
       "      <td>0.010371</td>\n",
       "      <td>0.741827</td>\n",
       "      <td>0.009214</td>\n",
       "    </tr>\n",
       "    <tr>\n",
       "      <th>4</th>\n",
       "      <td>OKubj_RT_no</td>\n",
       "      <td>mood</td>\n",
       "      <td>0.981010</td>\n",
       "      <td>-0.000274</td>\n",
       "      <td>0.012809</td>\n",
       "      <td>0.000123</td>\n",
       "      <td>1.055636</td>\n",
       "      <td>1.134324</td>\n",
       "      <td>0.115277</td>\n",
       "      <td>0.004841</td>\n",
       "      <td>0.101817</td>\n",
       "      <td>0.004203</td>\n",
       "    </tr>\n",
       "    <tr>\n",
       "      <th>5</th>\n",
       "      <td>NaN</td>\n",
       "      <td>real_stress</td>\n",
       "      <td>0.992461</td>\n",
       "      <td>-0.000042</td>\n",
       "      <td>-0.007709</td>\n",
       "      <td>0.000101</td>\n",
       "      <td>-0.890874</td>\n",
       "      <td>-0.913994</td>\n",
       "      <td>0.105531</td>\n",
       "      <td>0.004277</td>\n",
       "      <td>0.097725</td>\n",
       "      <td>0.004278</td>\n",
       "    </tr>\n",
       "    <tr>\n",
       "      <th>6</th>\n",
       "      <td>NaN</td>\n",
       "      <td>food</td>\n",
       "      <td>0.978893</td>\n",
       "      <td>0.000104</td>\n",
       "      <td>0.015415</td>\n",
       "      <td>-0.000314</td>\n",
       "      <td>0.200090</td>\n",
       "      <td>0.227639</td>\n",
       "      <td>0.108966</td>\n",
       "      <td>0.004793</td>\n",
       "      <td>0.099688</td>\n",
       "      <td>0.004236</td>\n",
       "    </tr>\n",
       "    <tr>\n",
       "      <th>7</th>\n",
       "      <td>NaN</td>\n",
       "      <td>sleep</td>\n",
       "      <td>0.982714</td>\n",
       "      <td>0.000078</td>\n",
       "      <td>0.008656</td>\n",
       "      <td>0.000040</td>\n",
       "      <td>-0.545865</td>\n",
       "      <td>-0.629454</td>\n",
       "      <td>0.078746</td>\n",
       "      <td>0.003715</td>\n",
       "      <td>0.071225</td>\n",
       "      <td>0.003171</td>\n",
       "    </tr>\n",
       "  </tbody>\n",
       "</table>\n",
       "</div>"
      ],
      "text/plain": [
       "        Unnamed: 0   Unnamed: 1  intercept    1|subj     slope  slope|subj  \\\n",
       "0  Dsubj_optout_oo         mood  26.522938  0.002964 -2.171847   -0.002585   \n",
       "1              NaN  real_stress  23.975586 -0.105270  2.970884   -0.036636   \n",
       "2              NaN         food  23.910653  0.032882  1.624105    0.179134   \n",
       "3              NaN        sleep  28.014003 -0.220314 -4.206316   -0.054546   \n",
       "4      OKubj_RT_no         mood   0.981010 -0.000274  0.012809    0.000123   \n",
       "5              NaN  real_stress   0.992461 -0.000042 -0.007709    0.000101   \n",
       "6              NaN         food   0.978893  0.000104  0.015415   -0.000314   \n",
       "7              NaN        sleep   0.982714  0.000078  0.008656    0.000040   \n",
       "\n",
       "      dwaic     d_loo        r2    r2_std  control_r2  control_r2_std  \n",
       "0 -1.346714 -1.415893  0.769269  0.009095    0.769647        0.008162  \n",
       "1  0.601140  0.386171  0.771576  0.009316    0.769625        0.009008  \n",
       "2 -1.536266 -1.550723  0.768714  0.008501    0.769995        0.008346  \n",
       "3 -0.279706 -0.373649  0.744127  0.010371    0.741827        0.009214  \n",
       "4  1.055636  1.134324  0.115277  0.004841    0.101817        0.004203  \n",
       "5 -0.890874 -0.913994  0.105531  0.004277    0.097725        0.004278  \n",
       "6  0.200090  0.227639  0.108966  0.004793    0.099688        0.004236  \n",
       "7 -0.545865 -0.629454  0.078746  0.003715    0.071225        0.003171  "
      ]
     },
     "execution_count": 4,
     "metadata": {},
     "output_type": "execute_result"
    }
   ],
   "source": [
    "dfGabor"
   ]
  },
  {
   "cell_type": "code",
   "execution_count": 5,
   "id": "tired-termination",
   "metadata": {},
   "outputs": [
    {
     "data": {
      "text/plain": [
       "0   -1.346714\n",
       "1    0.601140\n",
       "2   -1.536266\n",
       "3   -0.279706\n",
       "Name: dwaic, dtype: float64"
      ]
     },
     "execution_count": 5,
     "metadata": {},
     "output_type": "execute_result"
    }
   ],
   "source": [
    "dfGabor['dwaic'][:4]"
   ]
  },
  {
   "cell_type": "code",
   "execution_count": 9,
   "id": "general-talent",
   "metadata": {},
   "outputs": [],
   "source": [
    "SR = ['mood','stress','food','sleep']"
   ]
  },
  {
   "cell_type": "code",
   "execution_count": 19,
   "id": "democratic-effort",
   "metadata": {},
   "outputs": [
    {
     "data": {
      "image/png": "[encoded data removed]",
      "text/plain": [
       "<Figure size 432x288 with 1 Axes>"
      ]
     },
     "metadata": {
      "needs_background": "light"
     },
     "output_type": "display_data"
    }
   ],
   "source": [
    "X = np.arange(4)\n",
    "fig = plt.figure()\n",
    "ax = fig.add_axes([0,0,1,1])\n",
    "\n",
    "\n",
    "plt.show()"
   ]
  },
  {
   "cell_type": "code",
   "execution_count": 35,
   "id": "activated-directive",
   "metadata": {},
   "outputs": [
    {
     "data": {
      "image/png": "[encoded data removed]",
      "text/plain": [
       "<Figure size 720x576 with 4 Axes>"
      ]
     },
     "metadata": {
      "needs_background": "light"
     },
     "output_type": "display_data"
    }
   ],
   "source": [
    "X = np.arange(4)\n",
    "fig,ax = plt.subplots(2,2,figsize=(10,8))\n",
    "plt.subplots_adjust(hspace = 0.2)  \n",
    "plt.subplots_adjust(wspace = 0.6)  \n",
    "\n",
    "ax[0,0].bar(X - 0.3,dfDots['dwaic'][:4], color = 'b', width = 0.2)\n",
    "ax[0,0].bar(X - 0.1,dfDots['d_loo'][:4], color = 'g', width = 0.2)\n",
    "ax[0,0].bar(X + 0.1,dfDots['r2'][:4], color = 'r', width = 0.2)\n",
    "ax[0,0].bar(X + 0.3,dfDots['control_r2'][:4], color = 'y', width = 0.2)\n",
    "ax[0,0].set_ylabel('Optout NT')\n",
    "ax[0,0].set_xticks(X)\n",
    "ax[0,0].set_xticklabels([])\n",
    "\n",
    "ax[1,0].bar(X - 0.3,dfDots['dwaic'][4:], color = 'b', width = 0.2)\n",
    "ax[1,0].bar(X - 0.1,dfDots['d_loo'][4:], color = 'g', width = 0.2)\n",
    "ax[1,0].bar(X + 0.1,dfDots['r2'][4:], color = 'r', width = 0.2)\n",
    "ax[1,0].bar(X + 0.3,dfDots['control_r2'][4:], color = 'y', width = 0.2)\n",
    "ax[1,0].set_ylabel('RT NT')\n",
    "ax[1,0].set_xticks(X)\n",
    "ax[1,0].set_xticklabels(SR,rotation=45)\n",
    "\n",
    "ax[0,1].bar(X - 0.3,dfGabor['dwaic'][:4], color = 'b', width = 0.2)\n",
    "ax[0,1].bar(X - 0.1,dfGabor['d_loo'][:4], color = 'g', width = 0.2)\n",
    "ax[0,1].bar(X + 0.1,dfGabor['r2'][:4], color = 'r', width = 0.2)\n",
    "ax[0,1].bar(X + 0.3,dfGabor['control_r2'][:4], color = 'y', width = 0.2)\n",
    "ax[0,1].set_ylabel('Optout OT')\n",
    "ax[0,1].set_xticklabels([])\n",
    "ax[0,1].set_xticks(X)\n",
    "\n",
    "ax[1,1].bar(X - 0.3,dfGabor['dwaic'][4:], color = 'b', width = 0.2)\n",
    "ax[1,1].bar(X - 0.1,dfGabor['d_loo'][4:], color = 'g', width = 0.2)\n",
    "ax[1,1].bar(X + 0.1,dfGabor['r2'][4:], color = 'r', width = 0.2)\n",
    "ax[1,1].bar(X + 0.3,dfGabor['control_r2'][4:], color = 'y', width = 0.2)\n",
    "ax[1,1].set_ylabel('RT OT')\n",
    "ax[1,1].set_xticks(X)\n",
    "ax[1,1].set_xticklabels(SR,rotation=45)\n",
    "\n",
    "plt.tight_layout()\n",
    "plt.savefig('figS4.png')\n",
    "plt.show()"
   ]
  },
  {
   "cell_type": "code",
   "execution_count": 20,
   "id": "contrary-tobago",
   "metadata": {},
   "outputs": [
    {
     "data": {
      "image/png": "[encoded data removed]",
      "text/plain": [
       "<Figure size 432x288 with 1 Axes>"
      ]
     },
     "metadata": {
      "needs_background": "light"
     },
     "output_type": "display_data"
    }
   ],
   "source": [
    "X = np.arange(4)\n",
    "fig = plt.figure()\n",
    "ax = fig.add_axes([0,0,1,1])\n",
    "\n",
    "ax[0,0].set_xticklabels(SR)\n",
    "\n",
    "plt.show()"
   ]
  },
  {
   "cell_type": "code",
   "execution_count": 21,
   "id": "coral-garbage",
   "metadata": {},
   "outputs": [
    {
     "data": {
      "image/png": "[encoded data removed]",
      "text/plain": [
       "<Figure size 432x288 with 1 Axes>"
      ]
     },
     "metadata": {
      "needs_background": "light"
     },
     "output_type": "display_data"
    }
   ],
   "source": [
    "X = np.arange(4)\n",
    "fig = plt.figure()\n",
    "ax = fig.add_axes([0,0,1,1])\n",
    "\n",
    "\n",
    "plt.show()º"
   ]
  },
  {
   "cell_type": "code",
   "execution_count": null,
   "id": "broke-tokyo",
   "metadata": {},
   "outputs": [],
   "source": []
  }
 ],
 "metadata": {
  "kernelspec": {
   "display_name": "Python 3",
   "language": "python",
   "name": "python3"
  },
  "language_info": {
   "codemirror_mode": {
    "name": "ipython",
    "version": 3
   },
   "file_extension": ".py",
   "mimetype": "text/x-python",
   "name": "python",
   "nbconvert_exporter": "python",
   "pygments_lexer": "ipython3",
   "version": "3.8.5"
  }
 },
 "nbformat": 4,
 "nbformat_minor": 5
}
