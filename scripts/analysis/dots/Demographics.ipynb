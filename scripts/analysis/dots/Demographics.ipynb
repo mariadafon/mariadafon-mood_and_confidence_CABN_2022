{
 "cells": [
  {
   "cell_type": "code",
   "execution_count": null,
   "id": "casual-personality",
   "metadata": {},
   "outputs": [],
   "source": [
    "import pandas as pd\n",
    "import os\n",
    "import json\n",
    "import numpy as np\n",
    "from itertools import groupby\n",
    "import matplotlib.pyplot as plt\n",
    "from scipy import stats\n",
    "import matplotlib as mpl\n",
    "from sklearn.linear_model import LogisticRegression\n",
    "import random\n",
    "import re\n",
    "import csv\n",
    "import warnings\n",
    "warnings.filterwarnings('ignore')\n",
    "from IPython.display import HTML, display, Image\n",
    "from datetime import date,datetime"
   ]
  },
  {
   "cell_type": "code",
   "execution_count": null,
   "id": "clean-pocket",
   "metadata": {},
   "outputs": [],
   "source": [
    "current_path = os.path.abspath(os.getcwd())\n",
    "parent_path = os.path.abspath(os.path.join(current_path, os.pardir))\n",
    "grand_parent_path = os.path.abspath(os.path.join(parent_path, os.pardir))\n",
    "main_path = os.path.abspath(os.path.join(grand_parent_path, os.pardir))\n",
    "\n",
    "path_results = main_path+'/results/dots/'\n",
    "path_data = main_path+'/data/jatos_dots_data/tanda1/'"
   ]
  },
  {
   "cell_type": "code",
   "execution_count": null,
   "id": "happy-taxation",
   "metadata": {},
   "outputs": [],
   "source": [
    "path = path_data+'day1/session1/'\n",
    "filename=path_results+'demographics.json'"
   ]
  },
  {
   "cell_type": "code",
   "execution_count": null,
   "id": "future-graduate",
   "metadata": {},
   "outputs": [],
   "source": [
    "data_files = [f for f in os.listdir(path) if f.endswith('_day1_session1')]\n",
    "dem_list = []\n",
    "for f in data_files:\n",
    "    data = [] \n",
    "    for line in open(path+f, 'r'):\n",
    "        if line.strip():\n",
    "            data.append(json.loads(line))\n",
    "    dem_list.append(data[0])"
   ]
  },
  {
   "cell_type": "code",
   "execution_count": null,
   "id": "third-fourth",
   "metadata": {},
   "outputs": [],
   "source": [
    "def calculate_age(born):\n",
    "    exp_starting_day = datetime.strptime('2021-01-16','%Y-%m-%d')\n",
    "    return exp_starting_day.year - born.year - ((exp_starting_day.month, exp_starting_day.day) < (born.month, born.day))"
   ]
  },
  {
   "cell_type": "code",
   "execution_count": null,
   "id": "reduced-indication",
   "metadata": {},
   "outputs": [],
   "source": [
    "df = pd.DataFrame(dem_list)"
   ]
  },
  {
   "cell_type": "code",
   "execution_count": null,
   "id": "continent-thirty",
   "metadata": {},
   "outputs": [],
   "source": [
    "df.head()"
   ]
  },
  {
   "cell_type": "code",
   "execution_count": null,
   "id": "filled-language",
   "metadata": {},
   "outputs": [],
   "source": [
    "df['age'] = [calculate_age(datetime.strptime(elem,'%Y-%m-%d')) for elem in list(df['birthday'])]"
   ]
  },
  {
   "cell_type": "code",
   "execution_count": null,
   "id": "assisted-louisiana",
   "metadata": {},
   "outputs": [],
   "source": [
    "df['gender'].value_counts()"
   ]
  },
  {
   "cell_type": "code",
   "execution_count": null,
   "id": "lucky-frequency",
   "metadata": {},
   "outputs": [],
   "source": [
    "print('median age = ',np.median(df['age']))"
   ]
  },
  {
   "cell_type": "code",
   "execution_count": null,
   "id": "soviet-classic",
   "metadata": {},
   "outputs": [],
   "source": [
    "print('minimum age = ',np.min(df['age']))"
   ]
  },
  {
   "cell_type": "code",
   "execution_count": null,
   "id": "usual-exploration",
   "metadata": {},
   "outputs": [],
   "source": [
    "print('maximun age = ',np.max(df['age']))"
   ]
  },
  {
   "cell_type": "code",
   "execution_count": null,
   "id": "banned-action",
   "metadata": {},
   "outputs": [],
   "source": [
    "df['lentes'].value_counts()"
   ]
  },
  {
   "cell_type": "code",
   "execution_count": null,
   "id": "occasional-banking",
   "metadata": {},
   "outputs": [],
   "source": [
    "df['school'].value_counts()"
   ]
  },
  {
   "cell_type": "code",
   "execution_count": null,
   "id": "covered-continent",
   "metadata": {},
   "outputs": [],
   "source": [
    "df['psycho'].value_counts()"
   ]
  },
  {
   "cell_type": "code",
   "execution_count": null,
   "id": "abandoned-curve",
   "metadata": {},
   "outputs": [],
   "source": [
    "df['medication'].value_counts()"
   ]
  },
  {
   "cell_type": "code",
   "execution_count": null,
   "id": "false-correlation",
   "metadata": {},
   "outputs": [],
   "source": [
    "df['country'].value_counts()"
   ]
  },
  {
   "cell_type": "code",
   "execution_count": null,
   "id": "sixth-shelter",
   "metadata": {},
   "outputs": [],
   "source": []
  }
 ],
 "metadata": {
  "kernelspec": {
   "display_name": "Python 3",
   "language": "python",
   "name": "python3"
  },
  "language_info": {
   "codemirror_mode": {
    "name": "ipython",
    "version": 3
   },
   "file_extension": ".py",
   "mimetype": "text/x-python",
   "name": "python",
   "nbconvert_exporter": "python",
   "pygments_lexer": "ipython3",
   "version": "3.8.5"
  }
 },
 "nbformat": 4,
 "nbformat_minor": 5
}
