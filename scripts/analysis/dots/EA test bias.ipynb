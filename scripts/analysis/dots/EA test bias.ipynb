{
 "cells": [
  {
   "cell_type": "code",
   "execution_count": null,
   "id": "blocked-marathon",
   "metadata": {},
   "outputs": [],
   "source": [
    "import pandas as pd\n",
    "import os\n",
    "import json\n",
    "import numpy as np\n",
    "from itertools import groupby\n",
    "import matplotlib.pyplot as plt\n",
    "from scipy import stats,signal\n",
    "import matplotlib as mpl\n",
    "from sklearn.linear_model import LogisticRegression\n",
    "import random\n",
    "import re\n",
    "import csv\n",
    "from IPython.display import HTML, display, Image\n",
    "import tabulate\n",
    "import math as m\n",
    "import warnings\n",
    "warnings.filterwarnings('ignore')\n",
    "import statsmodels.api as sm\n",
    "import statsmodels.formula.api as smf\n",
    "import itertools\n",
    "\n",
    "mpl.rcParams['lines.linewidth'] = 3\n",
    "mpl.rcParams['axes.titlesize'] = 18\n",
    "mpl.rcParams['axes.labelsize'] = 18\n",
    "mpl.rcParams['lines.markersize'] = 10\n",
    "mpl.rcParams['xtick.labelsize'] = 20\n",
    "mpl.rcParams['ytick.labelsize'] = 20\n",
    "mpl.rcParams['axes.linewidth'] = 1\n",
    "#mpl.rcParams['xtick.major.size'] = 20\n",
    "mpl.rcParams['xtick.major.width'] = 1\n",
    "#mpl.rcParams['xtick.minor.size'] = 10\n",
    "mpl.rcParams['xtick.minor.width'] = 1\n",
    "mpl.rcParams['ytick.major.width'] = 1\n",
    "mpl.rcParams['ytick.minor.width'] = 1\n",
    "mpl.rcParams['axes.spines.right'] = False\n",
    "mpl.rcParams['axes.spines.top'] = False\n",
    "\n",
    "fday = [1,2,3,4,5,6,7,8,9,10]\n",
    "fsession = [1,2]\n",
    "unique_signals = [1,2,3,4]"
   ]
  },
  {
   "cell_type": "code",
   "execution_count": null,
   "id": "popular-latvia",
   "metadata": {},
   "outputs": [],
   "source": [
    "current_path = os.path.abspath(os.getcwd())\n",
    "parent_path = os.path.abspath(os.path.join(current_path, os.pardir))\n",
    "grand_parent_path = os.path.abspath(os.path.join(parent_path, os.pardir))\n",
    "main_path = os.path.abspath(os.path.join(grand_parent_path, os.pardir))\n",
    "\n",
    "path_results = main_path+'/results/dots/'"
   ]
  },
  {
   "cell_type": "code",
   "execution_count": null,
   "id": "separate-singer",
   "metadata": {},
   "outputs": [],
   "source": [
    "adf = pd.read_csv(path_results+'preanalyzed.csv')  \n",
    "df_diff = pd.read_csv(path_results+'per_difficulty.csv')  \n",
    "dfANOVA = pd.read_csv(path_results+'forANOVA.csv') \n",
    "dfLR = pd.read_csv(path_results+'linearRegr_diff.csv') \n",
    "\n",
    "adf = pd.merge(dfLR,adf,on='user_sessionID',how='outer') \n",
    "# sort df by userID and sessionID in second place\n",
    "adf = adf.sort_values(by = ['userID', 'sessionID_y'])\n",
    "\n",
    "userids = adf['userID'].unique()\n",
    "userids = sorted(userids)\n",
    "nsub = len(userids)\n",
    "sessionids = adf['sessionID_x'].unique()\n",
    "sessionids = sorted(sessionids)\n",
    "\n",
    "# morning df\n",
    "mdf = adf[adf['sessionID_x']%2==1]\n",
    "# evening df\n",
    "edf = adf[adf['sessionID_x']%2==0]\n",
    "edf_sin_nan = edf.copy()\n",
    "edf_sin_nan['sleep']=list(mdf['sleep'])\n",
    "\n",
    "key_SR = ['mood','food','sleep', 'real_stress']\n",
    "key_PV = ['Dsubj_optout_oo','Ssubj_optout_oo','subj_perf_no','OKubj_RT_no','DoverConf','SoverConf','risk_av']\n",
    "key_LR = ['slope_RT', 'slope_DO', 'slope_SO', 'intercept_RT', 'intercept_DO','intercept_SO']\n",
    "key_name = key_SR+key_PV\n",
    "\n",
    "key_SR2plot = [key_SR[:int(len(key_SR)/2)],key_SR[int(len(key_SR)/2):]]\n",
    "pair_keys_SR = list(itertools.combinations(key_SR, 2))\n",
    "\n",
    "# pair of PV \n",
    "pair_keys_PV = list(itertools.combinations(key_PV[:-3], 2))\n",
    "pair_keys_PV2plot = [pair_keys_PV[:int(len(pair_keys_PV)/2)],pair_keys_PV[int(len(pair_keys_PV)/2):]]\n",
    "key_name_PV = {'Dsubj_optout_oo':'DO','Ssubj_optout_oo':'SO','subj_perf_no':'acc NO','OKubj_RT_no':'RT NO'}\n",
    "pair_key_name_PV2plot = [[[key_name_PV[k] for k in tupl] for tupl in lista] for lista in pair_keys_PV2plot]\n",
    "\n",
    "SR_color = {'mood': 'b','food': 'r','sleep': 'y', 'real_stress':'g'}\n",
    "\n",
    "key_diff = ['Dperf_oo', 'Sperf_oo', 'perf_no', 'Dn_trials_oo', 'Sn_trials_oo', 'NOn_trials', 'DRT_oo', 'SRT_oo', \\\n",
    "            'DRT_OKoo', 'SRT_OKoo', 'RT_no', 'RT_noNOK', 'Doptout', 'Soptout']\n"
   ]
  },
  {
   "cell_type": "code",
   "execution_count": null,
   "id": "facial-communication",
   "metadata": {},
   "outputs": [],
   "source": [
    "adf.columns"
   ]
  },
  {
   "cell_type": "code",
   "execution_count": null,
   "id": "operational-mountain",
   "metadata": {},
   "outputs": [],
   "source": [
    "no_bias = adf['no_bias']\n",
    "no_bias = no_bias[~np.isnan(no_bias)]"
   ]
  },
  {
   "cell_type": "code",
   "execution_count": null,
   "id": "unlike-passion",
   "metadata": {},
   "outputs": [],
   "source": [
    "pos_no_bias, neg_no_bias = [x for x in no_bias if x > 0],[x for x in no_bias if x <= 0]"
   ]
  },
  {
   "cell_type": "code",
   "execution_count": null,
   "id": "close-subscriber",
   "metadata": {},
   "outputs": [],
   "source": [
    "len(neg_no_bias)"
   ]
  },
  {
   "cell_type": "code",
   "execution_count": null,
   "id": "supreme-hawaii",
   "metadata": {},
   "outputs": [],
   "source": [
    "stats.ttest_1samp(no_bias,0)"
   ]
  },
  {
   "cell_type": "code",
   "execution_count": null,
   "id": "peripheral-allergy",
   "metadata": {},
   "outputs": [],
   "source": [
    "plt.hist(no_bias,bins=100)\n",
    "plt.axvline(np.mean(no_bias),color='k')\n",
    "plt.xlim(-0.25,0.25)\n",
    "plt.show()"
   ]
  },
  {
   "cell_type": "code",
   "execution_count": null,
   "id": "advised-exhaust",
   "metadata": {},
   "outputs": [],
   "source": [
    "t_value, p_value = [],[]\n",
    "for uid in adf['userID'].unique():\n",
    "    subset = adf[adf['userID']==uid]\n",
    "    x = subset['no_bias']\n",
    "    x = x[~np.isnan(x)] \n",
    "    test = stats.ttest_1samp(x,0)\n",
    "    t_value.append(test[0])\n",
    "    p_value.append(test[1])\n",
    "    print(uid,test)"
   ]
  },
  {
   "cell_type": "code",
   "execution_count": null,
   "id": "distinct-drilling",
   "metadata": {},
   "outputs": [],
   "source": [
    "plt.hist(t_value)\n",
    "plt.axvline(np.mean(t_value),color='k')\n",
    "plt.show()"
   ]
  },
  {
   "cell_type": "code",
   "execution_count": null,
   "id": "moderate-relay",
   "metadata": {},
   "outputs": [],
   "source": [
    "plt.hist(p_value,bins=100)\n",
    "plt.axvline(0.05,color='k')\n",
    "plt.show()"
   ]
  },
  {
   "cell_type": "code",
   "execution_count": null,
   "id": "thick-portland",
   "metadata": {},
   "outputs": [],
   "source": []
  }
 ],
 "metadata": {
  "kernelspec": {
   "display_name": "Python 3",
   "language": "python",
   "name": "python3"
  },
  "language_info": {
   "codemirror_mode": {
    "name": "ipython",
    "version": 3
   },
   "file_extension": ".py",
   "mimetype": "text/x-python",
   "name": "python",
   "nbconvert_exporter": "python",
   "pygments_lexer": "ipython3",
   "version": "3.8.5"
  }
 },
 "nbformat": 4,
 "nbformat_minor": 5
}
