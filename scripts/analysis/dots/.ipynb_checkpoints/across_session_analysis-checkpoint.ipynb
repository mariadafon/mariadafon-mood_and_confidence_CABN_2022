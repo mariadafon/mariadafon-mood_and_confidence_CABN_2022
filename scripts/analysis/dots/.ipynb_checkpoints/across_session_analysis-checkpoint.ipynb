{
 "cells": [
  {
   "cell_type": "markdown",
   "metadata": {},
   "source": [
    "# Analysis across sessions\n"
   ]
  },
  {
   "cell_type": "code",
   "execution_count": null,
   "metadata": {},
   "outputs": [],
   "source": [
    "import pandas as pd\n",
    "import os\n",
    "import json\n",
    "import numpy as np\n",
    "from itertools import groupby\n",
    "import itertools\n",
    "import matplotlib.pyplot as plt\n",
    "from scipy import stats,signal\n",
    "import matplotlib as mpl\n",
    "from sklearn.linear_model import LogisticRegression\n",
    "import random\n",
    "import re\n",
    "import csv\n",
    "from IPython.display import HTML, display, Image\n",
    "import tabulate\n",
    "import math as m\n",
    "import warnings\n",
    "warnings.filterwarnings('ignore')\n",
    "import statsmodels.api as sm\n",
    "import statsmodels.formula.api as smf\n",
    "\n",
    "mpl.rcParams['lines.linewidth'] = 3\n",
    "mpl.rcParams['axes.titlesize'] = 18\n",
    "mpl.rcParams['axes.labelsize'] = 18\n",
    "mpl.rcParams['lines.markersize'] = 10\n",
    "mpl.rcParams['xtick.labelsize'] = 20\n",
    "mpl.rcParams['ytick.labelsize'] = 20\n",
    "mpl.rcParams['axes.linewidth'] = 3\n",
    "#mpl.rcParams['xtick.major.size'] = 20\n",
    "mpl.rcParams['xtick.major.width'] = 4\n",
    "#mpl.rcParams['xtick.minor.size'] = 10\n",
    "mpl.rcParams['xtick.minor.width'] = 2\n",
    "mpl.rcParams['ytick.major.width'] = 4\n",
    "mpl.rcParams['ytick.minor.width'] = 2\n",
    "\n",
    "fday = [1,2,3,4,5,6,7,8,9,10]\n",
    "fsession = [1,2]"
   ]
  },
  {
   "cell_type": "code",
   "execution_count": null,
   "metadata": {},
   "outputs": [],
   "source": [
    "current_path = os.path.abspath(os.getcwd())\n",
    "parent_path = os.path.abspath(os.path.join(current_path, os.pardir))\n",
    "grand_parent_path = os.path.abspath(os.path.join(parent_path, os.pardir))\n",
    "main_path = os.path.abspath(os.path.join(grand_parent_path, os.pardir))\n",
    "\n",
    "path_results = main_path+'/results/dots/'\n",
    "path_plots = main_path+'/scripts/analysis/figures/'"
   ]
  },
  {
   "cell_type": "code",
   "execution_count": null,
   "metadata": {},
   "outputs": [],
   "source": [
    "import sys\n",
    "# insert at 1, 0 is the script path (or '' in REPL)\n",
    "sys.path.insert(1, main_path+'/scr')\n",
    "import my_functions as myf"
   ]
  },
  {
   "cell_type": "code",
   "execution_count": null,
   "metadata": {},
   "outputs": [],
   "source": [
    "adf = pd.read_csv(path_results+'preanalyzed.csv')  \n",
    "\n",
    "userids = adf['userID'].unique()\n",
    "userids = sorted(userids)\n",
    "nsub = len(userids)\n",
    "sessionids = adf['sessionID_x'].unique()\n",
    "sessionids = sorted(sessionids)\n",
    "\n",
    "# morning df\n",
    "mdf = adf[adf['sessionID_x']%2==1]\n",
    "# evening df\n",
    "edf = adf[adf['sessionID_x']%2==0]\n",
    "edf_sin_nan = edf.copy()\n",
    "edf_sin_nan['sleep']=list(mdf['sleep'])\n",
    "\n",
    "key_SR = ['mood','food', 'real_stress','sleep']"
   ]
  },
  {
   "cell_type": "code",
   "execution_count": null,
   "metadata": {},
   "outputs": [],
   "source": [
    "list(adf.columns)"
   ]
  },
  {
   "cell_type": "code",
   "execution_count": null,
   "metadata": {},
   "outputs": [],
   "source": [
    "adf[['no_sigma','no_bias','Dsigma_oo','HmiddleDO','sessionID_x','userID']]"
   ]
  },
  {
   "cell_type": "code",
   "execution_count": null,
   "metadata": {},
   "outputs": [],
   "source": [
    "key_PV = ['no_sigma','no_bias','Dsigma_oo','HmiddleDO','Ssigma_oo','HmiddleSO']"
   ]
  },
  {
   "cell_type": "code",
   "execution_count": null,
   "metadata": {},
   "outputs": [],
   "source": [
    "pair_SR_PV,pair_SR_PV2plot = [],[]\n",
    "for pv in key_PV:\n",
    "    aux = []\n",
    "    for sr in key_SR:\n",
    "        pair_SR_PV.append((sr,pv))\n",
    "        aux.append((sr,pv))\n",
    "    pair_SR_PV2plot.append(aux)"
   ]
  },
  {
   "cell_type": "code",
   "execution_count": null,
   "metadata": {},
   "outputs": [],
   "source": [
    "corr_SR_PV, p_SR_PV, SIG_SR_PV, NOS_SR_PV = {},{},{},{}\n",
    "for pair in pair_SR_PV:\n",
    "    if 'sleep' in pair:  \n",
    "        LR = [myf.Linear_Regr(np.array(mdf[mdf['userID']==part][pair[0]]),\\\n",
    "                            np.array(mdf[mdf['userID']==part][pair[1]])) for part in userids]\n",
    "    else:\n",
    "        LR = [myf.Linear_Regr(np.array(adf[adf['userID']==part][pair[0]]),\\\n",
    "                            np.array(adf[adf['userID']==part][pair[1]])) for part in userids]\n",
    "    corr_SR_PV[pair] = [LR[k].r_value for k in range(len(userids))]\n",
    "    p_SR_PV[pair] = stats.ttest_1samp(corr_SR_PV[pair],0)[1]\n",
    "    \n",
    "    LR_p_value = [LR[k].p_value for k in range(len(userids))]\n",
    "    LR_p_value = np.array(LR_p_value)\n",
    "    indSIG = np.where(LR_p_value<0.05)\n",
    "    indNOS = np.where(LR_p_value>=0.05)\n",
    "    SIG_SR_PV[pair] = [corr_SR_PV[pair][j] for j in indSIG[0]]\n",
    "    NOS_SR_PV[pair] = [corr_SR_PV[pair][j] for j in indNOS[0]]"
   ]
  },
  {
   "cell_type": "code",
   "execution_count": null,
   "metadata": {},
   "outputs": [],
   "source": [
    "round_p_PV = np.array([myf.roundP(p_SR_PV[(pair)]) for pair in pair_SR_PV])\n",
    "round_p_PV = np.reshape(round_p_PV,(6,4))\n",
    "p_value = [['p_value']+key_SR]\n",
    "ind = -1\n",
    "for key in key_PV:\n",
    "    ind += 1\n",
    "    p_value.append([key]+list(round_p_PV[ind]))\n",
    "\n",
    "display(HTML(tabulate.tabulate(p_value, tablefmt='html')))"
   ]
  },
  {
   "cell_type": "code",
   "execution_count": null,
   "metadata": {},
   "outputs": [],
   "source": [
    "fig, ax = plt.subplots(6,4,figsize=(22,24))\n",
    "plt.subplots_adjust(hspace = 1)  \n",
    "\n",
    "for ii in range(6):\n",
    "    for jj in range(4):\n",
    "        ax[ii,jj].hist([SIG_SR_PV[pair_SR_PV2plot[ii][jj]],NOS_SR_PV[pair_SR_PV2plot[ii][jj]]],bins=np.arange(-1,1,0.1),\\\n",
    "                        alpha=0.7,histtype='bar', stacked=True, \\\n",
    "                        color=['gray',[0.95,0.95,0.95]], edgecolor='gray', linewidth=2) \n",
    "        if round_p_PV[ii][jj]<0.05:\n",
    "            ax[ii,jj].text(-0.95,3.5,'ttest p: '+str(round_p_PV[ii][jj]),\\\n",
    "                           ha='left', wrap=True,fontsize=18,weight='bold',color='r')\n",
    "        else:\n",
    "            ax[ii,jj].text(-0.95,3.5,'ttest p: '+str(round_p_PV[ii][jj]),\\\n",
    "                           ha='left', wrap=True,fontsize=18)\n",
    "        ax[ii,jj].text(-0.95,5.5,'mean r: '+str(myf.roundP(np.nanmean(corr_SR_PV[pair_SR_PV2plot[ii][jj]]))), ha='left', wrap=True,fontsize=18)\n",
    "        ax[ii,jj].set_title(pair_SR_PV2plot[ii][jj][0])\n",
    "        ax[ii,jj].set_xlim(-1.1,1.1)\n",
    "        ax[ii,jj].set_ylim(0,11)\n",
    "        ax[ii,jj].axvline(0,color='k')\n",
    "        \n",
    "        \n",
    "        if ii==5:\n",
    "            ax[ii,jj].set_xlabel('Pearson corr coeff')\n",
    "        else:\n",
    "            ax[ii,jj].axes.get_xaxis().set_visible(False)\n",
    "        \n",
    "        if jj==0:\n",
    "            ax[ii,0].set_ylabel(pair_SR_PV2plot[ii][jj][1])\n",
    "        else:\n",
    "            ax[ii,jj].axes.get_yaxis().set_visible(False)\n",
    " \n",
    "plt.tight_layout()\n",
    "plt.savefig('corr_psychometric_fit_results_SR.png')\n",
    "plt.show()"
   ]
  },
  {
   "cell_type": "code",
   "execution_count": null,
   "metadata": {},
   "outputs": [],
   "source": [
    "stats.binom_test(4, n=27, p=0.01, alternative='greater')"
   ]
  },
  {
   "cell_type": "code",
   "execution_count": null,
   "metadata": {},
   "outputs": [],
   "source": [
    "p,p1 = [],[]\n",
    "for x in np.arange(1,28):\n",
    "    p.append(stats.binom_test(x, n=27, p=0.05, alternative='greater'))\n",
    "    p1.append(stats.binom_test(x, n=27, p=0.01, alternative='greater'))\n",
    "plt.plot(np.arange(1,28),p)\n",
    "plt.plot(np.arange(1,28),p1)\n",
    "plt.xlabel('number of subjects sig')\n",
    "plt.ylabel('p-value')\n",
    "#plt.legend(('p=0.95','p=0.99'))\n",
    "plt.tight_layout()\n",
    "plt.savefig('binomial_test.png')\n",
    "plt.show()"
   ]
  },
  {
   "cell_type": "code",
   "execution_count": null,
   "metadata": {},
   "outputs": [],
   "source": [
    "adf['OKubj_RT_no']*adf['medianRT']"
   ]
  },
  {
   "cell_type": "code",
   "execution_count": null,
   "metadata": {},
   "outputs": [],
   "source": [
    "Mmedian_toffset,Mmax_toffset,Mmax_under100_toffset = [np.zeros((len(userids),len(sessionids))) for _ in range(3)]\n",
    "ind1 = -1\n",
    "for part in userids:\n",
    "    ind1 += 1\n",
    "    ind2 = -1\n",
    "    for ses in sessionids:\n",
    "        ind2 += 1\n",
    "        if adf[(adf['userID']==part) & (adf['sessionID_x']==ses)].median_toffset.isnull().values.any():\n",
    "            Mmedian_toffset[ind1,ind2] = np.nan\n",
    "            Mmax_toffset[ind1,ind2] = np.nan\n",
    "        else:\n",
    "            Mmedian_toffset[ind1,ind2] = float(adf[(adf['userID']==part) & (adf['sessionID_x']==ses)].median_toffset)-300\n",
    "            Mmax_toffset[ind1,ind2] = float(adf[(adf['userID']==part) & (adf['sessionID_x']==ses)].max_toffset)-300\n",
    "        if Mmax_toffset[ind1,ind2] < 100:\n",
    "            Mmax_under100_toffset[ind1,ind2] = Mmax_toffset[ind1,ind2]\n",
    "        else:\n",
    "            Mmax_under100_toffset[ind1,ind2] = np.nan"
   ]
  },
  {
   "cell_type": "code",
   "execution_count": null,
   "metadata": {},
   "outputs": [],
   "source": [
    "from mpl_toolkits.axes_grid1 import make_axes_locatable\n",
    "\n",
    "fig,ax = plt.subplots(ncols=3,figsize=(20,18))\n",
    "\n",
    "img1 = ax[0].imshow(Mmedian_toffset,cmap=\"inferno\")\n",
    "divider = make_axes_locatable(ax[0])\n",
    "cax = divider.append_axes('right', size='5%', pad=0.05)\n",
    "fig.colorbar(img1, cax=cax, orientation='vertical')\n",
    "ax[0].set_yticks(np.arange(len(userids)))\n",
    "ax[0].set_yticklabels(userids)\n",
    "ax[0].set_ylabel('subject ID')\n",
    "ax[0].set_xlabel('session number')\n",
    "ax[0].set_title('median time offset - 300 ms')\n",
    "\n",
    "img2 = ax[1].imshow(Mmax_toffset,cmap=\"inferno\")\n",
    "divider = make_axes_locatable(ax[1])\n",
    "cax = divider.append_axes('right', size='5%', pad=0.05)\n",
    "fig.colorbar(img2, cax=cax, orientation='vertical')\n",
    "ax[1].set_yticks(np.arange(len(userids)))\n",
    "ax[1].set_yticklabels(userids)\n",
    "ax[1].set_xlabel('session number')\n",
    "ax[1].set_title('max time offset - 300 ms')\n",
    "\n",
    "img3 = ax[2].imshow(Mmax_under100_toffset,cmap=\"inferno\")\n",
    "divider = make_axes_locatable(ax[2])\n",
    "cax = divider.append_axes('right', size='5%', pad=0.05)\n",
    "fig.colorbar(img3, cax=cax, orientation='vertical')\n",
    "ax[2].set_yticks(np.arange(len(userids)))\n",
    "ax[2].set_yticklabels(userids)\n",
    "ax[2].set_xlabel('session number')\n",
    "ax[2].set_title('max time offset (up to 100) - 300 ms')\n",
    "\n",
    "plt.tight_layout()\n",
    "plt.savefig(path_plots+'t_offsetNT.png')\n",
    "plt.show()"
   ]
  },
  {
   "cell_type": "markdown",
   "metadata": {},
   "source": [
    "## Mean and sem across participants"
   ]
  },
  {
   "cell_type": "code",
   "execution_count": null,
   "metadata": {},
   "outputs": [],
   "source": [
    "adf.columns"
   ]
  },
  {
   "cell_type": "code",
   "execution_count": null,
   "metadata": {},
   "outputs": [],
   "source": [
    "key_name = ['mood','food', 'real_stress','sleep','Dsubj_optout_oo','Ssubj_optout_oo','Dsubj_perf_oo',\\\n",
    "           'Ssubj_perf_oo','subj_perf_no','OKubj_RT_no','Dsubj_RT_oo','Ssubj_RT_oo']\n",
    "\n",
    "key_name2plot = [key_name[:int(len(key_name)/2)],key_name[int(len(key_name)/2):]]\n",
    "\n",
    "ap, se = {},{}\n",
    "for (var, op) in [(ap, np.nanmean), (se, myf.sem)]:\n",
    "    for key in key_name:\n",
    "        if key != 'sleep':\n",
    "            var[key] = [op(np.array(adf[adf['sessionID_x']==sesid][key])) for sesid in sessionids]\n",
    "        else:\n",
    "            var[key] = [op(np.array(mdf[mdf['sessionID_x']==sesid][key])) for sesid in sessionids[0::2]]\n",
    "session_labels = ['Th','Fr','Sa','Su','Mo','Tu','We','Th','Fr','Sa']"
   ]
  },
  {
   "cell_type": "code",
   "execution_count": null,
   "metadata": {},
   "outputs": [],
   "source": [
    "fig, ax = plt.subplots(6,2,figsize=(18,18))\n",
    "plt.subplots_adjust(hspace = 0.3)  \n",
    "\n",
    "for i in range(6):\n",
    "    for j in range(2):\n",
    "        lower_limit = np.min(ap[key_name2plot[j][i]])-np.max(se[key_name2plot[j][i]])\n",
    "        upper_limit = np.max(ap[key_name2plot[j][i]])+np.max(se[key_name2plot[j][i]])\n",
    "        ax[i,j].fill_between([4,8],lower_limit,upper_limit,color=[0.9,0.9,0.9])\n",
    "        ax[i,j].fill_between([18,20],lower_limit,upper_limit,color=[0.9,0.9,0.9])\n",
    "        ax[i,j].set_xticks(np.arange(1,21)[::2])\n",
    "        ax[i,j].set_xticklabels(session_labels,rotation=45)\n",
    "        ax[i,j].set_ylabel(key_name2plot[j][i])\n",
    "        if key_name2plot[j][i]!='sleep':\n",
    "            ax[i,j].plot(np.arange(1,len(ap[key_name2plot[j][i]])+1), ap[key_name2plot[j][i]], color = 'b')\n",
    "            ax[i,j].fill_between(np.arange(1,len(ap[key_name2plot[j][i]])+1),np.array(ap[key_name2plot[j][i]])-se[key_name2plot[j][i]], \\\n",
    "                       np.array(ap[key_name2plot[j][i]])+se[key_name2plot[j][i]], alpha=0.2)   \n",
    "        else:\n",
    "            ax[i,j].plot(np.arange(1,21)[::2],ap[key_name2plot[j][i]],color='b')\n",
    "            ax[i,j].fill_between(np.arange(1,21)[::2],\\\n",
    "                       np.array(ap[key_name2plot[j][i]])-se[key_name2plot[j][i]], \\\n",
    "                       np.array(ap[key_name2plot[j][i]])+se[key_name2plot[j][i]], alpha=0.2)  \n",
    "        \n",
    "          \n",
    "\n",
    "plt.show()"
   ]
  },
  {
   "cell_type": "code",
   "execution_count": null,
   "metadata": {},
   "outputs": [],
   "source": [
    "labels = ['Th M','Th A','Fr M','Fr A','Sa M','SaA','Su M','Su A','Mo M','Mo A','Tu M','Tu A',\\\n",
    "          'We M','We A','Th M','Th A','Fr M','Fr A','Sa M','SaA']\n",
    "\n",
    "fig, ax = plt.subplots(5,2,figsize=(18,18))\n",
    "plt.subplots_adjust(hspace = 0.5)  \n",
    "\n",
    "for i in range(5):\n",
    "    for j in range(2):\n",
    "        if not (i==0 and j ==1):\n",
    "            ax[i,j].set_xticks(np.arange(1,len(ap['mood'])+1))\n",
    "            ax[i,j].set_xticklabels(labels, rotation = 45, ha=\"right\")\n",
    "            \n",
    "ax[0,0].set_xticklabels(labels)\n",
    "ax[0,0].errorbar(np.arange(1,len(ap['mood'])+1), ap['mood'], yerr=se['mood'], fmt='o', color = 'b')\n",
    "ax[0,0].set_ylabel('Mood report')\n",
    "\n",
    "ax[0,1].set_xticks(np.arange(1,(len(ap['mood'])+1))[::2])\n",
    "ax[0,1].set_xticklabels(labels[::2], rotation = 45, ha=\"right\")\n",
    "ax[0,1].set_xticklabels(labels[::2])\n",
    "ax[0,1].errorbar(np.arange(1,len(ap['mood'])+1), ap['sleep'], yerr=se['sleep'], fmt='o', color = 'y')\n",
    "ax[0,1].set_ylabel('Sleep report')\n",
    "\n",
    "ax[1,0].set_xticklabels(labels)\n",
    "ax[1,0].errorbar(np.arange(1,len(ap['mood'])+1), ap['food'], yerr=se['food'], fmt='o', color = 'r')\n",
    "ax[1,0].set_ylabel('Food report')\n",
    "\n",
    "ax[1,1].set_xticklabels(labels)\n",
    "ax[1,1].errorbar(np.arange(1,len(ap['mood'])+1), ap['real_stress'], yerr=se['real_stress'], fmt='o', color = 'g')\n",
    "ax[1,1].set_ylabel('Stress report')\n",
    "\n",
    "ax[2,0].set_xticklabels(labels)\n",
    "ax[2,0].errorbar(np.arange(1,len(ap['mood'])+1), ap['Dsubj_optout_oo'], yerr=se['Dsubj_optout_oo'], fmt='o', color = 'r')\n",
    "ax[2,0].set_ylabel('Deterministic optout')\n",
    "\n",
    "ax[2,1].set_xticklabels(labels)\n",
    "ax[2,1].errorbar(np.arange(1,len(ap['mood'])+1), ap['Ssubj_optout_oo'], yerr=se['Ssubj_optout_oo'], fmt='o', color = 'b')\n",
    "ax[2,1].set_ylabel('Stochastic optout')\n",
    "\n",
    "ax[3,0].set_xticklabels(labels)\n",
    "ax[3,0].errorbar(np.arange(1,len(ap['mood'])+1), ap['Dsubj_perf_oo'], yerr=se['Dsubj_perf_oo'], fmt='o', color = 'r')\n",
    "ax[3,0].set_ylabel('Deterministic perf')\n",
    "ax[3,0].set_ylim(70,90)\n",
    "\n",
    "ax[3,1].set_xticklabels(labels)\n",
    "ax[3,1].errorbar(np.arange(1,len(ap['mood'])+1), ap['Ssubj_perf_oo'], yerr=se['Ssubj_perf_oo'], fmt='o', color = 'b')\n",
    "ax[3,1].set_ylabel('Stochastic perf')\n",
    "ax[3,1].set_xlabel('Session label')\n",
    "ax[3,1].set_ylim(70,90)\n",
    "\n",
    "ax[4,0].set_xticklabels(labels)\n",
    "ax[4,0].errorbar(np.arange(1,len(ap['mood'])+1),ap['subj_perf_no'], yerr=se['subj_perf_no'], fmt='o', color = 'g')\n",
    "ax[4,0].set_ylabel('NO performance')\n",
    "ax[4,0].set_xlabel('Session label')\n",
    "ax[4,0].set_ylim(70,90)\n",
    "\n",
    "ax[4,1].set_xticklabels(labels)\n",
    "ax[4,1].errorbar(np.arange(1,len(ap['mood'])+1), ap['OKubj_RT_no'], yerr=se['OKubj_RT_no'], fmt='o', color = 'g')\n",
    "ax[4,1].set_ylabel('NO RT')\n",
    "ax[4,1].set_xlabel('Session label')\n",
    "\n",
    "#plt.savefig('across_sessions.png')\n",
    "\n",
    "plt.show()"
   ]
  },
  {
   "cell_type": "code",
   "execution_count": null,
   "metadata": {},
   "outputs": [],
   "source": [
    "### DO NOT RUN AGAIN !!!\n",
    "\n",
    "# write the result in file\n",
    "filename_ap=path_results+'mean_across_participants.json'\n",
    "filename_se=path_results+'se_across_participants.json'\n",
    "# Serializing json  \n",
    "json_object_ap = json.dumps(ap) \n",
    "json_object_se = json.dumps(se)\n",
    "\n",
    "# Writing to sample.json \n",
    "with open(filename_ap, \"w\") as outfile: \n",
    "    outfile.write(json_object_ap) \n",
    "with open(filename_se, \"w\") as outfile: \n",
    "    outfile.write(json_object_se) "
   ]
  },
  {
   "cell_type": "markdown",
   "metadata": {},
   "source": [
    "## Autocorrelation self-reports"
   ]
  },
  {
   "cell_type": "code",
   "execution_count": null,
   "metadata": {},
   "outputs": [],
   "source": [
    "pvals = []\n",
    "ind = -1\n",
    "for part in userids:\n",
    "    ind += 1\n",
    "    subset = adf[adf['userID']==part]\n",
    "    mood = np.array(subset['mood'])\n",
    "    stress = np.array(subset['real_stress'])\n",
    "    mask = ~np.isnan(mood) & ~np.isnan(stress)\n",
    "    slope, intercept, r_value, p_value, stderr = stats.linregress(stress[mask],mood[mask])\n",
    "    if part==3053:\n",
    "        print(list(mood))\n",
    "        print(list(stress))\n",
    "        print(slope, intercept, r_value, p_value, stderr)\n",
    "    plt.figure()\n",
    "    plt.scatter(stress,mood)\n",
    "    plt.ylabel('mood')\n",
    "    plt.xlabel('stress') \n",
    "    plt.plot(np.arange(-0.1,1.1,0.1),intercept+slope*np.arange(-0.1,1.1,0.1))\n",
    "    plt.fill_between(np.arange(-0.1,1.1,0.1),intercept+slope*np.arange(-0.1,1.1,0.1)-stderr, \\\n",
    "                       intercept+slope*np.arange(-0.1,1.1,0.1)+stderr, color='b', alpha=0.2)\n",
    "    plt.yticks([0.0,0.5,1.0])\n",
    "    plt.xticks([0.0,0.5,1.0])\n",
    "    plt.title(str(int(part))+'  '+str(p_value))\n",
    "    pvals.append(p_value)\n",
    "print(np.min(pvals))"
   ]
  },
  {
   "cell_type": "markdown",
   "metadata": {},
   "source": [
    "## Relationship between reports"
   ]
  },
  {
   "cell_type": "code",
   "execution_count": null,
   "metadata": {},
   "outputs": [],
   "source": []
  },
  {
   "cell_type": "code",
   "execution_count": null,
   "metadata": {},
   "outputs": [],
   "source": [
    "corr_mo_fo,corr_mo_st,corr_st_fo = [[] for _ in range(3)]\n",
    "corr_sl_mo, corr_sl_fo, corr_sl_st = [[] for _ in range(3)]\n",
    "\n",
    "ind = -1\n",
    "for part in userids:\n",
    "    ind += 1\n",
    "    subset = adf[adf['userID']==part]\n",
    "    mood = np.array(subset['mood'])\n",
    "    stress = np.array(subset['real_stress'])\n",
    "    food = np.array(subset['food'])\n",
    "    \n",
    "    corr_mo_fo.append(myf.Pearson_corr_coef(mood,food))\n",
    "    corr_mo_st.append(myf.Pearson_corr_coef(mood,stress))\n",
    "    corr_st_fo.append(myf.Pearson_corr_coef(stress,food))\n",
    "    \n",
    "    #morning\n",
    "    subset_sl = mdf[mdf['userID']==part]\n",
    "    sleep = np.array(subset_sl['sleep'])\n",
    "    mood_mor = np.array(subset_sl['mood'])\n",
    "    food_mor = np.array(subset_sl['food'])\n",
    "    stress_mor = np.array(subset_sl['real_stress'])\n",
    "\n",
    "    corr_sl_mo.append(myf.Pearson_corr_coef(sleep,mood_mor))\n",
    "    corr_sl_fo.append(myf.Pearson_corr_coef(sleep,food_mor))\n",
    "    corr_sl_st.append(myf.Pearson_corr_coef(sleep,stress_mor))\n",
    "\n",
    "p_mo_fo = stats.ttest_1samp(corr_mo_fo,0)[1]\n",
    "p_mo_st = stats.ttest_1samp(corr_mo_st,0)[1]\n",
    "p_st_fo = stats.ttest_1samp(corr_st_fo,0)[1]\n",
    "p_sl_mo = stats.ttest_1samp(corr_sl_mo,0)[1]\n",
    "p_sl_fo = stats.ttest_1samp(corr_sl_fo,0)[1]\n",
    "p_sl_st = stats.ttest_1samp(corr_sl_st,0)[1]\n",
    "\n",
    "ptable = [['','mood','food','stress','sleep'],\n",
    "          ['mood',0,myf.roundP(p_mo_fo),myf.roundP(p_mo_st),myf.roundP(p_sl_mo)],\n",
    "         ['food',myf.roundP(p_mo_fo),0,myf.roundP(p_st_fo),myf.roundP(p_sl_fo)],\n",
    "         ['stress',myf.roundP(p_mo_st),myf.roundP(p_st_fo),0,myf.roundP(p_sl_st)],\n",
    "         ['sleep',myf.roundP(p_sl_mo),myf.roundP(p_sl_fo),myf.roundP(p_sl_st),0]]\n",
    "\n",
    "display(HTML(tabulate.tabulate(ptable, tablefmt='html')))"
   ]
  },
  {
   "cell_type": "code",
   "execution_count": null,
   "metadata": {},
   "outputs": [],
   "source": [
    "fig,ax = plt.subplots(1,3,figsize=(15,3))\n",
    "ax[0].hist(corr_mo_st,color='r')\n",
    "ax[0].set_title(\"mood & stress\")\n",
    "ax[0].set_xlabel('Pearson correlation coef',fontsize=18)\n",
    "ax[0].set_ylabel('Counts',fontsize=18)\n",
    "ax[0].text(0.05,3,'ttest p: '+str(myf.roundP(p_mo_st)), ha='left', wrap=True,fontsize=18)\n",
    "ax[0].text(0.05,2.5,'mean p: '+str(myf.roundP(np.nanmean(corr_mo_st))), ha='left', wrap=True,fontsize=18)\n",
    "ax[0].set_xlim(-1.1,1.1)\n",
    "ax[0].axvline(0,color='k')\n",
    "\n",
    "ax[1].hist(corr_mo_fo,color='y')\n",
    "ax[1].set_title(\"mood & food\")\n",
    "ax[1].set_xlabel('Pearson correlation coef',fontsize=18)\n",
    "ax[1].text(0.05,3,'ttest p: '+str(myf.roundP(p_mo_fo)), ha='left', wrap=True,fontsize=18)\n",
    "ax[1].text(0.05,2.5,'mean p: '+str(myf.roundP(np.nanmean(corr_mo_fo))), ha='left', wrap=True,fontsize=18)\n",
    "ax[1].set_xlim(-1.1,1.1)\n",
    "ax[1].axvline(0,color='k')\n",
    "\n",
    "ax[2].hist(corr_st_fo,color='g')\n",
    "ax[2].set_title(\"stress & food\")\n",
    "ax[2].set_xlabel('Pearson correlation coef',fontsize=18)\n",
    "ax[2].text(0.05,3,'ttest p: '+str(myf.roundP(p_st_fo)), ha='left', wrap=True,fontsize=18)\n",
    "ax[2].text(0.05,2.5,'mean p: '+str(myf.roundP(np.nanmean(corr_st_fo))), ha='left', wrap=True,fontsize=18)\n",
    "ax[2].set_xlim(-1.1,1.1)\n",
    "ax[2].axvline(0,color='k')\n",
    "\n",
    "plt.show()"
   ]
  },
  {
   "cell_type": "code",
   "execution_count": null,
   "metadata": {},
   "outputs": [],
   "source": [
    "fig,ax = plt.subplots(1,3,figsize=(15,3))\n",
    "ax[0].hist(corr_sl_mo,color='r')\n",
    "ax[0].set_title(\"mood & sleep\")\n",
    "ax[0].set_xlabel('Pearson correlation coef',fontsize=18)\n",
    "ax[0].set_ylabel('Counts',fontsize=18)\n",
    "ax[0].text(0.05,3,'ttest p: '+str(myf.roundP(p_sl_mo)), ha='left', wrap=True,fontsize=18)\n",
    "ax[0].text(0.05,2.5,'mean p: '+str(myf.roundP(np.nanmean(corr_sl_mo))), ha='left', wrap=True,fontsize=18)\n",
    "ax[0].set_xlim(-1.1,1.1)\n",
    "ax[0].axvline(0,color='k')\n",
    "\n",
    "ax[1].hist(corr_sl_fo,color='y')\n",
    "ax[1].set_title(\"sleep & food\")\n",
    "ax[1].set_xlabel('Pearson correlation coef',fontsize=18)\n",
    "ax[1].text(0.05,3,'ttest p: '+str(myf.roundP(p_sl_fo)), ha='left', wrap=True,fontsize=18)\n",
    "ax[1].text(0.05,2.5,'mean p: '+str(myf.roundP(np.nanmean(corr_sl_fo))), ha='left', wrap=True,fontsize=18)\n",
    "ax[1].set_xlim(-1.1,1.1)\n",
    "ax[1].axvline(0,color='k')\n",
    "\n",
    "ax[2].hist(corr_sl_st,color='g')\n",
    "ax[2].set_title(\"stress & sleep\")\n",
    "ax[2].set_xlabel('Pearson correlation coef',fontsize=18)\n",
    "ax[2].text(0.05,3,'ttest p: '+str(myf.roundP(p_sl_st)), ha='left', wrap=True,fontsize=18)\n",
    "ax[2].text(0.05,2.5,'mean p: '+str(myf.roundP(np.nanmean(corr_sl_st))), ha='left', wrap=True,fontsize=18)\n",
    "ax[2].set_xlim(-1.1,1.1)\n",
    "ax[2].axvline(0,color='k')\n",
    "\n",
    "plt.show()"
   ]
  },
  {
   "cell_type": "code",
   "execution_count": null,
   "metadata": {},
   "outputs": [],
   "source": [
    "matrixR = [[1,np.nanmean(corr_mo_st),np.nanmean(corr_sl_mo),np.nanmean(corr_mo_fo)],\\\n",
    "           [np.nanmean(corr_mo_st),1,np.nanmean(corr_sl_st),np.nanmean(corr_st_fo)],\\\n",
    "           [np.nanmean(corr_sl_mo),np.nanmean(corr_sl_st),1,np.nanmean(corr_sl_fo)],\\\n",
    "           [np.nanmean(corr_mo_fo),np.nanmean(corr_st_fo),np.nanmean(corr_sl_fo),1]]"
   ]
  },
  {
   "cell_type": "code",
   "execution_count": null,
   "metadata": {},
   "outputs": [],
   "source": [
    "print(matrixR)"
   ]
  },
  {
   "cell_type": "code",
   "execution_count": null,
   "metadata": {},
   "outputs": [],
   "source": [
    "pmatrix = [[0,p_mo_st,p_sl_mo,p_mo_fo],\n",
    "         [p_mo_st,0,p_sl_st,p_st_fo],\n",
    "         [p_sl_mo,p_sl_st,0,p_sl_fo],\n",
    "         [p_mo_fo,p_st_fo,p_sl_fo,0]]"
   ]
  },
  {
   "cell_type": "code",
   "execution_count": null,
   "metadata": {},
   "outputs": [],
   "source": [
    "print(pmatrix)"
   ]
  },
  {
   "cell_type": "code",
   "execution_count": null,
   "metadata": {},
   "outputs": [],
   "source": [
    "plt.imshow(matrixR,cmap='seismic',interpolation='nearest', vmin=-1, vmax=1)\n",
    "plt.xticks(np.arange(4),[])\n",
    "plt.yticks(np.arange(4),['mood','stress','sleep','food'])\n",
    "plt.colorbar()\n",
    "plt.title('Numerosity task')\n",
    "#plt.tight_layout()\n",
    "#plt.savefig(path_plots+'reports_corr_dots.png')\n",
    "plt.show()"
   ]
  },
  {
   "cell_type": "code",
   "execution_count": null,
   "metadata": {},
   "outputs": [],
   "source": [
    "r_subjNOS_fo_mo,r_subjNOS_st_mo,r_subjNOS_sl_mo = [[] for _ in range(3)]\n",
    "r_subjSIG_fo_mo,r_subjSIG_st_mo,r_subjSIG_sl_mo = [[] for _ in range(3)]\n",
    "ind = -1\n",
    "for part in userids:\n",
    "    ind += 1\n",
    "    subset = adf[adf['userID']==part]\n",
    "    mood = np.array(subset['mood'])\n",
    "    stress = np.array(subset['real_stress'])\n",
    "    food = np.array(subset['food'])\n",
    "        \n",
    "    # food & mood\n",
    "    LR_fo = myf.Linear_Regr(food,mood)\n",
    "    if LR_fo.p_value<0.05:\n",
    "        r_subjSIG_fo_mo.append(LR_fo.r_value)\n",
    "    else:\n",
    "        r_subjNOS_fo_mo.append(LR_fo.r_value)\n",
    "        \n",
    "    # stress & mood\n",
    "    LR_st = myf.Linear_Regr(stress,mood)\n",
    "    if LR_st.p_value<0.05:\n",
    "        r_subjSIG_st_mo.append(LR_st.r_value)\n",
    "    else:\n",
    "        r_subjNOS_st_mo.append(LR_st.r_value)\n",
    "        \n",
    "    # morning\n",
    "    subset_mor = mdf[mdf['userID']==part]\n",
    "    sleep = np.array(subset_mor['sleep'])\n",
    "    mood_mor = np.array(subset_mor['mood'])\n",
    "    \n",
    "    # sleep & mood\n",
    "    LR_sl = myf.Linear_Regr(sleep,mood_mor)\n",
    "    if LR_sl.p_value<0.05:\n",
    "        r_subjSIG_sl_mo.append(LR_sl.r_value)\n",
    "    else:\n",
    "        r_subjNOS_sl_mo.append(LR_sl.r_value)"
   ]
  },
  {
   "cell_type": "code",
   "execution_count": null,
   "metadata": {},
   "outputs": [],
   "source": [
    "# write the result in file\n",
    "dict_ = {\n",
    "    \"r_subjSIG_st_mo\":list(r_subjSIG_st_mo),\n",
    "    \"r_subjNOS_st_mo\":list(r_subjNOS_st_mo),\n",
    "    \"r_subjSIG_fo_mo\":list(r_subjSIG_fo_mo),\n",
    "    \"r_subjNOS_fo_mo\":list(r_subjNOS_fo_mo),\n",
    "    \"r_subjSIG_sl_mo\":list(r_subjSIG_sl_mo),\n",
    "    \"r_subjNOS_sl_mo\":list(r_subjNOS_sl_mo),\n",
    "}\n",
    "# Serializing json  \n",
    "json_object = json.dumps(dict_) \n",
    "\n",
    "# Writing to sample.json \n",
    "with open(path_results+'corr_reports_reports.json', \"w\") as outfile: \n",
    "    outfile.write(json_object) "
   ]
  },
  {
   "cell_type": "markdown",
   "metadata": {},
   "source": [
    "## Correlation between performance and reports"
   ]
  },
  {
   "cell_type": "code",
   "execution_count": null,
   "metadata": {},
   "outputs": [],
   "source": [
    "DAcc_corr,SAcc_corr,NOAcc_corr = {},{},{}\n",
    "for key in key_SR:\n",
    "    if key != 'sleep':\n",
    "        DAcc_corr[key] = [myf.Pearson_corr_coef(np.array(adf[adf['userID']==part][key]),\\\n",
    "                                        np.array(adf[adf['userID']==part]['Dsubj_perf_oo'])) for part in userids]\n",
    "        SAcc_corr[key] = [myf.Pearson_corr_coef(np.array(adf[adf['userID']==part][key]),\\\n",
    "                                        np.array(adf[adf['userID']==part]['Ssubj_perf_oo'])) for part in userids]\n",
    "        NOAcc_corr[key] = [myf.Pearson_corr_coef(np.array(adf[adf['userID']==part][key]),\\\n",
    "                                        np.array(adf[adf['userID']==part]['subj_perf_no'])) for part in userids]\n",
    "    else:\n",
    "        DAcc_corr[key] = [myf.Pearson_corr_coef(np.array(mdf[mdf['userID']==part][key]),\\\n",
    "                                        np.array(mdf[mdf['userID']==part]['Dsubj_perf_oo'])) for part in userids]\n",
    "        SAcc_corr[key] = [myf.Pearson_corr_coef(np.array(mdf[mdf['userID']==part][key]),\\\n",
    "                                        np.array(mdf[mdf['userID']==part]['Ssubj_perf_oo'])) for part in userids]\n",
    "        NOAcc_corr[key] = [myf.Pearson_corr_coef(np.array(mdf[mdf['userID']==part][key]),\\\n",
    "                                       np.array(mdf[mdf['userID']==part]['subj_perf_no'])) for part in userids]\n",
    "\n",
    "DAcc_p,SAcc_p,NOAcc_p = {},{},{}                                         \n",
    "for key in key_SR:        \n",
    "    DAcc_p[key] = stats.ttest_1samp(DAcc_corr[key],0)[1]  \n",
    "    SAcc_p[key] = stats.ttest_1samp(SAcc_corr[key],0)[1] \n",
    "    NOAcc_p[key] = stats.ttest_1samp(NOAcc_corr[key],0)[1] \n",
    "    \n",
    "ptable = [['p_value']+key_SR,['DAcc']+[myf.roundP(DAcc_p[key]) for key in key_SR],\\\n",
    "          ['SAcc']+[myf.roundP(SAcc_p[key]) for key in key_SR],\\\n",
    "         ['NOAcc']+[myf.roundP(NOAcc_p[key]) for key in key_SR]]\n",
    "\n",
    "display(HTML(tabulate.tabulate(ptable, tablefmt='html')))"
   ]
  },
  {
   "cell_type": "code",
   "execution_count": null,
   "metadata": {},
   "outputs": [],
   "source": [
    "plt.hist(DAcc_corr['real_stress'],color='r')\n",
    "plt.xlim(-1,1)\n",
    "plt.axvline(0,color='k')\n",
    "plt.xlabel('Pearson corr')\n",
    "plt.ylabel('Counts')\n",
    "plt.title('D perf & stress')\n",
    "plt.text(0.2,2.5,'p-value: '+str(myf.roundP(DAcc_p['real_stress'])), ha='left', wrap=True,fontsize=18)\n",
    "plt.text(0.2,1.5,'mean r: '+str(myf.roundP(np.nanmean(DAcc_corr['real_stress']))), ha='left', wrap=True,fontsize=18)\n",
    "plt.show()"
   ]
  },
  {
   "cell_type": "markdown",
   "metadata": {},
   "source": [
    "## Correlation between optout and reports"
   ]
  },
  {
   "cell_type": "code",
   "execution_count": null,
   "metadata": {},
   "outputs": [],
   "source": [
    "D_subj_corr,S_subj_corr = {},{}\n",
    "for key in key_SR:\n",
    "    if key != 'sleep':\n",
    "        D_subj_corr[key] = [myf.Linear_Regr(np.array(adf[adf['userID']==part][key]),\\\n",
    "                                        np.array(adf[adf['userID']==part]['Dsubj_optout_oo'])) for part in userids]\n",
    "        S_subj_corr[key] = [myf.Linear_Regr(np.array(adf[adf['userID']==part][key]),\\\n",
    "                                        np.array(adf[adf['userID']==part]['Ssubj_optout_oo'])) for part in userids]\n",
    "    else:\n",
    "        D_subj_corr[key] = [myf.Linear_Regr(np.array(mdf[mdf['userID']==part][key]),\\\n",
    "                                        np.array(mdf[mdf['userID']==part]['Dsubj_optout_oo'])) for part in userids]\n",
    "        S_subj_corr[key] = [myf.Linear_Regr(np.array(mdf[mdf['userID']==part][key]),\\\n",
    "                                        np.array(mdf[mdf['userID']==part]['Ssubj_optout_oo'])) for part in userids]\n",
    "D_subj_p,S_subj_p = {},{}                                      \n",
    "for key in key_SR:        \n",
    "    D_subj_p[key] = [D_subj_corr[key][i].p_value for i in range(nsub)]\n",
    "    S_subj_p[key] = [S_subj_corr[key][i].p_value for i in range(nsub)]\n",
    "    \n",
    "r_subjNOS_DO,r_subjSIG_DO,r_subjNOS_SO,r_subjSIG_SO = [{} for _ in range(4)]    \n",
    "for key in key_SR: \n",
    "    r_subjNOS_DO[key] = [D_subj_corr[key][i].r_value for i in range(nsub) if D_subj_p[key][i]>=0.05]\n",
    "    r_subjSIG_DO[key] = [D_subj_corr[key][i].r_value for i in range(nsub) if D_subj_p[key][i]<0.05]\n",
    "    r_subjNOS_SO[key] = [S_subj_corr[key][i].r_value for i in range(nsub) if S_subj_p[key][i]>=0.05]\n",
    "    r_subjSIG_SO[key] = [S_subj_corr[key][i].r_value for i in range(nsub) if S_subj_p[key][i]<0.05]"
   ]
  },
  {
   "cell_type": "code",
   "execution_count": null,
   "metadata": {},
   "outputs": [],
   "source": [
    "# Serializing json  \n",
    "json_object_NOS_DO = json.dumps(r_subjNOS_DO) \n",
    "json_object_SIG_DO = json.dumps(r_subjSIG_DO) \n",
    "json_object_NOS_SO = json.dumps(r_subjNOS_SO) \n",
    "json_object_SIG_SO = json.dumps(r_subjSIG_SO) \n",
    "\n",
    "# Writing to sample.json \n",
    "with open(path_results+'corr_NOS_reports_DO.json', \"w\") as outfile: \n",
    "    outfile.write(json_object_NOS_DO) \n",
    "with open(path_results+'corr_SIG_reports_DO.json', \"w\") as outfile: \n",
    "    outfile.write(json_object_SIG_DO) \n",
    "with open(path_results+'corr_NOS_reports_SO.json', \"w\") as outfile: \n",
    "    outfile.write(json_object_NOS_SO) \n",
    "with open(path_results+'corr_SIG_reports_SO.json', \"w\") as outfile: \n",
    "    outfile.write(json_object_SIG_SO) "
   ]
  },
  {
   "cell_type": "code",
   "execution_count": null,
   "metadata": {},
   "outputs": [],
   "source": [
    "fig ,(ax1,ax2) = plt.subplots(2,1,gridspec_kw={'hspace':0})\n",
    "ax1.set_title(\"optout & mood\")\n",
    "ax1.hist([r_subjNOS_DO['mood'],r_subjSIG_DO['mood']],bins=np.arange(-1,1,0.1),alpha=0.7,histtype='bar', stacked=True, \\\n",
    "             color=['w','r'], edgecolor='r', linewidth=2)\n",
    "ax1.set_yticks([0,3,6])\n",
    "ax1.set_xlim(-1.1,1.1)\n",
    "ax1.set_ylabel('counts')\n",
    "ax1.set_xticks([])\n",
    "ax1.set_ylim(0,8)\n",
    "ax2.hist([r_subjNOS_SO['mood'],r_subjSIG_SO['mood']],bins=np.arange(-1,1,0.1),color=['w','b'],alpha=0.7,histtype='bar',\\\n",
    "         stacked=True,edgecolor='b', linewidth=2)\n",
    "ax2.set_yticks([3,6])\n",
    "ax2.set_xticks([-1,0,1])\n",
    "ax2.set_xlim(-1.1,1.1)\n",
    "ax2.set_ylim(0,8)\n",
    "ax2.invert_yaxis()"
   ]
  },
  {
   "cell_type": "markdown",
   "metadata": {},
   "source": [
    "## Correlation between response time and reports"
   ]
  },
  {
   "cell_type": "code",
   "execution_count": null,
   "metadata": {},
   "outputs": [],
   "source": [
    "DRT_corr,SRT_corr,DRTOK_corr,SRTOK_corr,NORTOK_corr = [{} for _ in range(5)]\n",
    "for key in key_SR:\n",
    "    if key != 'sleep':\n",
    "        DRTOK_corr[key] = [myf.Pearson_corr_coef(np.array(adf[adf['userID']==part][key]),\\\n",
    "                            np.array(adf[adf['userID']==part]['OKDsubj_RT_oo'])) for part in userids]\n",
    "        SRTOK_corr[key] = [myf.Pearson_corr_coef(np.array(adf[adf['userID']==part][key]),\\\n",
    "                            np.array(adf[adf['userID']==part]['OKSsubj_RT_oo'])) for part in userids]\n",
    "        NORTOK_corr[key] = [myf.Pearson_corr_coef(np.array(adf[adf['userID']==part][key]),\\\n",
    "                            np.array(adf[adf['userID']==part]['OKubj_RT_no'])) for part in userids]\n",
    "    else:\n",
    "        DRTOK_corr[key] = [myf.Pearson_corr_coef(np.array(mdf[mdf['userID']==part][key]),\\\n",
    "                            np.array(mdf[mdf['userID']==part]['OKDsubj_RT_oo'])) for part in userids]\n",
    "        SRTOK_corr[key] = [myf.Pearson_corr_coef(np.array(mdf[mdf['userID']==part][key]),\\\n",
    "                            np.array(mdf[mdf['userID']==part]['OKSsubj_RT_oo'])) for part in userids]\n",
    "        NORTOK_corr[key] = [myf.Pearson_corr_coef(np.array(mdf[mdf['userID']==part][key]),\\\n",
    "                            np.array(mdf[mdf['userID']==part]['OKubj_RT_no'])) for part in userids]\n",
    "\n",
    "DRTOK_p,SRTOK_p,NORTOK_p = [{} for _ in range(3)]                                         \n",
    "for key in key_SR:        \n",
    "    DRTOK_p[key] = stats.ttest_1samp(DRTOK_corr[key],0)[1]  \n",
    "    SRTOK_p[key] = stats.ttest_1samp(SRTOK_corr[key],0)[1] \n",
    "    NORTOK_p[key] = stats.ttest_1samp(NORTOK_corr[key],0)[1] \n",
    "    \n",
    "ptable = [['p_value']+key_SR,['D_RT_OK']+[myf.roundP(DRTOK_p[key]) for key in key_SR],\\\n",
    "          ['S_RT_OK']+[myf.roundP(SRTOK_p[key]) for key in key_SR],\\\n",
    "         ['NO_RT_OK']+[myf.roundP(NORTOK_p[key]) for key in key_SR]]\n",
    "\n",
    "display(HTML(tabulate.tabulate(ptable, tablefmt='html')))"
   ]
  },
  {
   "cell_type": "code",
   "execution_count": null,
   "metadata": {},
   "outputs": [],
   "source": [
    "fig, ax = plt.subplots(1,2,figsize=(10,3))\n",
    "ax[0].hist(DRTOK_corr['mood'],color='r')\n",
    "ax[0].text(-0.95,3.5,'ttest p: '+str(myf.roundP(DRTOK_p['mood'])), ha='left', wrap=True,fontsize=18)\n",
    "ax[0].text(-0.95,4.5,'mean r: '+str(myf.roundP(np.nanmean(DRTOK_corr['mood']))), ha='left', wrap=True,fontsize=18)\n",
    "ax[0].set_title(\"DO OK RT & mood\")\n",
    "ax[0].set_xlabel('Pearson corr coeff')\n",
    "ax[0].set_ylabel('Counts')\n",
    "ax[0].set_xlim(-1.1,1.1)\n",
    "ax[0].axvline(0,color='k')\n",
    "\n",
    "ax[1].hist(NORTOK_corr['mood'],color='g')\n",
    "ax[1].text(0.1,2.5,'ttest p: '+str(myf.roundP(NORTOK_p['mood'])), ha='left', wrap=True,fontsize=18)\n",
    "ax[1].text(0.1,3.5,'mean r: '+str(myf.roundP(np.nanmean(NORTOK_corr['mood']))), ha='left', wrap=True,fontsize=18)\n",
    "ax[1].set_title(\"NO OK RT & mood\")\n",
    "ax[1].set_xlabel('Pearson corr coeff')\n",
    "ax[1].set_ylabel('Counts')\n",
    "ax[1].set_xlim(-1.1,1.1)\n",
    "ax[1].axvline(0,color='k')\n",
    "\n",
    "plt.show()"
   ]
  },
  {
   "cell_type": "markdown",
   "metadata": {},
   "source": [
    "## Correlation between psychometric variables"
   ]
  },
  {
   "cell_type": "code",
   "execution_count": null,
   "metadata": {},
   "outputs": [],
   "source": [
    "key_PV = ['subj_perf_no','OKubj_RT_no','Dsubj_optout_oo','Ssubj_optout_oo']\n",
    "pair_keys_PV = list(itertools.combinations(key_PV, 2))\n",
    "\n",
    "corr_PV = {}\n",
    "for pair in pair_keys_PV:\n",
    "    corr_PV[pair] = [myf.Pearson_corr_coef(np.array(adf[adf['userID']==part][pair[0]]),\\\n",
    "                            np.array(adf[adf['userID']==part][pair[1]])) for part in userids]\n",
    "\n",
    "p_PV = {}                           \n",
    "for pair in pair_keys_PV:       \n",
    "    p_PV[pair] = stats.ttest_1samp(corr_PV[pair],0)[1]  \n",
    "    \n",
    "M = [myf.roundP(p_PV[(pair)]) for pair in pair_keys_PV]\n",
    "\n",
    "p_value=[['p_value']+key_PV,[key_PV[0],0]+M[0:3],[key_PV[1],M[0],0]+M[3:5],[key_PV[2],M[1],M[3],0,M[5]],\\\n",
    "         [key_PV[3],M[2],M[4],M[5],0]]\n",
    "\n",
    "display(HTML(tabulate.tabulate(p_value, tablefmt='html')))\n",
    "\n",
    "R = [myf.roundP(np.mean(corr_PV[(pair)])) for pair in pair_keys_PV]\n",
    "\n",
    "mean_r=[['mean_corr']+key_PV,[key_PV[0],0]+R[0:3],[key_PV[1],R[0],0]+R[3:5],[key_PV[2],R[1],R[3],0,R[5]],\\\n",
    "         [key_PV[3],R[2],R[4],R[5],0]]\n",
    "\n",
    "display(HTML(tabulate.tabulate(mean_r, tablefmt='html')))"
   ]
  },
  {
   "cell_type": "code",
   "execution_count": null,
   "metadata": {},
   "outputs": [],
   "source": [
    "r_subjNOS_so_do,r_subjSIG_so_do = [[] for _ in range(2)]\n",
    "ind = -1\n",
    "for part in userids:\n",
    "    ind += 1\n",
    "    subset = adf[adf['userID']==part]\n",
    "    DO = np.array(subset['Dsubj_optout_oo'])\n",
    "    SO = np.array(subset['Ssubj_optout_oo'])\n",
    "    \n",
    "    # D optout & S optout\n",
    "    slope_so, intercept_so, r_value_so, p_value_so, std_err_so = stats.linregress(SO,DO)\n",
    "    if p_value_so<0.05:\n",
    "        r_subjSIG_so_do.append(r_value_so)\n",
    "    else:\n",
    "        r_subjNOS_so_do.append(r_value_so)"
   ]
  },
  {
   "cell_type": "code",
   "execution_count": null,
   "metadata": {},
   "outputs": [],
   "source": [
    "# write the result in file\n",
    "dict_ = {\n",
    "    \"r_subjSIG_so_do\":list(r_subjSIG_so_do),\n",
    "    \"r_subjNOS_so_do\":list(r_subjNOS_so_do)\n",
    "}\n",
    "# Serializing json  \n",
    "json_object = json.dumps(dict_) \n",
    "\n",
    "# Writing to sample.json \n",
    "with open(path_results+'corr_Doptout_Soptout.json', \"w\") as outfile: \n",
    "    outfile.write(json_object) "
   ]
  },
  {
   "cell_type": "code",
   "execution_count": null,
   "metadata": {},
   "outputs": [],
   "source": [
    "fig, ax = plt.subplots()\n",
    "\n",
    "ax.hist(corr_PV[('Dsubj_optout_oo','Ssubj_optout_oo')],color='m')\n",
    "ax.text(-0.8,3.5,'ttest p: '+str(myf.roundP(p_PV[('Dsubj_optout_oo','Ssubj_optout_oo')])), ha='left', wrap=True,fontsize=18)\n",
    "ax.text(-0.8,2.5,'mean r: '+str(myf.roundP(np.nanmean(corr_PV[('Dsubj_optout_oo','Ssubj_optout_oo')]))), ha='left', wrap=True,fontsize=18)\n",
    "ax.set_title(\"DO & SO\")\n",
    "ax.set_xlabel('Pearson corr coeff')\n",
    "ax.set_xlim(-1.1,1.1)\n",
    "ax.axvline(0,color='k')\n",
    "\n",
    "plt.show()"
   ]
  },
  {
   "cell_type": "markdown",
   "metadata": {},
   "source": [
    "## Overconfidence\n",
    "\n",
    "### Noise and bias with and without optout\n",
    "\n",
    "We compare noise and bias in both type of trials. To compare bias, in trials with optout, we use the middle point $(H_L+H_R)/2$."
   ]
  },
  {
   "cell_type": "code",
   "execution_count": null,
   "metadata": {},
   "outputs": [],
   "source": [
    "df3054 = adf[adf['userID']==3054]"
   ]
  },
  {
   "cell_type": "code",
   "execution_count": null,
   "metadata": {},
   "outputs": [],
   "source": [
    "sigma_no = np.array(df3054['no_sigma'])\n",
    "sigmaDoo = np.array(df3054['Dsigma_oo'])\n",
    "sigmaSoo = np.array(df3054['Ssigma_oo'])\n",
    "mean_sigma_no = np.nanmean(sigma_no)\n",
    "sd_sigma_no = np.nanstd(sigma_no)\n",
    "mean_sigmaDoo = np.nanmean(sigmaDoo)\n",
    "sd_sigmaDoo = np.nanstd(sigmaDoo)\n",
    "mean_sigmaSoo = np.nanmean(sigmaSoo)\n",
    "sd_sigmaSoo = np.nanstd(sigmaSoo)\n",
    "\n",
    "sigma_no = np.array(df3054['no_sigma'])\n",
    "sigmaDoo = np.array(df3054['Dsigma_oo'])\n",
    "sigmaSoo = np.array(df3054['Ssigma_oo'])\n",
    "\n",
    "# mask to avoid nan values\n",
    "mask = ~np.isnan(sigma_no) & ~np.isnan(sigmaDoo)\n",
    "maskS = ~np.isnan(sigma_no) & ~np.isnan(sigmaSoo)"
   ]
  },
  {
   "cell_type": "code",
   "execution_count": null,
   "metadata": {},
   "outputs": [],
   "source": [
    "bias_no"
   ]
  },
  {
   "cell_type": "code",
   "execution_count": null,
   "metadata": {},
   "outputs": [],
   "source": [
    "slope, intercept, r_value, p_value, std_err = stats.linregress(sigma_no[mask],sigmaDoo[mask])\n",
    "slopeS, interceptS, r_valueS, p_valueS, std_errS = stats.linregress(sigma_no[maskS],sigmaSoo[maskS])\n",
    "\n",
    "fig,ax = plt.subplots(1,2,figsize=(16,5))\n",
    "plt.subplots_adjust(wspace = 0.3)\n",
    "ax[0].plot()\n",
    "ax[0].plot(np.arange(-0.08,0.07,0.01),intercept+np.array(np.arange(-0.08,0.07,0.01))*slope,'k')\n",
    "ax[0].scatter(sigma_no,sigmaDoo,color='r')\n",
    "ax[0].set_xlabel('sigma non-optout')\n",
    "ax[0].set_ylabel('sigma deterministic optout')\n",
    "\n",
    "ax[1].plot()\n",
    "ax[1].plot(np.arange(-0.08,0.07,0.01),interceptS+np.array(np.arange(-0.08,0.07,0.01))*slopeS,'k')\n",
    "ax[1].scatter(sigma_no,sigmaSoo,color='r')\n",
    "ax[1].set_xlabel('sigma non-optout')\n",
    "ax[1].set_ylabel('sigma stochastic optout')\n",
    "\n",
    "plt.show()"
   ]
  },
  {
   "cell_type": "code",
   "execution_count": null,
   "metadata": {},
   "outputs": [],
   "source": [
    "resultD = stats.linregress(bias_no[mask],biasDoo[mask])\n",
    "resultS = stats.linregress(bias_no[maskS],biasSoo[maskS])"
   ]
  },
  {
   "cell_type": "code",
   "execution_count": null,
   "metadata": {},
   "outputs": [],
   "source": [
    "resultD.slope"
   ]
  },
  {
   "cell_type": "code",
   "execution_count": null,
   "metadata": {},
   "outputs": [],
   "source": [
    "sigma_no = np.array(adf['no_sigma'])\n",
    "sigmaDoo = np.array(adf['Dsigma_oo'])\n",
    "sigmaSoo = np.array(adf['Ssigma_oo'])\n",
    "mean_sigma_no = np.nanmean(sigma_no)\n",
    "sd_sigma_no = np.nanstd(sigma_no)\n",
    "mean_sigmaDoo = np.nanmean(sigmaDoo)\n",
    "sd_sigmaDoo = np.nanstd(sigmaDoo)\n",
    "mean_sigmaSoo = np.nanmean(sigmaSoo)\n",
    "sd_sigmaSoo = np.nanstd(sigmaSoo)\n",
    "\n",
    "df_PCfit = adf[(adf['no_sigma']<mean_sigma_no+2*sd_sigma_no) & (adf['no_sigma']>mean_sigma_no-2*sd_sigma_no)]\n",
    "df_PCfit = adf[(adf['Dsigma_oo']<mean_sigmaDoo+2*sd_sigmaDoo) & (adf['Dsigma_oo']>mean_sigmaDoo-2*sd_sigmaDoo)]\n",
    "df_PCfit = adf[(adf['Ssigma_oo']<mean_sigmaSoo+2*sd_sigmaSoo) & (adf['Ssigma_oo']>mean_sigmaSoo-2*sd_sigmaSoo)]\n",
    "\n",
    "sigma_no = np.array(df_PCfit['no_sigma'])\n",
    "sigmaDoo = np.array(df_PCfit['Dsigma_oo'])\n",
    "sigmaSoo = np.array(df_PCfit['Ssigma_oo'])\n",
    "\n",
    "# mask to avoid nan values\n",
    "mask = ~np.isnan(sigma_no) & ~np.isnan(sigmaDoo)\n",
    "maskS = ~np.isnan(sigma_no) & ~np.isnan(sigmaSoo)"
   ]
  },
  {
   "cell_type": "code",
   "execution_count": null,
   "metadata": {},
   "outputs": [],
   "source": [
    "slope, intercept, r_value, p_value, std_err = stats.linregress(sigma_no[mask],sigmaDoo[mask])\n",
    "slopeS, interceptS, r_valueS, p_valueS, std_errS = stats.linregress(sigma_no[maskS],sigmaSoo[maskS])\n",
    "\n",
    "fig,ax = plt.subplots(1,2,figsize=(16,5))\n",
    "plt.subplots_adjust(wspace = 0.3)\n",
    "ax[0].plot()\n",
    "ax[0].plot(sigmaDoo,intercept+np.array(sigmaDoo)*slope,'k')\n",
    "ax[0].scatter(sigma_no,sigmaDoo,color='r')\n",
    "ax[0].set_xlabel('Sigma NON optout')\n",
    "ax[0].set_ylabel('Sigma deterministic optout')\n",
    "ax[0].text(0.1,0.1,'ttest p: '+str(myf.roundP(p_value)), ha='left', wrap=True,fontsize=18)\n",
    "ax[0].text(0.1,0.15,'mean r: '+str(myf.roundP(np.mean(r_value))), ha='left', wrap=True,fontsize=18)\n",
    "#ax[0].set_xscale('log')\n",
    "#ax[0].set_yscale('log')\n",
    "\n",
    "ax[1].plot()\n",
    "ax[1].plot(sigmaSoo,interceptS+np.array(sigmaSoo)*slopeS,'k')\n",
    "ax[1].scatter(sigma_no,sigmaSoo,color='r')\n",
    "ax[1].set_xlabel('Sigma NON optout')\n",
    "ax[1].set_ylabel('Sigma stochastic optout')\n",
    "ax[1].text(0.1,0.1,'ttest p: '+str(myf.roundP(p_valueS)), ha='left', wrap=True,fontsize=18)\n",
    "ax[1].text(0.1,0.15,'mean r: '+str(myf.roundP(np.mean(r_valueS))), ha='left', wrap=True,fontsize=18)\n",
    "#ax[1].set_xscale('log')\n",
    "#ax[1].set_yscale('log')\n",
    "plt.show()"
   ]
  },
  {
   "cell_type": "code",
   "execution_count": null,
   "metadata": {},
   "outputs": [],
   "source": [
    "bias_no = np.array(adf['no_bias'])\n",
    "HmiddleDO = np.array(adf['HmiddleDO'])\n",
    "HmiddleSO = np.array(adf['HmiddleSO'])\n",
    "mean_bias_no = np.nanmean(bias_no)\n",
    "sd_bias_no = np.nanstd(bias_no)\n",
    "mean_HmiddleDO = np.nanmean(HmiddleDO)\n",
    "sd_HmiddleDO = np.nanstd(HmiddleDO)\n",
    "mean_HmiddleSO = np.nanmean(HmiddleSO)\n",
    "sd_HmiddleSO = np.nanstd(HmiddleSO)\n",
    "\n",
    "df_PCfit2 = adf[(adf['no_sigma']<mean_bias_no+2*sd_bias_no) & (adf['no_sigma']>mean_bias_no-2*sd_bias_no)]\n",
    "df_PCfit2 = adf[(adf['HmiddleDO']<mean_HmiddleDO+2*sd_HmiddleDO) & (adf['HmiddleDO']>mean_HmiddleDO-2*sd_HmiddleDO)]\n",
    "df_PCfit2 = adf[(adf['HmiddleSO']<mean_HmiddleSO+2*sd_HmiddleSO) & (adf['HmiddleSO']>mean_HmiddleSO-2*sd_HmiddleSO)]\n",
    "\n",
    "bias_no = np.array(df_PCfit2['no_sigma'])\n",
    "HmiddleDO = np.array(df_PCfit2['HmiddleDO'])\n",
    "HmiddleSO = np.array(df_PCfit2['HmiddleSO'])\n",
    "# mask to avoid nan values\n",
    "mask = ~np.isnan(bias_no) & ~np.isnan(HmiddleDO)\n",
    "maskS = ~np.isnan(bias_no) & ~np.isnan(HmiddleSO)"
   ]
  },
  {
   "cell_type": "code",
   "execution_count": null,
   "metadata": {},
   "outputs": [],
   "source": [
    "slope, intercept, r_value, p_value, std_err = stats.linregress(bias_no[mask],HmiddleDO[mask])\n",
    "slopeS, interceptS, r_valueS, p_valueS, std_errS = stats.linregress(bias_no[maskS],HmiddleSO[maskS])\n",
    "\n",
    "fig,ax = plt.subplots(1,2,figsize=(17,5))\n",
    "plt.subplots_adjust(wspace = 0.3)\n",
    "ax[0].plot()\n",
    "ax[0].plot(bias_no,intercept+np.array(bias_no)*slope,'k')\n",
    "ax[0].scatter(bias_no,HmiddleDO)\n",
    "ax[0].set_xlabel('Bias NON optout')\n",
    "ax[0].set_ylabel('Bias deterministic optout')\n",
    "ax[0].text(0.07,0.,'ttest p: '+np.format_float_scientific(myf.roundP(p_value)), ha='left', wrap=True,fontsize=18)\n",
    "ax[0].text(0.07,0.03,'mean r: '+str(myf.roundP(np.mean(r_value))), ha='left', wrap=True,fontsize=18)\n",
    "\n",
    "ax[1].plot()\n",
    "ax[1].plot(bias_no,interceptS+np.array(bias_no)*slopeS,'k')\n",
    "ax[1].scatter(bias_no,HmiddleSO)\n",
    "ax[1].set_xlabel('Bias NON optout')\n",
    "ax[1].set_ylabel('Bias stochastic optout')\n",
    "ax[1].text(0.07,0.,'ttest p: '+np.format_float_scientific(myf.roundP(p_valueS)), ha='left', wrap=True,fontsize=18)\n",
    "ax[1].text(0.07,0.03,'mean r: '+str(myf.roundP(np.mean(r_valueS))), ha='left', wrap=True,fontsize=18)\n",
    "plt.show()"
   ]
  },
  {
   "cell_type": "markdown",
   "metadata": {},
   "source": [
    "## Overconfidence\n",
    "\n",
    "Defined as $\\frac{|H_L^{opt}-H_R^{opt}| - |H_L-H_R|}{|H_L^{opt}-H_R^{opt}|+|H_L-H_R|}$, we study the correlation between overconfidence and self-reports. We calculate $H_R^{opt}$ for the optout trials, defined as the stimulus value where $p(x>0|\\hat{x})=2/3$. The optimal bias for leftward response corresponds to the stimulus value where $p(x<0|\\hat{x})=1/3$: $H_L^{opt}=-H_R^{opt}$."
   ]
  },
  {
   "cell_type": "code",
   "execution_count": null,
   "metadata": {},
   "outputs": [],
   "source": [
    "DoverC = np.array(adf['DoverConf'])\n",
    "SoverC = np.array(adf['SoverConf'])\n",
    "\n",
    "fig, ax = plt.subplots(1,2,figsize=(15,4)) \n",
    "plt.subplots_adjust(wspace = 0.4) \n",
    "ax[0].hist(DoverC,color='r')\n",
    "ax[0].set_title(\"Deterministic Overconfidence\")\n",
    "ax[0].set_ylabel('Counts')\n",
    "ax[0].set_xlim(-1.1,1.1)\n",
    "ax[0].axvline(color='k')\n",
    "\n",
    "ax[1].hist(SoverC,color='b')\n",
    "ax[1].set_title(\"Stochastic Overconfidence\")\n",
    "ax[1].set_xlim(-1.1,1.1)\n",
    "ax[1].axvline(color='k')\n",
    "\n",
    "plt.show()"
   ]
  },
  {
   "cell_type": "code",
   "execution_count": null,
   "metadata": {},
   "outputs": [],
   "source": [
    "Dover_corr,Sover_corr = {},{}\n",
    "for key in key_SR:\n",
    "    if key != 'sleep':\n",
    "        Dover_corr[key] = [myf.Pearson_corr_coef(np.array(adf[adf['userID']==part][key]),\\\n",
    "                                        np.array(adf[adf['userID']==part]['DoverConf'])) for part in userids]\n",
    "        Sover_corr[key] = [myf.Pearson_corr_coef(np.array(adf[adf['userID']==part][key]),\\\n",
    "                                        np.array(adf[adf['userID']==part]['SoverConf'])) for part in userids]\n",
    "    else:\n",
    "        Dover_corr[key] = [myf.Pearson_corr_coef(np.array(mdf[mdf['userID']==part][key]),\\\n",
    "                                        np.array(mdf[mdf['userID']==part]['DoverConf'])) for part in userids]\n",
    "        Sover_corr[key] = [myf.Pearson_corr_coef(np.array(mdf[mdf['userID']==part][key]),\\\n",
    "                                        np.array(mdf[mdf['userID']==part]['SoverConf'])) for part in userids]\n",
    "\n",
    "Dover_p,Sover_p = {},{}                                       \n",
    "for key in key_SR:        \n",
    "    Dover_p[key] = stats.ttest_1samp(Dover_corr[key],0)[1]  \n",
    "    Sover_p[key] = stats.ttest_1samp(Sover_corr[key],0)[1] \n",
    "    \n",
    "ptable = [['p_value']+key_SR,['Dover']+[myf.roundP(Dover_p[key]) for key in key_SR],\\\n",
    "          ['Sover']+[myf.roundP(Sover_p[key]) for key in key_SR]]\n",
    "\n",
    "display(HTML(tabulate.tabulate(ptable, tablefmt='html')))"
   ]
  },
  {
   "cell_type": "markdown",
   "metadata": {},
   "source": [
    "## Risk aversion\n",
    "\n",
    "We define the risk aversion as the difference between the choice opf opt-out option in the *DO* stage and the same amount in the *SO*."
   ]
  },
  {
   "cell_type": "code",
   "execution_count": null,
   "metadata": {},
   "outputs": [],
   "source": [
    "Dcorr_ra_mo,Dcorr_ra_fo,Dcorr_ra_sl,Dcorr_ra_st = [[] for _ in range(4)]\n",
    "ind = -1\n",
    "for part in userids:\n",
    "    ind += 1\n",
    "    subset = adf[adf['userID']==part]\n",
    "    mood = np.array(subset['mood'])\n",
    "    stress = np.array(subset['real_stress'])\n",
    "    food = np.array(subset['food'])\n",
    "    RA = np.array(subset['risk_av'])\n",
    "    if not m.isnan(np.corrcoef(mood,RA)[0][1]):\n",
    "        Dcorr_ra_mo.append(np.corrcoef(mood,RA)[0][1])\n",
    "    if not m.isnan(np.corrcoef(stress,RA)[0][1]):\n",
    "        Dcorr_ra_st.append(np.corrcoef(stress,RA)[0][1])\n",
    "    if not m.isnan(np.corrcoef(food,RA)[0][1]):\n",
    "        Dcorr_ra_fo.append(np.corrcoef(food,RA)[0][1])\n",
    "    # morning\n",
    "    subset_mor = adf[(adf['userID']==part) & (adf['sessionID_x']%2==1)]\n",
    "    sleep = np.array(subset_mor['sleep'])\n",
    "    RAmor = subset_mor['risk_av']\n",
    "    if not m.isnan(np.corrcoef(sleep,RAmor)[0][1]):\n",
    "        Dcorr_ra_sl.append(np.corrcoef(sleep,RAmor)[0][1])\n",
    "\n",
    "Dp_ra_mo = stats.ttest_1samp(Dcorr_ra_mo,0)[1]    \n",
    "Dp_ra_fo = stats.ttest_1samp(Dcorr_ra_fo,0)[1]  \n",
    "Dp_ra_sl = stats.ttest_1samp(Dcorr_ra_sl,0)[1]  \n",
    "Dp_ra_st = stats.ttest_1samp(Dcorr_ra_st,0)[1]     \n",
    "\n",
    "ptable = [['','Risk Aversion'],\n",
    "          ['mood',np.round(Dp_ra_mo,2)],\n",
    "         ['food',np.round(Dp_ra_fo,2)],\n",
    "         ['stress',np.round(Dp_ra_st,2)],\n",
    "         ['sleep',np.round(Dp_ra_sl,2)]]\n",
    "\n",
    "#display(Latex(r\"\\newpage\"))\n",
    "\n",
    "display(HTML(tabulate.tabulate(ptable, tablefmt='html')))"
   ]
  },
  {
   "cell_type": "code",
   "execution_count": null,
   "metadata": {},
   "outputs": [],
   "source": []
  },
  {
   "cell_type": "code",
   "execution_count": null,
   "metadata": {},
   "outputs": [],
   "source": []
  },
  {
   "cell_type": "code",
   "execution_count": null,
   "metadata": {},
   "outputs": [],
   "source": []
  },
  {
   "cell_type": "code",
   "execution_count": null,
   "metadata": {},
   "outputs": [],
   "source": [
    "# delete rows with nan values of discarded data\n",
    "adf_sin_nan = adf.drop([349,444])"
   ]
  },
  {
   "cell_type": "markdown",
   "metadata": {},
   "source": [
    "## LMM optout & reports"
   ]
  },
  {
   "cell_type": "code",
   "execution_count": null,
   "metadata": {},
   "outputs": [],
   "source": [
    "mm_oo_re_RE = smf.mixedlm(\"Dsubj_optout_oo ~ mood + stress + sleep + food\",Rdf_sin_nan,groups=Rdf_sin_nan[\"userID\"],\\\n",
    "                         re_formula=\"~mood + stress + sleep + food\")\n",
    "mdf_oo_re_RE = mm_oo_re_RE.fit()\n",
    "print(mdf_oo_re_RE.summary())"
   ]
  },
  {
   "cell_type": "code",
   "execution_count": null,
   "metadata": {},
   "outputs": [],
   "source": [
    "mm_oo_FE_FE = smf.mixedlm(\"Dsubj_optout_oo ~ mood + stress + sleep + food\", adf_sin_nan, groups=adf_sin_nan[\"userID\"])\n",
    "mdf_oo_FE_FE = mm_oo_FE_FE.fit()\n",
    "print(mdf_oo_FE_FE.summary())"
   ]
  },
  {
   "cell_type": "code",
   "execution_count": null,
   "metadata": {},
   "outputs": [],
   "source": [
    "#  DeltaAIC = 2LLH(sinfixedeffect) +2 - 2LLH(full)\n",
    "DeltaAIC = 2*(-2163.3747) +2 - 2*(-2131.0432)"
   ]
  },
  {
   "cell_type": "code",
   "execution_count": null,
   "metadata": {},
   "outputs": [],
   "source": [
    "print(DeltaAIC)"
   ]
  },
  {
   "cell_type": "code",
   "execution_count": null,
   "metadata": {},
   "outputs": [],
   "source": [
    "adf.columns"
   ]
  },
  {
   "cell_type": "code",
   "execution_count": null,
   "metadata": {},
   "outputs": [],
   "source": [
    "bins = np.arange(0.1,1,0.1)\n",
    "meanDoptout,sdDoptout,meanSoptout,sdSoptout,leng = [[] for _ in range(5)]\n",
    "for i in range(10):\n",
    "    bi = 0.1*(i+1)\n",
    "    subset = adf[(adf['mood']<bi) & (adf['mood']>(bi-0.1))]\n",
    "    DO = np.array(subset['Dsubj_optout_oo'])\n",
    "    SO = np.array(subset['Ssubj_optout_oo'])\n",
    "    meanDoptout.append(np.nanmean(DO))\n",
    "    sdDoptout.append(np.nanstd(DO))\n",
    "    meanSoptout.append(np.nanmean(SO))\n",
    "    sdSoptout.append(np.nanstd(SO))\n",
    "    leng.append(len(subset))"
   ]
  },
  {
   "cell_type": "code",
   "execution_count": null,
   "metadata": {},
   "outputs": [],
   "source": [
    "width = 0.05\n",
    "plt.bar(x=np.arange(0.,1.,0.1)+width/2, #x-coordinates of bars\n",
    "       height=meanDoptout, #height of bars\n",
    "       yerr=sdDoptout/np.sqrt(leng), #error bar width\n",
    "       capsize=4,width=width,color='r',alpha=0.7) #length of error bar caps\n",
    "plt.bar(x=np.arange(0.,1.,0.1)+width*3/2, #x-coordinates of bars\n",
    "       height=meanSoptout, #height of bars\n",
    "       yerr=sdSoptout/np.sqrt(leng), #error bar width\n",
    "       capsize=4,width=width,color='b',alpha=0.7) #length of error bar caps\n",
    "plt.ylim(10,55)\n",
    "plt.xlabel('mood')\n",
    "plt.ylabel('optout (%)')\n",
    "plt.legend((\"Deterministic\", \"Stochastic\"),loc='upper left',shadow=True)\n",
    "plt.tight_layout()\n",
    "#plt.savefig('BARoptoutVSstress_all_data_together.png')\n",
    "plt.show()"
   ]
  },
  {
   "cell_type": "code",
   "execution_count": null,
   "metadata": {},
   "outputs": [],
   "source": [
    "meanDoptout,sdDoptout,meanSoptout,sdSoptout,leng = [[] for _ in range(5)]\n",
    "for i in range(10):\n",
    "    bi = 0.1*(i+1)\n",
    "    subset = adf[(adf['real_stress']<bi) & (adf['real_stress']>(bi-0.1))]\n",
    "    DO = np.array(subset['Dsubj_optout_oo'])\n",
    "    SO = np.array(subset['Ssubj_optout_oo'])\n",
    "    meanDoptout.append(np.nanmean(DO))\n",
    "    sdDoptout.append(np.nanstd(DO))\n",
    "    meanSoptout.append(np.nanmean(SO))\n",
    "    sdSoptout.append(np.nanstd(SO))\n",
    "    leng.append(len(subset))"
   ]
  },
  {
   "cell_type": "code",
   "execution_count": null,
   "metadata": {},
   "outputs": [],
   "source": [
    "plt.plot(bins,meanDoptout,color='r')\n",
    "plt.fill_between(np.arange(0.,1.,0.1),meanDoptout-sdDoptout/np.sqrt(leng),meanDoptout+sdDoptout/np.sqrt(leng),color='r', alpha=0.2)\n",
    "\n",
    "plt.plot(bins,meanSoptout,color='b')\n",
    "plt.fill_between(np.arange(0.,1.,0.1),meanSoptout-sdSoptout/np.sqrt(leng),meanSoptout+sdSoptout/np.sqrt(leng),color='b', alpha=0.2)\n",
    "\n",
    "plt.xlabel('stress')\n",
    "plt.ylabel('optout (%)')\n",
    "plt.legend((\"Deterministic\", \"Stochastic\"),loc='upper left',shadow=True)\n",
    "\n",
    "plt.tight_layout()\n",
    "plt.savefig('optoutVSstress_all_data_together.png')\n",
    "plt.show()"
   ]
  },
  {
   "cell_type": "code",
   "execution_count": null,
   "metadata": {},
   "outputs": [],
   "source": [
    "width = 0.05\n",
    "plt.bar(x=np.arange(0.,1.,0.1)+width/2, #x-coordinates of bars\n",
    "       height=meanDoptout, #height of bars\n",
    "       yerr=sdDoptout/np.sqrt(leng), #error bar width\n",
    "       capsize=4,width=width,color='r',alpha=0.7) #length of error bar caps\n",
    "plt.bar(x=np.arange(0.,1.,0.1)+width*3/2, #x-coordinates of bars\n",
    "       height=meanSoptout, #height of bars\n",
    "       yerr=sdSoptout/np.sqrt(leng), #error bar width\n",
    "       capsize=4,width=width,color='b',alpha=0.7) #length of error bar caps\n",
    "plt.ylim(16,55)\n",
    "plt.xlabel('stress')\n",
    "plt.ylabel('optout (%)')\n",
    "plt.legend((\"Deterministic\", \"Stochastic\"),loc='upper left',shadow=True)\n",
    "plt.tight_layout()\n",
    "plt.savefig('BARoptoutVSstress_all_data_together.png')\n",
    "plt.show()"
   ]
  },
  {
   "cell_type": "code",
   "execution_count": null,
   "metadata": {},
   "outputs": [],
   "source": [
    "meanDoptout,sdDoptout,meanSoptout,sdSoptout,leng = [[] for _ in range(5)]\n",
    "for i in range(5):\n",
    "    bi = 0.2*(i+1)\n",
    "    subset = adf[(adf['real_stress']<bi) & (adf['real_stress']>(bi-0.2))]\n",
    "    DO = np.array(subset['Dsubj_optout_oo'])\n",
    "    SO = np.array(subset['Ssubj_optout_oo'])\n",
    "    meanDoptout.append(np.nanmean(DO))\n",
    "    sdDoptout.append(np.nanstd(DO))\n",
    "    meanSoptout.append(np.nanmean(SO))\n",
    "    sdSoptout.append(np.nanstd(SO))\n",
    "    leng.append(len(subset))"
   ]
  },
  {
   "cell_type": "code",
   "execution_count": null,
   "metadata": {},
   "outputs": [],
   "source": [
    "width = 0.05\n",
    "plt.bar(x=np.arange(0.,1.,0.2)+width/2, #x-coordinates of bars\n",
    "       height=meanDoptout, #height of bars\n",
    "       yerr=sdDoptout/np.sqrt(leng), #error bar width\n",
    "       capsize=4,width=width,color='r',alpha=0.7) #length of error bar caps\n",
    "plt.bar(x=np.arange(0.,1.,0.2)+width*3/2, #x-coordinates of bars\n",
    "       height=meanSoptout, #height of bars\n",
    "       yerr=sdSoptout/np.sqrt(leng), #error bar width\n",
    "       capsize=4,width=width,color='b',alpha=0.7) #length of error bar caps\n",
    "plt.ylim(16,55)\n",
    "plt.xlabel('stress')\n",
    "plt.ylabel('optout (%)')\n",
    "plt.legend((\"Deterministic\", \"Stochastic\"),loc='upper left',shadow=True)\n",
    "plt.tight_layout()\n",
    "plt.savefig('BAR5bins_optoutVSstress_all_data_together.png')\n",
    "plt.show()"
   ]
  },
  {
   "cell_type": "code",
   "execution_count": null,
   "metadata": {},
   "outputs": [],
   "source": [
    "mm_oo_stress_FE = smf.mixedlm(\"Dsubj_optout_oo ~ stress\", Rdf_sin_nan, groups=Rdf_sin_nan[\"userID\"])\n",
    "mdf_oo_stress_FE = mm_oo_stress_FE.fit()\n",
    "print(mdf_oo_stress_FE.summary())"
   ]
  },
  {
   "cell_type": "code",
   "execution_count": null,
   "metadata": {},
   "outputs": [],
   "source": [
    "mm_oo_stress_RE = smf.mixedlm(\"Dsubj_optout_oo ~ stress\", Rdf_sin_nan, groups=Rdf_sin_nan[\"userID\"],re_formula=\"~stress\")\n",
    "mdf_oo_stress_RE = mm_oo_stress_RE.fit()\n",
    "print(mdf_oo_stress_RE.summary())"
   ]
  },
  {
   "cell_type": "code",
   "execution_count": null,
   "metadata": {},
   "outputs": [],
   "source": [
    "stress_todos = np.array(Rdf_sin_nan['real_stress'])\n",
    "DO_todos = np.array(Rdf_sin_nan['Dsubj_optout_oo'])\n",
    "slope, intercept, r_value, p_value, std_err = stats.linregress(stress_todos,DO_todos)\n",
    "plt.scatter(stress_todos,DO_todos,c='r',alpha=0.7)\n",
    "plt.plot(np.arange(-0.1,1.1,0.1),intercept+slope*np.arange(-0.1,1.1,0.1),'k')\n",
    "#plt.fill_between(np.arange(-0.1,1.1,0.1),intercept+slope*np.arange(-0.1,1.1,0.1)-std_err, \\\n",
    "#                   intercept+slope*np.arange(-0.1,1.1,0.1)+std_err, color='b', alpha=0.2)\n",
    "plt.text(-0.12,87,'p='+str(roundP(p_value)), ha='left', wrap=True,fontsize=18)\n",
    "plt.xlabel('stress')\n",
    "plt.ylabel('optout (%)')\n",
    "plt.tight_layout()\n",
    "plt.savefig('DoptoutVSstress_all_data_together.png')\n",
    "plt.show()"
   ]
  },
  {
   "cell_type": "code",
   "execution_count": null,
   "metadata": {},
   "outputs": [],
   "source": [
    "SO_todos = np.array(Rdf_sin_nan['Ssubj_optout_oo'])\n",
    "slope, intercept, r_value, p_value, std_err = stats.linregress(stress_todos,SO_todos)\n",
    "plt.scatter(stress_todos,SO_todos,c='b',alpha=0.7)\n",
    "plt.plot(np.arange(-0.1,1.1,0.1),intercept+slope*np.arange(-0.1,1.1,0.1),'k')\n",
    "#plt.fill_between(np.arange(-0.1,1.1,0.1),intercept+slope*np.arange(-0.1,1.1,0.1)-std_err, \\\n",
    "#                   intercept+slope*np.arange(-0.1,1.1,0.1)+std_err, color='b', alpha=0.2)\n",
    "plt.text(-0.12,94,'p='+str(roundP(p_value)), ha='left', wrap=True,fontsize=18)\n",
    "plt.xlabel('stress')\n",
    "plt.ylabel('optout (%)')\n",
    "plt.tight_layout()\n",
    "plt.savefig('SoptoutVSstress_all_data_together.png')\n",
    "plt.show()"
   ]
  },
  {
   "cell_type": "code",
   "execution_count": null,
   "metadata": {},
   "outputs": [],
   "source": [
    "bins = np.arange(0.1,1,0.1)\n",
    "meanDoptout,sdDoptout,meanSoptout,sdSoptout,leng = [[] for _ in range(5)]\n",
    "for i in range(10):\n",
    "    bi = 0.1*(i+1)\n",
    "    subset = adf[(adf['sleep']<bi) & (adf['sleep']>(bi-0.1))]\n",
    "    DO = np.array(subset['Dsubj_optout_oo'])\n",
    "    SO = np.array(subset['Ssubj_optout_oo'])\n",
    "    meanDoptout.append(np.nanmean(DO))\n",
    "    sdDoptout.append(np.nanstd(DO))\n",
    "    meanSoptout.append(np.nanmean(SO))\n",
    "    sdSoptout.append(np.nanstd(SO))\n",
    "    leng.append(len(subset))"
   ]
  },
  {
   "cell_type": "code",
   "execution_count": null,
   "metadata": {},
   "outputs": [],
   "source": [
    "width = 0.05\n",
    "plt.bar(x=np.arange(0.,1.,0.1)+width/2, #x-coordinates of bars\n",
    "       height=meanDoptout, #height of bars\n",
    "       yerr=sdDoptout/np.sqrt(leng), #error bar width\n",
    "       capsize=4,width=width,color='r',alpha=0.7) #length of error bar caps\n",
    "plt.bar(x=np.arange(0.,1.,0.1)+width*3/2, #x-coordinates of bars\n",
    "       height=meanSoptout, #height of bars\n",
    "       yerr=sdSoptout/np.sqrt(leng), #error bar width\n",
    "       capsize=4,width=width,color='b',alpha=0.7) #length of error bar caps\n",
    "plt.ylim(16,55)\n",
    "plt.xlabel('sleep')\n",
    "plt.ylabel('optout (%)')\n",
    "plt.legend((\"Deterministic\", \"Stochastic\"),loc='upper left',shadow=True)\n",
    "plt.tight_layout()\n",
    "#plt.savefig('BARoptoutVSstress_all_data_together.png')\n",
    "plt.show()"
   ]
  },
  {
   "cell_type": "code",
   "execution_count": null,
   "metadata": {},
   "outputs": [],
   "source": [
    "mean_stressAS,mean_DOAS,mean_SOAS = [[] for _ in range(3)]\n",
    "std_stressAS,std_DOAS,std_SOAS = [[] for _ in range(3)]\n",
    "for part in userids:\n",
    "    subset = adf[adf['userID']==part]\n",
    "    stress = np.array(subset['real_stress'])\n",
    "    DO = np.array(subset['Dsubj_optout_oo'])\n",
    "    SO = np.array(subset['Ssubj_optout_oo'])\n",
    "    # delete nan values\n",
    "    stress = stress[~np.isnan(stress)]\n",
    "    DO = DO[~np.isnan(DO)]\n",
    "    SO = SO[~np.isnan(SO)]\n",
    "\n",
    "    mean_stressAS.append(np.mean(stress))\n",
    "    mean_DOAS.append(np.mean(DO))\n",
    "    mean_SOAS.append(np.mean(SO))\n",
    "    std_stressAS.append(np.std(stress))\n",
    "    std_DOAS.append(np.std(DO))\n",
    "    std_SOAS.append(np.std(SO))"
   ]
  },
  {
   "cell_type": "code",
   "execution_count": null,
   "metadata": {},
   "outputs": [],
   "source": [
    "slope, intercept, r_value, p_value, std_err = stats.linregress(mean_stressAS,mean_DOAS)\n",
    "plt.scatter(mean_stressAS,mean_DOAS,c='r',alpha=0.7)\n",
    "plt.plot(np.arange(-0.1,1.1,0.1),intercept+slope*np.arange(-0.1,1.1,0.1),'r')\n",
    "plt.fill_between(np.arange(-0.1,1.1,0.1),intercept+slope*np.arange(-0.1,1.1,0.1)-std_err, \\\n",
    "                   intercept+slope*np.arange(-0.1,1.1,0.1)+std_err, color='r', alpha=0.2)\n",
    "plt.text(-0.12,66,'p='+str(roundP(p_value)), ha='left', wrap=True,fontsize=18)\n",
    "plt.xlabel('mean stress')\n",
    "plt.ylabel('mean D optout (%)')\n",
    "plt.tight_layout()\n",
    "plt.savefig('meanDoptoutVSmeanStress_across_sessions.png')\n",
    "plt.show()"
   ]
  },
  {
   "cell_type": "code",
   "execution_count": null,
   "metadata": {},
   "outputs": [],
   "source": [
    "slope, intercept, r_value, p_value, std_err = stats.linregress(mean_stressAS,mean_SOAS)\n",
    "plt.scatter(mean_stressAS,mean_SOAS,c='b',alpha=0.7)\n",
    "plt.plot(np.arange(-0.1,1.1,0.1),intercept+slope*np.arange(-0.1,1.1,0.1),'b')\n",
    "plt.fill_between(np.arange(-0.1,1.1,0.1),intercept+slope*np.arange(-0.1,1.1,0.1)-std_err, \\\n",
    "                   intercept+slope*np.arange(-0.1,1.1,0.1)+std_err, color='b', alpha=0.2)\n",
    "plt.text(-0.12,72,'p='+str(roundP(p_value)), ha='left', wrap=True,fontsize=18)\n",
    "plt.xlabel('mean stress')\n",
    "plt.ylabel('mean S optout (%)')\n",
    "plt.tight_layout()\n",
    "plt.savefig('meanSoptoutVSmeanStress_across_sessions.png')\n",
    "plt.show()"
   ]
  },
  {
   "cell_type": "code",
   "execution_count": null,
   "metadata": {},
   "outputs": [],
   "source": [
    "slope, intercept, r_value, p_value, std_err = stats.linregress(mean_stressAS,std_DOAS)\n",
    "plt.scatter(mean_stressAS,std_DOAS,c='r',alpha=0.7)\n",
    "plt.plot(np.arange(-0.1,1.1,0.1),intercept+slope*np.arange(-0.1,1.1,0.1),'r')\n",
    "#plt.fill_between(np.arange(-0.1,1.1,0.1),intercept+slope*np.arange(-0.1,1.1,0.1)-std_err, \\\n",
    "#                   intercept+slope*np.arange(-0.1,1.1,0.1)+std_err, color='b', alpha=0.2)\n",
    "plt.text(-0.12,26,'p='+str(roundP(p_value)), ha='left', wrap=True,fontsize=18)\n",
    "plt.xlabel('stress')\n",
    "plt.ylabel('std D optout (%)')\n",
    "plt.tight_layout()\n",
    "#plt.savefig('SoptoutVSstress_all_data_together.png')\n",
    "plt.show()"
   ]
  },
  {
   "cell_type": "code",
   "execution_count": null,
   "metadata": {},
   "outputs": [],
   "source": [
    "doble_mean_stressAS = np.concatenate((mean_stressAS,mean_stressAS))\n",
    "double_optout = np.concatenate((mean_DOAS,mean_SOAS))\n",
    "slope, intercept, r_value, p_value, std_err = stats.linregress(doble_mean_stressAS,double_optout)\n",
    "plt.scatter(doble_mean_stressAS,double_optout,c='m',alpha=0.7)\n",
    "plt.plot(np.arange(-0.1,1.1,0.1),intercept+slope*np.arange(-0.1,1.1,0.1),'m')\n",
    "#plt.fill_between(np.arange(-0.1,1.1,0.1),intercept+slope*np.arange(-0.1,1.1,0.1)-std_err, \\\n",
    "#                   intercept+slope*np.arange(-0.1,1.1,0.1)+std_err, color='b', alpha=0.2)\n",
    "plt.text(-0.12,70,'p='+str(roundP(p_value)), ha='left', wrap=True,fontsize=18)\n",
    "plt.xlabel('stress')\n",
    "plt.ylabel('D+S optout (%)')\n",
    "plt.tight_layout()\n",
    "plt.savefig('mean_D+SoptoutVSmean_stress.png')\n",
    "plt.show()"
   ]
  },
  {
   "cell_type": "code",
   "execution_count": null,
   "metadata": {},
   "outputs": [],
   "source": [
    "print(np.min(std_DOAS),np.max(std_DOAS))"
   ]
  },
  {
   "cell_type": "code",
   "execution_count": null,
   "metadata": {},
   "outputs": [],
   "source": [
    "print(np.min(std_stressAS),np.max(std_stressAS))"
   ]
  },
  {
   "cell_type": "code",
   "execution_count": null,
   "metadata": {},
   "outputs": [],
   "source": [
    "from pingouin import ancova"
   ]
  },
  {
   "cell_type": "code",
   "execution_count": null,
   "metadata": {},
   "outputs": [],
   "source": [
    "mood_todos = np.array(Rdf_sin_nan['mood'])"
   ]
  },
  {
   "cell_type": "code",
   "execution_count": null,
   "metadata": {},
   "outputs": [],
   "source": [
    "optout_todos = np.concatenate((DO_todos,SO_todos))\n",
    "optout_type = ['D']*len(DO_todos)+['S']*len(SO_todos)\n",
    "doble_stress = np.concatenate((stress_todos,stress_todos))\n",
    "doble_mood = np.concatenate((mood_todos,mood_todos))\n",
    "users = np.concatenate((np.array(Rdf_sin_nan['userID']),np.array(Rdf_sin_nan['userID'])))"
   ]
  },
  {
   "cell_type": "code",
   "execution_count": null,
   "metadata": {},
   "outputs": [],
   "source": [
    "ancova_df = pd.DataFrame({'userID':users,'stress':doble_stress,'optout':optout_todos,'optout_type':optout_type})"
   ]
  },
  {
   "cell_type": "code",
   "execution_count": null,
   "metadata": {},
   "outputs": [],
   "source": [
    "print(ancova(data=ancova_df, dv='optout', covar='stress', between='optout_type'))"
   ]
  },
  {
   "cell_type": "code",
   "execution_count": null,
   "metadata": {},
   "outputs": [],
   "source": [
    "mm_DSoo_stress_FE = smf.mixedlm(\"optout ~ stress\", ancova_df, groups=ancova_df[\"userID\"])\n",
    "mdf_DSoo_stress_FE = mm_DSoo_stress_FE.fit()\n",
    "print(mdf_DSoo_stress_FE.summary())"
   ]
  },
  {
   "cell_type": "code",
   "execution_count": null,
   "metadata": {},
   "outputs": [],
   "source": [
    "mm_DSoo_stress_RE = smf.mixedlm(\"optout ~ stress\", ancova_df, groups=ancova_df[\"userID\"],re_formula=\"~stress\")\n",
    "mdf_DSoo_stress_RE = mm_DSoo_stress_RE.fit()\n",
    "print(mdf_DSoo_stress_RE.summary())"
   ]
  },
  {
   "cell_type": "code",
   "execution_count": null,
   "metadata": {},
   "outputs": [],
   "source": [
    "adf.columns"
   ]
  },
  {
   "cell_type": "code",
   "execution_count": null,
   "metadata": {},
   "outputs": [],
   "source": [
    "mm_Doo_ID_RE = smf.mixedlm(\"Dsubj_optout_oo ~ userID\", Rdf_sin_nan, groups=Rdf_sin_nan[\"userID\"])\n",
    "mdf_Doo_ID_RE = mm_Doo_ID_RE.fit()\n",
    "print(mdf_Doo_ID_RE.summary())"
   ]
  },
  {
   "cell_type": "code",
   "execution_count": null,
   "metadata": {},
   "outputs": [],
   "source": [
    "food_todos = np.array(Rdf_sin_nan['food'])\n",
    "slope, intercept, r_value, p_value, std_err = stats.linregress(food_todos,DO_todos)\n",
    "plt.scatter(food_todos,DO_todos,c='r',alpha=0.7)\n",
    "plt.plot(np.arange(-0.1,1.1,0.1),intercept+slope*np.arange(-0.1,1.1,0.1),'k')\n",
    "#plt.fill_between(np.arange(-0.1,1.1,0.1),intercept+slope*np.arange(-0.1,1.1,0.1)-std_err, \\\n",
    "#                   intercept+slope*np.arange(-0.1,1.1,0.1)+std_err, color='b', alpha=0.2)\n",
    "plt.text(-0.12,87,'p='+str(roundP(p_value)), ha='left', wrap=True,fontsize=18)\n",
    "plt.xlabel('food')\n",
    "plt.ylabel('optout (%)')\n",
    "plt.tight_layout()\n",
    "#plt.savefig('DoptoutVSfood_all_data_together.png')\n",
    "plt.show()"
   ]
  },
  {
   "cell_type": "code",
   "execution_count": null,
   "metadata": {},
   "outputs": [],
   "source": [
    "corr_oo_st = []\n",
    "ind = -1\n",
    "for part in userids:\n",
    "    ind += 1\n",
    "    subset = ancova_df[ancova_df['userID']==part]\n",
    "    stress = np.array(subset['stress'])\n",
    "    OO = np.array(subset['optout'])\n",
    "    \n",
    "    corr_oo_st.append(np.corrcoef(stress,OO)[0][1])\n",
    "\n",
    "p_oo_st = stats.ttest_1samp(corr_oo_st,0)[1]   \n",
    "\n",
    "print(p_oo_st)"
   ]
  },
  {
   "cell_type": "code",
   "execution_count": null,
   "metadata": {},
   "outputs": [],
   "source": []
  }
 ],
 "metadata": {
  "kernelspec": {
   "display_name": "Python 3",
   "language": "python",
   "name": "python3"
  },
  "language_info": {
   "codemirror_mode": {
    "name": "ipython",
    "version": 3
   },
   "file_extension": ".py",
   "mimetype": "text/x-python",
   "name": "python",
   "nbconvert_exporter": "python",
   "pygments_lexer": "ipython3",
   "version": "3.8.5"
  }
 },
 "nbformat": 4,
 "nbformat_minor": 4
}
