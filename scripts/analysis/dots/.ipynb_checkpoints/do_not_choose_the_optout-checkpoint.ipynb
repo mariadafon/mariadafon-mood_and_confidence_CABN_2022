{
 "cells": [
  {
   "cell_type": "code",
   "execution_count": 2,
   "id": "expensive-laptop",
   "metadata": {},
   "outputs": [],
   "source": [
    "import os\n",
    "import json\n",
    "import numpy as np\n",
    "\n",
    "fday = [1,2,3,4,5,6,7,8,9,10]\n",
    "fsession = [1,2]"
   ]
  },
  {
   "cell_type": "code",
   "execution_count": 3,
   "id": "executive-inspection",
   "metadata": {},
   "outputs": [],
   "source": [
    "current_path = os.path.abspath(os.getcwd())\n",
    "parent_path = os.path.abspath(os.path.join(current_path, os.pardir))\n",
    "grand_parent_path = os.path.abspath(os.path.join(parent_path, os.pardir))\n",
    "main_path = os.path.abspath(os.path.join(grand_parent_path, os.pardir))"
   ]
  },
  {
   "cell_type": "code",
   "execution_count": 4,
   "id": "affiliated-romantic",
   "metadata": {},
   "outputs": [],
   "source": [
    "\n",
    "general_path = '/home/cbclab/Dropbox/postdocUPF/jatos_experiments/gabor/notebooks/results_tanda_1/day'"
   ]
  },
  {
   "cell_type": "code",
   "execution_count": 5,
   "id": "young-destruction",
   "metadata": {},
   "outputs": [
    {
     "name": "stdout",
     "output_type": "stream",
     "text": [
      "1 1 [996, 995, 999]\n",
      "1 2 [995, 999]\n",
      "2 1 [995, 999]\n",
      "2 2 [999, 995]\n",
      "3 1 [995]\n",
      "3 2 [995]\n",
      "4 1 [995, 1006]\n",
      "4 2 [995, 1012]\n",
      "5 1 [997, 995]\n",
      "5 2 [995]\n",
      "6 1 [995]\n",
      "6 2 [1006, 1012, 995]\n",
      "7 1 [995]\n",
      "7 2 [995, 1006]\n",
      "8 1 []\n",
      "8 2 [995]\n",
      "9 1 []\n",
      "9 2 []\n",
      "10 1 []\n",
      "10 2 []\n"
     ]
    }
   ],
   "source": [
    "for Day in fday:\n",
    "    for Ses in fsession:\n",
    "        path = general_path+str(Day)+'/session'+str(Ses)+'/'\n",
    "        DO_files = [f for f in os.listdir(path) if f.startswith('DO_fit')]\n",
    "        lista = []\n",
    "        for fi in DO_files:\n",
    "            with open(path+fi) as f:\n",
    "                data = json.load(f)\n",
    "                if data['DFit']==0:\n",
    "                    lala = fi.split('Sub')\n",
    "                    lala2 = lala[1].split('_Day')\n",
    "                    lista.append(int(lala2[0]))\n",
    "        np.save(path+'DO_sub2changeFit.npy',lista)       \n",
    "        print(Day,Ses,lista)"
   ]
  },
  {
   "cell_type": "code",
   "execution_count": 6,
   "id": "crucial-warner",
   "metadata": {},
   "outputs": [
    {
     "name": "stdout",
     "output_type": "stream",
     "text": [
      "1 1 [999]\n",
      "1 2 [995, 999]\n",
      "2 1 [995, 999]\n",
      "2 2 []\n",
      "3 1 []\n",
      "3 2 []\n",
      "4 1 [996]\n",
      "4 2 []\n",
      "5 1 []\n",
      "5 2 [1012]\n",
      "6 1 []\n",
      "6 2 []\n",
      "7 1 []\n",
      "7 2 []\n",
      "8 1 []\n",
      "8 2 []\n",
      "9 1 []\n",
      "9 2 []\n",
      "10 1 []\n",
      "10 2 []\n"
     ]
    }
   ],
   "source": [
    "for Day in fday:\n",
    "    for Ses in fsession:\n",
    "        path = general_path+str(Day)+'/session'+str(Ses)+'/'\n",
    "        SO_files = [f for f in os.listdir(path) if f.startswith('SO_fit')]\n",
    "        listaS = []\n",
    "        for fiS in SO_files:\n",
    "            with open(path+fiS) as f:\n",
    "                data = json.load(f)\n",
    "                if data['SFit']==0:\n",
    "                    lala = fiS.split('Sub')\n",
    "                    lala2 = lala[1].split('_Day')\n",
    "                    listaS.append(int(lala2[0]))\n",
    "        np.save(path+'SO_sub2changeFit.npy',listaS)        \n",
    "        print(Day,Ses,listaS)"
   ]
  },
  {
   "cell_type": "code",
   "execution_count": null,
   "id": "overall-siemens",
   "metadata": {},
   "outputs": [],
   "source": [
    "np.load('/home/cbclab/Dropbox/postdocUPF/jatos_experiments/dots/notebooks/results_tanda_1/day1/session2/DO_sub2changeFit.npy')"
   ]
  },
  {
   "cell_type": "code",
   "execution_count": null,
   "id": "original-processor",
   "metadata": {},
   "outputs": [],
   "source": []
  }
 ],
 "metadata": {
  "kernelspec": {
   "display_name": "Python 3",
   "language": "python",
   "name": "python3"
  },
  "language_info": {
   "codemirror_mode": {
    "name": "ipython",
    "version": 3
   },
   "file_extension": ".py",
   "mimetype": "text/x-python",
   "name": "python",
   "nbconvert_exporter": "python",
   "pygments_lexer": "ipython3",
   "version": "3.8.5"
  }
 },
 "nbformat": 4,
 "nbformat_minor": 5
}
