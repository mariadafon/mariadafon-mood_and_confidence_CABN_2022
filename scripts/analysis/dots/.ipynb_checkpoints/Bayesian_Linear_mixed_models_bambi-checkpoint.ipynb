{
 "cells": [
  {
   "cell_type": "markdown",
   "metadata": {},
   "source": [
    "# Bayesian linear mixed models\n"
   ]
  },
  {
   "cell_type": "code",
   "execution_count": null,
   "metadata": {},
   "outputs": [],
   "source": [
    "import pandas as pd\n",
    "import os\n",
    "import json\n",
    "import numpy as np\n",
    "from itertools import groupby\n",
    "import matplotlib.pyplot as plt\n",
    "from scipy import stats,signal\n",
    "import matplotlib as mpl\n",
    "from sklearn.linear_model import LogisticRegression\n",
    "import random\n",
    "import re\n",
    "import csv\n",
    "from IPython.display import HTML, display, Image\n",
    "import tabulate\n",
    "import math as m\n",
    "import warnings\n",
    "warnings.filterwarnings('ignore')\n",
    "import statsmodels.api as sm\n",
    "import statsmodels.formula.api as smf\n",
    "from statsmodels.formula.api import ols\n",
    "from statsmodels.stats import anova\n",
    "\n",
    "import seaborn as sns\n",
    "\n",
    "import bambi as bmb\n",
    "from bambi import Model\n",
    "import arviz as az\n",
    "\n",
    "import plotly.graph_objects as go\n",
    "import plotly.express as px\n",
    "\n",
    "from sklearn.linear_model import LinearRegression"
   ]
  },
  {
   "cell_type": "code",
   "execution_count": null,
   "metadata": {},
   "outputs": [],
   "source": [
    "current_path = os.path.abspath(os.getcwd())\n",
    "parent_path = os.path.abspath(os.path.join(current_path, os.pardir))\n",
    "grand_parent_path = os.path.abspath(os.path.join(parent_path, os.pardir))\n",
    "main_path = os.path.abspath(os.path.join(grand_parent_path, os.pardir))\n",
    "\n",
    "path_results = main_path+'/results/dots/'"
   ]
  },
  {
   "cell_type": "code",
   "execution_count": null,
   "metadata": {},
   "outputs": [],
   "source": [
    "import sys\n",
    "sys.path.insert(1, main_path+'/src')\n",
    "import my_functions as myf"
   ]
  },
  {
   "cell_type": "code",
   "execution_count": null,
   "metadata": {},
   "outputs": [],
   "source": [
    "mpl.rcParams['lines.linewidth'] = 3\n",
    "mpl.rcParams['axes.titlesize'] = 18\n",
    "mpl.rcParams['axes.labelsize'] = 18\n",
    "mpl.rcParams['lines.markersize'] = 10\n",
    "mpl.rcParams['xtick.labelsize'] = 20\n",
    "mpl.rcParams['ytick.labelsize'] = 20\n",
    "mpl.rcParams['axes.linewidth'] = 3\n",
    "#mpl.rcParams['xtick.major.size'] = 20\n",
    "mpl.rcParams['xtick.major.width'] = 4\n",
    "#mpl.rcParams['xtick.minor.size'] = 10\n",
    "mpl.rcParams['xtick.minor.width'] = 2\n",
    "mpl.rcParams['ytick.major.width'] = 4\n",
    "mpl.rcParams['ytick.minor.width'] = 2\n",
    "\n",
    "fday = [1,2,3,4,5,6,7,8,9,10]\n",
    "fsession = [1,2]\n",
    "\n",
    "adf = pd.read_csv(path_results+'preanalyzed.csv')  \n",
    "# morning df\n",
    "mdf = adf[adf['sessionID_x']%2==1]\n",
    "\n",
    "excluded = ['3062_1','3062_2','3062_4']\n",
    "adf_sin_nan = adf[~adf.user_sessionID.isin(excluded)]\n",
    "mdf_sin_nan = adf_sin_nan[adf_sin_nan['sessionID_x']%2==1]\n",
    "\n",
    "reports = ['mood','real_stress','food','sleep']\n",
    "confidence = ['Dsubj_optout_oo','OKubj_RT_no']"
   ]
  },
  {
   "cell_type": "code",
   "execution_count": null,
   "metadata": {},
   "outputs": [],
   "source": [
    "data = az.load_arviz_data('regression1d')\n",
    "\n",
    "y_true = data.observed_data[\"y\"].values\n",
    "\n",
    "y_pred = data.posterior_predictive.stack(sample=(\"chain\", \"draw\"))[\"y\"].values.T\n",
    "\n",
    "az.r2_score(y_true, y_pred)"
   ]
  },
  {
   "cell_type": "code",
   "execution_count": null,
   "metadata": {},
   "outputs": [],
   "source": [
    "data"
   ]
  },
  {
   "cell_type": "code",
   "execution_count": null,
   "metadata": {},
   "outputs": [],
   "source": [
    "userids = adf['userID'].unique()"
   ]
  },
  {
   "cell_type": "code",
   "execution_count": null,
   "metadata": {},
   "outputs": [],
   "source": [
    "# mean self-reports across participants\n",
    "sessionids = adf['sessionID_x'].unique()"
   ]
  },
  {
   "cell_type": "markdown",
   "metadata": {},
   "source": [
    "# Optout & reports"
   ]
  },
  {
   "cell_type": "code",
   "execution_count": null,
   "metadata": {},
   "outputs": [],
   "source": [
    "adf_sin_nan['userID'] = adf_sin_nan.userID.astype('category')"
   ]
  },
  {
   "cell_type": "code",
   "execution_count": null,
   "metadata": {},
   "outputs": [],
   "source": [
    "control_model1 = Model(\" Dsubj_optout_oo ~ (1|userID)\",adf_sin_nan)\n",
    "results1 = control_model1.fit(draws=5000, chains=2)"
   ]
  },
  {
   "cell_type": "code",
   "execution_count": null,
   "metadata": {},
   "outputs": [],
   "source": [
    "control_model1"
   ]
  },
  {
   "cell_type": "code",
   "execution_count": null,
   "metadata": {},
   "outputs": [],
   "source": [
    "control_model2 = Model(\" Dsubj_optout_oo ~ mood + (mood|userID)\",adf_sin_nan)\n",
    "results2 = control_model2.fit(draws=5000, chains=2)"
   ]
  },
  {
   "cell_type": "code",
   "execution_count": null,
   "metadata": {},
   "outputs": [],
   "source": [
    "models_dict = {\n",
    "\"control\": results1,\n",
    "\"model\": results2,\n",
    "}\n",
    "\n",
    "# loo-cv model comparison with control model\n",
    "df_compare = az.compare(models_dict)\n",
    "d_loo = df_compare['loo']['model']-df_compare['loo']['control']"
   ]
  },
  {
   "cell_type": "code",
   "execution_count": null,
   "metadata": {},
   "outputs": [],
   "source": [
    "df_compare"
   ]
  },
  {
   "cell_type": "code",
   "execution_count": null,
   "metadata": {},
   "outputs": [],
   "source": [
    "adf_sin_nan['Dsubj_optout_oo'].mean()"
   ]
  },
  {
   "cell_type": "code",
   "execution_count": null,
   "metadata": {},
   "outputs": [],
   "source": [
    "control_model2"
   ]
  },
  {
   "cell_type": "code",
   "execution_count": null,
   "metadata": {},
   "outputs": [],
   "source": [
    "posterior_predictive = control_model1.predict(results1, kind=\"pps\", draws=537)"
   ]
  },
  {
   "cell_type": "code",
   "execution_count": null,
   "metadata": {},
   "outputs": [],
   "source": [
    "az.summary(results2)"
   ]
  },
  {
   "cell_type": "code",
   "execution_count": null,
   "metadata": {},
   "outputs": [],
   "source": [
    "y_true = results1.observed_data[\"Dsubj_optout_oo\"].values\n",
    "\n",
    "y_pred = results1.posterior_predictive.stack(sample=(\"chain\", \"draw\"))[\"Dsubj_optout_oo\"].values.T\n",
    "\n",
    "az.r2_score(y_true, y_pred)"
   ]
  },
  {
   "cell_type": "code",
   "execution_count": null,
   "metadata": {},
   "outputs": [],
   "source": [
    "r2 = az.r2_score(y_true, y_pred)"
   ]
  },
  {
   "cell_type": "code",
   "execution_count": null,
   "metadata": {},
   "outputs": [],
   "source": [
    "r2['r2_std']"
   ]
  },
  {
   "cell_type": "code",
   "execution_count": null,
   "metadata": {},
   "outputs": [],
   "source": [
    "az.r2_score(results1)"
   ]
  },
  {
   "cell_type": "code",
   "execution_count": null,
   "metadata": {},
   "outputs": [],
   "source": [
    "waic = az.waic(results1)"
   ]
  },
  {
   "cell_type": "code",
   "execution_count": null,
   "metadata": {},
   "outputs": [],
   "source": [
    "waic.waic"
   ]
  },
  {
   "cell_type": "code",
   "execution_count": null,
   "metadata": {},
   "outputs": [],
   "source": [
    "control_model2 = Model(\" Dsubj_optout_oo ~ 1\", adf_sin_nan)\n",
    "results2 = control_model2.fit(draws=5000, chains=2)"
   ]
  },
  {
   "cell_type": "code",
   "execution_count": null,
   "metadata": {},
   "outputs": [],
   "source": [
    "models_dict = {\n",
    "    \"model1\": results2,\n",
    "    \"model2\": results1,\n",
    "}\n",
    "df_compare = az.compare(models_dict)\n",
    "df_compare"
   ]
  },
  {
   "cell_type": "code",
   "execution_count": null,
   "metadata": {},
   "outputs": [],
   "source": [
    "df_compare['d_loo']['model1']"
   ]
  },
  {
   "cell_type": "code",
   "execution_count": null,
   "metadata": {},
   "outputs": [],
   "source": [
    "results1==results2"
   ]
  },
  {
   "cell_type": "code",
   "execution_count": null,
   "metadata": {},
   "outputs": [],
   "source": [
    "az.summary(results1)"
   ]
  },
  {
   "cell_type": "code",
   "execution_count": null,
   "metadata": {},
   "outputs": [],
   "source": [
    "az.summary(results2)"
   ]
  },
  {
   "cell_type": "code",
   "execution_count": null,
   "metadata": {},
   "outputs": [],
   "source": [
    "control_model1==control_model2"
   ]
  },
  {
   "cell_type": "code",
   "execution_count": null,
   "metadata": {},
   "outputs": [],
   "source": [
    "control_model1"
   ]
  },
  {
   "cell_type": "markdown",
   "metadata": {},
   "source": [
    "## Mood"
   ]
  },
  {
   "cell_type": "markdown",
   "metadata": {},
   "source": [
    "### with automatic prior"
   ]
  },
  {
   "cell_type": "code",
   "execution_count": null,
   "metadata": {},
   "outputs": [],
   "source": [
    "# Assume we already have our data loaded as a pandas DataFrame\n",
    "model = Model(\"Dsubj_optout_oo ~ (mood|userID) + mood\", adf_sin_nan)\n",
    "results_mood = model.fit(draws=5000, chains=2)"
   ]
  },
  {
   "cell_type": "code",
   "execution_count": null,
   "metadata": {},
   "outputs": [],
   "source": [
    "models_dict = {\n",
    "    \"model1\": results1,\n",
    "    \"model2\": results_mood,\n",
    "}\n",
    "df_compare = az.compare(models_dict)\n",
    "df_compare"
   ]
  },
  {
   "cell_type": "code",
   "execution_count": null,
   "metadata": {},
   "outputs": [],
   "source": [
    "df_compare['warning'][df_compare['rank']==1]"
   ]
  },
  {
   "cell_type": "code",
   "execution_count": null,
   "metadata": {},
   "outputs": [],
   "source": [
    "df_compare['loo']['model2']-df_compare['loo']['model1']"
   ]
  },
  {
   "cell_type": "code",
   "execution_count": null,
   "metadata": {},
   "outputs": [],
   "source": [
    "az.plot_trace(results)\n",
    "az.summary(results,var_names=['Intercept','mood','1|userID_sigma'])"
   ]
  },
  {
   "cell_type": "code",
   "execution_count": null,
   "metadata": {},
   "outputs": [],
   "source": [
    "waic = az.waic(results)"
   ]
  },
  {
   "cell_type": "code",
   "execution_count": null,
   "metadata": {},
   "outputs": [],
   "source": [
    "waic"
   ]
  },
  {
   "cell_type": "code",
   "execution_count": null,
   "metadata": {},
   "outputs": [],
   "source": [
    "lala = results.posterior[\"1|userID_sigma\"].stack(draws=(\"chain\", \"draw\")).T"
   ]
  },
  {
   "cell_type": "code",
   "execution_count": null,
   "metadata": {},
   "outputs": [],
   "source": [
    "lulu = lala.std()"
   ]
  },
  {
   "cell_type": "code",
   "execution_count": null,
   "metadata": {},
   "outputs": [],
   "source": [
    "type(lulu)"
   ]
  },
  {
   "cell_type": "code",
   "execution_count": null,
   "metadata": {},
   "outputs": [],
   "source": [
    "float(lulu)"
   ]
  },
  {
   "cell_type": "code",
   "execution_count": null,
   "metadata": {},
   "outputs": [],
   "source": [
    "summary"
   ]
  },
  {
   "cell_type": "code",
   "execution_count": null,
   "metadata": {},
   "outputs": [],
   "source": [
    "vars(summary).items()"
   ]
  },
  {
   "cell_type": "code",
   "execution_count": null,
   "metadata": {},
   "outputs": [],
   "source": [
    "getattr(summary)"
   ]
  },
  {
   "cell_type": "code",
   "execution_count": null,
   "metadata": {},
   "outputs": [],
   "source": [
    "vars(summary.mean).keys()"
   ]
  },
  {
   "cell_type": "code",
   "execution_count": null,
   "metadata": {},
   "outputs": [],
   "source": [
    "vars(summary.sd).keys()"
   ]
  },
  {
   "cell_type": "code",
   "execution_count": null,
   "metadata": {},
   "outputs": [],
   "source": [
    "model.plot_priors()"
   ]
  },
  {
   "cell_type": "code",
   "execution_count": null,
   "metadata": {},
   "outputs": [],
   "source": [
    "control_model = Model(\" Dsubj_optout_oo ~ 1\", adf_sin_nan)\n",
    "results = control_model.fit(draws=5000, chains=2)"
   ]
  },
  {
   "cell_type": "code",
   "execution_count": null,
   "metadata": {},
   "outputs": [],
   "source": [
    "az.plot_trace(results)\n",
    "az.summary(results)"
   ]
  },
  {
   "cell_type": "code",
   "execution_count": null,
   "metadata": {},
   "outputs": [],
   "source": [
    "control_model.plot_priors()"
   ]
  },
  {
   "cell_type": "code",
   "execution_count": null,
   "metadata": {},
   "outputs": [],
   "source": [
    "model2 = Model(\" Dsubj_optout_oo ~ mood|userID + 1|userID\", adf_sin_nan)"
   ]
  },
  {
   "cell_type": "code",
   "execution_count": null,
   "metadata": {},
   "outputs": [],
   "source": [
    "results = model2.fit(draws=5000, chains=2)\n",
    "az.summary(results)"
   ]
  },
  {
   "cell_type": "code",
   "execution_count": null,
   "metadata": {},
   "outputs": [],
   "source": [
    "np.mean(results.posterior[\"mood|userID\"].stack(draws=(\"chain\", \"draw\")).T)"
   ]
  },
  {
   "cell_type": "code",
   "execution_count": null,
   "metadata": {},
   "outputs": [],
   "source": [
    "conf+\" ~ \"+rep+\"+ (1|userID)\""
   ]
  },
  {
   "cell_type": "code",
   "execution_count": null,
   "metadata": {},
   "outputs": [],
   "source": [
    "conf+\" ~ (\"+rep+\"|userID)\"+\"+ (1|userID)\""
   ]
  },
  {
   "cell_type": "code",
   "execution_count": null,
   "metadata": {},
   "outputs": [],
   "source": [
    "RE = Model(conf+\" ~ (\"+rep+\"|userID)\"+\"+ (1|userID)\", adf_sin_nan)\n",
    "RE_fit = RE.fit(draws=5000, chains=2)"
   ]
  },
  {
   "cell_type": "code",
   "execution_count": null,
   "metadata": {},
   "outputs": [],
   "source": [
    "control_WAIC"
   ]
  },
  {
   "cell_type": "code",
   "execution_count": null,
   "metadata": {},
   "outputs": [],
   "source": [
    "results"
   ]
  },
  {
   "cell_type": "code",
   "execution_count": null,
   "metadata": {},
   "outputs": [],
   "source": [
    "path_results"
   ]
  },
  {
   "cell_type": "code",
   "execution_count": null,
   "metadata": {},
   "outputs": [],
   "source": [
    "results_ = {}\n",
    "with open(path_results+'BLMMdots_singleModel.csv', 'w', newline='') as myfile:\n",
    "    header = [['','','intercept','1|subj','slope','slope|subj','dwaic','d_loo','r2','r2_std','control_r2','control_r2_std']]\n",
    "    wr = csv.writer(myfile, quoting=csv.QUOTE_ALL)\n",
    "    wr.writerows(header)\n",
    "    \n",
    "    for conf in confidence:\n",
    "        results_[conf] = {}\n",
    "\n",
    "        control_model = Model(conf+\" ~ (1|userID)\", adf_sin_nan)\n",
    "        control_model_fit = control_model.fit(draws=2000, chains=2)\n",
    "        control_WAIC = az.waic(control_model_fit)\n",
    "        results_[conf]['controlWAIC'] = {'waic':control_WAIC.waic,'waic_se':control_WAIC.waic_se,\\\n",
    "                                        'p_value':control_WAIC.p_waic}\n",
    "\n",
    "        mor_control_model = Model(conf+\" ~ (1|userID)\", mdf_sin_nan)\n",
    "        mor_control_model_fit = mor_control_model.fit(draws=2000, chains=2)\n",
    "        mor_control_WAIC = az.waic(mor_control_model_fit)\n",
    "        results_[conf]['morning_controlWAIC'] = {'waic':mor_control_WAIC.waic,'waic_se':mor_control_WAIC.waic_se,\\\n",
    "                                        'p_value':mor_control_WAIC.p_waic}\n",
    "\n",
    "        for rep in reports:\n",
    "            results_[conf][rep] = {}\n",
    "            results_[conf][rep],results_[conf][rep] = {},{}\n",
    "            if rep != 'sleep':\n",
    "                DF = adf_sin_nan\n",
    "                control_posterior_predictive = control_model.predict(control_model_fit, kind=\"pps\", draws=537)\n",
    "                y_true_control = control_model_fit.observed_data[conf].values\n",
    "                y_pred_control = control_model_fit.posterior_predictive.stack(sample=(\"chain\", \"draw\"))[conf].values.T\n",
    "            else:\n",
    "                DF = mdf_sin_nan\n",
    "                control_posterior_predictive = mor_control_model.predict(mor_control_model_fit, kind=\"pps\", draws=537)\n",
    "                y_true_control = mor_control_model_fit.observed_data[conf].values\n",
    "                y_pred_control = mor_control_model_fit.posterior_predictive.stack(sample=(\"chain\", \"draw\"))[conf].values.T\n",
    "                \n",
    "            modelo = Model(conf+\" ~ \"+rep+\"+ (\"+rep+\"|userID)\", DF)\n",
    "            m_fit = modelo.fit(draws=2000, chains=2)\n",
    "            m_waic = az.waic(m_fit)\n",
    "            results_[conf][rep]['WAIC'] =  {'waic':m_waic.waic,'waic_se':m_waic.waic_se,\\\n",
    "                                        'p_value':m_waic.p_waic}\n",
    "            aux_intercept = m_fit.posterior[\"Intercept\"].stack(draws=(\"chain\", \"draw\")).T\n",
    "            results_[conf][rep][\"Intercept\"] = {'mean':float(aux_intercept.mean()),'sd':float(aux_intercept.std())} \n",
    "            \n",
    "            aux_interR = m_fit.posterior[\"1|userID\"].stack(draws=(\"chain\", \"draw\")).T\n",
    "            results_[conf][rep][\"1|userID\"] = {'mean':float(aux_interR.mean()),'sd':float(aux_interR.std())} \n",
    "            \n",
    "            aux_rep = m_fit.posterior[rep].stack(draws=(\"chain\", \"draw\")).T\n",
    "            results_[conf][rep][rep] = {'mean':float(aux_rep.mean()),'sd':float(aux_rep.std())}\n",
    "            \n",
    "            aux_repR = m_fit.posterior[rep+\"|userID\"].stack(draws=(\"chain\", \"draw\")).T\n",
    "            results_[conf][rep][rep+\"|userID\"] = {'mean':float(aux_repR.mean()),'sd':float(aux_repR.std())}\n",
    "            \n",
    "            if rep != 'sleep':\n",
    "                models_dict = {\n",
    "                \"control\": control_model_fit,\n",
    "                \"model\": m_fit,\n",
    "                }\n",
    "            else:\n",
    "                models_dict = {\n",
    "                \"control\": mor_control_model_fit,\n",
    "                \"model\": m_fit,\n",
    "                }\n",
    "                \n",
    "            # loo-cv model comparison with control model\n",
    "            df_compare = az.compare(models_dict)\n",
    "            d_loo = df_compare['loo']['model']-df_compare['loo']['control']\n",
    "            \n",
    "            # r2 control model\n",
    "            r2_control = az.r2_score(y_true_control, y_pred_control)\n",
    "            \n",
    "            # r2 model\n",
    "            posterior_predictive = modelo.predict(m_fit, kind=\"pps\", draws=537)\n",
    "            y_true = m_fit.observed_data[conf].values\n",
    "            y_pred = m_fit.posterior_predictive.stack(sample=(\"chain\", \"draw\"))[conf].values.T\n",
    "            r2 = az.r2_score(y_true, y_pred)\n",
    "            \n",
    "            # writing rows for csv \n",
    "            if rep=='mood':\n",
    "                row = [conf,rep,float(aux_intercept.mean()),float(aux_interR.mean()),float(aux_rep.mean()),\\\n",
    "                       float(aux_repR.mean()),m_waic.waic-control_WAIC.waic,d_loo,r2['r2'],r2['r2_std'],\\\n",
    "                      r2_control['r2'],r2_control['r2_std']]\n",
    "            elif rep!='sleep':\n",
    "                row = ['',rep,float(aux_intercept.mean()),float(aux_interR.mean()),float(aux_rep.mean()),\\\n",
    "                       float(aux_repR.mean()),m_waic.waic-control_WAIC.waic,d_loo,r2['r2'],r2['r2_std'],\\\n",
    "                      r2_control['r2'],r2_control['r2_std']]\n",
    "            else:\n",
    "                row = ['',rep,float(aux_intercept.mean()),float(aux_interR.mean()),float(aux_rep.mean()),\\\n",
    "                       float(aux_repR.mean()),m_waic.waic-mor_control_WAIC.waic,d_loo,r2['r2'],r2['r2_std'],\\\n",
    "                      r2_control['r2'],r2_control['r2_std']]              \n",
    "            wr.writerow(row)"
   ]
  },
  {
   "cell_type": "code",
   "execution_count": null,
   "metadata": {},
   "outputs": [],
   "source": [
    "np.round([float(aux_intercept.mean()),float(aux_interR.mean()),float(aux_rep.mean()),\\\n",
    "                       float(aux_repR.mean()),m_waic.waic-control_WAIC.waic,d_loo,r2['r2'],r2['r2_std'],\\\n",
    "                      r2_control['r2'],r2_control['r2_std']],1)"
   ]
  },
  {
   "cell_type": "code",
   "execution_count": null,
   "metadata": {},
   "outputs": [],
   "source": [
    "np.round([3.222,5.4231,7.256,-2.0594])"
   ]
  },
  {
   "cell_type": "code",
   "execution_count": null,
   "metadata": {},
   "outputs": [],
   "source": []
  },
  {
   "cell_type": "code",
   "execution_count": null,
   "metadata": {},
   "outputs": [],
   "source": [
    "# DO NOT RUN AGAIN\n",
    "\n",
    "# write the result in file\n",
    "filename=path_results+'BLMMresults_singleModel.json'\n",
    "# Serializing json  \n",
    "json_results = json.dumps(results_) \n",
    "\n",
    "# Writing to sample.json \n",
    "with open(filename, \"w\") as outfile: \n",
    "    outfile.write(json_results) "
   ]
  },
  {
   "cell_type": "markdown",
   "metadata": {},
   "source": [
    "### less complex models"
   ]
  },
  {
   "cell_type": "code",
   "execution_count": null,
   "metadata": {},
   "outputs": [],
   "source": [
    "results = {}\n",
    "with open(path_results+'BLMMdots.csv', 'w', newline='') as myfile:\n",
    "    header = [['','','FE','','','RE','',''],['','','slope','1|subj','dwaic','slope|subj','1|subj','dwaic']]\n",
    "    wr = csv.writer(myfile, quoting=csv.QUOTE_ALL)\n",
    "    wr.writerows(header)\n",
    "    \n",
    "    for conf in confidence:\n",
    "        results[conf] = {}\n",
    "\n",
    "        control_model = Model(conf+\" ~ (1|userID)\", adf_sin_nan)\n",
    "        control_model_fit = control_model.fit(draws=2000, chains=2)\n",
    "        control_WAIC = az.waic(control_model_fit)\n",
    "        results[conf]['controlWAIC'] = {'waic':control_WAIC.waic,'waic_se':control_WAIC.waic_se,\\\n",
    "                                        'p_value':control_WAIC.p_waic}\n",
    "\n",
    "        mor_control_model = Model(conf+\" ~ (1|userID)\", mdf_sin_nan)\n",
    "        mor_control_model_fit = mor_control_model.fit(draws=2000, chains=2)\n",
    "        mor_control_WAIC = az.waic(mor_control_model_fit)\n",
    "        results[conf]['morning_controlWAIC'] = {'waic':mor_control_WAIC.waic,'waic_se':mor_control_WAIC.waic_se,\\\n",
    "                                        'p_value':mor_control_WAIC.p_waic}\n",
    "\n",
    "        for rep in reports:\n",
    "            results[conf][rep] = {}\n",
    "            results[conf][rep]['FE'],results[conf][rep]['RE'] = {},{}\n",
    "            if rep != 'sleep':\n",
    "                DF = adf_sin_nan\n",
    "            else:\n",
    "                DF = mdf_sin_nan\n",
    "\n",
    "            FE = Model(conf+\" ~ \"+rep+\"+ (1|userID)\", DF)\n",
    "            FE_fit = FE.fit(draws=2000, chains=2)\n",
    "            FE_waic = az.waic(FE_fit)\n",
    "            results[conf][rep]['FE']['WAIC_FE'] = {'waic':FE_waic.waic,'waic_se':FE_waic.waic_se,\\\n",
    "                                        'p_value':FE_waic.p_waic}\n",
    "            aux_rep = FE_fit.posterior[rep].stack(draws=(\"chain\", \"draw\")).T\n",
    "            results[conf][rep]['FE'][rep] = {'mean':float(aux_rep.mean()),'sd':float(aux_rep.std())}\n",
    "            aux_inter = FE_fit.posterior[\"1|userID\"].stack(draws=(\"chain\", \"draw\")).T\n",
    "            results[conf][rep]['FE'][\"1|userID\"] = {'mean':float(aux_inter.mean()),'sd':float(aux_inter.std())}        \n",
    "\n",
    "            RE = Model(conf+\" ~ (\"+rep+\"|userID)\"+\"+ (1|userID)\", DF)\n",
    "            RE_fit = RE.fit(draws=2000, chains=2)\n",
    "            RE_waic = az.waic(RE_fit)\n",
    "            results[conf][rep]['RE']['WAIC_RE'] =  {'waic':RE_waic.waic,'waic_se':RE_waic.waic_se,\\\n",
    "                                        'p_value':RE_waic.p_waic}\n",
    "            aux_repR = RE_fit.posterior[rep+\"|userID\"].stack(draws=(\"chain\", \"draw\")).T\n",
    "            results[conf][rep]['FE'][rep+\"|userID\"] = {'mean':float(aux_repR.mean()),'sd':float(aux_repR.std())}\n",
    "            aux_interR = RE_fit.posterior[\"1|userID\"].stack(draws=(\"chain\", \"draw\")).T\n",
    "            results[conf][rep]['FE'][\"1|userID\"] = {'mean':float(aux_interR.mean()),'sd':float(aux_interR.std())} \n",
    "            \n",
    "            if rep=='mood':\n",
    "                row = [conf,rep,float(aux_rep.mean()),float(aux_inter.mean()),FE_waic.waic-control_WAIC.waic,\\\n",
    "                       float(aux_repR.mean()),float(aux_interR.mean()),RE_waic.waic-control_WAIC.waic]\n",
    "            elif rep!='sleep':\n",
    "                row = ['',rep,float(aux_rep.mean()),float(aux_inter.mean()),FE_waic.waic-control_WAIC.waic,\\\n",
    "                       float(aux_repR.mean()),float(aux_interR.mean()),RE_waic.waic-control_WAIC.waic]\n",
    "            else:\n",
    "                row = ['',rep,float(aux_rep.mean()),float(aux_inter.mean()),FE_waic.waic-mor_control_WAIC.waic,\\\n",
    "                       float(aux_repR.mean()),float(aux_interR.mean()),RE_waic.waic-mor_control_WAIC.waic]              \n",
    "            wr.writerow(row)"
   ]
  },
  {
   "cell_type": "code",
   "execution_count": null,
   "metadata": {},
   "outputs": [],
   "source": [
    "# DO NOT RUN AGAIN\n",
    "\n",
    "# write the result in file\n",
    "filename=path_results+'BLMMresults.json'\n",
    "# Serializing json  \n",
    "json_results = json.dumps(results) \n",
    "\n",
    "# Writing to sample.json \n",
    "with open(filename, \"w\") as outfile: \n",
    "    outfile.write(json_results) "
   ]
  },
  {
   "cell_type": "markdown",
   "metadata": {},
   "source": [
    "### with MLE"
   ]
  },
  {
   "cell_type": "code",
   "execution_count": null,
   "metadata": {},
   "outputs": [],
   "source": [
    "model_mle = Model(\"Dsubj_optout_oo ~ mood + (1|userID)\", adf_sin_nan, automatic_priors=\"mle\")"
   ]
  },
  {
   "cell_type": "code",
   "execution_count": null,
   "metadata": {},
   "outputs": [],
   "source": [
    "results_mle = model_mle.fit(draws=5000, chains=2)"
   ]
  },
  {
   "cell_type": "code",
   "execution_count": null,
   "metadata": {},
   "outputs": [],
   "source": [
    "az.plot_trace(results_mle)\n",
    "az.summary(results_mle)"
   ]
  },
  {
   "cell_type": "code",
   "execution_count": null,
   "metadata": {},
   "outputs": [],
   "source": [
    "model_mle.plot_priors()"
   ]
  },
  {
   "cell_type": "code",
   "execution_count": null,
   "metadata": {},
   "outputs": [],
   "source": []
  },
  {
   "cell_type": "code",
   "execution_count": null,
   "metadata": {},
   "outputs": [],
   "source": []
  }
 ],
 "metadata": {
  "kernelspec": {
   "display_name": "Python 3",
   "language": "python",
   "name": "python3"
  },
  "language_info": {
   "codemirror_mode": {
    "name": "ipython",
    "version": 3
   },
   "file_extension": ".py",
   "mimetype": "text/x-python",
   "name": "python",
   "nbconvert_exporter": "python",
   "pygments_lexer": "ipython3",
   "version": "3.8.5"
  }
 },
 "nbformat": 4,
 "nbformat_minor": 4
}
