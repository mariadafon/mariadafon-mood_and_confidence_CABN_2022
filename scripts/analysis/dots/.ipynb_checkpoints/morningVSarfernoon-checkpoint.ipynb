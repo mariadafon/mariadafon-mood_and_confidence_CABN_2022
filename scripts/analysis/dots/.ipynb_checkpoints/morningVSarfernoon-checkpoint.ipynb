{
 "cells": [
  {
   "cell_type": "code",
   "execution_count": null,
   "id": "pointed-finland",
   "metadata": {},
   "outputs": [],
   "source": [
    "import pandas as pd\n",
    "import os\n",
    "import json\n",
    "import numpy as np\n",
    "from itertools import groupby\n",
    "import matplotlib.pyplot as plt\n",
    "from scipy import stats,signal\n",
    "import matplotlib as mpl\n",
    "from sklearn.linear_model import LogisticRegression\n",
    "import random\n",
    "import re\n",
    "import csv\n",
    "from IPython.display import HTML, display, Image\n",
    "import tabulate\n",
    "import math as m\n",
    "import warnings\n",
    "warnings.filterwarnings('ignore')\n",
    "import statsmodels.api as sm\n",
    "import statsmodels.formula.api as smf\n",
    "import itertools\n",
    "\n",
    "mpl.rcParams['lines.linewidth'] = 3\n",
    "mpl.rcParams['axes.titlesize'] = 18\n",
    "mpl.rcParams['axes.labelsize'] = 18\n",
    "mpl.rcParams['lines.markersize'] = 10\n",
    "mpl.rcParams['xtick.labelsize'] = 20\n",
    "mpl.rcParams['ytick.labelsize'] = 20\n",
    "mpl.rcParams['axes.linewidth'] = 1\n",
    "#mpl.rcParams['xtick.major.size'] = 20\n",
    "mpl.rcParams['xtick.major.width'] = 1\n",
    "#mpl.rcParams['xtick.minor.size'] = 10\n",
    "mpl.rcParams['xtick.minor.width'] = 1\n",
    "mpl.rcParams['ytick.major.width'] = 1\n",
    "mpl.rcParams['ytick.minor.width'] = 1\n",
    "mpl.rcParams['axes.spines.right'] = False\n",
    "mpl.rcParams['axes.spines.top'] = False\n",
    "\n",
    "fday = [1,2,3,4,5,6,7,8,9,10]\n",
    "fsession = [1,2]\n",
    "unique_signals = [1,2,3,4]"
   ]
  },
  {
   "cell_type": "code",
   "execution_count": null,
   "id": "homeless-patch",
   "metadata": {},
   "outputs": [],
   "source": [
    "current_path = os.path.abspath(os.getcwd())\n",
    "parent_path = os.path.abspath(os.path.join(current_path, os.pardir))\n",
    "grand_parent_path = os.path.abspath(os.path.join(parent_path, os.pardir))\n",
    "main_path = os.path.abspath(os.path.join(grand_parent_path, os.pardir))\n",
    "\n",
    "path_results = main_path+'/results/dots/'"
   ]
  },
  {
   "cell_type": "code",
   "execution_count": null,
   "id": "behavioral-shipping",
   "metadata": {},
   "outputs": [],
   "source": [
    "adf = pd.read_csv(path_results+'preanalyzed.csv')  \n",
    "df_diff = pd.read_csv(path_results+'per_difficulty.csv')  \n",
    "dfANOVA = pd.read_csv(path_results+'forANOVA.csv') \n",
    "dfLR = pd.read_csv(path_results+'linearRegr_diff.csv') \n",
    "\n",
    "adf = pd.merge(dfLR,adf,on='user_sessionID',how='outer') \n",
    "# sort df by userID and sessionID in second place\n",
    "adf = adf.sort_values(by = ['userID', 'sessionID_y'])\n",
    "\n",
    "userids = adf['userID'].unique()\n",
    "userids = sorted(userids)\n",
    "nsub = len(userids)\n",
    "sessionids = adf['sessionID_x'].unique()\n",
    "sessionids = sorted(sessionids)\n",
    "\n",
    "# morning df\n",
    "mdf = adf[adf['sessionID_x']%2==1]\n",
    "# evening df\n",
    "edf = adf[adf['sessionID_x']%2==0]\n",
    "'''\n",
    "edf_sin_nan = edf.copy()\n",
    "edf_sin_nan['sleep']=list(mdf['sleep'])\n",
    "'''\n",
    "\n",
    "key_SR = ['mood','food','sleep', 'real_stress']\n",
    "key_PV = ['Dsubj_optout_oo','Ssubj_optout_oo','subj_perf_no','OKubj_RT_no','DoverConf','SoverConf','risk_av']\n",
    "key_LR = ['slope_RT', 'slope_DO', 'slope_SO', 'intercept_RT', 'intercept_DO','intercept_SO']\n",
    "key_name = key_SR+key_PV\n",
    "\n",
    "key_SR2plot = [key_SR[:int(len(key_SR)/2)],key_SR[int(len(key_SR)/2):]]\n",
    "\n",
    "SR_color = {'mood': 'b','food': 'r','sleep': 'y', 'real_stress':'g'}\n",
    "\n",
    "pair_keys_SR = list(itertools.combinations(key_SR, 2))\n",
    "\n",
    "# pair of PV \n",
    "pair_keys_PV = list(itertools.combinations(key_PV[:-3], 2))\n",
    "pair_keys_PV2plot = [pair_keys_PV[:int(len(pair_keys_PV)/2)],pair_keys_PV[int(len(pair_keys_PV)/2):]]\n",
    "key_name_PV = {'Dsubj_optout_oo':'DO','Ssubj_optout_oo':'SO','subj_perf_no':'acc NO','OKubj_RT_no':'RT NO'}\n",
    "pair_key_name_PV2plot = [[[key_name_PV[k] for k in tupl] for tupl in lista] for lista in pair_keys_PV2plot]\n",
    "\n",
    "# avoiding participants who answered almost the same SR across sessions\n",
    "users_SR = {'food':[x for x in userids if x!=1010 and x!=1014],'real_stress':[x for x in userids if x!=997],\\\n",
    "            'mood':userids,'sleep':[x for x in userids if x!=1005]}\n",
    "\n",
    "key_diff = ['Dperf_oo', 'Sperf_oo', 'perf_no', 'Dn_trials_oo', 'Sn_trials_oo', 'NOn_trials', 'DRT_oo', 'SRT_oo', \\\n",
    "            'DRT_OKoo', 'SRT_OKoo', 'RT_no', 'RT_noNOK', 'Doptout', 'Soptout']"
   ]
  },
  {
   "cell_type": "code",
   "execution_count": null,
   "id": "processed-drama",
   "metadata": {},
   "outputs": [],
   "source": [
    "adf['day_time'] = adf.sessionID_x.map(lambda x: 'afternoon' if x%2==0 else 'morning')"
   ]
  },
  {
   "cell_type": "code",
   "execution_count": null,
   "id": "italian-disabled",
   "metadata": {},
   "outputs": [],
   "source": [
    "adf.head()"
   ]
  },
  {
   "cell_type": "code",
   "execution_count": null,
   "id": "funded-encoding",
   "metadata": {},
   "outputs": [],
   "source": [
    "mVSa_test = {}\n",
    "for part in userids:\n",
    "    subset = adf[adf['userID']==part]\n",
    "    dict_ = {}\n",
    "    for key in key_SR+key_PV:\n",
    "        if key != 'sleep':\n",
    "            dict_[key] = stats.ttest_rel(subset[subset['day_time']=='morning'][key],\\\n",
    "                                             subset[subset['day_time']=='afternoon'][key])\n",
    "    mVSa_test[part]=dict_"
   ]
  },
  {
   "cell_type": "code",
   "execution_count": null,
   "id": "convenient-substitute",
   "metadata": {},
   "outputs": [],
   "source": [
    "df = pd.DataFrame(mVSa_test)"
   ]
  },
  {
   "cell_type": "code",
   "execution_count": null,
   "id": "respective-reader",
   "metadata": {},
   "outputs": [],
   "source": []
  },
  {
   "cell_type": "code",
   "execution_count": null,
   "id": "smooth-liability",
   "metadata": {},
   "outputs": [],
   "source": [
    "totalRTno_p = []\n",
    "for part in userids:\n",
    "    subset = adf[adf['userID']==part]\n",
    "    lala = stats.ttest_rel(subset[subset['day_time']=='morning']['subj_RT_no'],\\\n",
    "                                             subset[subset['day_time']=='afternoon']['subj_RT_no'])\n",
    "    totalRTno_p.append(lala.pvalue)"
   ]
  },
  {
   "cell_type": "code",
   "execution_count": null,
   "id": "architectural-fellowship",
   "metadata": {},
   "outputs": [],
   "source": [
    "plt.hist(totalRTno_p,bins=20)\n",
    "plt.axvline(0.05,color='k')\n",
    "plt.xlabel('p value')\n",
    "plt.ylabel('total RT no counts')\n",
    "plt.show()"
   ]
  },
  {
   "cell_type": "code",
   "execution_count": null,
   "id": "amended-circuit",
   "metadata": {},
   "outputs": [],
   "source": [
    "RTno_morning = adf[adf['day_time']=='morning']['subj_RT_no']\n",
    "RTno_afternoon = adf[adf['day_time']=='afternoon']['subj_RT_no']"
   ]
  },
  {
   "cell_type": "code",
   "execution_count": null,
   "id": "rising-joint",
   "metadata": {},
   "outputs": [],
   "source": [
    "adf['subj_RT_no'].isna().sum()"
   ]
  },
  {
   "cell_type": "code",
   "execution_count": null,
   "id": "nasty-exhaust",
   "metadata": {},
   "outputs": [],
   "source": [
    "RTno_morning = RTno_morning[~np.isnan(RTno_morning)]"
   ]
  },
  {
   "cell_type": "code",
   "execution_count": null,
   "id": "average-semester",
   "metadata": {},
   "outputs": [],
   "source": [
    "np.isnan(RTno_morning).any()"
   ]
  },
  {
   "cell_type": "code",
   "execution_count": null,
   "id": "juvenile-moderator",
   "metadata": {},
   "outputs": [],
   "source": [
    "len(RTno_morning)"
   ]
  },
  {
   "cell_type": "code",
   "execution_count": null,
   "id": "verbal-application",
   "metadata": {},
   "outputs": [],
   "source": [
    "RTno_afternoon = RTno_afternoon[~np.isnan(RTno_afternoon)]"
   ]
  },
  {
   "cell_type": "code",
   "execution_count": null,
   "id": "graduate-advocate",
   "metadata": {},
   "outputs": [],
   "source": [
    "len(RTno_morning)"
   ]
  },
  {
   "cell_type": "code",
   "execution_count": null,
   "id": "abroad-thanksgiving",
   "metadata": {},
   "outputs": [],
   "source": [
    "len(RTno_afternoon)"
   ]
  },
  {
   "cell_type": "code",
   "execution_count": null,
   "id": "loaded-malta",
   "metadata": {},
   "outputs": [],
   "source": [
    "RTno_afternoon = list(RTno_afternoon)+[np.mean(RTno_afternoon)]"
   ]
  },
  {
   "cell_type": "code",
   "execution_count": null,
   "id": "structured-triumph",
   "metadata": {},
   "outputs": [],
   "source": [
    "len(RTno_afternoon)"
   ]
  },
  {
   "cell_type": "code",
   "execution_count": null,
   "id": "demonstrated-quebec",
   "metadata": {},
   "outputs": [],
   "source": [
    "stats.ttest_rel(RTno_morning,RTno_afternoon)"
   ]
  },
  {
   "cell_type": "code",
   "execution_count": null,
   "id": "frank-federal",
   "metadata": {},
   "outputs": [],
   "source": [
    "RTnoOK_morning = adf[adf['day_time']=='morning']['OKubj_RT_no']\n",
    "RTnoOK_afternoon = adf[adf['day_time']=='afternoon']['OKubj_RT_no']"
   ]
  },
  {
   "cell_type": "code",
   "execution_count": null,
   "id": "agreed-prefix",
   "metadata": {},
   "outputs": [],
   "source": [
    "RTnoOK_morning = RTnoOK_morning[~np.isnan(RTnoOK_morning)]"
   ]
  },
  {
   "cell_type": "code",
   "execution_count": null,
   "id": "cooked-continuity",
   "metadata": {},
   "outputs": [],
   "source": [
    "len(RTnoOK_morning)"
   ]
  },
  {
   "cell_type": "code",
   "execution_count": null,
   "id": "representative-examination",
   "metadata": {},
   "outputs": [],
   "source": [
    "RTnoOK_afternoon = RTnoOK_afternoon[~np.isnan(RTnoOK_afternoon)]"
   ]
  },
  {
   "cell_type": "code",
   "execution_count": null,
   "id": "neural-tuition",
   "metadata": {},
   "outputs": [],
   "source": [
    "len(RTnoOK_afternoon)"
   ]
  },
  {
   "cell_type": "code",
   "execution_count": null,
   "id": "verified-format",
   "metadata": {},
   "outputs": [],
   "source": [
    "RTnoOK_afternoon = list(RTnoOK_afternoon)+[np.mean(RTnoOK_afternoon)]"
   ]
  },
  {
   "cell_type": "code",
   "execution_count": null,
   "id": "close-decline",
   "metadata": {},
   "outputs": [],
   "source": [
    "stats.ttest_rel(RTnoOK_morning,RTnoOK_afternoon)"
   ]
  },
  {
   "cell_type": "code",
   "execution_count": null,
   "id": "dominican-uncle",
   "metadata": {},
   "outputs": [],
   "source": [
    "plt.hist(RTno_afternoon,alpha=0.5)\n",
    "plt.hist(RTno_morning,alpha=0.5)\n",
    "plt.title(stats.ttest_rel(RTno_morning,RTno_afternoon))\n",
    "plt.legend(('afternoon','morning'))\n",
    "plt.xlabel('total RT non-optout')\n",
    "plt.tight_layout()\n",
    "plt.savefig('distr_totalRTno_mVSa.png')\n",
    "\n",
    "plt.show()"
   ]
  },
  {
   "cell_type": "code",
   "execution_count": null,
   "id": "mighty-variation",
   "metadata": {},
   "outputs": [],
   "source": [
    "RTnoNOK_morning = adf[adf['day_time']=='morning']['NOKubj_RT_no']\n",
    "RTnoNOK_afternoon = adf[adf['day_time']=='afternoon']['NOKubj_RT_no']"
   ]
  },
  {
   "cell_type": "code",
   "execution_count": null,
   "id": "upset-cuisine",
   "metadata": {},
   "outputs": [],
   "source": [
    "RTnoNOK_morning = RTnoNOK_morning[~np.isnan(RTnoNOK_morning)]"
   ]
  },
  {
   "cell_type": "code",
   "execution_count": null,
   "id": "acceptable-stockholm",
   "metadata": {},
   "outputs": [],
   "source": [
    "RTnoNOK_afternoon = RTnoNOK_afternoon[~np.isnan(RTnoNOK_afternoon)]"
   ]
  },
  {
   "cell_type": "code",
   "execution_count": null,
   "id": "hispanic-reset",
   "metadata": {},
   "outputs": [],
   "source": [
    "RTnoNOK_afternoon = list(RTnoNOK_afternoon)+[np.mean(RTnoNOK_afternoon)]"
   ]
  },
  {
   "cell_type": "code",
   "execution_count": null,
   "id": "exciting-racing",
   "metadata": {},
   "outputs": [],
   "source": [
    "stats.ttest_rel(RTnoNOK_morning,RTnoNOK_afternoon)"
   ]
  },
  {
   "cell_type": "code",
   "execution_count": null,
   "id": "closing-particle",
   "metadata": {},
   "outputs": [],
   "source": [
    "plt.hist(RTnoOK_afternoon,alpha=0.5)\n",
    "plt.hist(RTnoOK_morning,alpha=0.5)\n",
    "plt.title(stats.ttest_rel(RTnoOK_morning,RTnoOK_afternoon))\n",
    "plt.legend(('afternoon','morning'))\n",
    "plt.xlabel('correct RT non-optout')\n",
    "plt.tight_layout()\n",
    "plt.savefig('distr_correctRTno_mVSa.png')\n",
    "\n",
    "plt.show()"
   ]
  },
  {
   "cell_type": "code",
   "execution_count": null,
   "id": "conservative-ivory",
   "metadata": {},
   "outputs": [],
   "source": [
    "plt.hist(RTnoNOK_afternoon,alpha=0.5)\n",
    "plt.hist(RTnoNOK_morning,alpha=0.5)\n",
    "plt.title(stats.ttest_rel(RTnoNOK_morning,RTnoNOK_afternoon))\n",
    "plt.legend(('afternoon','morning'))\n",
    "plt.xlabel('incorrect RT non-optout')\n",
    "plt.tight_layout()\n",
    "plt.savefig('distr_incorrectRTno_mVSa.png')\n",
    "\n",
    "plt.show()"
   ]
  },
  {
   "cell_type": "code",
   "execution_count": null,
   "id": "small-island",
   "metadata": {},
   "outputs": [],
   "source": [
    "adf[adf['NOKubj_RT_no']>2][['userID','real_OK_NO_RT','real_OK_DO_RT',\\\n",
    "                            'real_OK_SO_RT','real_NOK_NO_RT','real_DO_RT','real_SO_RT']]"
   ]
  },
  {
   "cell_type": "code",
   "execution_count": null,
   "id": "marine-joshua",
   "metadata": {},
   "outputs": [],
   "source": [
    "perf_no_morning = adf[adf['day_time']=='morning']['subj_perf_no']\n",
    "perf_no_afternoon = adf[adf['day_time']=='afternoon']['subj_perf_no']"
   ]
  },
  {
   "cell_type": "code",
   "execution_count": null,
   "id": "current-patch",
   "metadata": {},
   "outputs": [],
   "source": [
    "perf_no_morning = perf_no_morning[~np.isnan(perf_no_morning)]"
   ]
  },
  {
   "cell_type": "code",
   "execution_count": null,
   "id": "biblical-corpus",
   "metadata": {},
   "outputs": [],
   "source": [
    "perf_no_afternoon = perf_no_afternoon[~np.isnan(perf_no_afternoon)]"
   ]
  },
  {
   "cell_type": "code",
   "execution_count": null,
   "id": "small-composer",
   "metadata": {},
   "outputs": [],
   "source": [
    "perf_no_afternoon = list(perf_no_afternoon)+[np.mean(perf_no_afternoon)]"
   ]
  },
  {
   "cell_type": "code",
   "execution_count": null,
   "id": "aging-bermuda",
   "metadata": {},
   "outputs": [],
   "source": [
    "stats.ttest_rel(perf_no_morning,perf_no_afternoon)"
   ]
  },
  {
   "cell_type": "code",
   "execution_count": null,
   "id": "cooked-people",
   "metadata": {},
   "outputs": [],
   "source": []
  }
 ],
 "metadata": {
  "kernelspec": {
   "display_name": "Python 3",
   "language": "python",
   "name": "python3"
  },
  "language_info": {
   "codemirror_mode": {
    "name": "ipython",
    "version": 3
   },
   "file_extension": ".py",
   "mimetype": "text/x-python",
   "name": "python",
   "nbconvert_exporter": "python",
   "pygments_lexer": "ipython3",
   "version": "3.8.5"
  }
 },
 "nbformat": 4,
 "nbformat_minor": 5
}
