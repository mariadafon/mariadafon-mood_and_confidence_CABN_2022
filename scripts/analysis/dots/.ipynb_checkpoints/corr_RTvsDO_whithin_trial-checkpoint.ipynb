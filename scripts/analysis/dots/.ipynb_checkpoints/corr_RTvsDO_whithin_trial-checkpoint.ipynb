{
 "cells": [
  {
   "cell_type": "code",
   "execution_count": null,
   "metadata": {},
   "outputs": [],
   "source": [
    "import pandas as pd\n",
    "import os\n",
    "import json\n",
    "import numpy as np\n",
    "from itertools import groupby\n",
    "import matplotlib.pyplot as plt\n",
    "from scipy import stats\n",
    "import matplotlib as mpl\n",
    "from sklearn.linear_model import LogisticRegression\n",
    "import random\n",
    "import re\n",
    "import csv\n",
    "from IPython.display import HTML, display, Image\n",
    "import tabulate\n",
    "import math as m\n",
    "import warnings\n",
    "warnings.filterwarnings('ignore')\n",
    "import statsmodels.api as sm\n",
    "import statsmodels.formula.api as smf\n",
    "from statsmodels.stats.anova import AnovaRM\n",
    "\n",
    "mpl.rcParams['lines.linewidth'] = 3\n",
    "mpl.rcParams['axes.titlesize'] = 18\n",
    "mpl.rcParams['axes.labelsize'] = 18\n",
    "mpl.rcParams['lines.markersize'] = 10\n",
    "mpl.rcParams['xtick.labelsize'] = 20\n",
    "mpl.rcParams['ytick.labelsize'] = 20\n",
    "mpl.rcParams['axes.linewidth'] = 3\n",
    "#mpl.rcParams['xtick.major.size'] = 20\n",
    "mpl.rcParams['xtick.major.width'] = 4\n",
    "#mpl.rcParams['xtick.minor.size'] = 10\n",
    "mpl.rcParams['xtick.minor.width'] = 2\n",
    "mpl.rcParams['ytick.major.width'] = 4\n",
    "mpl.rcParams['ytick.minor.width'] = 2\n",
    "\n",
    "fday = [1,2,3,4,5,6,7,8,9,10]\n",
    "fsession = [1,2]\n",
    "unique_signals = [1,2,3,4]"
   ]
  },
  {
   "cell_type": "code",
   "execution_count": null,
   "metadata": {},
   "outputs": [],
   "source": [
    "current_path = os.path.abspath(os.getcwd())\n",
    "parent_path = os.path.abspath(os.path.join(current_path, os.pardir))\n",
    "grand_parent_path = os.path.abspath(os.path.join(parent_path, os.pardir))\n",
    "main_path = os.path.abspath(os.path.join(grand_parent_path, os.pardir))\n",
    "\n",
    "path_results = main_path+'/results/dots/'"
   ]
  },
  {
   "cell_type": "code",
   "execution_count": null,
   "metadata": {},
   "outputs": [],
   "source": []
  },
  {
   "cell_type": "code",
   "execution_count": null,
   "metadata": {},
   "outputs": [],
   "source": [
    "adf = pd.read_csv('preanalyzed.csv')  \n",
    "\n",
    "path_results = '/home/cbclab/Dropbox/postdocUPF/jatos_experiments/dots/notebooks/results_tanda_1/'\n",
    "path_plots = '/home/cbclab/Dropbox/postdocUPF/jatos_experiments/paper/'\n",
    "\n",
    "key_PV = ['RT_no_0','RT_no_3','Doptout_0','Doptout_3','Soptout_0','Soptout_3']\n",
    "key_SR = ['mood','food', 'real_stress','sleep']"
   ]
  },
  {
   "cell_type": "code",
   "execution_count": null,
   "metadata": {},
   "outputs": [],
   "source": [
    "userids = adf['userID'].unique()"
   ]
  },
  {
   "cell_type": "code",
   "execution_count": null,
   "metadata": {},
   "outputs": [],
   "source": [
    "mas = {}\n",
    "ind = 0\n",
    "for part in userids:\n",
    "    ind += 1\n",
    "    RT, DO = [],[]\n",
    "    for Day in fday:\n",
    "        for Ses in fsession:\n",
    "            sessionid = 2*Day-2+Ses\n",
    "            filename = path_results+'day'+str(Day)+'/session'+str(Ses)+'/diff_Sub'+str(part)+'_Day'+str(Day)+'_Sess'+str(Ses)+'.json'   \n",
    "            with open(filename) as f:\n",
    "                data = json.load(f)\n",
    "            RT.append(data['RT_no'])\n",
    "            DO.append(data['Doptout'])\n",
    "    mas.update({part: {'RTas': np.nanmean(RT,axis=0),'DOas': np.nanmean(DO,axis=0)}})"
   ]
  },
  {
   "cell_type": "code",
   "execution_count": null,
   "metadata": {},
   "outputs": [],
   "source": [
    "df = pd.DataFrame(columns=['RT_no','Doptout','Dperf_oo','Sperf_oo','perf_no','DRT_oo','SRT_oo','DRT_OKoo',\\\n",
    "                           'SRT_OKoo','RT_noNOK','RTeff','DOeff','difficulty','sessionID','userID'])\n",
    "\n",
    "df_LR = pd.DataFrame(columns=['slope_RT','slope_DO','slope_SO','intercept_RT','intercept_DO','intercept_SO',\\\n",
    "                              'session','subject','user_sessionID'])\n",
    "ind = 0\n",
    "for part in userids:\n",
    "    ind += 1\n",
    "    for Day in fday:\n",
    "        for Ses in fsession:\n",
    "            sessionid = 2*Day-2+Ses\n",
    "            user_sessionID = str(part)+'_'+str(sessionid)\n",
    "            \n",
    "            filename = path_results+'day'+str(Day)+'/session'+str(Ses)+'/diff_Sub'+str(part)+'_Day'+str(Day)+'_Sess'+str(Ses)+'.json'   \n",
    "            with open(filename) as f:\n",
    "                data = json.load(f)\n",
    "            df_new = pd.DataFrame({'RT':data['RT_no'],'RTeff':np.array(data['RT_no'])-mas[part]['RTas'],\\\n",
    "                                   'DO':data['Doptout'],'DOeff':np.array(data['Doptout'])-mas[part]['DOas'],\\\n",
    "                                   'difficulty':[1, 2, 3, 4],'session':[sessionid]*4,'subject':[ind]*4})\n",
    "            \n",
    "            RT = np.array(data['RT_no'])\n",
    "            DO = np.array(data['Doptout'])\n",
    "            SO = np.array(data['Soptout'])\n",
    "            diff_vals = np.array([1, 2, 3, 4])\n",
    "\n",
    "            slope_RT,intercept_RT,r_RT,p_RT,se_RT = stats.linregress(np.log(diff_vals[~np.isnan(RT)]), RT[~np.isnan(RT)])\n",
    "            slope_DO,intercept_DO,r_DO,p_DO,se_DO = stats.linregress(np.log(diff_vals[~np.isnan(DO)]), DO[~np.isnan(DO)])\n",
    "            slope_SO,intercept_SO,r_SO,p_SO,se_SO = stats.linregress(np.log(diff_vals[~np.isnan(SO)]), SO[~np.isnan(SO)])\n",
    "\n",
    "            df_LR_new = pd.DataFrame({'slope_RT':[slope_RT],'slope_DO':[slope_DO],'slope_SO':[slope_SO],\n",
    "                        'intercept_RT':[intercept_RT],'intercept_DO':[intercept_DO],'intercept_SO':[intercept_SO],\\\n",
    "                        'session':[sessionid],'subject':[part],'user_sessionID':[user_sessionID]})\n",
    "            \n",
    "            \n",
    "            if user_sessionID!='3074_5' and user_sessionID!='3069_10':\n",
    "                df = (pd.concat([df, df_new], ignore_index=True).reindex(columns=df.columns))\n",
    "                df_LR = (pd.concat([df_LR, df_LR_new], ignore_index=True).reindex(columns=df_LR.columns))"
   ]
  },
  {
   "cell_type": "code",
   "execution_count": null,
   "metadata": {},
   "outputs": [],
   "source": []
  },
  {
   "cell_type": "code",
   "execution_count": null,
   "metadata": {},
   "outputs": [],
   "source": [
    "# sort df by userID and sessionID in second place\n",
    "df_slope = df_slope.sort_values(by = ['subject', 'session'])"
   ]
  },
  {
   "cell_type": "code",
   "execution_count": null,
   "metadata": {},
   "outputs": [],
   "source": [
    "df_slope.head()"
   ]
  },
  {
   "cell_type": "code",
   "execution_count": null,
   "metadata": {},
   "outputs": [],
   "source": [
    "adf[['sessionID_x','userID','user_sessionID']].head()"
   ]
  },
  {
   "cell_type": "code",
   "execution_count": null,
   "metadata": {},
   "outputs": [],
   "source": [
    "Rdf = adf[['sessionID_x','userID','user_sessionID','mood','real_stress','food','sleep']]"
   ]
  },
  {
   "cell_type": "code",
   "execution_count": null,
   "metadata": {},
   "outputs": [],
   "source": [
    "df_slope = pd.merge(Rdf,df_slope,on='user_sessionID') "
   ]
  },
  {
   "cell_type": "code",
   "execution_count": null,
   "metadata": {},
   "outputs": [],
   "source": [
    "df_slope.head()"
   ]
  },
  {
   "cell_type": "code",
   "execution_count": null,
   "metadata": {},
   "outputs": [],
   "source": [
    "df_slope_mor = df_slope[df_slope['session']%2==1]"
   ]
  },
  {
   "cell_type": "code",
   "execution_count": null,
   "metadata": {},
   "outputs": [],
   "source": [
    "key_PV = ['RT','DO','SO']\n",
    "key_SR = ['mood','real_stress','food','sleep']"
   ]
  },
  {
   "cell_type": "code",
   "execution_count": null,
   "metadata": {},
   "outputs": [],
   "source": [
    "pair_SR_PV,pair_SR_PV2plot = [],[]\n",
    "for pv in key_PV:\n",
    "    aux = []\n",
    "    for sr in key_SR:\n",
    "        pair_SR_PV.append((sr,pv))\n",
    "        aux.append((sr,pv))\n",
    "    pair_SR_PV2plot.append(aux)"
   ]
  },
  {
   "cell_type": "code",
   "execution_count": null,
   "metadata": {},
   "outputs": [],
   "source": [
    "corr_SR_PV, p_SR_PV, SIG_SR_PV, NOS_SR_PV = {},{},{},{}\n",
    "for pair in pair_SR_PV:\n",
    "    if 'sleep' in pair:  \n",
    "        LR = [myf.Linear_Regr(np.array(df_slope_mor[df_slope_mor['userID']==part][pair[0]]),\\\n",
    "                            np.array(df_slope_mor[df_slope_mor['userID']==part][pair[1]])) for part in userids]\n",
    "    else:\n",
    "        LR = [myf.Linear_Regr(np.array(df_slope[df_slope['userID']==part][pair[0]]),\\\n",
    "                            np.array(df_slope[df_slope['userID']==part][pair[1]])) for part in userids]\n",
    "    corr_SR_PV[pair] = [LR[k].r_value for k in range(len(userids))]\n",
    "    p_SR_PV[pair] = stats.ttest_1samp(corr_SR_PV[pair],0)[1]\n",
    "    \n",
    "    LR_p_value = [LR[k].p_value for k in range(len(userids))]\n",
    "    LR_p_value = np.array(LR_p_value)\n",
    "    indSIG = np.where(LR_p_value<0.05)\n",
    "    indNOS = np.where(LR_p_value>=0.05)\n",
    "    SIG_SR_PV[pair] = [corr_SR_PV[pair][j] for j in indSIG[0]]\n",
    "    NOS_SR_PV[pair] = [corr_SR_PV[pair][j] for j in indNOS[0]]"
   ]
  },
  {
   "cell_type": "code",
   "execution_count": null,
   "metadata": {},
   "outputs": [],
   "source": [
    "round_p_PV = np.array([myf.roundP(p_SR_PV[(pair)]) for pair in pair_SR_PV])\n",
    "round_p_PV = np.reshape(round_p_PV,(3,4))\n",
    "p_value = [['p_value']+key_SR]\n",
    "ind = -1\n",
    "for key in key_PV:\n",
    "    ind += 1\n",
    "    p_value.append([key]+list(round_p_PV[ind]))\n",
    "\n",
    "display(HTML(tabulate.tabulate(p_value, tablefmt='html')))"
   ]
  },
  {
   "cell_type": "code",
   "execution_count": null,
   "metadata": {},
   "outputs": [],
   "source": [
    "fig, ax = plt.subplots(3,4,figsize=(22,10))\n",
    "plt.subplots_adjust(hspace = 1)  \n",
    "\n",
    "for ii in range(3):\n",
    "    for jj in range(4):\n",
    "        ax[ii,jj].hist([SIG_SR_PV[pair_SR_PV2plot[ii][jj]],NOS_SR_PV[pair_SR_PV2plot[ii][jj]]],bins=np.arange(-1,1,0.1),\\\n",
    "                        alpha=0.7,histtype='bar', stacked=True, \\\n",
    "                        color=['gray',[0.95,0.95,0.95]], edgecolor='gray', linewidth=2) \n",
    "        ax[ii,jj].text(-0.95,3.5,'ttest p: '+str(round_p_PV[ii][jj]), ha='left', wrap=True,fontsize=18)\n",
    "        ax[ii,jj].text(-0.95,5.5,'mean r: '+str(myf.roundP(np.nanmean(corr_SR_PV[pair_SR_PV2plot[ii][jj]]))), ha='left', wrap=True,fontsize=18)\n",
    "        ax[ii,jj].set_title(pair_SR_PV2plot[ii][jj][0])\n",
    "        ax[ii,jj].set_xlim(-1.1,1.1)\n",
    "        ax[ii,jj].set_ylim(0,11)\n",
    "        ax[ii,jj].axvline(0,color='k')\n",
    "        \n",
    "        \n",
    "        if ii==6:\n",
    "            ax[ii,jj].set_xlabel('Pearson corr coeff')\n",
    "        else:\n",
    "            ax[ii,jj].axes.get_xaxis().set_visible(False)\n",
    "        \n",
    "        if jj==0:\n",
    "            ax[ii,0].set_ylabel(pair_SR_PV2plot[ii][jj][1])\n",
    "        else:\n",
    "            ax[ii,jj].axes.get_yaxis().set_visible(False)\n",
    " \n",
    "plt.tight_layout()\n",
    "plt.show()"
   ]
  },
  {
   "cell_type": "code",
   "execution_count": null,
   "metadata": {},
   "outputs": [],
   "source": [
    "sessionids = df_slope['session'].unique()"
   ]
  },
  {
   "cell_type": "code",
   "execution_count": null,
   "metadata": {},
   "outputs": [],
   "source": [
    "ap, se = {},{}\n",
    "for (var, op) in [(ap, np.nanmean), (se, myf.sem)]:\n",
    "    for key in key_PV:\n",
    "        var[key] = [op(np.array(df_slope[df_slope['session']==sesid][key])) for sesid in sessionids]\n",
    "session_labels = ['Th','Fr','Sa','Su','Mo','Tu','We','Th','Fr','Sa']"
   ]
  },
  {
   "cell_type": "code",
   "execution_count": null,
   "metadata": {},
   "outputs": [],
   "source": [
    "fig, ax = plt.subplots(3,figsize=(7,8))\n",
    "plt.subplots_adjust(hspace = 0.4)  \n",
    "\n",
    "ax[0].fill_between([4,8], 0,0.6,color=[0.9,0.9,0.9])\n",
    "ax[0].fill_between([18,20], 0,0.6,color=[0.9,0.9,0.9])\n",
    "ax[0].plot(np.arange(1,len(ap[key_PV[0]])+1),ap[key_PV[0]],c='g', zorder=2)\n",
    "ax[0].fill_between(np.arange(1,len(ap[key_PV[0]])+1),np.array(ap[key_PV[0]])-np.array(se[key_PV[0]]),\\\n",
    "                   np.array(ap[key_PV[0]])+np.array(se[key_PV[0]]), color='g', alpha=0.2)\n",
    "\n",
    "ax[1].fill_between([4,8], 10, 20,color=[0.9,0.9,0.9])\n",
    "ax[1].fill_between([18,20], 10, 20,color=[0.9,0.9,0.9])\n",
    "ax[1].plot(np.arange(1,len(ap[key_PV[1]])+1),ap[key_PV[1]],c='r', zorder=2)\n",
    "ax[1].fill_between(np.arange(1,len(ap[key_PV[1]])+1),np.array(ap[key_PV[1]])-np.array(se[key_PV[1]]),\\\n",
    "                   np.array(ap[key_PV[1]])+np.array(se[key_PV[1]]), color='r', alpha=0.2)\n",
    "\n",
    "ax[2].fill_between([4,8], 10, 20,color=[0.9,0.9,0.9])\n",
    "ax[2].fill_between([18,20], 10, 20,color=[0.9,0.9,0.9])\n",
    "ax[2].plot(np.arange(1,len(ap[key_PV[2]])+1),ap[key_PV[2]],c='b', zorder=2)\n",
    "ax[2].fill_between(np.arange(1,len(ap[key_PV[2]])+1),np.array(ap[key_PV[2]])-np.array(se[key_PV[2]]),\\\n",
    "                   np.array(ap[key_PV[2]])+np.array(se[key_PV[2]]), color='b', alpha=0.2)\n",
    "\n",
    "ax[1].set_ylabel('DO slope')\n",
    "ax[2].set_ylabel('SO slope')\n",
    "ax[0].set_ylabel('NO RT slope')\n",
    "ax[2].set_xlabel('sessions')\n",
    "\n",
    "for i in range(3):\n",
    "    ax[i].set_xticks(np.arange(1,(len(ap[key_PV[0]])+1))[::2])\n",
    "    ax[i].set_xticklabels(session_labels)\n",
    "\n",
    "fig.align_ylabels(ax[:])\n",
    "\n",
    "plt.tight_layout()\n",
    "plt.show()"
   ]
  },
  {
   "cell_type": "code",
   "execution_count": null,
   "metadata": {},
   "outputs": [],
   "source": []
  },
  {
   "cell_type": "code",
   "execution_count": null,
   "metadata": {},
   "outputs": [],
   "source": [
    "slope_SO,intercept_SO,r_SO,p_SO,se_SO = stats.linregress(diff_vals[~np.isnan(SO)], SO[~np.isnan(SO)])"
   ]
  },
  {
   "cell_type": "code",
   "execution_count": null,
   "metadata": {},
   "outputs": [],
   "source": [
    "df.head()"
   ]
  },
  {
   "cell_type": "code",
   "execution_count": null,
   "metadata": {},
   "outputs": [],
   "source": [
    "min(df['RTeff'])"
   ]
  },
  {
   "cell_type": "code",
   "execution_count": null,
   "metadata": {},
   "outputs": [],
   "source": [
    "df[df['RTeff']>2]"
   ]
  },
  {
   "cell_type": "code",
   "execution_count": null,
   "metadata": {},
   "outputs": [],
   "source": [
    "df3062 = df[df['subject']==11]"
   ]
  },
  {
   "cell_type": "code",
   "execution_count": null,
   "metadata": {},
   "outputs": [],
   "source": [
    "plt.figure()\n",
    "for ses in np.arange(20):\n",
    "    c = 1/(0.1*ses+1)\n",
    "    subset = df3062[df3062['session']==ses]\n",
    "    plt.scatter(subset['difficulty'],subset['RT'],color=[0.5,c,0.5],label='s '+str(ses+1),s=70)\n",
    "plt.legend(ncol=4,loc='upper left')\n",
    "#plt.yscale('log')\n",
    "#plt.yticks([0, 1, 2,4,6,8])\n",
    "plt.ylim(0,2)\n",
    "plt.xlabel('difficulty')\n",
    "plt.ylabel('median RT')\n",
    "plt.title('part 3062')\n",
    "plt.tight_layout()\n",
    "plt.savefig('zoomRT3062.png')"
   ]
  },
  {
   "cell_type": "code",
   "execution_count": null,
   "metadata": {},
   "outputs": [],
   "source": [
    "df3064 = df[df['subject']==13]"
   ]
  },
  {
   "cell_type": "code",
   "execution_count": null,
   "metadata": {},
   "outputs": [],
   "source": [
    "plt.figure()\n",
    "for ses in np.arange(20):\n",
    "    c = 1/(0.1*ses+1)\n",
    "    subset = df3064[df3064['session']==ses]\n",
    "    plt.scatter(subset['difficulty'],subset['RT'],color=[0.5,c,0.5],label='s '+str(ses+1),s=70)\n",
    "plt.legend(ncol=4,loc='upper left')\n",
    "#plt.yscale('log')\n",
    "#plt.yticks([0.5, 1, 10])\n",
    "plt.xlabel('difficulty')\n",
    "plt.ylabel('median RT')\n",
    "plt.title('part 3064')\n",
    "plt.tight_layout()\n",
    "plt.savefig('RT3064.png')"
   ]
  },
  {
   "cell_type": "code",
   "execution_count": null,
   "metadata": {},
   "outputs": [],
   "source": [
    "meanRT = []\n",
    "for part in userids:\n",
    "    print(part,np.mean(adf[adf['userID']==part]['real_OK_NO_RT']))\n",
    "    meanRT.append(np.mean(adf[adf['userID']==part]['real_OK_NO_RT']))"
   ]
  },
  {
   "cell_type": "code",
   "execution_count": null,
   "metadata": {},
   "outputs": [],
   "source": [
    "plt.hist(meanRT)"
   ]
  },
  {
   "cell_type": "code",
   "execution_count": null,
   "metadata": {},
   "outputs": [],
   "source": [
    "adf[adf['userID']==3063]['real_OK_NO_RT']"
   ]
  },
  {
   "cell_type": "code",
   "execution_count": null,
   "metadata": {},
   "outputs": [],
   "source": [
    "df.dropna()"
   ]
  },
  {
   "cell_type": "code",
   "execution_count": null,
   "metadata": {},
   "outputs": [],
   "source": []
  },
  {
   "cell_type": "code",
   "execution_count": null,
   "metadata": {
    "scrolled": false
   },
   "outputs": [],
   "source": [
    "r_, p_,s_, sLMM, pLMM = [],[],[],[],[]\n",
    "for part in np.arange(1,28):\n",
    "    subset = df[df['subject']==part]\n",
    "    RTeff = subset['RTeff']\n",
    "    DOeff = subset['DOeff']\n",
    "    mask = ~np.isnan(RTeff) & ~np.isnan(DOeff)\n",
    "    slope, intercept, r, p, se = stats.linregress(DOeff[mask], RTeff[mask])\n",
    "\n",
    "    if part==11:\n",
    "        plt.figure()\n",
    "        plt.scatter(DOeff,RTeff)\n",
    "        plt.plot(np.arange(np.min(DOeff),np.max(DOeff),5),intercept+slope*np.arange(np.min(DOeff),np.max(DOeff),5))\n",
    "    r_.append(r)\n",
    "    p_.append(p)\n",
    "    s_.append(slope)\n",
    "    if p<0.05:\n",
    "        print(part)\n",
    "\n",
    "    mm_RT_DO = smf.mixedlm(\"RTeff ~ DOeff\", subset, re_formula='1', groups=subset[\"session\"])\n",
    "    mdf_RT_DO = mm_RT_DO.fit()\n",
    "    if part==11:\n",
    "        print(mdf_RT_DO.summary())\n",
    "        print(mdf_RT_DO.params)\n",
    "        print(mdf_RT_DO.pvalues)\n",
    "    sLMM.append(mdf_RT_DO.params.DOeff)\n",
    "    "
   ]
  },
  {
   "cell_type": "code",
   "execution_count": null,
   "metadata": {},
   "outputs": [],
   "source": [
    "userids[10]"
   ]
  },
  {
   "cell_type": "code",
   "execution_count": null,
   "metadata": {},
   "outputs": [],
   "source": [
    "stats.ttest_1samp(sLMM,0)[1]"
   ]
  },
  {
   "cell_type": "code",
   "execution_count": null,
   "metadata": {},
   "outputs": [],
   "source": [
    "stats.ttest_1samp(s_,0)[1]"
   ]
  },
  {
   "cell_type": "code",
   "execution_count": null,
   "metadata": {},
   "outputs": [],
   "source": [
    "np.where(np.array(s_)>0.03)"
   ]
  },
  {
   "cell_type": "code",
   "execution_count": null,
   "metadata": {},
   "outputs": [],
   "source": [
    "s_"
   ]
  },
  {
   "cell_type": "code",
   "execution_count": null,
   "metadata": {},
   "outputs": [],
   "source": [
    "del sLMM[10]\n",
    "del s_[10]"
   ]
  },
  {
   "cell_type": "code",
   "execution_count": null,
   "metadata": {},
   "outputs": [],
   "source": [
    "len(s_)"
   ]
  },
  {
   "cell_type": "code",
   "execution_count": null,
   "metadata": {},
   "outputs": [],
   "source": [
    "plt.scatter(s_,sLMM)"
   ]
  },
  {
   "cell_type": "code",
   "execution_count": null,
   "metadata": {},
   "outputs": [],
   "source": [
    "stats.ttest_1samp(sLMM,0)[1]"
   ]
  },
  {
   "cell_type": "code",
   "execution_count": null,
   "metadata": {},
   "outputs": [],
   "source": [
    "stats.ttest_1samp(s_,0)[1]"
   ]
  },
  {
   "cell_type": "code",
   "execution_count": null,
   "metadata": {},
   "outputs": [],
   "source": [
    "del r_[10]"
   ]
  },
  {
   "cell_type": "code",
   "execution_count": null,
   "metadata": {},
   "outputs": [],
   "source": [
    "plt.scatter(s_,r_)\n",
    "plt.xlabel('fit linear slope')\n",
    "plt.ylabel('r value')\n",
    "plt.axvline(0)\n",
    "plt.axhline(0)\n",
    "#plt.plot([0,0.05],[0,0.05],color='k')\n",
    "plt.tight_layout()\n",
    "plt.savefig('fitLinearSlopeVSrvalue.png')"
   ]
  },
  {
   "cell_type": "code",
   "execution_count": null,
   "metadata": {},
   "outputs": [],
   "source": [
    "print(mdf_RT_DO.params.DOeff)"
   ]
  },
  {
   "cell_type": "code",
   "execution_count": null,
   "metadata": {},
   "outputs": [],
   "source": [
    "sig_ = np.where(np.array(p_)<0.05)\n",
    "nos_ = np.where(np.array(p_)>=0.05)\n",
    "r_sig = [r_[elem] for elem in sig_[0]]\n",
    "r_nos = [r_[elem] for elem in nos_[0]]\n",
    "p_value = stats.ttest_1samp(r_,0)[1]"
   ]
  },
  {
   "cell_type": "code",
   "execution_count": null,
   "metadata": {},
   "outputs": [],
   "source": [
    "plt.hist([r_sig,r_nos],bins=np.arange(-1,1,0.1),alpha=0.7,histtype='bar', stacked=True, \\\n",
    "                        color=[[0.8,0.2,0.6],[1,0.9,0.95]], edgecolor=[0.8,0.2,0.6], linewidth=2) \n",
    "plt.text(-0.95,2.5,'mean r: '+str(myf.roundP(np.mean(r_))), ha='left', wrap=True,fontsize=18)\n",
    "plt.text(-0.95,1.5,'ttest p: '+str(myf.roundP(p_value)), ha='left', wrap=True,fontsize=18)\n",
    "plt.xlim(-1,1)\n",
    "plt.ylabel('counts')\n",
    "plt.xlabel('Pearson corr. coeff.')\n",
    "plt.savefig('RT&DO_corr_per_diff.png')\n",
    "plt.show()"
   ]
  },
  {
   "cell_type": "code",
   "execution_count": null,
   "metadata": {},
   "outputs": [],
   "source": [
    "fig = plt.figure(figsize=(18,10))\n",
    "for part in np.arange(1,10):\n",
    "    subMAS = dfMAS[dfMAS['subject']==part]\n",
    "    subSTD = dfSTD[dfSTD['subject']==part]\n",
    "    #fig = plt.figure()\n",
    "    plt.errorbar( subMAS['DO'],subMAS['RT'],xerr = subSTD['DO']/np.sqrt(20),yerr=subSTD['RT']/np.sqrt(20))\n",
    "    plt.ylabel('RT')\n",
    "    plt.xlabel('DO')\n",
    "plt.savefig('RTvsDO.png')"
   ]
  },
  {
   "cell_type": "code",
   "execution_count": null,
   "metadata": {},
   "outputs": [],
   "source": [
    "for part in np.arange(1,28):\n",
    "    subset = df[df['subject']==part]\n",
    "    print(part)\n",
    "    print(AnovaRM(data=subset, depvar='RT', subject='session', within=['difficulty']).fit())"
   ]
  },
  {
   "cell_type": "code",
   "execution_count": null,
   "metadata": {},
   "outputs": [],
   "source": [
    "for part in np.arange(1,28):\n",
    "    subset = df[df['subject']==part]\n",
    "    print(part)\n",
    "    print(AnovaRM(data=subset, depvar='DO', subject='session', within=['difficulty']).fit())"
   ]
  },
  {
   "cell_type": "code",
   "execution_count": null,
   "metadata": {},
   "outputs": [],
   "source": [
    "fig = plt.figure(figsize=(18,10))\n",
    "for part in np.arange(1,10):\n",
    "    subMAS = dfMAS[dfMAS['subject']==part]\n",
    "    subSTD = dfSTD[dfSTD['subject']==part]\n",
    "    #fig = plt.figure()\n",
    "    plt.errorbar( subMAS['DOeff'],subMAS['RTeff'],xerr = subSTD['DOeff']/np.sqrt(20),yerr=subSTD['RTeff']/np.sqrt(20))\n",
    "    plt.ylabel('RTeff')\n",
    "    plt.xlabel('DOeff')\n",
    "plt.savefig('RTvsDOeff.png')"
   ]
  },
  {
   "cell_type": "code",
   "execution_count": null,
   "metadata": {},
   "outputs": [],
   "source": [
    "dfMAS"
   ]
  },
  {
   "cell_type": "code",
   "execution_count": null,
   "metadata": {},
   "outputs": [],
   "source": []
  },
  {
   "cell_type": "code",
   "execution_count": null,
   "metadata": {},
   "outputs": [],
   "source": [
    "vc = {'session': '0 + session'}\n",
    "mm_RT_DO = smf.mixedlm(\"RT ~ DO:difficulty\", df,vc_formula=vc, re_formula='1', groups=df[\"subject\"])\n",
    "mdf_RT_DO = mm_RT_DO.fit()\n",
    "print(mdf_RT_DO.summary())\n",
    "print(mdf_RT_DO.params)\n",
    "print(mdf_RT_DO.pvalues)"
   ]
  },
  {
   "cell_type": "code",
   "execution_count": null,
   "metadata": {},
   "outputs": [],
   "source": [
    "vc = {'session': '0 + session','difficulty': '0 + difficulty'}\n",
    "mm_RT_DO = smf.mixedlm(\"RT ~ DO \", df,vc_formula=vc, re_formula='1', groups=df[\"subject\"])\n",
    "mdf_RT_DO = mm_RT_DO.fit()\n",
    "print(mdf_RT_DO.summary())\n",
    "print(mdf_RT_DO.params)\n",
    "print(mdf_RT_DO.pvalues)"
   ]
  },
  {
   "cell_type": "code",
   "execution_count": null,
   "metadata": {
    "scrolled": true
   },
   "outputs": [],
   "source": [
    "vc = {'session': '0 + session'}\n",
    "mm_RT_DO = smf.mixedlm(\"RT ~ DO:difficulty + difficulty\", df,vc_formula=vc, re_formula='1', groups=df[\"subject\"])\n",
    "mdf_RT_DO = mm_RT_DO.fit()\n",
    "print(mdf_RT_DO.summary())\n",
    "print(mdf_RT_DO.params)\n",
    "print(mdf_RT_DO.pvalues)"
   ]
  },
  {
   "cell_type": "code",
   "execution_count": null,
   "metadata": {},
   "outputs": [],
   "source": [
    "vc = {'session': '0 + session'}\n",
    "mm_RT_DO = smf.mixedlm(\"RT ~ DO\", df,vc_formula=vc, re_formula='1', groups=df[\"subject\"])\n",
    "mdf_RT_DO = mm_RT_DO.fit()\n",
    "print(mdf_RT_DO.summary())\n",
    "print(mdf_RT_DO.params)\n",
    "print(mdf_RT_DO.pvalues)\n",
    "print(mdf_RT_DO.aic)"
   ]
  },
  {
   "cell_type": "code",
   "execution_count": null,
   "metadata": {},
   "outputs": [],
   "source": [
    "mm_RT_DO = smf.mixedlm(\"RT ~ DO:difficulty\", df, groups=df[\"subject\"])\n",
    "mdf_RT_DO = mm_RT_DO.fit()\n",
    "print(mdf_RT_DO.summary())\n",
    "print(mdf_RT_DO.pvalues)"
   ]
  },
  {
   "cell_type": "code",
   "execution_count": null,
   "metadata": {},
   "outputs": [],
   "source": [
    "vc = {'session': '0 + C(session)'}\n",
    "mm_RT_DO = smf.mixedlm(\"RT ~ DO + difficulty\", df,vc_formula=vc, re_formula='1', groups=df[\"subject\"])\n",
    "mdf_RT_DO = mm_RT_DO.fit()\n",
    "print(mdf_RT_DO.summary())\n",
    "print(mdf_RT_DO.pvalues)"
   ]
  },
  {
   "cell_type": "code",
   "execution_count": null,
   "metadata": {},
   "outputs": [],
   "source": []
  },
  {
   "cell_type": "code",
   "execution_count": null,
   "metadata": {},
   "outputs": [],
   "source": []
  },
  {
   "cell_type": "code",
   "execution_count": null,
   "metadata": {},
   "outputs": [],
   "source": [
    "Mdf = adf[['OKubj_RT_no','Dsubj_optout_oo','sessionID_x','userID']]"
   ]
  },
  {
   "cell_type": "code",
   "execution_count": null,
   "metadata": {},
   "outputs": [],
   "source": [
    "ids = list(Mdf['userID'].unique())"
   ]
  },
  {
   "cell_type": "code",
   "execution_count": null,
   "metadata": {},
   "outputs": [],
   "source": [
    "dict_ids = {}\n",
    "for k in ids:\n",
    "    dict_ids[k] = ids.index(k)+1"
   ]
  },
  {
   "cell_type": "code",
   "execution_count": null,
   "metadata": {},
   "outputs": [],
   "source": [
    "Mdf['subject'] =  Mdf['userID'].map(dict_ids)"
   ]
  },
  {
   "cell_type": "code",
   "execution_count": null,
   "metadata": {},
   "outputs": [],
   "source": [
    "Mdf.dropna()"
   ]
  },
  {
   "cell_type": "code",
   "execution_count": null,
   "metadata": {},
   "outputs": [],
   "source": [
    "mm_RT_DO = smf.mixedlm(\"OKubj_RT_no ~ Dsubj_optout_oo\", Mdf, groups=Mdf[\"subject\"])\n",
    "mdf_RT_DO = mm_RT_DO.fit()\n",
    "print(mdf_RT_DO.summary())\n",
    "print(mdf_RT_DO.params)\n",
    "print(mdf_RT_DO.pvalues)"
   ]
  }
 ],
 "metadata": {
  "kernelspec": {
   "display_name": "Python 3",
   "language": "python",
   "name": "python3"
  },
  "language_info": {
   "codemirror_mode": {
    "name": "ipython",
    "version": 3
   },
   "file_extension": ".py",
   "mimetype": "text/x-python",
   "name": "python",
   "nbconvert_exporter": "python",
   "pygments_lexer": "ipython3",
   "version": "3.8.5"
  }
 },
 "nbformat": 4,
 "nbformat_minor": 4
}
