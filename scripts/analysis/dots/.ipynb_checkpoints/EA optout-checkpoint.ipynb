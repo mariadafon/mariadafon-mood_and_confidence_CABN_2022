{
 "cells": [
  {
   "cell_type": "code",
   "execution_count": null,
   "id": "forced-rendering",
   "metadata": {},
   "outputs": [],
   "source": [
    "import pandas as pd\n",
    "import os\n",
    "import json\n",
    "import numpy as np\n",
    "from itertools import groupby\n",
    "import matplotlib.pyplot as plt\n",
    "from scipy import stats,signal\n",
    "import matplotlib as mpl\n",
    "from sklearn.linear_model import LogisticRegression\n",
    "import random\n",
    "import re\n",
    "import csv\n",
    "from IPython.display import HTML, display, Image\n",
    "import tabulate\n",
    "import math as m\n",
    "import warnings\n",
    "warnings.filterwarnings('ignore')\n",
    "import statsmodels.api as sm\n",
    "import statsmodels.formula.api as smf\n",
    "import itertools\n",
    "\n",
    "mpl.rcParams['lines.linewidth'] = 3\n",
    "mpl.rcParams['axes.titlesize'] = 18\n",
    "mpl.rcParams['axes.labelsize'] = 18\n",
    "mpl.rcParams['lines.markersize'] = 10\n",
    "mpl.rcParams['xtick.labelsize'] = 20\n",
    "mpl.rcParams['ytick.labelsize'] = 20\n",
    "mpl.rcParams['axes.linewidth'] = 1\n",
    "#mpl.rcParams['xtick.major.size'] = 20\n",
    "mpl.rcParams['xtick.major.width'] = 1\n",
    "#mpl.rcParams['xtick.minor.size'] = 10\n",
    "mpl.rcParams['xtick.minor.width'] = 1\n",
    "mpl.rcParams['ytick.major.width'] = 1\n",
    "mpl.rcParams['ytick.minor.width'] = 1\n",
    "mpl.rcParams['axes.spines.right'] = False\n",
    "mpl.rcParams['axes.spines.top'] = False\n",
    "\n",
    "fday = [1,2,3,4,5,6,7,8,9,10]\n",
    "fsession = [1,2]\n",
    "unique_signals = [1,2,3,4]"
   ]
  },
  {
   "cell_type": "code",
   "execution_count": null,
   "id": "modular-morris",
   "metadata": {},
   "outputs": [],
   "source": [
    "current_path = os.path.abspath(os.getcwd())\n",
    "parent_path = os.path.abspath(os.path.join(current_path, os.pardir))\n",
    "grand_parent_path = os.path.abspath(os.path.join(parent_path, os.pardir))\n",
    "main_path = os.path.abspath(os.path.join(grand_parent_path, os.pardir))\n",
    "\n",
    "path_results = main_path+'/results/dots/'"
   ]
  },
  {
   "cell_type": "code",
   "execution_count": null,
   "id": "competitive-bradford",
   "metadata": {},
   "outputs": [],
   "source": [
    "adf = pd.read_csv(path_results+'preanalyzed.csv')  \n",
    "df_diff = pd.read_csv(path_results+'per_difficulty.csv')  \n",
    "dfANOVA = pd.read_csv(path_results+'forANOVA.csv') \n",
    "dfLR = pd.read_csv(path_results+'linearRegr_diff.csv') \n",
    "\n",
    "adf = pd.merge(dfLR,adf,on='user_sessionID',how='outer') \n",
    "# sort df by userID and sessionID in second place\n",
    "adf = adf.sort_values(by = ['userID', 'sessionID_y'])\n",
    "\n",
    "userids = adf['userID'].unique()\n",
    "userids = sorted(userids)\n",
    "nsub = len(userids)\n",
    "sessionids = adf['sessionID_x'].unique()\n",
    "sessionids = sorted(sessionids)\n",
    "\n",
    "# morning df\n",
    "mdf = adf[adf['sessionID_x']%2==1]\n",
    "# evening df\n",
    "edf = adf[adf['sessionID_x']%2==0]\n",
    "edf_sin_nan = edf.copy()\n",
    "edf_sin_nan['sleep']=list(mdf['sleep'])\n",
    "\n",
    "key_SR = ['mood','food','sleep', 'real_stress']\n",
    "key_PV = ['Dsubj_optout_oo','Ssubj_optout_oo','subj_perf_no','OKubj_RT_no','DoverConf','SoverConf','risk_av']\n",
    "key_LR = ['slope_RT', 'slope_DO', 'slope_SO', 'intercept_RT', 'intercept_DO','intercept_SO']\n",
    "key_name = key_SR+key_PV\n",
    "\n",
    "key_SR2plot = [key_SR[:int(len(key_SR)/2)],key_SR[int(len(key_SR)/2):]]\n",
    "pair_keys_SR = list(itertools.combinations(key_SR, 2))\n",
    "\n",
    "# pair of PV \n",
    "pair_keys_PV = list(itertools.combinations(key_PV[:-3], 2))\n",
    "pair_keys_PV2plot = [pair_keys_PV[:int(len(pair_keys_PV)/2)],pair_keys_PV[int(len(pair_keys_PV)/2):]]\n",
    "key_name_PV = {'Dsubj_optout_oo':'DO','Ssubj_optout_oo':'SO','subj_perf_no':'acc NO','OKubj_RT_no':'RT NO'}\n",
    "pair_key_name_PV2plot = [[[key_name_PV[k] for k in tupl] for tupl in lista] for lista in pair_keys_PV2plot]\n",
    "\n",
    "SR_color = {'mood': 'b','food': 'r','sleep': 'y', 'real_stress':'g'}\n",
    "\n",
    "key_diff = ['Dperf_oo', 'Sperf_oo', 'perf_no', 'Dn_trials_oo', 'Sn_trials_oo', 'NOn_trials', 'DRT_oo', 'SRT_oo', \\\n",
    "            'DRT_OKoo', 'SRT_OKoo', 'RT_no', 'RT_noNOK', 'Doptout', 'Soptout']"
   ]
  },
  {
   "cell_type": "code",
   "execution_count": null,
   "id": "strange-experiment",
   "metadata": {},
   "outputs": [],
   "source": [
    "adf.head()"
   ]
  },
  {
   "cell_type": "code",
   "execution_count": null,
   "id": "opposite-rehabilitation",
   "metadata": {},
   "outputs": [],
   "source": [
    "adf.columns"
   ]
  },
  {
   "cell_type": "code",
   "execution_count": null,
   "id": "meaningful-austria",
   "metadata": {},
   "outputs": [],
   "source": [
    "adf[['sessionID_x', 'userID','Dsubj_optout_oo','Ssubj_optout_oo','subj_perf_no','OKubj_RT_no','DoverConf','SoverConf','risk_av']].head()"
   ]
  },
  {
   "cell_type": "code",
   "execution_count": null,
   "id": "cellular-crest",
   "metadata": {},
   "outputs": [],
   "source": [
    "dfM = adf.groupby(['userID']).mean().reset_index()"
   ]
  },
  {
   "cell_type": "code",
   "execution_count": null,
   "id": "protecting-briefing",
   "metadata": {},
   "outputs": [],
   "source": [
    "dfM.head()"
   ]
  },
  {
   "cell_type": "code",
   "execution_count": null,
   "id": "extreme-singapore",
   "metadata": {},
   "outputs": [],
   "source": [
    "dfSD = adf.groupby(['userID']).std().reset_index()"
   ]
  },
  {
   "cell_type": "code",
   "execution_count": null,
   "id": "practical-berry",
   "metadata": {},
   "outputs": [],
   "source": [
    "dfN = adf.groupby(['userID']).count().reset_index()"
   ]
  },
  {
   "cell_type": "code",
   "execution_count": null,
   "id": "specialized-disposal",
   "metadata": {},
   "outputs": [],
   "source": [
    "plt.errorbar(dfM['userID'],dfM['Dsubj_optout_oo'], yerr=dfSD['Dsubj_optout_oo'], fmt=\"o\",color=[1,0,0.4])\n",
    "plt.errorbar(dfM['userID'],dfM['Ssubj_optout_oo'], yerr=dfSD['Ssubj_optout_oo'], fmt=\"o\",color=[0.4,0,1])\n",
    "plt.xlabel('participant number')\n",
    "plt.xticks(ticks=dfM['userID'][::4], labels=np.arange(1,len(dfM['userID'])+1)[::4])\n",
    "plt.ylabel('NT optout (%)')\n",
    "plt.legend(['DO','SO'])\n",
    "plt.axhline(0,color='k')\n",
    "plt.tight_layout()\n",
    "plt.savefig('raw_optout_per_subject.png')\n",
    "plt.show()"
   ]
  },
  {
   "cell_type": "code",
   "execution_count": null,
   "id": "naughty-honey",
   "metadata": {},
   "outputs": [],
   "source": [
    "plt.errorbar(dfM['userID'],dfM['Ssubj_optout_oo'], yerr=dfSD['Ssubj_optout_oo'], fmt=\"o\")\n",
    "plt.xlabel('participant number')\n",
    "plt.xticks(ticks=dfM['userID'][::4], labels=np.arange(len(dfM['userID']))[::4])\n",
    "plt.ylabel('optout (%)')\n",
    "plt.axhline(0,color='k')\n",
    "plt.show()"
   ]
  },
  {
   "cell_type": "code",
   "execution_count": null,
   "id": "anticipated-carroll",
   "metadata": {},
   "outputs": [],
   "source": [
    "len(dfM)"
   ]
  },
  {
   "cell_type": "code",
   "execution_count": null,
   "id": "musical-anaheim",
   "metadata": {},
   "outputs": [],
   "source": [
    "dfM['Dsubj_optout_oo'].mean()"
   ]
  },
  {
   "cell_type": "code",
   "execution_count": null,
   "id": "yellow-positive",
   "metadata": {},
   "outputs": [],
   "source": [
    "dfM['Dsubj_optout_oo'].std()"
   ]
  },
  {
   "cell_type": "code",
   "execution_count": null,
   "id": "opposite-sullivan",
   "metadata": {},
   "outputs": [],
   "source": [
    "dfM['Dsubj_optout_oo'].std()/np.sqrt(len(dfM['Dsubj_optout_oo']))"
   ]
  },
  {
   "cell_type": "code",
   "execution_count": null,
   "id": "variable-daughter",
   "metadata": {},
   "outputs": [],
   "source": [
    "dfM['Ssubj_optout_oo'].mean()"
   ]
  },
  {
   "cell_type": "code",
   "execution_count": null,
   "id": "mobile-shannon",
   "metadata": {},
   "outputs": [],
   "source": [
    "dfM['Ssubj_optout_oo'].std()"
   ]
  },
  {
   "cell_type": "code",
   "execution_count": null,
   "id": "macro-assurance",
   "metadata": {},
   "outputs": [],
   "source": [
    "dfM['Ssubj_optout_oo'].std()/np.sqrt(len(dfM['Ssubj_optout_oo']))"
   ]
  },
  {
   "cell_type": "code",
   "execution_count": null,
   "id": "invalid-presentation",
   "metadata": {},
   "outputs": [],
   "source": [
    "stats.ttest_rel(dfM['Dsubj_optout_oo'],dfM['Ssubj_optout_oo'])"
   ]
  },
  {
   "cell_type": "code",
   "execution_count": null,
   "id": "progressive-decade",
   "metadata": {},
   "outputs": [],
   "source": []
  }
 ],
 "metadata": {
  "kernelspec": {
   "display_name": "Python 3",
   "language": "python",
   "name": "python3"
  },
  "language_info": {
   "codemirror_mode": {
    "name": "ipython",
    "version": 3
   },
   "file_extension": ".py",
   "mimetype": "text/x-python",
   "name": "python",
   "nbconvert_exporter": "python",
   "pygments_lexer": "ipython3",
   "version": "3.8.5"
  }
 },
 "nbformat": 4,
 "nbformat_minor": 5
}
