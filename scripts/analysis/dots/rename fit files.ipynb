{
 "cells": [
  {
   "cell_type": "markdown",
   "id": "confident-census",
   "metadata": {},
   "source": [
    "Renombro los files con los fits de psicométricas para que los nuevos files tengan el nombre original y el probit regression. Los viejos files, con la regresión logística van a tener 'LogReg' delante de 'fit' después de correr este script que debe correrse una sola vez."
   ]
  },
  {
   "cell_type": "code",
   "execution_count": null,
   "id": "potential-evaluation",
   "metadata": {},
   "outputs": [],
   "source": [
    "import os"
   ]
  },
  {
   "cell_type": "code",
   "execution_count": null,
   "id": "reasonable-possibility",
   "metadata": {},
   "outputs": [],
   "source": [
    "current_path = os.path.abspath(os.getcwd())\n",
    "parent_path = os.path.abspath(os.path.join(current_path, os.pardir))\n",
    "grand_parent_path = os.path.abspath(os.path.join(parent_path, os.pardir))\n",
    "main_path = os.path.abspath(os.path.join(grand_parent_path, os.pardir))\n",
    "\n",
    "path_results = main_path+'/results/dots/'"
   ]
  },
  {
   "cell_type": "code",
   "execution_count": null,
   "id": "affiliated-romantic",
   "metadata": {},
   "outputs": [],
   "source": [
    "fday = [1,2,3,4,5,6,7,8,9,10]\n",
    "fsession = [1,2]\n",
    "\n",
    "for Day in fday:\n",
    "    for Ses in fsession:\n",
    "        path = path_results+'day'+\\\n",
    "        str(Day)+'/session'+str(Ses)+'/'\n",
    "        NO_files = [f for f in os.listdir(path) if f.startswith('NO_fit')]\n",
    "        DO_files = [f for f in os.listdir(path) if f.startswith('DO_fit')]\n",
    "        SO_files = [f for f in os.listdir(path) if f.startswith('SO_fit')]\n",
    "        for f in NO_files+DO_files+SO_files:\n",
    "            lala = f.split('fit')\n",
    "            os.rename(path+f,path+lala[0]+'LogReg_fit'+lala[1])"
   ]
  },
  {
   "cell_type": "code",
   "execution_count": null,
   "id": "coral-grocery",
   "metadata": {},
   "outputs": [],
   "source": []
  }
 ],
 "metadata": {
  "kernelspec": {
   "display_name": "Python 3",
   "language": "python",
   "name": "python3"
  },
  "language_info": {
   "codemirror_mode": {
    "name": "ipython",
    "version": 3
   },
   "file_extension": ".py",
   "mimetype": "text/x-python",
   "name": "python",
   "nbconvert_exporter": "python",
   "pygments_lexer": "ipython3",
   "version": "3.8.5"
  }
 },
 "nbformat": 4,
 "nbformat_minor": 5
}
