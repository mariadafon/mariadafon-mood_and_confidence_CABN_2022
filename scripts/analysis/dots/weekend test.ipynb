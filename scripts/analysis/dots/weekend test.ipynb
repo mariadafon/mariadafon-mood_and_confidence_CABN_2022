{
 "cells": [
  {
   "cell_type": "markdown",
   "metadata": {},
   "source": [
    "# Dots task"
   ]
  },
  {
   "cell_type": "code",
   "execution_count": null,
   "metadata": {},
   "outputs": [],
   "source": [
    "import pandas as pd\n",
    "import os\n",
    "import json\n",
    "import numpy as np\n",
    "from itertools import groupby\n",
    "import matplotlib.pyplot as plt\n",
    "from scipy import stats,signal\n",
    "import matplotlib as mpl\n",
    "from sklearn.linear_model import LogisticRegression\n",
    "import random\n",
    "import re\n",
    "import csv\n",
    "from IPython.display import HTML, display, Image\n",
    "import tabulate\n",
    "import math as m\n",
    "import warnings\n",
    "warnings.filterwarnings('ignore')\n",
    "import statsmodels.api as sm\n",
    "import statsmodels.formula.api as smf\n",
    "\n",
    "mpl.rcParams['lines.linewidth'] = 3\n",
    "mpl.rcParams['axes.titlesize'] = 18\n",
    "mpl.rcParams['axes.labelsize'] = 18\n",
    "mpl.rcParams['lines.markersize'] = 10\n",
    "mpl.rcParams['xtick.labelsize'] = 20\n",
    "mpl.rcParams['ytick.labelsize'] = 20\n",
    "mpl.rcParams['axes.linewidth'] = 3\n",
    "#mpl.rcParams['xtick.major.size'] = 20\n",
    "mpl.rcParams['xtick.major.width'] = 4\n",
    "#mpl.rcParams['xtick.minor.size'] = 10\n",
    "mpl.rcParams['xtick.minor.width'] = 2\n",
    "mpl.rcParams['ytick.major.width'] = 4\n",
    "mpl.rcParams['ytick.minor.width'] = 2\n",
    "\n",
    "fday = [1,2,3,4,5,6,7,8,9,10]\n",
    "fsession = [1,2]"
   ]
  },
  {
   "cell_type": "code",
   "execution_count": null,
   "metadata": {},
   "outputs": [],
   "source": [
    "current_path = os.path.abspath(os.getcwd())\n",
    "parent_path = os.path.abspath(os.path.join(current_path, os.pardir))\n",
    "grand_parent_path = os.path.abspath(os.path.join(parent_path, os.pardir))\n",
    "main_path = os.path.abspath(os.path.join(grand_parent_path, os.pardir))\n",
    "\n",
    "path_results_dots = main_path+'/results/dots/'\n",
    "path_results_gabor = main_path+'/results/gabor/'"
   ]
  },
  {
   "cell_type": "code",
   "execution_count": null,
   "metadata": {},
   "outputs": [],
   "source": [
    "path_results_dots"
   ]
  },
  {
   "cell_type": "code",
   "execution_count": null,
   "metadata": {},
   "outputs": [],
   "source": [
    "adfDOTS = pd.read_csv(path_results_dots+'preanalyzed.csv')  \n",
    "adfGABOR = pd.read_csv(path_results_gabor+'preanalyzed.csv')  \n",
    "# morning df\n",
    "mdfDOTS = adfDOTS[adfDOTS['sessionID_x']%2==1]\n",
    "mdfGABOR = adfGABOR[adfGABOR['sessionID_x']%2==1]"
   ]
  },
  {
   "cell_type": "code",
   "execution_count": null,
   "metadata": {},
   "outputs": [],
   "source": [
    "unique_idsDOTS = adfDOTS['userID'].unique()\n",
    "nsubDOTS = len(unique_idsDOTS)"
   ]
  },
  {
   "cell_type": "code",
   "execution_count": null,
   "metadata": {},
   "outputs": [],
   "source": [
    "# mean self-reports across participants\n",
    "sessionidsDOTS = adfDOTS['sessionID_x'].unique()"
   ]
  },
  {
   "cell_type": "code",
   "execution_count": null,
   "metadata": {},
   "outputs": [],
   "source": [
    "unique_idsGABOR = adfGABOR['userID_x'].unique()\n",
    "nsubGABOR = len(unique_idsGABOR)"
   ]
  },
  {
   "cell_type": "code",
   "execution_count": null,
   "metadata": {},
   "outputs": [],
   "source": [
    "# mean self-reports across participants\n",
    "sessionidsGABOR = adfGABOR['sessionID_x'].unique()\n"
   ]
  },
  {
   "cell_type": "markdown",
   "metadata": {},
   "source": [
    "## Self-reports across participants"
   ]
  },
  {
   "cell_type": "code",
   "execution_count": null,
   "metadata": {},
   "outputs": [],
   "source": [
    "mood_ap,sleep_ap,stress_ap,food_ap,DO_ap,SO_ap,perf_ap,Dperf_ap,Sperf_ap,NORT_ap = [[] for _ in range(10)]\n",
    "mood_sd,sleep_sd,stress_sd,food_sd,DO_sd,SO_sd,perf_sd,Dperf_sd,Sperf_sd, NORT_sd = [[] for _ in range(10)]\n",
    "labels = ['Th M','Th A','Fr M','Fr A','Sa M','SaA','Su M','Su A','Mo M','Mo A','Tu M','Tu A',\\\n",
    "          'We M','We A','Th M','Th A','Fr M','Fr A','Sa M','SaA']\n",
    "for sesid in sessionidsDOTS:\n",
    "    subset = adfDOTS[adfDOTS['sessionID_x']==sesid]\n",
    "    mood_ap.append(np.nanmean(np.array(subset['mood'])))\n",
    "    food_ap.append(np.nanmean(np.array(subset['food'])))\n",
    "    stress_ap.append(np.nanmean(np.array(subset['real_stress'])))\n",
    "    sleep_ap.append(np.nanmean(np.array(subset['sleep'])))\n",
    "    DO_ap.append(np.nanmean(np.array(subset['Dsubj_optout_oo'])))\n",
    "    SO_ap.append(np.nanmean(np.array(subset['Ssubj_optout_oo'])))\n",
    "    Dperf_ap.append(np.nanmean(np.array(subset['Dsubj_perf_oo'])))\n",
    "    Sperf_ap.append(np.nanmean(np.array(subset['Ssubj_perf_oo'])))\n",
    "    perf_ap.append(np.nanmean(np.array(subset['subj_perf_no'])))\n",
    "    NORT_ap.append(np.nanmean(np.array(subset['OKubj_RT_no'])))    \n",
    "    \n",
    "    mood_sd.append(np.nanstd(np.array(subset['mood'])))\n",
    "    food_sd.append(np.nanstd(np.array(subset['food'])))\n",
    "    stress_sd.append(np.nanstd(np.array(subset['real_stress'])))\n",
    "    sleep_sd.append(np.nanstd(np.array(subset['sleep'])))\n",
    "    DO_sd.append(np.nanstd(np.array(subset['Dsubj_optout_oo'])))\n",
    "    SO_sd.append(np.nanstd(np.array(subset['Ssubj_optout_oo'])))\n",
    "    perf_sd.append(np.nanstd(np.array(subset['subj_perf_no'])))\n",
    "    Dperf_sd.append(np.nanstd(np.array(subset['Dsubj_perf_oo'])))\n",
    "    Sperf_sd.append(np.nanstd(np.array(subset['Ssubj_perf_oo'])))\n",
    "    NORT_sd.append(np.nanstd(np.array(subset['OKubj_RT_no']))) "
   ]
  },
  {
   "cell_type": "code",
   "execution_count": null,
   "metadata": {},
   "outputs": [],
   "source": [
    "session_labels = ['Th','Fr','Sa','Su','Mo','Tu','We','Th','Fr','Sa']\n",
    "fig, ax = plt.subplots(2,2,figsize=(18,8))\n",
    "plt.subplots_adjust(hspace = 0.3)  \n",
    "\n",
    "for i in range(2):\n",
    "    for j in range(2):\n",
    "        if not (i==0 and j ==1):\n",
    "            #ax[i,j].set_xticks(np.arange(1,len(mood_ap)+1))\n",
    "            #ax[i,j].set_xticklabels(session_labels, rotation = 45, ha=\"right\")\n",
    "            ax[i,j].set_xticks(np.arange(1,(len(mood_ap)+1))[::2])\n",
    "            ax[i,j].set_xticklabels(session_labels)\n",
    "            \n",
    "#ax[0,0].set_xticklabels(session_labels)\n",
    "ax[0,0].fill_between([4,8], 0.5, 0.8,color=[0.9,0.9,0.9])\n",
    "ax[0,0].fill_between([18,20], 0.5, 0.8,color=[0.9,0.9,0.9])\n",
    "ax[0,0].plot(np.arange(1,len(mood_ap)+1), mood_ap, color = 'b')\n",
    "ax[0,0].fill_between(np.arange(1,len(mood_ap)+1),np.array(mood_ap)-np.array(mood_sd)/np.sqrt(nsubDOTS), \\\n",
    "                   np.array(mood_ap)+np.array(mood_sd)/np.sqrt(nsubDOTS), color='b', alpha=0.2)\n",
    "ax[0,0].set_ylabel('mood')\n",
    "\n",
    "ax[0,1].set_xticks(np.arange(1,(len(mood_ap)+1))[::2])\n",
    "ax[0,1].set_xticklabels(session_labels)\n",
    "ax[0,1].fill_between([4,8], 0.45, 0.77,color=[0.9,0.9,0.9])\n",
    "ax[0,1].fill_between([18,20], 0.45, 0.77,color=[0.9,0.9,0.9])\n",
    "ax[0,1].plot(np.arange(1,len(mood_ap)+1)[::2], sleep_ap[::2], color = 'y')\n",
    "ax[0,1].fill_between(np.arange(1,len(mood_ap)+1)[::2],np.array(sleep_ap)[::2]-np.array(sleep_sd)[::2]/np.sqrt(nsubDOTS), \\\n",
    "                   np.array(sleep_ap)[::2]+np.array(sleep_sd)[::2]/np.sqrt(nsubDOTS), color='y', alpha=0.2)\n",
    "ax[0,1].set_ylabel('sleep')\n",
    "\n",
    "#ax[1,0].set_xticklabels(session_labels)\n",
    "ax[1,0].fill_between([4,8], 0.54, 0.84,color=[0.9,0.9,0.9])\n",
    "ax[1,0].fill_between([18,20], 0.54, 0.84,color=[0.9,0.9,0.9])\n",
    "ax[1,0].plot(np.arange(1,len(food_ap)+1), food_ap, color = 'r')\n",
    "ax[1,0].fill_between(np.arange(1,len(food_ap)+1),np.array(food_ap)-np.array(food_sd)/np.sqrt(nsubDOTS), \\\n",
    "                   np.array(food_ap)+np.array(food_sd)/np.sqrt(nsubDOTS), color='r', alpha=0.2)\n",
    "ax[1,0].set_ylabel('food')\n",
    "\n",
    "#ax[1,1].set_xticklabels(session_labels)\n",
    "ax[1,1].fill_between([4,8], 0.25, 0.63,color=[0.9,0.9,0.9])\n",
    "ax[1,1].fill_between([18,20], 0.25, 0.63,color=[0.9,0.9,0.9])\n",
    "ax[1,1].plot(np.arange(1,len(stress_ap)+1), stress_ap, color = 'g')\n",
    "ax[1,1].fill_between(np.arange(1,len(stress_ap)+1),np.array(stress_ap)-np.array(stress_sd)/np.sqrt(nsubDOTS), \\\n",
    "                   np.array(stress_ap)+np.array(stress_sd)/np.sqrt(nsubDOTS), color='g', alpha=0.2)\n",
    "ax[1,1].set_ylabel('stress')\n",
    "\n",
    "plt.show()"
   ]
  },
  {
   "cell_type": "code",
   "execution_count": null,
   "metadata": {},
   "outputs": [],
   "source": [
    "meanWK_mood, meanWD_mood, meanWK_sleep, meanWD_sleep, meanWK_food, meanWD_food, meanWK_stress, meanWD_stress = \\\n",
    "[np.zeros(nsubDOTS) for _ in range(8)]\n",
    "\n",
    "ind = -1\n",
    "for part in unique_idsDOTS:\n",
    "    ind += 1\n",
    "    subset = adfDOTS[adfDOTS['userID']==part]\n",
    "    mood = np.array(subset['mood'])\n",
    "    stress = np.array(subset['real_stress'])\n",
    "    food = np.array(subset['food'])\n",
    "    \n",
    "    WKmood = np.concatenate((mood[4:8],mood[18:20]))\n",
    "    WDmood = np.concatenate((mood[0:4],mood[8:18]))\n",
    "    meanWK_mood[ind] = np.nanmean(WKmood)\n",
    "    meanWD_mood[ind] = np.nanmean(WDmood)\n",
    "    \n",
    "    WKstress = np.concatenate((stress[4:8],stress[18:20]))\n",
    "    WDstress = np.concatenate((stress[0:4],stress[8:18]))\n",
    "    meanWK_stress[ind] = np.nanmean(WKstress)\n",
    "    meanWD_stress[ind] = np.nanmean(WDstress)\n",
    "    \n",
    "    WKfood = np.concatenate((food[4:8],food[18:20]))\n",
    "    WDfood = np.concatenate((food[0:4],food[8:18]))\n",
    "    print(stats.ttest_ind(WKfood,WDfood)[1])\n",
    "    meanWK_food[ind] = np.nanmean(WKfood)\n",
    "    meanWD_food[ind] = np.nanmean(WDfood)\n",
    "    \n",
    "    subset_sl = mdfDOTS[mdfDOTS['userID']==part]\n",
    "    sleep = np.array(subset_sl['sleep'])\n",
    "    \n",
    "    WKsleep = np.concatenate((sleep[2:4],[sleep[9]]))\n",
    "    WDsleep = np.concatenate((sleep[0:2],sleep[4:9]))\n",
    "    meanWK_sleep[ind] = np.nanmean(WKsleep)\n",
    "    meanWD_sleep[ind] = np.nanmean(WDsleep)"
   ]
  },
  {
   "cell_type": "code",
   "execution_count": null,
   "metadata": {},
   "outputs": [],
   "source": [
    "stats.ttest_rel(meanWK_mood,meanWD_mood)"
   ]
  },
  {
   "cell_type": "code",
   "execution_count": null,
   "metadata": {},
   "outputs": [],
   "source": [
    "stats.ttest_rel(meanWK_stress,meanWD_stress)"
   ]
  },
  {
   "cell_type": "code",
   "execution_count": null,
   "metadata": {},
   "outputs": [],
   "source": [
    "stats.ttest_rel(meanWK_food,meanWD_food)"
   ]
  },
  {
   "cell_type": "code",
   "execution_count": null,
   "metadata": {},
   "outputs": [],
   "source": [
    "stats.ttest_rel(meanWK_sleep,meanWD_sleep)"
   ]
  },
  {
   "cell_type": "markdown",
   "metadata": {},
   "source": [
    "# Reports from both tasks"
   ]
  },
  {
   "cell_type": "code",
   "execution_count": null,
   "metadata": {},
   "outputs": [],
   "source": [
    "RDdf = adfDOTS[['mood', 'sleep', 'food', 'real_stress','userID','sessionID_x']]\n",
    "RGdf = adfGABOR[['mood', 'sleep', 'food', 'real_stress','userID_x','sessionID_x']]"
   ]
  },
  {
   "cell_type": "code",
   "execution_count": null,
   "metadata": {},
   "outputs": [],
   "source": [
    "RDdf.rename(columns={\"sessionID_x\": \"sessionID\"},inplace=True)"
   ]
  },
  {
   "cell_type": "code",
   "execution_count": null,
   "metadata": {},
   "outputs": [],
   "source": [
    "RGdf.rename(columns={\"userID_x\":\"userID\",\"sessionID_x\": \"sessionID\"},inplace=True)"
   ]
  },
  {
   "cell_type": "code",
   "execution_count": null,
   "metadata": {},
   "outputs": [],
   "source": [
    "Rdf = pd.concat([RDdf,RGdf])"
   ]
  },
  {
   "cell_type": "code",
   "execution_count": null,
   "metadata": {},
   "outputs": [],
   "source": [
    "Rdf.head()"
   ]
  },
  {
   "cell_type": "code",
   "execution_count": null,
   "metadata": {},
   "outputs": [],
   "source": [
    "Rdf[Rdf['userID']==3062].head(20)"
   ]
  },
  {
   "cell_type": "code",
   "execution_count": null,
   "metadata": {},
   "outputs": [],
   "source": [
    "Rmdf = Rdf[Rdf['sessionID']%2==1]"
   ]
  },
  {
   "cell_type": "code",
   "execution_count": null,
   "metadata": {},
   "outputs": [],
   "source": [
    "userids = Rdf['userID'].unique()\n",
    "nsub = len(userids)"
   ]
  },
  {
   "cell_type": "code",
   "execution_count": null,
   "metadata": {},
   "outputs": [],
   "source": [
    "meanWK_mood, meanWD_mood, meanWK_sleep, meanWD_sleep, meanWK_food, meanWD_food, meanWK_stress, meanWD_stress = \\\n",
    "[np.zeros(nsub) for _ in range(8)]\n",
    "\n",
    "ind = -1\n",
    "for part in userids:\n",
    "    ind += 1\n",
    "    subset = Rdf[Rdf['userID']==part]\n",
    "    mood = np.array(subset['mood'])\n",
    "    stress = np.array(subset['real_stress'])\n",
    "    food = np.array(subset['food'])\n",
    "    \n",
    "    WKmood = np.concatenate((mood[4:8],mood[18:20]))\n",
    "    WDmood = np.concatenate((mood[0:4],mood[8:18]))\n",
    "    meanWK_mood[ind] = np.nanmean(WKmood)\n",
    "    meanWD_mood[ind] = np.nanmean(WDmood)\n",
    "    \n",
    "    WKstress = np.concatenate((stress[4:8],stress[18:20]))\n",
    "    WDstress = np.concatenate((stress[0:4],stress[8:18]))\n",
    "    meanWK_stress[ind] = np.nanmean(WKstress)\n",
    "    meanWD_stress[ind] = np.nanmean(WDstress)\n",
    "    \n",
    "    WKfood = np.concatenate((food[4:8],food[18:20]))\n",
    "    WDfood = np.concatenate((food[0:4],food[8:18]))\n",
    "    print(stats.ttest_ind(WKstress,WDstress)[1])\n",
    "    meanWK_food[ind] = np.nanmean(WKfood)\n",
    "    meanWD_food[ind] = np.nanmean(WDfood)\n",
    "    \n",
    "    subset_sl = Rmdf[Rmdf['userID']==part]\n",
    "    sleep = np.array(subset_sl['sleep'])  \n",
    "    WKsleep = np.concatenate((sleep[2:4],[sleep[9]]))\n",
    "    WDsleep = np.concatenate((sleep[0:2],sleep[4:9]))\n",
    "    meanWK_sleep[ind] = np.nanmean(WKsleep)\n",
    "    meanWD_sleep[ind] = np.nanmean(WDsleep)"
   ]
  },
  {
   "cell_type": "code",
   "execution_count": null,
   "metadata": {},
   "outputs": [],
   "source": [
    "test_mood = stats.ttest_rel(meanWK_mood,meanWD_mood)\n",
    "test_stress = stats.ttest_rel(meanWK_stress,meanWD_stress)\n",
    "test_food = stats.ttest_rel(meanWK_food,meanWD_food)\n",
    "test_sleep = stats.ttest_rel(meanWK_sleep,meanWD_sleep)"
   ]
  },
  {
   "cell_type": "code",
   "execution_count": null,
   "metadata": {},
   "outputs": [],
   "source": [
    "print('mood',test_mood)\n",
    "print('stress',test_stress)\n",
    "print('sleep',test_sleep)\n",
    "print('food',test_food)"
   ]
  },
  {
   "cell_type": "markdown",
   "metadata": {},
   "source": [
    "They appear to be stable across days, with a significant difference between the mean across weekend and week sessions for mood (t=2.1, p<0.04), stress (t=-4.02, p<10^-3) and food (t=3.8, p<10^-3) reports, not expressed by the sleep report (t=1.1, p=0.3). This result indicate that, in average, participants were in a better mood, less stress and ate better during weekend compared with working days.  "
   ]
  },
  {
   "cell_type": "code",
   "execution_count": null,
   "metadata": {},
   "outputs": [],
   "source": []
  },
  {
   "cell_type": "code",
   "execution_count": null,
   "metadata": {},
   "outputs": [],
   "source": []
  }
 ],
 "metadata": {
  "kernelspec": {
   "display_name": "Python 3",
   "language": "python",
   "name": "python3"
  },
  "language_info": {
   "codemirror_mode": {
    "name": "ipython",
    "version": 3
   },
   "file_extension": ".py",
   "mimetype": "text/x-python",
   "name": "python",
   "nbconvert_exporter": "python",
   "pygments_lexer": "ipython3",
   "version": "3.8.5"
  }
 },
 "nbformat": 4,
 "nbformat_minor": 4
}
