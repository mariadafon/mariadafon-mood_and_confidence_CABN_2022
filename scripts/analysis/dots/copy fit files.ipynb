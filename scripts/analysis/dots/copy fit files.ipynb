{
 "cells": [
  {
   "cell_type": "markdown",
   "id": "confident-census",
   "metadata": {},
   "source": [
    "Copio los files con los fits de psicométricas con la regresión logística sin 'LogReg' en el nombre para DO y SO.\n",
    "este script que debe correrse una sola vez!"
   ]
  },
  {
   "cell_type": "code",
   "execution_count": null,
   "id": "multiple-venture",
   "metadata": {},
   "outputs": [],
   "source": [
    "import os\n",
    "import shutil"
   ]
  },
  {
   "cell_type": "code",
   "execution_count": null,
   "id": "threatened-citizen",
   "metadata": {},
   "outputs": [],
   "source": [
    "current_path = os.path.abspath(os.getcwd())\n",
    "parent_path = os.path.abspath(os.path.join(current_path, os.pardir))\n",
    "grand_parent_path = os.path.abspath(os.path.join(parent_path, os.pardir))\n",
    "main_path = os.path.abspath(os.path.join(grand_parent_path, os.pardir))\n",
    "\n",
    "path_results = main_path+'/results/dots/'"
   ]
  },
  {
   "cell_type": "code",
   "execution_count": null,
   "id": "affiliated-romantic",
   "metadata": {},
   "outputs": [],
   "source": [
    "fday = [1,2,3,4,5,6,7,8,9,10]\n",
    "fsession = [1,2]\n",
    "\n",
    "for Day in fday:\n",
    "    for Ses in fsession:\n",
    "        path = path_results+'day'+\\\n",
    "        str(Day)+'/session'+str(Ses)+'/'\n",
    "        DO_files = [f for f in os.listdir(path) if f.startswith('DO_LogReg_fit')]\n",
    "        SO_files = [f for f in os.listdir(path) if f.startswith('SO_LogReg_fit')]\n",
    "        for f in DO_files+SO_files:\n",
    "            lala = f.split('LogReg_fit')\n",
    "            shutil.copyfile(path+f,path+lala[0]+'fit'+lala[1])"
   ]
  },
  {
   "cell_type": "code",
   "execution_count": null,
   "id": "coral-grocery",
   "metadata": {},
   "outputs": [],
   "source": []
  }
 ],
 "metadata": {
  "kernelspec": {
   "display_name": "Python 3",
   "language": "python",
   "name": "python3"
  },
  "language_info": {
   "codemirror_mode": {
    "name": "ipython",
    "version": 3
   },
   "file_extension": ".py",
   "mimetype": "text/x-python",
   "name": "python",
   "nbconvert_exporter": "python",
   "pygments_lexer": "ipython3",
   "version": "3.8.5"
  }
 },
 "nbformat": 4,
 "nbformat_minor": 5
}
