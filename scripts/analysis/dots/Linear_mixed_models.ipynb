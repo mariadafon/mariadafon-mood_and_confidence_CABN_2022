{
 "cells": [
  {
   "cell_type": "markdown",
   "metadata": {},
   "source": [
    "# Linear mixed models\n"
   ]
  },
  {
   "cell_type": "code",
   "execution_count": null,
   "metadata": {},
   "outputs": [],
   "source": [
    "import pandas as pd\n",
    "import os\n",
    "import json\n",
    "import numpy as np\n",
    "from itertools import groupby\n",
    "import matplotlib.pyplot as plt\n",
    "from scipy import stats,signal\n",
    "import matplotlib as mpl\n",
    "from sklearn.linear_model import LogisticRegression\n",
    "import random\n",
    "import re\n",
    "import csv\n",
    "from IPython.display import HTML, display, Image\n",
    "import tabulate\n",
    "import math as m\n",
    "import warnings\n",
    "warnings.filterwarnings('ignore')\n",
    "import statsmodels.api as sm\n",
    "import statsmodels.formula.api as smf\n",
    "from statsmodels.formula.api import ols\n",
    "from statsmodels.stats import anova"
   ]
  },
  {
   "cell_type": "code",
   "execution_count": null,
   "metadata": {},
   "outputs": [],
   "source": [
    "current_path = os.path.abspath(os.getcwd())\n",
    "parent_path = os.path.abspath(os.path.join(current_path, os.pardir))\n",
    "grand_parent_path = os.path.abspath(os.path.join(parent_path, os.pardir))\n",
    "main_path = os.path.abspath(os.path.join(grand_parent_path, os.pardir))\n",
    "\n",
    "path_results = main_path+'/results/dots/'"
   ]
  },
  {
   "cell_type": "code",
   "execution_count": null,
   "metadata": {},
   "outputs": [],
   "source": [
    "import sys\n",
    "sys.path.insert(1, main_path+'/src')\n",
    "import my_functions as myf"
   ]
  },
  {
   "cell_type": "code",
   "execution_count": null,
   "metadata": {},
   "outputs": [],
   "source": [
    "mpl.rcParams['lines.linewidth'] = 3\n",
    "mpl.rcParams['axes.titlesize'] = 18\n",
    "mpl.rcParams['axes.labelsize'] = 18\n",
    "mpl.rcParams['lines.markersize'] = 10\n",
    "mpl.rcParams['xtick.labelsize'] = 20\n",
    "mpl.rcParams['ytick.labelsize'] = 20\n",
    "mpl.rcParams['axes.linewidth'] = 3\n",
    "#mpl.rcParams['xtick.major.size'] = 20\n",
    "mpl.rcParams['xtick.major.width'] = 4\n",
    "#mpl.rcParams['xtick.minor.size'] = 10\n",
    "mpl.rcParams['xtick.minor.width'] = 2\n",
    "mpl.rcParams['ytick.major.width'] = 4\n",
    "mpl.rcParams['ytick.minor.width'] = 2\n",
    "\n",
    "fday = [1,2,3,4,5,6,7,8,9,10]\n",
    "fsession = [1,2]\n",
    "\n",
    "adf = pd.read_csv(path_results+'preanalyzed.csv')  \n",
    "# morning df\n",
    "mdf = adf[adf['sessionID_x']%2==1]\n",
    "\n",
    "excluded = ['3062_1','3062_2','3062_4']\n",
    "adf_sin_nan = adf[~adf.user_sessionID.isin(excluded)]\n",
    "mdf_sin_nan = adf_sin_nan[adf_sin_nan['sessionID_x']%2==1]\n",
    "\n",
    "reports = ['mood','real_stress','food','sleep']\n",
    "confidence = ['Dsubj_optout_oo','OKubj_RT_no']"
   ]
  },
  {
   "cell_type": "code",
   "execution_count": null,
   "metadata": {},
   "outputs": [],
   "source": [
    "userids = adf['userID'].unique()"
   ]
  },
  {
   "cell_type": "code",
   "execution_count": null,
   "metadata": {},
   "outputs": [],
   "source": [
    "# mean self-reports across participants\n",
    "sessionids = adf['sessionID_x'].unique()"
   ]
  },
  {
   "cell_type": "code",
   "execution_count": null,
   "metadata": {},
   "outputs": [],
   "source": [
    "m1 = smf.mixedlm(\"mood ~ 1\", adf, groups=adf[\"userID\"])\n",
    "m1f = m1.fit()\n",
    "print(m1f.summary())\n",
    "print(m1f.pvalues)"
   ]
  },
  {
   "cell_type": "code",
   "execution_count": null,
   "metadata": {},
   "outputs": [],
   "source": [
    "m2 = smf.mixedlm(\"mood ~ 1\", adf, groups=adf[\"userID\"],re_formula=\"~userID\")\n",
    "m2f = m2.fit()\n",
    "print(m2f.summary())\n",
    "print(m2f.pvalues)"
   ]
  },
  {
   "cell_type": "markdown",
   "metadata": {},
   "source": [
    "## Self-reports"
   ]
  },
  {
   "cell_type": "markdown",
   "metadata": {},
   "source": [
    "### Mood & Stress"
   ]
  },
  {
   "cell_type": "code",
   "execution_count": null,
   "metadata": {},
   "outputs": [],
   "source": [
    "mm_mo_st = smf.mixedlm(\"mood ~ stress\", adf, groups=adf[\"userID\"])\n",
    "mdf_mo_st = mm_mo_st.fit()\n",
    "print(mdf_mo_st.summary())\n",
    "print(mdf_mo_st.pvalues)"
   ]
  },
  {
   "cell_type": "code",
   "execution_count": null,
   "metadata": {},
   "outputs": [],
   "source": [
    "mdf_mo_st.params['Intercept']"
   ]
  },
  {
   "cell_type": "code",
   "execution_count": null,
   "metadata": {},
   "outputs": [],
   "source": [
    "mm_mo = smf.mixedlm(\"mood ~ food + stress\", adf, groups=adf[\"userID\"])\n",
    "mdf_mo = mm_mo.fit()\n",
    "print(mdf_mo.summary())"
   ]
  },
  {
   "cell_type": "code",
   "execution_count": null,
   "metadata": {},
   "outputs": [],
   "source": [
    "mm_mo = smf.mixedlm(\"mood ~ sleep + food + real_stress\", mdf, groups=mdf[\"userID\"])\n",
    "mdf_mo = mm_mo.fit()\n",
    "print(mdf_mo.summary())"
   ]
  },
  {
   "cell_type": "code",
   "execution_count": null,
   "metadata": {},
   "outputs": [],
   "source": [
    "results = {}\n",
    "with open(path_results+'LMMdots.csv', 'w', newline='') as myfile:\n",
    "    header = [['','','FE','','','RE','',''],['','','slope','1|subj','daic','slope|subj','1|subj','daic']]\n",
    "    wr = csv.writer(myfile, quoting=csv.QUOTE_ALL)\n",
    "    wr.writerows(header)\n",
    "    for conf in confidence:\n",
    "        results[conf] = {}\n",
    "        control_model = smf.mixedlm(conf+\" ~ 1\", adf_sin_nan, groups=adf_sin_nan[\"userID\"])\n",
    "        control_model_fit = control_model.fit()\n",
    "        control_AIC = myf.AIC(2,control_model_fit.llf)\n",
    "        results[conf]['controlAIC'] = control_AIC\n",
    "        results[conf]['RMSE_control'] = np.round(np.sqrt(((adf_sin_nan[conf]-control_model_fit.fittedvalues)**2).values.mean()),1)\n",
    "\n",
    "        mor_control_model = smf.mixedlm(conf+\" ~ 1\", mdf_sin_nan, groups=mdf_sin_nan[\"userID\"])\n",
    "        mor_control_model_fit = mor_control_model.fit()\n",
    "        mor_control_AIC = myf.AIC(2,mor_control_model_fit.llf)\n",
    "        results[conf]['morning_controlAIC'] = mor_control_AIC\n",
    "        results[conf]['RMSE_mor_control'] = np.round(np.sqrt(((mdf_sin_nan[conf]-mor_control_model_fit.fittedvalues)**2).values.mean()),1)\n",
    "        for rep in reports:\n",
    "            results[conf][rep] = {}\n",
    "            results[conf][rep]['FE'],results[conf][rep]['RE'] = {},{}\n",
    "            if rep != 'sleep':\n",
    "                DF = adf_sin_nan\n",
    "                controlModel = control_model_fit\n",
    "\n",
    "            else:\n",
    "                DF = mdf_sin_nan\n",
    "                controlModel = mor_control_model_fit\n",
    "            FE = smf.mixedlm(conf+\" ~ \"+rep, DF, groups=DF[\"userID\"])\n",
    "            FE_fit = FE.fit()\n",
    "            p_value_FE = FE_fit.pvalues[rep]\n",
    "            results[conf][rep]['FE']['pvalue'] = myf.roundP(p_value_FE)\n",
    "            results[conf][rep]['FE']['dAIC_FE'] = np.round(myf.dAIC(3,FE_fit.llf,controlModel.llf),1)\n",
    "            results[conf][rep]['FE']['RMSE_FE'] = np.round(np.sqrt(((DF[conf]-FE_fit.fittedvalues)**2).values.mean()),1)\n",
    "\n",
    "            RE = smf.mixedlm(conf+\" ~ \"+rep,DF,groups=DF[\"userID\"],re_formula=\"~\"+rep)\n",
    "            RE_fit = RE.fit()\n",
    "            p_value_RE = RE_fit.pvalues[rep]\n",
    "            results[conf][rep]['RE']['pvalue'] = myf.roundP(p_value_RE)\n",
    "            results[conf][rep]['RE']['dAIC_RE'] = np.round(myf.dAIC(5,RE_fit.llf,controlModel.llf),1)\n",
    "            results[conf][rep]['RE']['RMSE_RE'] = np.round(np.sqrt(((DF[conf]-RE_fit.fittedvalues)**2).values.mean()),1)\n",
    "            if rep=='mood':\n",
    "                row = [conf,rep,FE_fit.params[rep],FE_fit.params['Group Var'],results[conf][rep]['FE']['dAIC_FE'],\\\n",
    "                       RE_fit.params[rep],RE_fit.params['Group Var'],results[conf][rep]['RE']['dAIC_RE']]\n",
    "            else:\n",
    "                row = ['',rep,FE_fit.params[rep],FE_fit.params['Group Var'],results[conf][rep]['FE']['dAIC_FE'],\\\n",
    "                       RE_fit.params[rep],RE_fit.params['Group Var'],results[conf][rep]['RE']['dAIC_RE']]            \n",
    "            wr.writerow(row)"
   ]
  },
  {
   "cell_type": "code",
   "execution_count": null,
   "metadata": {},
   "outputs": [],
   "source": [
    "# DO NOT RUN AGAIN\n",
    "\n",
    "# write the result in file\n",
    "filename=path_results+'LMMresults.json'\n",
    "# Serializing json  \n",
    "json_results = json.dumps(results) \n",
    "\n",
    "# Writing to sample.json \n",
    "with open(filename, \"w\") as outfile: \n",
    "    outfile.write(json_results) "
   ]
  },
  {
   "cell_type": "code",
   "execution_count": null,
   "metadata": {},
   "outputs": [],
   "source": [
    "dfR = pd.DataFrame(results)"
   ]
  },
  {
   "cell_type": "code",
   "execution_count": null,
   "metadata": {},
   "outputs": [],
   "source": [
    "dfR"
   ]
  },
  {
   "cell_type": "code",
   "execution_count": null,
   "metadata": {
    "scrolled": true
   },
   "outputs": [],
   "source": [
    "results['Dsubj_optout_oo']['mood']"
   ]
  },
  {
   "cell_type": "code",
   "execution_count": null,
   "metadata": {},
   "outputs": [],
   "source": [
    "np.round(0.5218127846178364,1)"
   ]
  },
  {
   "cell_type": "markdown",
   "metadata": {},
   "source": [
    "# Optout & reports"
   ]
  },
  {
   "cell_type": "markdown",
   "metadata": {},
   "source": [
    "## Control model"
   ]
  },
  {
   "cell_type": "code",
   "execution_count": null,
   "metadata": {},
   "outputs": [],
   "source": [
    "mm_Doo_ID_RE = smf.mixedlm(confidence[0]+\" ~ 1\", adf_sin_nan, groups=adf_sin_nan[\"userID\"])\n",
    "mdf_Doo_ID_RE = mm_Doo_ID_RE.fit()\n",
    "print(mdf_Doo_ID_RE.summary())"
   ]
  },
  {
   "cell_type": "markdown",
   "metadata": {},
   "source": [
    "AIC = 2k - 2 log-likehood, k=2"
   ]
  },
  {
   "cell_type": "code",
   "execution_count": null,
   "metadata": {},
   "outputs": [],
   "source": [
    "'AIC=',myf.AIC(2,mdf_Doo_ID_RE.llf)"
   ]
  },
  {
   "cell_type": "markdown",
   "metadata": {},
   "source": [
    "## Mood"
   ]
  },
  {
   "cell_type": "markdown",
   "metadata": {},
   "source": [
    "### Fixed effects model"
   ]
  },
  {
   "cell_type": "code",
   "execution_count": null,
   "metadata": {},
   "outputs": [],
   "source": [
    "mm_oo_FE_FE = smf.mixedlm(\"Dsubj_optout_oo ~ mood\", adf_sin_nan, groups=adf_sin_nan[\"userID\"])\n",
    "mdf_oo_FE_FE = mm_oo_FE_FE.fit()\n",
    "print(mdf_oo_FE_FE.summary())"
   ]
  },
  {
   "cell_type": "markdown",
   "metadata": {},
   "source": [
    "&Delta; AIC = 2(k-2) - 2 log-likehood + 2 log-likehood_control, k=3"
   ]
  },
  {
   "cell_type": "code",
   "execution_count": null,
   "metadata": {},
   "outputs": [],
   "source": [
    "'\\u0394 AIC=',myf.dAIC(3,mdf_oo_FE_FE.llf,mdf_Doo_ID_RE.llf)"
   ]
  },
  {
   "cell_type": "markdown",
   "metadata": {},
   "source": [
    "### Random effects model"
   ]
  },
  {
   "cell_type": "code",
   "execution_count": null,
   "metadata": {},
   "outputs": [],
   "source": [
    "mm_oo_re_RE = smf.mixedlm(\"Dsubj_optout_oo ~ mood\",adf_sin_nan,groups=adf_sin_nan[\"userID\"],\\\n",
    "                         re_formula=\"~mood\")\n",
    "mdf_oo_re_RE = mm_oo_re_RE.fit()\n",
    "print(mdf_oo_re_RE.summary())"
   ]
  },
  {
   "cell_type": "markdown",
   "metadata": {},
   "source": [
    "&Delta; AIC = 2(k-2) - 2 log-likehood + 2 log-likehood_control, k=5"
   ]
  },
  {
   "cell_type": "code",
   "execution_count": null,
   "metadata": {},
   "outputs": [],
   "source": [
    "'\\u0394 AIC=',myf.dAIC(5,mdf_oo_re_RE.llf,mdf_Doo_ID_RE.llf)"
   ]
  },
  {
   "cell_type": "code",
   "execution_count": null,
   "metadata": {},
   "outputs": [],
   "source": [
    "mdf_oo_FE_FE.f_test()"
   ]
  },
  {
   "cell_type": "code",
   "execution_count": null,
   "metadata": {},
   "outputs": [],
   "source": [
    "anovaResults = anova(mdf_oo_FE_FE, mdf_oo_re_RE)\n",
    "\n",
    "print(anovaResults)"
   ]
  },
  {
   "cell_type": "code",
   "execution_count": null,
   "metadata": {},
   "outputs": [],
   "source": [
    "y_predict = mdf_oo_FE_FE.fittedvalues\n",
    "y = adf_sin_nan['Dsubj_optout_oo']\n"
   ]
  },
  {
   "cell_type": "code",
   "execution_count": null,
   "metadata": {},
   "outputs": [],
   "source": [
    "RMSE"
   ]
  },
  {
   "cell_type": "code",
   "execution_count": null,
   "metadata": {},
   "outputs": [],
   "source": [
    "mm_oo_FE_FE.fittedvalues"
   ]
  },
  {
   "cell_type": "markdown",
   "metadata": {},
   "source": [
    "## Stress"
   ]
  },
  {
   "cell_type": "markdown",
   "metadata": {},
   "source": [
    "### Fixed effects model"
   ]
  },
  {
   "cell_type": "code",
   "execution_count": null,
   "metadata": {},
   "outputs": [],
   "source": [
    "mm_oo_st_FE = smf.mixedlm(\"Dsubj_optout_oo ~ real_stress\", adf_sin_nan, groups=adf_sin_nan[\"userID\"])\n",
    "mdf_oo_st_FE = mm_oo_st_FE.fit()\n",
    "print(mdf_oo_st_FE.summary())"
   ]
  },
  {
   "cell_type": "markdown",
   "metadata": {},
   "source": [
    "&Delta; AIC = 2(k-2) - 2 log-likehood + 2 log-likehood_control, k=3"
   ]
  },
  {
   "cell_type": "code",
   "execution_count": null,
   "metadata": {},
   "outputs": [],
   "source": [
    "'\\u0394 AIC=',myf.dAIC(3,mdf_oo_st_FE.llf,mdf_Doo_ID_RE.llf)"
   ]
  },
  {
   "cell_type": "markdown",
   "metadata": {},
   "source": [
    "### Random effects model"
   ]
  },
  {
   "cell_type": "code",
   "execution_count": null,
   "metadata": {},
   "outputs": [],
   "source": [
    "mm_oo_st_RE = smf.mixedlm(\"Dsubj_optout_oo ~ real_stress\",adf_sin_nan,groups=adf_sin_nan[\"userID\"],\\\n",
    "                         re_formula=\"~real_stress\")\n",
    "mdf_oo_st_RE = mm_oo_st_RE.fit()\n",
    "print(mdf_oo_st_RE.summary())"
   ]
  },
  {
   "cell_type": "markdown",
   "metadata": {},
   "source": [
    "&Delta; AIC = 2(k-2) - 2 log-likehood + 2 log-likehood_control, k=5"
   ]
  },
  {
   "cell_type": "code",
   "execution_count": null,
   "metadata": {},
   "outputs": [],
   "source": [
    "'\\u0394 AIC=',myf.dAIC(5,mdf_oo_st_RE.llf,mdf_Doo_ID_RE.llf)"
   ]
  },
  {
   "cell_type": "markdown",
   "metadata": {},
   "source": [
    "## Food"
   ]
  },
  {
   "cell_type": "markdown",
   "metadata": {},
   "source": [
    "### Fixed effects model"
   ]
  },
  {
   "cell_type": "code",
   "execution_count": null,
   "metadata": {},
   "outputs": [],
   "source": [
    "mm_oo_fo_FE = smf.mixedlm(\"Dsubj_optout_oo ~ food\", adf_sin_nan, groups=adf_sin_nan[\"userID\"])\n",
    "mdf_oo_fo_FE = mm_oo_fo_FE.fit()\n",
    "print(mdf_oo_fo_FE.summary())"
   ]
  },
  {
   "cell_type": "code",
   "execution_count": null,
   "metadata": {},
   "outputs": [],
   "source": [
    "mdf_oo_fo_FE.pvalues['food']"
   ]
  },
  {
   "cell_type": "markdown",
   "metadata": {},
   "source": [
    "&Delta; AIC = 2(k-2) - 2 log-likehood + 2 log-likehood_control, k=3"
   ]
  },
  {
   "cell_type": "code",
   "execution_count": null,
   "metadata": {},
   "outputs": [],
   "source": [
    "'\\u0394 AIC=',myf.dAIC(3,mdf_oo_fo_FE.llf,mdf_Doo_ID_RE.llf)"
   ]
  },
  {
   "cell_type": "markdown",
   "metadata": {},
   "source": [
    "### Random effects model"
   ]
  },
  {
   "cell_type": "code",
   "execution_count": null,
   "metadata": {},
   "outputs": [],
   "source": [
    "mm_oo_fo_RE = smf.mixedlm(\"Dsubj_optout_oo ~ food\",adf_sin_nan,groups=adf_sin_nan[\"userID\"],\\\n",
    "                         re_formula=\"~food\")\n",
    "mdf_oo_fo_RE = mm_oo_fo_RE.fit()\n",
    "print(mdf_oo_fo_RE.summary())"
   ]
  },
  {
   "cell_type": "markdown",
   "metadata": {},
   "source": [
    "&Delta; AIC = 2(k-2) - 2 log-likehood + 2 log-likehood_control, k=5"
   ]
  },
  {
   "cell_type": "code",
   "execution_count": null,
   "metadata": {},
   "outputs": [],
   "source": [
    "'\\u0394 AIC=',myf.dAIC(5,mdf_oo_fo_RE.llf,mdf_Doo_ID_RE.llf)"
   ]
  },
  {
   "cell_type": "markdown",
   "metadata": {},
   "source": [
    "## Sleep"
   ]
  },
  {
   "cell_type": "markdown",
   "metadata": {},
   "source": [
    "### Control morning model"
   ]
  },
  {
   "cell_type": "code",
   "execution_count": null,
   "metadata": {},
   "outputs": [],
   "source": [
    "mm_Doo_ID_mor = smf.mixedlm(\"Dsubj_optout_oo ~ 1\", mdf_sin_nan, groups=mdf_sin_nan[\"userID\"])\n",
    "mdf_Doo_ID_mor = mm_Doo_ID_mor.fit()\n",
    "print(mdf_Doo_ID_mor.summary())"
   ]
  },
  {
   "cell_type": "code",
   "execution_count": null,
   "metadata": {},
   "outputs": [],
   "source": [
    "'AIC=',myf.AIC(2,mdf_Doo_ID_mor.llf)"
   ]
  },
  {
   "cell_type": "markdown",
   "metadata": {},
   "source": [
    "### Fixed effects model"
   ]
  },
  {
   "cell_type": "code",
   "execution_count": null,
   "metadata": {},
   "outputs": [],
   "source": [
    "mm_oo_sl_FE = smf.mixedlm(\"Dsubj_optout_oo ~ sleep\", mdf_sin_nan, groups=mdf_sin_nan[\"userID\"])\n",
    "mdf_oo_sl_FE = mm_oo_sl_FE.fit()\n",
    "print(mdf_oo_sl_FE.summary())"
   ]
  },
  {
   "cell_type": "markdown",
   "metadata": {},
   "source": [
    "&Delta; AIC = 2(k-2) - 2 log-likehood + 2 log-likehood_control, k=3"
   ]
  },
  {
   "cell_type": "code",
   "execution_count": null,
   "metadata": {},
   "outputs": [],
   "source": [
    "print('\\u0394 AIC = 2(k-2) - 2 log-likehood + 2 log-likehood_control, K=3')\n",
    "print('AIC=',2*1-2*(-1124.8643)+2*(-1127.4608))"
   ]
  },
  {
   "cell_type": "markdown",
   "metadata": {},
   "source": [
    "### Random effects model"
   ]
  },
  {
   "cell_type": "code",
   "execution_count": null,
   "metadata": {},
   "outputs": [],
   "source": [
    "mm_oo_sl_RE = smf.mixedlm(\"Dsubj_optout_oo ~ sleep\",mdf_sin_nan,groups=mdf_sin_nan[\"userID\"],\\\n",
    "                         re_formula=\"~sleep\")\n",
    "mdf_oo_sl_RE = mm_oo_sl_RE.fit()\n",
    "print(mdf_oo_sl_RE.summary())"
   ]
  },
  {
   "cell_type": "markdown",
   "metadata": {},
   "source": [
    "&Delta; AIC = 2(k-2) - 2 log-likehood + 2 log-likehood_control, k=5"
   ]
  },
  {
   "cell_type": "code",
   "execution_count": null,
   "metadata": {},
   "outputs": [],
   "source": [
    "print('\\u0394 AIC = 2(k-2) - 2 log-likehood + 2 log-likehood_control, K=5')\n",
    "print('AIC=',2*3-2*(-1123.6820)+2*(-1127.4608))"
   ]
  },
  {
   "cell_type": "markdown",
   "metadata": {},
   "source": [
    "# RT (correct+NO) & reports"
   ]
  },
  {
   "cell_type": "markdown",
   "metadata": {},
   "source": [
    "### Control model"
   ]
  },
  {
   "cell_type": "code",
   "execution_count": null,
   "metadata": {},
   "outputs": [],
   "source": [
    "mm_rt_ID_RE = smf.mixedlm(\"OKubj_RT_no ~ 1\", adf_sin_nan, groups=adf_sin_nan[\"userID\"])\n",
    "mdf_rt_ID_RE = mm_rt_ID_RE.fit()\n",
    "print(mdf_rt_ID_RE.summary())"
   ]
  },
  {
   "cell_type": "code",
   "execution_count": null,
   "metadata": {},
   "outputs": [],
   "source": [
    "print('AIC = 2k - 2 log-likehood, k=2')\n",
    "print('AIC=',2*2-2*(752.1399))"
   ]
  },
  {
   "cell_type": "markdown",
   "metadata": {},
   "source": [
    "## Mood"
   ]
  },
  {
   "cell_type": "markdown",
   "metadata": {},
   "source": [
    "### Fixed effects model"
   ]
  },
  {
   "cell_type": "code",
   "execution_count": null,
   "metadata": {},
   "outputs": [],
   "source": [
    "mm_rt_FE_FE = smf.mixedlm(\"OKubj_RT_no ~ mood\", adf_sin_nan, groups=adf_sin_nan[\"userID\"])\n",
    "mdf_rt_FE_FE = mm_rt_FE_FE.fit()\n",
    "print(mdf_rt_FE_FE.summary())"
   ]
  },
  {
   "cell_type": "markdown",
   "metadata": {},
   "source": [
    "&Delta; AIC = 2(k-2) - 2 log-likehood + 2 log-likehood_control, k=3"
   ]
  },
  {
   "cell_type": "code",
   "execution_count": null,
   "metadata": {},
   "outputs": [],
   "source": [
    "print('\\u0394 AIC = 2(k-2) - 2 log-likehood + 2 log-likehood_control, K=3')\n",
    "print('AIC=',2*1-2*(750.8119)+2*(752.1399))"
   ]
  },
  {
   "cell_type": "markdown",
   "metadata": {},
   "source": [
    "### Random effects model"
   ]
  },
  {
   "cell_type": "code",
   "execution_count": null,
   "metadata": {},
   "outputs": [],
   "source": [
    "mm_rt_re_RE = smf.mixedlm(\"OKubj_RT_no ~ mood\",adf_sin_nan,groups=adf_sin_nan[\"userID\"],\\\n",
    "                         re_formula=\"~mood\")\n",
    "mdf_rt_re_RE = mm_rt_re_RE.fit()\n",
    "print(mdf_rt_re_RE.summary())"
   ]
  },
  {
   "cell_type": "markdown",
   "metadata": {},
   "source": [
    "&Delta; AIC = 2(k-2) - 2 log-likehood + 2 log-likehood_control, k=5"
   ]
  },
  {
   "cell_type": "code",
   "execution_count": null,
   "metadata": {},
   "outputs": [],
   "source": [
    "print('AIC = 2k - 2 log-likehood')\n",
    "print('AIC=',2*2-2*(752.1399))"
   ]
  },
  {
   "cell_type": "code",
   "execution_count": null,
   "metadata": {},
   "outputs": [],
   "source": [
    "## Stress"
   ]
  },
  {
   "cell_type": "code",
   "execution_count": null,
   "metadata": {},
   "outputs": [],
   "source": [
    "### Fixed effects model"
   ]
  },
  {
   "cell_type": "markdown",
   "metadata": {},
   "source": [
    "&Delta; AIC = 2(k-2) - 2 log-likehood + 2 log-likehood_control, k=3"
   ]
  },
  {
   "cell_type": "code",
   "execution_count": null,
   "metadata": {},
   "outputs": [],
   "source": [
    "### Random effects model"
   ]
  },
  {
   "cell_type": "markdown",
   "metadata": {},
   "source": [
    "&Delta; AIC = 2(k-2) - 2 log-likehood + 2 log-likehood_control, k=5"
   ]
  },
  {
   "cell_type": "code",
   "execution_count": null,
   "metadata": {},
   "outputs": [],
   "source": [
    "## Food"
   ]
  },
  {
   "cell_type": "code",
   "execution_count": null,
   "metadata": {},
   "outputs": [],
   "source": [
    "### Fixed effects model"
   ]
  },
  {
   "cell_type": "markdown",
   "metadata": {},
   "source": [
    "&Delta; AIC = 2(k-2) - 2 log-likehood + 2 log-likehood_control, k=3"
   ]
  },
  {
   "cell_type": "code",
   "execution_count": null,
   "metadata": {},
   "outputs": [],
   "source": [
    "### Random effects model"
   ]
  },
  {
   "cell_type": "markdown",
   "metadata": {},
   "source": [
    "&Delta; AIC = 2(k-2) - 2 log-likehood + 2 log-likehood_control, k=5"
   ]
  },
  {
   "cell_type": "code",
   "execution_count": null,
   "metadata": {},
   "outputs": [],
   "source": [
    "## Sleep"
   ]
  },
  {
   "cell_type": "code",
   "execution_count": null,
   "metadata": {},
   "outputs": [],
   "source": []
  },
  {
   "cell_type": "code",
   "execution_count": null,
   "metadata": {},
   "outputs": [],
   "source": [
    "### Fixed effects model"
   ]
  },
  {
   "cell_type": "markdown",
   "metadata": {},
   "source": [
    "&Delta; AIC = 2(k-2) - 2 log-likehood + 2 log-likehood_control, k=3"
   ]
  },
  {
   "cell_type": "code",
   "execution_count": null,
   "metadata": {},
   "outputs": [],
   "source": [
    "### Random effects model"
   ]
  },
  {
   "cell_type": "markdown",
   "metadata": {},
   "source": [
    "&Delta; AIC = 2(k-2) - 2 log-likehood + 2 log-likehood_control, k=5"
   ]
  },
  {
   "cell_type": "markdown",
   "metadata": {},
   "source": [
    "## Mood distribution"
   ]
  },
  {
   "cell_type": "code",
   "execution_count": null,
   "metadata": {},
   "outputs": [],
   "source": [
    "plt.hist(adf['mood'])\n",
    "plt.show()"
   ]
  },
  {
   "cell_type": "markdown",
   "metadata": {},
   "source": [
    "## Stress & optout"
   ]
  },
  {
   "cell_type": "markdown",
   "metadata": {},
   "source": [
    "### Fixed effects model"
   ]
  },
  {
   "cell_type": "code",
   "execution_count": null,
   "metadata": {},
   "outputs": [],
   "source": [
    "mm_oo_stress_FE = smf.mixedlm(\"Dsubj_optout_oo ~ stress\", adf_sin_nan, groups=adf_sin_nan[\"userID\"])\n",
    "mdf_oo_stress_FE = mm_oo_stress_FE.fit()\n",
    "print(mdf_oo_stress_FE.summary())"
   ]
  },
  {
   "cell_type": "code",
   "execution_count": null,
   "metadata": {},
   "outputs": [],
   "source": [
    "print('AIC = 2k - 2 log-likehood')\n",
    "print('AIC=',2*3-2*(-2160.2123))"
   ]
  },
  {
   "cell_type": "markdown",
   "metadata": {},
   "source": [
    "### Random effects model"
   ]
  },
  {
   "cell_type": "code",
   "execution_count": null,
   "metadata": {},
   "outputs": [],
   "source": [
    "mm_oo_stress_RE = smf.mixedlm(\"Dsubj_optout_oo ~ stress\", adf_sin_nan, groups=adf_sin_nan[\"userID\"],re_formula=\"~stress\")\n",
    "mdf_oo_stress_RE = mm_oo_stress_RE.fit()\n",
    "print(mdf_oo_stress_RE.summary())"
   ]
  },
  {
   "cell_type": "code",
   "execution_count": null,
   "metadata": {},
   "outputs": [],
   "source": [
    "print('AIC = 2k - 2 log-likehood')\n",
    "print('AIC=',2*5-2*(-2148.1373))"
   ]
  },
  {
   "cell_type": "markdown",
   "metadata": {},
   "source": [
    "## Stress and type optout\n",
    "\n",
    "We double stress data and see if we can join D and S optout data. "
   ]
  },
  {
   "cell_type": "code",
   "execution_count": null,
   "metadata": {},
   "outputs": [],
   "source": [
    "from pingouin import ancova"
   ]
  },
  {
   "cell_type": "code",
   "execution_count": null,
   "metadata": {},
   "outputs": [],
   "source": [
    "stress_todos = np.array(adf_sin_nan['real_stress'])\n",
    "DO_todos = np.array(adf_sin_nan['Dsubj_optout_oo'])\n",
    "SO_todos = np.array(adf_sin_nan['Ssubj_optout_oo'])"
   ]
  },
  {
   "cell_type": "code",
   "execution_count": null,
   "metadata": {},
   "outputs": [],
   "source": [
    "optout_todos = np.concatenate((DO_todos,SO_todos))\n",
    "optout_type = ['D']*len(DO_todos)+['S']*len(SO_todos)\n",
    "doble_stress = np.concatenate((stress_todos,stress_todos))\n",
    "users = np.concatenate((np.array(adf_sin_nan['userID']),np.array(adf_sin_nan['userID'])))"
   ]
  },
  {
   "cell_type": "code",
   "execution_count": null,
   "metadata": {},
   "outputs": [],
   "source": [
    "ancova_df = pd.DataFrame({'userID':users,'stress':doble_stress,'optout':optout_todos,'optout_type':optout_type})"
   ]
  },
  {
   "cell_type": "markdown",
   "metadata": {},
   "source": [
    "### Ancova"
   ]
  },
  {
   "cell_type": "code",
   "execution_count": null,
   "metadata": {},
   "outputs": [],
   "source": [
    "ancova(data=ancova_df, dv='optout', covar='stress', between='optout_type')"
   ]
  },
  {
   "cell_type": "markdown",
   "metadata": {},
   "source": [
    "### Fixed effects D+Soptout & stress"
   ]
  },
  {
   "cell_type": "code",
   "execution_count": null,
   "metadata": {},
   "outputs": [],
   "source": [
    "mm_DSoo_stress_FE = smf.mixedlm(\"optout ~ stress\", ancova_df, groups=ancova_df[\"userID\"])\n",
    "mdf_DSoo_stress_FE = mm_DSoo_stress_FE.fit()\n",
    "print(mdf_DSoo_stress_FE.summary())"
   ]
  },
  {
   "cell_type": "code",
   "execution_count": null,
   "metadata": {},
   "outputs": [],
   "source": [
    "print('AIC = 2k - 2 log-likehood')\n",
    "print('AIC=',2*3-2*(-4442.6952))"
   ]
  },
  {
   "cell_type": "markdown",
   "metadata": {},
   "source": [
    "### Random effects D+Soptout & stress"
   ]
  },
  {
   "cell_type": "code",
   "execution_count": null,
   "metadata": {},
   "outputs": [],
   "source": [
    "mm_DSoo_stress_RE = smf.mixedlm(\"optout ~ stress\", ancova_df, groups=ancova_df[\"userID\"],re_formula=\"~stress\")\n",
    "mdf_DSoo_stress_RE = mm_DSoo_stress_RE.fit()\n",
    "print(mdf_DSoo_stress_RE.summary())"
   ]
  },
  {
   "cell_type": "code",
   "execution_count": null,
   "metadata": {},
   "outputs": [],
   "source": [
    "print('AIC = 2k - 2 log-likehood')\n",
    "print('AIC=',2*5-2*(-4430.0444))"
   ]
  },
  {
   "cell_type": "code",
   "execution_count": null,
   "metadata": {},
   "outputs": [],
   "source": []
  },
  {
   "cell_type": "code",
   "execution_count": null,
   "metadata": {},
   "outputs": [],
   "source": []
  },
  {
   "cell_type": "code",
   "execution_count": null,
   "metadata": {},
   "outputs": [],
   "source": []
  }
 ],
 "metadata": {
  "kernelspec": {
   "display_name": "Python 3",
   "language": "python",
   "name": "python3"
  },
  "language_info": {
   "codemirror_mode": {
    "name": "ipython",
    "version": 3
   },
   "file_extension": ".py",
   "mimetype": "text/x-python",
   "name": "python",
   "nbconvert_exporter": "python",
   "pygments_lexer": "ipython3",
   "version": "3.8.5"
  }
 },
 "nbformat": 4,
 "nbformat_minor": 4
}
