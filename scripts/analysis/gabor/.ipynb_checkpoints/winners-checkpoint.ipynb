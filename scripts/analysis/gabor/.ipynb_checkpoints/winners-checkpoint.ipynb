{
 "cells": [
  {
   "cell_type": "code",
   "execution_count": null,
   "metadata": {},
   "outputs": [],
   "source": [
    "import pandas as pd\n",
    "import os\n",
    "import json\n",
    "import numpy as np\n",
    "from itertools import groupby\n",
    "import matplotlib.pyplot as plt\n",
    "from scipy import stats\n",
    "import matplotlib as mpl\n",
    "from sklearn.linear_model import LogisticRegression\n",
    "import random\n",
    "import re\n",
    "import csv\n",
    "import warnings\n",
    "warnings.filterwarnings('ignore')\n",
    "\n",
    "mpl.rcParams['lines.linewidth'] = 3\n",
    "mpl.rcParams['axes.titlesize'] = 18\n",
    "mpl.rcParams['axes.labelsize'] = 18\n",
    "mpl.rcParams['lines.markersize'] = 10\n",
    "mpl.rcParams['xtick.labelsize'] = 20\n",
    "mpl.rcParams['ytick.labelsize'] = 20\n",
    "mpl.rcParams['axes.linewidth'] = 3\n",
    "#mpl.rcParams['xtick.major.size'] = 20\n",
    "mpl.rcParams['xtick.major.width'] = 4\n",
    "#mpl.rcParams['xtick.minor.size'] = 10\n",
    "mpl.rcParams['xtick.minor.width'] = 2\n",
    "mpl.rcParams['ytick.major.width'] = 4\n",
    "mpl.rcParams['ytick.minor.width'] = 2"
   ]
  },
  {
   "cell_type": "code",
   "execution_count": null,
   "metadata": {},
   "outputs": [],
   "source": [
    "current_path = os.path.abspath(os.getcwd())\n",
    "parent_path = os.path.abspath(os.path.join(current_path, os.pardir))\n",
    "grand_parent_path = os.path.abspath(os.path.join(parent_path, os.pardir))\n",
    "main_path = os.path.abspath(os.path.join(grand_parent_path, os.pardir))\n",
    "\n",
    "path_results = main_path+'/results/gabor/'\n",
    "path_data = main_path+'/data/jatos_gabor_data/tanda1/'"
   ]
  },
  {
   "cell_type": "code",
   "execution_count": 317,
   "metadata": {},
   "outputs": [],
   "source": [
    "fday = 10\n",
    "fsession = 2\n",
    "\n",
    "path = path_data+'day'+str(fday)+'/session'+str(fsession)+'/'\n",
    "filename_average=path_results+'across_sessions/average_Day'+str(fday)+'_Sess'+str(fsession)+'.json'"
   ]
  },
  {
   "cell_type": "code",
   "execution_count": 318,
   "metadata": {},
   "outputs": [],
   "source": [
    "data_files = [f for f in os.listdir(path) if f.endswith('_day'+str(fday)+'_session'+str(fsession))]"
   ]
  },
  {
   "cell_type": "code",
   "execution_count": 319,
   "metadata": {},
   "outputs": [],
   "source": [
    "# sort files\n",
    "subj_data = [int(re.search('%s(.*)%s' % ('', '_day'), f).group(1)) for f in data_files]\n",
    "sorted_subj_data = sorted(subj_data)\n",
    "index_subj_data = [subj_data.index(elem) for elem in sorted_subj_data]\n",
    "sorted_data_files = [data_files[i] for i in index_subj_data]"
   ]
  },
  {
   "cell_type": "code",
   "execution_count": 320,
   "metadata": {},
   "outputs": [],
   "source": [
    "# reports, staircase, deterministic and stochastic df for each participant\n",
    "\n",
    "Rdf,Cdf,Ddf,Sdf = {},{},{},{}\n",
    "for name in sorted_subj_data: \n",
    "    Rdf[name] = {}\n",
    "    Cdf[name] = pd.DataFrame()\n",
    "    Ddf[name] = pd.DataFrame()\n",
    "    Sdf[name] = pd.DataFrame()"
   ]
  },
  {
   "cell_type": "code",
   "execution_count": 321,
   "metadata": {},
   "outputs": [
    {
     "name": "stdout",
     "output_type": "stream",
     "text": [
      "participant:  991 initial datetime stamp:  2020-12-05T16:29:07.360Z\n",
      "participant:  992 initial datetime stamp:  2020-12-05T17:54:13.862Z\n",
      "participant:  993 initial datetime stamp:  2020-12-05T18:55:50.889Z\n",
      "participant:  994 initial datetime stamp:  2020-12-05T16:12:43.591Z\n",
      "participant:  995 initial datetime stamp:  2020-12-05T15:34:38.961Z\n",
      "participant:  996 initial datetime stamp:  2020-12-05T22:13:34.054Z\n",
      "participant:  997 initial datetime stamp:  2020-12-05T20:18:50.759Z\n",
      "participant:  998 initial datetime stamp:  2020-12-05T18:16:48.473Z\n",
      "!!!!!!!!!!!!!!!!!!\n",
      "!!!!!!!!!!!!!!!!!!\n",
      "!!!!!!!!!!!!!!!!!!\n",
      "participant 999 has repeated staircase 2\n",
      "!!!!!!!!!!!!!!!!!!\n",
      "!!!!!!!!!!!!!!!!!!\n",
      "!!!!!!!!!!!!!!!!!!\n",
      "participant:  999 initial datetime stamp:  2020-12-05T17:22:28.693Z\n",
      "!!!!!!!!!!!!!!!!!!\n",
      "!!!!!!!!!!!!!!!!!!\n",
      "!!!!!!!!!!!!!!!!!!\n",
      "participant 1000 has repeated staircase 2\n",
      "!!!!!!!!!!!!!!!!!!\n",
      "!!!!!!!!!!!!!!!!!!\n",
      "!!!!!!!!!!!!!!!!!!\n",
      "participant:  1000 initial datetime stamp:  2020-12-05T18:07:26.373Z\n",
      "participant:  1001 initial datetime stamp:  2020-12-05T15:08:08.604Z\n",
      "participant:  1002 initial datetime stamp:  2020-12-05T18:19:22.250Z\n",
      "participant:  1003 initial datetime stamp:  2020-12-05T16:06:37.049Z\n",
      "participant:  1005 initial datetime stamp:  2020-12-05T15:15:43.727Z\n",
      "participant:  1006 initial datetime stamp:  2020-12-05T15:06:32.299Z\n",
      "participant:  1007 initial datetime stamp:  2020-12-05T16:55:25.372Z\n",
      "participant:  1008 initial datetime stamp:  2020-12-05T15:03:07.059Z\n",
      "participant:  1009 initial datetime stamp:  2020-12-05T15:01:53.314Z\n",
      "participant:  1010 initial datetime stamp:  2020-12-05T16:00:46.632Z\n",
      "participant:  1011 initial datetime stamp:  2020-12-05T18:51:27.825Z\n",
      "participant:  1012 initial datetime stamp:  2020-12-05T16:03:50.076Z\n",
      "participant:  1013 initial datetime stamp:  2020-12-05T15:02:25.014Z\n",
      "participant:  1014 initial datetime stamp:  2020-12-05T17:53:44.170Z\n"
     ]
    }
   ],
   "source": [
    "ind = -1\n",
    "for ses in sorted_data_files:\n",
    "    ind += 1\n",
    "    data = [] \n",
    "    for line in open(path+ses, 'r'):\n",
    "        if line.strip():\n",
    "            data.append(json.loads(line))\n",
    "\n",
    "    if fday==1 and fsession==1:\n",
    "        if len(data)==6:\n",
    "            demographics = data[0]\n",
    "            reports = data[1]\n",
    "            practice = data[2]\n",
    "            staircase = data[3]\n",
    "            deterministic = data[4]\n",
    "            stochastic = data[5]\n",
    "        else:\n",
    "            print('!!!!!!!!!!!!!!!!!!')\n",
    "            print('!!!!!!!!!!!!!!!!!!')\n",
    "            print('!!!!!!!!!!!!!!!!!!')\n",
    "            print('this participant has repeated some stage')\n",
    "            print('!!!!!!!!!!!!!!!!!!')\n",
    "            print('!!!!!!!!!!!!!!!!!!')\n",
    "            print('!!!!!!!!!!!!!!!!!!')\n",
    "    else:\n",
    "        if len(data)==4:\n",
    "            reports = data[0]\n",
    "            staircase = data[1]\n",
    "            deterministic = data[2]\n",
    "            stochastic = data[3]\n",
    "        elif len(data)>4:\n",
    "            reports = data[0]\n",
    "            staircase = data[len(data)-3]\n",
    "            deterministic = data[len(data)-2]\n",
    "            stochastic = data[len(data)-1]\n",
    "            print('!!!!!!!!!!!!!!!!!!')\n",
    "            print('!!!!!!!!!!!!!!!!!!')\n",
    "            print('!!!!!!!!!!!!!!!!!!')\n",
    "            print('participant '+ str(sorted_subj_data[ind])+' has repeated staircase '+str(len(data)-3))\n",
    "            stair = []\n",
    "            for j in range(len(data)):\n",
    "                if len(data[j])==60:\n",
    "                    stair.append(data[j])\n",
    "            print('!!!!!!!!!!!!!!!!!!')\n",
    "            print('!!!!!!!!!!!!!!!!!!')\n",
    "            print('!!!!!!!!!!!!!!!!!!')\n",
    "        else: \n",
    "            for dd in range(len(data)):\n",
    "                print(len(data[dd]))\n",
    "            reports = data[0]\n",
    "            staircase = data[1]\n",
    "            deterministic = data[2]\n",
    "            print('!!!!!!!!!!!!!!!!!!')\n",
    "            print('!!!!!!!!!!!!!!!!!!')\n",
    "            print('!!!!!!!!!!!!!!!!!!')\n",
    "            print('participant '+ str(sorted_subj_data[ind])+' missed stochastic')\n",
    "            print('!!!!!!!!!!!!!!!!!!')\n",
    "            print('!!!!!!!!!!!!!!!!!!')\n",
    "            print('!!!!!!!!!!!!!!!!!!')           \n",
    "            \n",
    "        \n",
    "    part = reports['userID']\n",
    "    if int(part)>1015 and int(part)<1200:\n",
    "        part = str(int(part)-186)\n",
    "    elif int(part)>1200:\n",
    "        part = str(int(part)-217)\n",
    "    if reports['sessionID']%2==0:\n",
    "        session = 2\n",
    "    else:\n",
    "        session = 1\n",
    "    \n",
    "    if (part!=str(sorted_subj_data[ind])):\n",
    "        print('!!!!!!!!!!!!!!!!!!')\n",
    "        print('!!!!!!!!!!!!!!!!!!')\n",
    "        print('!!!!!!!!!!!!!!!!!!')\n",
    "        print('INCORRECT')\n",
    "        print('participant',part,'file participant',sorted_subj_data[ind])\n",
    "        print('!!!!!!!!!!!!!!!!!!')\n",
    "        print('!!!!!!!!!!!!!!!!!!')\n",
    "        print('!!!!!!!!!!!!!!!!!!')\n",
    "    if (session!=fsession):\n",
    "        print('!!!!!!!!!!!!!!!!!!')\n",
    "        print('!!!!!!!!!!!!!!!!!!')\n",
    "        print('!!!!!!!!!!!!!!!!!!')\n",
    "        print('INCORRECT')\n",
    "        print('session',session,'file session',fsession)\n",
    "        print('!!!!!!!!!!!!!!!!!!')\n",
    "        print('!!!!!!!!!!!!!!!!!!')\n",
    "        print('!!!!!!!!!!!!!!!!!!')\n",
    "\n",
    "    Rdf[sorted_subj_data[ind]] = reports\n",
    "    Cdf[sorted_subj_data[ind]] = pd.DataFrame.from_dict(staircase)\n",
    "    Ddf[sorted_subj_data[ind]] = pd.DataFrame.from_dict(deterministic)\n",
    "    Sdf[sorted_subj_data[ind]] = pd.DataFrame.from_dict(stochastic)\n",
    "    print('participant: ',part,'initial datetime stamp: ',reports['date'])"
   ]
  },
  {
   "cell_type": "code",
   "execution_count": 322,
   "metadata": {},
   "outputs": [],
   "source": [
    "# path to save results\n",
    "path_win = path_results+'winners.csv'"
   ]
  },
  {
   "cell_type": "code",
   "execution_count": 323,
   "metadata": {},
   "outputs": [
    {
     "name": "stdout",
     "output_type": "stream",
     "text": [
      "991 448\n",
      "992 452\n",
      "993 448\n",
      "994 449\n",
      "995 408\n",
      "996 388\n",
      "997 283\n",
      "998 418\n",
      "999 422\n",
      "1000 410\n",
      "1001 418\n",
      "1002 417\n",
      "1003 465\n",
      "1005 459\n",
      "1006 431\n",
      "1007 454\n",
      "1008 434\n",
      "1009 355\n",
      "1010 279\n",
      "1011 377\n",
      "1012 338\n",
      "1013 346\n",
      "1014 340\n"
     ]
    }
   ],
   "source": [
    "total_score = []\n",
    "for part in sorted_subj_data:\n",
    "    total_score.append(np.sum(Ddf[part]['score'])+np.sum(Sdf[part]['score']))\n",
    "    print(part,np.sum(Ddf[part]['score'])+np.sum(Sdf[part]['score']))"
   ]
  },
  {
   "cell_type": "code",
   "execution_count": 324,
   "metadata": {},
   "outputs": [],
   "source": [
    "winners = np.zeros(4)\n",
    "winners[0] = fday\n",
    "winners[1] = fsession"
   ]
  },
  {
   "cell_type": "code",
   "execution_count": 325,
   "metadata": {},
   "outputs": [
    {
     "name": "stdout",
     "output_type": "stream",
     "text": [
      "[465, 459, 454, 452, 449, 448, 448, 434, 431, 422, 418, 418, 417, 410, 408, 388, 377, 355, 346, 340, 338, 283, 279]\n",
      "1003 1005\n",
      "(array([12]),)\n"
     ]
    }
   ],
   "source": [
    "sorted_total_score = sorted(total_score, reverse=True)\n",
    "print(sorted_total_score)\n",
    "print(sorted_subj_data[total_score.index(sorted_total_score[0])],\\\n",
    "      sorted_subj_data[total_score.index(sorted_total_score[1])])\n",
    "print(np.where(total_score==sorted_total_score[0]))\n",
    "if len(np.where(total_score==sorted_total_score[0])[0])==2:\n",
    "    winners[2] = sorted_subj_data[np.where(total_score==sorted_total_score[0])[0][0]]\n",
    "    winners[3] = sorted_subj_data[np.where(total_score==sorted_total_score[0])[0][1]]\n",
    "elif len(np.where(total_score==sorted_total_score[0])[0])>2:\n",
    "    print('más de dos ganadores!!!')\n",
    "else:\n",
    "    winners[2] = sorted_subj_data[total_score.index(sorted_total_score[0])]\n",
    "    winners[3] = sorted_subj_data[total_score.index(sorted_total_score[1])]"
   ]
  },
  {
   "cell_type": "code",
   "execution_count": 326,
   "metadata": {},
   "outputs": [],
   "source": [
    "from csv import writer \n",
    "with open(path_win, 'a') as f: \n",
    "    # Pass this file object to csv.writer() \n",
    "    # and get a writer object \n",
    "    writer_object = writer(f) \n",
    "    # Pass the list as an argument into \n",
    "    # the writerow() \n",
    "    writer_object.writerow(winners) \n",
    "    #Close the file object \n",
    "    f.close() "
   ]
  },
  {
   "cell_type": "code",
   "execution_count": 327,
   "metadata": {},
   "outputs": [],
   "source": [
    "Wdf = pd.read_csv(path_win) "
   ]
  },
  {
   "cell_type": "code",
   "execution_count": 328,
   "metadata": {},
   "outputs": [],
   "source": [
    "win1 = list(Wdf['win1'])\n",
    "win2 = list(Wdf['win2'])\n",
    "win = win1+win2"
   ]
  },
  {
   "cell_type": "code",
   "execution_count": 329,
   "metadata": {},
   "outputs": [
    {
     "name": "stdout",
     "output_type": "stream",
     "text": [
      "{1006.0: 1, 1010.0: 1, 1008.0: 2, 999.0: 1, 998.0: 1, 1011.0: 1, 1002.0: 5, 997.0: 2, 994.0: 5, 1009.0: 6, 1001.0: 2, 1003.0: 4, 1005.0: 3, 1012.0: 1, 995.0: 1, 1013.0: 2, 991.0: 1, 996.0: 1}\n"
     ]
    }
   ],
   "source": [
    "win_freq = {x:win.count(x) for x in win}\n",
    "print(win_freq)"
   ]
  },
  {
   "cell_type": "code",
   "execution_count": 333,
   "metadata": {},
   "outputs": [
    {
     "name": "stdout",
     "output_type": "stream",
     "text": [
      "1006 1\n",
      "\n",
      "\n",
      "1010 1\n",
      "\n",
      "\n",
      "1008 2\n",
      "\n",
      "\n",
      "999 1\n",
      "\n",
      "\n",
      "998 1\n",
      "\n",
      "\n",
      "1011 1\n",
      "\n",
      "\n",
      "1002 5\n",
      "\n",
      "\n",
      "997 2\n",
      "\n",
      "\n",
      "994 5\n",
      "\n",
      "\n",
      "1009 6\n",
      "\n",
      "\n",
      "1001 2\n",
      "\n",
      "\n",
      "1003 4\n",
      "\n",
      "\n",
      "1005 3\n",
      "\n",
      "\n",
      "1012 1\n",
      "\n",
      "\n",
      "995 1\n",
      "\n",
      "\n",
      "1013 2\n",
      "\n",
      "\n",
      "991 1\n",
      "\n",
      "\n",
      "996 1\n",
      "\n",
      "\n"
     ]
    }
   ],
   "source": [
    "for k,v in win_freq.items():\n",
    "    print(int(k),v)\n",
    "    print('\\n')"
   ]
  }
 ],
 "metadata": {
  "kernelspec": {
   "display_name": "Python 3",
   "language": "python",
   "name": "python3"
  },
  "language_info": {
   "codemirror_mode": {
    "name": "ipython",
    "version": 3
   },
   "file_extension": ".py",
   "mimetype": "text/x-python",
   "name": "python",
   "nbconvert_exporter": "python",
   "pygments_lexer": "ipython3",
   "version": "3.8.5"
  }
 },
 "nbformat": 4,
 "nbformat_minor": 4
}
