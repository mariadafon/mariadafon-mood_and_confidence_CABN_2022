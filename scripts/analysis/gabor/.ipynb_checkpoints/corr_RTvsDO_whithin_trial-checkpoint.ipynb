{
 "cells": [
  {
   "cell_type": "code",
   "execution_count": null,
   "metadata": {},
   "outputs": [],
   "source": [
    "import pandas as pd\n",
    "import os\n",
    "import json\n",
    "import numpy as np\n",
    "from itertools import groupby\n",
    "import matplotlib.pyplot as plt\n",
    "from scipy import stats,signal\n",
    "import matplotlib as mpl\n",
    "from sklearn.linear_model import LogisticRegression\n",
    "import random\n",
    "import re\n",
    "import csv\n",
    "from IPython.display import HTML, display, Image\n",
    "import tabulate\n",
    "import math as m\n",
    "import warnings\n",
    "warnings.filterwarnings('ignore')\n",
    "import statsmodels.api as sm\n",
    "import statsmodels.formula.api as smf\n",
    "import itertools\n",
    "from statsmodels.stats.anova import AnovaRM"
   ]
  },
  {
   "cell_type": "code",
   "execution_count": null,
   "metadata": {},
   "outputs": [],
   "source": [
    "current_path = os.path.abspath(os.getcwd())\n",
    "parent_path = os.path.abspath(os.path.join(current_path, os.pardir))\n",
    "grand_parent_path = os.path.abspath(os.path.join(parent_path, os.pardir))\n",
    "main_path = os.path.abspath(os.path.join(grand_parent_path, os.pardir))\n",
    "\n",
    "path_results = main_path+'/results/gabor/'"
   ]
  },
  {
   "cell_type": "code",
   "execution_count": null,
   "metadata": {},
   "outputs": [],
   "source": [
    "import sys\n",
    "# insert at 1, 0 is the script path (or '' in REPL)\n",
    "sys.path.insert(1, main_path+'/scr')\n",
    "import my_functions as myf"
   ]
  },
  {
   "cell_type": "code",
   "execution_count": null,
   "metadata": {},
   "outputs": [],
   "source": [
    "mpl.rcParams['lines.linewidth'] = 3\n",
    "mpl.rcParams['axes.titlesize'] = 18\n",
    "mpl.rcParams['axes.labelsize'] = 18\n",
    "mpl.rcParams['lines.markersize'] = 10\n",
    "mpl.rcParams['xtick.labelsize'] = 20\n",
    "mpl.rcParams['ytick.labelsize'] = 20\n",
    "mpl.rcParams['axes.linewidth'] = 1\n",
    "#mpl.rcParams['xtick.major.size'] = 20\n",
    "mpl.rcParams['xtick.major.width'] = 1\n",
    "#mpl.rcParams['xtick.minor.size'] = 10\n",
    "mpl.rcParams['xtick.minor.width'] = 1\n",
    "mpl.rcParams['ytick.major.width'] = 1\n",
    "mpl.rcParams['ytick.minor.width'] = 1\n",
    "mpl.rcParams['axes.spines.right'] = False\n",
    "mpl.rcParams['axes.spines.top'] = False\n",
    "\n",
    "fday = [1,2,3,4,5,6,7,8,9,10]\n",
    "fsession = [1,2]\n",
    "unique_signals = [1,2,3]\n",
    "\n",
    "adf = pd.read_csv(path_results+'preanalyzed.csv')  \n",
    "df_diff = pd.read_csv(path_results+'per_difficulty.csv')  \n",
    "\n",
    "userids = adf['userID_x'].unique()\n",
    "userids = sorted(userids)\n",
    "nsub = len(userids)\n",
    "sessionids = adf['sessionID_x'].unique()\n",
    "sessionids = sorted(sessionids)\n",
    "\n",
    "key_PV = ['RT_no_0','RT_no_3','Doptout_0','Doptout_3','Soptout_0','Soptout_3']\n",
    "key_SR = ['mood','food', 'real_stress','sleep']"
   ]
  },
  {
   "cell_type": "code",
   "execution_count": null,
   "metadata": {},
   "outputs": [],
   "source": [
    "mas = {}\n",
    "ind = 0\n",
    "for part in userids:\n",
    "    ind += 1\n",
    "    RT, DO = [],[]\n",
    "    for Day in fday:\n",
    "        for Ses in fsession:\n",
    "            sessionid = 2*Day-2+Ses\n",
    "            user_sessionID = str(part)+'_'+str(sessionid)\n",
    "            if user_sessionID!='1011_11' and user_sessionID!='1011_18' and user_sessionID!='1014_12':\n",
    "                filename = path_results+'day'+str(Day)+'/session'+str(Ses)+'/diff_Sub'+str(part)+'_Day'+str(Day)+'_Sess'+str(Ses)+'.json'   \n",
    "                with open(filename) as f:\n",
    "                    data = json.load(f)\n",
    "                RT.append(data['RT_no'])\n",
    "                DO.append(data['Doptout'])\n",
    "    mas.update({part: {'RTas': np.nanmean(RT,axis=0),'DOas': np.nanmean(DO,axis=0)}})"
   ]
  },
  {
   "cell_type": "code",
   "execution_count": null,
   "metadata": {},
   "outputs": [],
   "source": [
    "df = pd.DataFrame(columns=['RT','RTeff','DO','DOeff','difficulty','session','subject'])\n",
    "ind = 0\n",
    "for part in userids:\n",
    "    ind += 1\n",
    "    for Day in fday:\n",
    "        for Ses in fsession:\n",
    "            sessionid = 2*Day-2+Ses\n",
    "            user_sessionID = str(part)+'_'+str(sessionid)\n",
    "            if user_sessionID!='1011_11' and user_sessionID!='1011_18' and user_sessionID!='1014_12':\n",
    "                filename = path_results+'day'+str(Day)+'/session'+str(Ses)+'/diff_Sub'+str(part)+'_Day'+str(Day)+'_Sess'+str(Ses)+'.json'   \n",
    "                with open(filename) as f:\n",
    "                    data = json.load(f)\n",
    "                df_new = pd.DataFrame({'RT':data['RT_no'],'RTeff':np.array(data['RT_no'])-mas[part]['RTas'],\\\n",
    "                                       'DO':data['Doptout'],'DOeff':np.array(data['Doptout'])-mas[part]['DOas'],\\\n",
    "                                       'difficulty':[1,2,3],'session':[sessionid]*3,'subject':[ind]*3})\n",
    "\n",
    "                df = (pd.concat([df, df_new], ignore_index=True).reindex(columns=df.columns))"
   ]
  },
  {
   "cell_type": "code",
   "execution_count": null,
   "metadata": {},
   "outputs": [],
   "source": [
    "df.head()"
   ]
  },
  {
   "cell_type": "code",
   "execution_count": null,
   "metadata": {},
   "outputs": [],
   "source": [
    "userids[17]"
   ]
  },
  {
   "cell_type": "code",
   "execution_count": null,
   "metadata": {},
   "outputs": [],
   "source": []
  },
  {
   "cell_type": "code",
   "execution_count": null,
   "metadata": {},
   "outputs": [],
   "source": [
    "df[df['RT']>2]"
   ]
  },
  {
   "cell_type": "code",
   "execution_count": null,
   "metadata": {},
   "outputs": [],
   "source": [
    "df.dropna()"
   ]
  },
  {
   "cell_type": "code",
   "execution_count": null,
   "metadata": {},
   "outputs": [],
   "source": []
  },
  {
   "cell_type": "code",
   "execution_count": null,
   "metadata": {},
   "outputs": [],
   "source": [
    "dfMAS = df.groupby(['subject','difficulty']).mean().reset_index()\n",
    "dfSTD = df.groupby(['subject','difficulty']).std().reset_index()"
   ]
  },
  {
   "cell_type": "code",
   "execution_count": null,
   "metadata": {},
   "outputs": [],
   "source": [
    "dfMAS.head()"
   ]
  },
  {
   "cell_type": "code",
   "execution_count": null,
   "metadata": {},
   "outputs": [],
   "source": [
    "r_, p_ = [],[]\n",
    "for part in np.arange(1,24):\n",
    "    subset = df[df['subject']==part]\n",
    "    RTeff = subset['RTeff']\n",
    "    DOeff = subset['DOeff']\n",
    "    mask = ~np.isnan(RTeff) & ~np.isnan(DOeff)\n",
    "    slope, intercept, r, p, se = stats.linregress(RTeff[mask], DOeff[mask])\n",
    "    r_.append(r)\n",
    "    p_.append(p)"
   ]
  },
  {
   "cell_type": "code",
   "execution_count": null,
   "metadata": {},
   "outputs": [],
   "source": [
    "sig_ = np.where(np.array(p_)<0.05)\n",
    "nos_ = np.where(np.array(p_)>=0.05)\n",
    "r_sig = [r_[elem] for elem in sig_[0]]\n",
    "r_nos = [r_[elem] for elem in nos_[0]]\n",
    "p_value = stats.ttest_1samp(r_,0)[1]"
   ]
  },
  {
   "cell_type": "code",
   "execution_count": null,
   "metadata": {},
   "outputs": [],
   "source": [
    "plt.hist([r_sig,r_nos],bins=np.arange(-1,1,0.1),alpha=0.7,histtype='bar', stacked=True, \\\n",
    "                        color=[[0.8,0.2,0.6],[1,0.9,0.95]], edgecolor=[0.8,0.2,0.6], linewidth=2) \n",
    "plt.text(-0.95,2.5,'mean r: '+str(myf.roundP(np.mean(r_))), ha='left', wrap=True,fontsize=18)\n",
    "plt.text(-0.95,1.5,'ttest p: '+str(myf.roundP(p_value)), ha='left', wrap=True,fontsize=18)\n",
    "plt.xlim(-1,1)\n",
    "plt.ylabel('counts')\n",
    "plt.xlabel('Pearson corr. coeff.')\n",
    "plt.savefig('RT&DO_corr_per_diff.png')\n",
    "plt.show()"
   ]
  },
  {
   "cell_type": "code",
   "execution_count": null,
   "metadata": {},
   "outputs": [],
   "source": [
    "fig = plt.figure(figsize=(18,10))\n",
    "for part in np.arange(1,10):\n",
    "    subMAS = dfMAS[dfMAS['subject']==part]\n",
    "    subSTD = dfSTD[dfSTD['subject']==part]\n",
    "    #fig = plt.figure()\n",
    "    plt.errorbar( subMAS['DO'],subMAS['RT'],xerr = subSTD['DO']/np.sqrt(20),yerr=subSTD['RT']/np.sqrt(20))\n",
    "    plt.ylabel('RT')\n",
    "    plt.xlabel('DO')\n",
    "plt.savefig('RTvsDO.png')"
   ]
  },
  {
   "cell_type": "code",
   "execution_count": null,
   "metadata": {},
   "outputs": [],
   "source": [
    "for part in np.arange(1,28):\n",
    "    subset = df[df['subject']==part]\n",
    "    print(part)\n",
    "    print(AnovaRM(data=subset, depvar='RT', subject='session', within=['difficulty']).fit())"
   ]
  },
  {
   "cell_type": "code",
   "execution_count": null,
   "metadata": {},
   "outputs": [],
   "source": [
    "for part in np.arange(1,28):\n",
    "    subset = df[df['subject']==part]\n",
    "    print(part)\n",
    "    print(AnovaRM(data=subset, depvar='DO', subject='session', within=['difficulty']).fit())"
   ]
  },
  {
   "cell_type": "code",
   "execution_count": null,
   "metadata": {},
   "outputs": [],
   "source": [
    "fig = plt.figure(figsize=(18,10))\n",
    "for part in np.arange(1,10):\n",
    "    subMAS = dfMAS[dfMAS['subject']==part]\n",
    "    subSTD = dfSTD[dfSTD['subject']==part]\n",
    "    #fig = plt.figure()\n",
    "    plt.errorbar( subMAS['DOeff'],subMAS['RT'],xerr = subSTD['DOeff']/np.sqrt(20),yerr=subSTD['RT']/np.sqrt(20))\n",
    "    plt.ylabel('RT')\n",
    "    plt.xlabel('DOeff')\n",
    "plt.savefig('RTvsDOeff.png')"
   ]
  },
  {
   "cell_type": "code",
   "execution_count": null,
   "metadata": {},
   "outputs": [],
   "source": [
    "r_, p_ = [],[]\n",
    "for part in np.arange(1,24):\n",
    "    subset = dfMAS[dfMAS['subject']==part]\n",
    "    rt = subset['RT']\n",
    "    DOeff = subset['DOeff']\n",
    "    mask = ~np.isnan(rt) & ~np.isnan(DOeff)\n",
    "    slope, intercept, r, p, se = stats.linregress(rt[mask], DOeff[mask])\n",
    "    r_.append(r)\n",
    "    p_.append(p)"
   ]
  },
  {
   "cell_type": "code",
   "execution_count": null,
   "metadata": {},
   "outputs": [],
   "source": [
    "sig_ = np.where(np.array(p_)<0.05)\n",
    "nos_ = np.where(np.array(p_)>=0.05)\n",
    "r_sig = [r_[elem] for elem in sig_[0]]\n",
    "r_nos = [r_[elem] for elem in nos_[0]]"
   ]
  },
  {
   "cell_type": "code",
   "execution_count": null,
   "metadata": {},
   "outputs": [],
   "source": [
    "plt.hist([r_sig,r_nos],bins=np.arange(0.7,1,0.01),alpha=0.7,histtype='bar', stacked=True, \\\n",
    "                        color=['gray',[0.95,0.95,0.95]], edgecolor='gray', linewidth=2) \n",
    "plt.xlim(0.7,1)\n",
    "plt.ylabel('counts')\n",
    "plt.xlabel('Pearson corr. coeff.')\n",
    "plt.savefig('RT&DO_corr_per_diff.png')\n",
    "plt.show()"
   ]
  },
  {
   "cell_type": "code",
   "execution_count": null,
   "metadata": {},
   "outputs": [],
   "source": [
    "df1 = df[df['difficulty']==1]"
   ]
  },
  {
   "cell_type": "code",
   "execution_count": null,
   "metadata": {},
   "outputs": [],
   "source": [
    "df1.dropna()"
   ]
  },
  {
   "cell_type": "code",
   "execution_count": null,
   "metadata": {},
   "outputs": [],
   "source": [
    "mm_RT_DO = smf.mixedlm(\"RT ~ DO\", df1, groups=df1[\"subject\"])\n",
    "mdf_RT_DO = mm_RT_DO.fit()\n",
    "print(mdf_RT_DO.summary())\n",
    "print(mdf_RT_DO.params)\n",
    "print(mdf_RT_DO.pvalues)"
   ]
  },
  {
   "cell_type": "code",
   "execution_count": null,
   "metadata": {},
   "outputs": [],
   "source": [
    "vc = {'session': '0 + session'}\n",
    "mm_RT_DO = smf.mixedlm(\"RT ~ DO:difficulty\", df,vc_formula=vc, re_formula='1', groups=df[\"subject\"])\n",
    "mdf_RT_DO = mm_RT_DO.fit()\n",
    "print(mdf_RT_DO.summary())\n",
    "print(mdf_RT_DO.params)\n",
    "print(mdf_RT_DO.pvalues)"
   ]
  },
  {
   "cell_type": "code",
   "execution_count": null,
   "metadata": {},
   "outputs": [],
   "source": [
    "vc = {'session': '0 + session','difficulty': '0 + difficulty'}\n",
    "mm_RT_DO = smf.mixedlm(\"RT ~ DO \", df,vc_formula=vc, re_formula='1', groups=df[\"subject\"])\n",
    "mdf_RT_DO = mm_RT_DO.fit()\n",
    "print(mdf_RT_DO.summary())\n",
    "print(mdf_RT_DO.params)\n",
    "print(mdf_RT_DO.pvalues)"
   ]
  },
  {
   "cell_type": "code",
   "execution_count": null,
   "metadata": {
    "scrolled": true
   },
   "outputs": [],
   "source": [
    "vc = {'session': '0 + session'}\n",
    "mm_RT_DO = smf.mixedlm(\"RT ~ DO:difficulty + difficulty\", df,vc_formula=vc, re_formula='1', groups=df[\"subject\"])\n",
    "mdf_RT_DO = mm_RT_DO.fit()\n",
    "print(mdf_RT_DO.summary())\n",
    "print(mdf_RT_DO.params)\n",
    "print(mdf_RT_DO.pvalues)"
   ]
  },
  {
   "cell_type": "code",
   "execution_count": null,
   "metadata": {},
   "outputs": [],
   "source": [
    "vc = {'session': '0 + session'}\n",
    "mm_RT_DO = smf.mixedlm(\"RT ~ DO\", df,vc_formula=vc, re_formula='1', groups=df[\"subject\"])\n",
    "mdf_RT_DO = mm_RT_DO.fit()\n",
    "print(mdf_RT_DO.summary())\n",
    "print(mdf_RT_DO.params)\n",
    "print(mdf_RT_DO.pvalues)\n",
    "print(mdf_RT_DO.aic)"
   ]
  },
  {
   "cell_type": "code",
   "execution_count": null,
   "metadata": {},
   "outputs": [],
   "source": [
    "mm_RT_DO = smf.mixedlm(\"RT ~ DO:difficulty\", df, groups=df[\"subject\"])\n",
    "mdf_RT_DO = mm_RT_DO.fit()\n",
    "print(mdf_RT_DO.summary())\n",
    "print(mdf_RT_DO.pvalues)"
   ]
  },
  {
   "cell_type": "code",
   "execution_count": null,
   "metadata": {},
   "outputs": [],
   "source": [
    "vc = {'session': '0 + C(session)'}\n",
    "mm_RT_DO = smf.mixedlm(\"RT ~ DO + difficulty\", df,vc_formula=vc, re_formula='1', groups=df[\"subject\"])\n",
    "mdf_RT_DO = mm_RT_DO.fit()\n",
    "print(mdf_RT_DO.summary())\n",
    "print(mdf_RT_DO.pvalues)"
   ]
  },
  {
   "cell_type": "code",
   "execution_count": null,
   "metadata": {},
   "outputs": [],
   "source": []
  },
  {
   "cell_type": "code",
   "execution_count": null,
   "metadata": {},
   "outputs": [],
   "source": []
  },
  {
   "cell_type": "code",
   "execution_count": null,
   "metadata": {},
   "outputs": [],
   "source": [
    "Mdf = adf[['OKubj_RT_no','Dsubj_optout_oo','sessionID_x','userID']]"
   ]
  },
  {
   "cell_type": "code",
   "execution_count": null,
   "metadata": {},
   "outputs": [],
   "source": [
    "ids = list(Mdf['userID'].unique())"
   ]
  },
  {
   "cell_type": "code",
   "execution_count": null,
   "metadata": {},
   "outputs": [],
   "source": [
    "dict_ids = {}\n",
    "for k in ids:\n",
    "    dict_ids[k] = ids.index(k)+1"
   ]
  },
  {
   "cell_type": "code",
   "execution_count": null,
   "metadata": {},
   "outputs": [],
   "source": [
    "Mdf['subject'] =  Mdf['userID'].map(dict_ids)"
   ]
  },
  {
   "cell_type": "code",
   "execution_count": null,
   "metadata": {},
   "outputs": [],
   "source": [
    "Mdf.dropna()"
   ]
  },
  {
   "cell_type": "code",
   "execution_count": null,
   "metadata": {},
   "outputs": [],
   "source": [
    "mm_RT_DO = smf.mixedlm(\"OKubj_RT_no ~ Dsubj_optout_oo\", Mdf, groups=Mdf[\"subject\"])\n",
    "mdf_RT_DO = mm_RT_DO.fit()\n",
    "print(mdf_RT_DO.summary())\n",
    "print(mdf_RT_DO.params)\n",
    "print(mdf_RT_DO.pvalues)"
   ]
  }
 ],
 "metadata": {
  "kernelspec": {
   "display_name": "Python 3",
   "language": "python",
   "name": "python3"
  },
  "language_info": {
   "codemirror_mode": {
    "name": "ipython",
    "version": 3
   },
   "file_extension": ".py",
   "mimetype": "text/x-python",
   "name": "python",
   "nbconvert_exporter": "python",
   "pygments_lexer": "ipython3",
   "version": "3.8.5"
  }
 },
 "nbformat": 4,
 "nbformat_minor": 4
}
