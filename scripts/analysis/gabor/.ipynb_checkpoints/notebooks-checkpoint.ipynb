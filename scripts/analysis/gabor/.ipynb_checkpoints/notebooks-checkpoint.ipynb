{
 "cells": [
  {
   "cell_type": "markdown",
   "metadata": {},
   "source": [
    "# Autocorrelation analysis\n",
    "\n",
    "It is interesting to study the influence that each psychometric variable presents over itself delayed in time. In this longitudinal experiment, every psychometric variable is a time series with 20 points (except for sleep-report with 10 points). We are fully aware that the short time series autocorrelation's study is still a matter of debate due to the presence of the systematic negative bias [1,2]. In order to address this issue, we computed the autocorrelation with the expression 2.02 of Marriott, F., & Pope, J. (1954) [3] and subtract the mean autocorrelation of the current time series shuffled 100 times. "
   ]
  },
  {
   "cell_type": "code",
   "execution_count": 42,
   "metadata": {},
   "outputs": [],
   "source": [
    "import pandas as pd\n",
    "import os\n",
    "import json\n",
    "import numpy as np\n",
    "from itertools import groupby\n",
    "import matplotlib.pyplot as plt\n",
    "from scipy import stats,signal\n",
    "import matplotlib as mpl\n",
    "from sklearn.linear_model import LogisticRegression\n",
    "import random\n",
    "import re\n",
    "import csv\n",
    "from IPython.display import HTML, display, Image\n",
    "import tabulate\n",
    "import math as m\n",
    "import warnings\n",
    "warnings.filterwarnings('ignore')\n",
    "import statsmodels.api as sm\n",
    "import statsmodels.formula.api as smf\n",
    "\n",
    "mpl.rcParams['lines.linewidth'] = 3\n",
    "mpl.rcParams['axes.titlesize'] = 18\n",
    "mpl.rcParams['axes.labelsize'] = 18\n",
    "mpl.rcParams['lines.markersize'] = 10\n",
    "mpl.rcParams['xtick.labelsize'] = 20\n",
    "mpl.rcParams['ytick.labelsize'] = 20\n",
    "mpl.rcParams['axes.linewidth'] = 3\n",
    "#mpl.rcParams['xtick.major.size'] = 20\n",
    "mpl.rcParams['xtick.major.width'] = 4\n",
    "#mpl.rcParams['xtick.minor.size'] = 10\n",
    "mpl.rcParams['xtick.minor.width'] = 2\n",
    "mpl.rcParams['ytick.major.width'] = 4\n",
    "mpl.rcParams['ytick.minor.width'] = 2\n",
    "\n",
    "fday = [1,2,3,4,5,6,7,8,9,10]\n",
    "fsession = [1,2]"
   ]
  },
  {
   "cell_type": "code",
   "execution_count": 43,
   "metadata": {},
   "outputs": [],
   "source": [
    "rep_list = []\n",
    "for Day in fday:\n",
    "    for Ses in fsession:\n",
    "        path = '/home/cbclab/Documents/jatos_dots_data/data/tanda1/day'+str(Day)+'/session'+str(Ses)+'/'\n",
    "        data_files = [f for f in os.listdir(path) if f.endswith('_day'+str(Day)+'_session'+str(Ses))]\n",
    "        # sort files\n",
    "        subj_data = [int(re.search('%s(.*)%s' % ('', '_day'), f).group(1)) for f in data_files]\n",
    "        sorted_subj_data = sorted(subj_data)\n",
    "        index_subj_data = [subj_data.index(elem) for elem in sorted_subj_data]\n",
    "        sorted_data_files = [data_files[i] for i in index_subj_data]\n",
    "        # reports, staircase, deterministic and stochastic df for each participant\n",
    "        Rdf = {}\n",
    "        for name in sorted_subj_data: \n",
    "            Rdf[name] = {}\n",
    "        ind = -1\n",
    "        for ses in sorted_data_files:\n",
    "            ind += 1\n",
    "            #print(sorted_subj_data[ind])\n",
    "            data = []\n",
    "            for line in open(path+ses, 'r'):\n",
    "                if line.strip():\n",
    "                    data.append(json.loads(line))\n",
    "            if Day==1 and Ses==1:\n",
    "                reports = data[1]\n",
    "            else:\n",
    "                reports = data[0]\n",
    "            part = reports['userID']\n",
    "\n",
    "            if reports['sessionID']%2==0:\n",
    "                session = 2\n",
    "            else:\n",
    "                session = 1\n",
    "                \n",
    "            Rdf[sorted_subj_data[ind]] = reports   \n",
    "            del Rdf[sorted_subj_data[ind]]['date']\n",
    "            rep_list.append(reports)"
   ]
  },
  {
   "cell_type": "code",
   "execution_count": 44,
   "metadata": {},
   "outputs": [],
   "source": [
    "Rdf = pd.DataFrame(rep_list)"
   ]
  },
  {
   "cell_type": "code",
   "execution_count": 45,
   "metadata": {},
   "outputs": [],
   "source": [
    "Rdf['userID'] = Rdf['userID'].astype(int)"
   ]
  },
  {
   "cell_type": "code",
   "execution_count": 46,
   "metadata": {},
   "outputs": [],
   "source": [
    "stress_list = list(Rdf['stress'])\n",
    "real_stress = [1-elem for elem in stress_list]\n",
    "Rdf['real_stress'] = real_stress"
   ]
  },
  {
   "cell_type": "code",
   "execution_count": 47,
   "metadata": {},
   "outputs": [],
   "source": [
    "Rdf['sessionID'] = Rdf['sessionID'].astype(int)\n",
    "Rdf['userID'] = Rdf['userID'].astype(int)"
   ]
  },
  {
   "cell_type": "code",
   "execution_count": 48,
   "metadata": {},
   "outputs": [],
   "source": [
    "rep_userID = list(Rdf['userID'])\n",
    "rep_sessionID = list(Rdf['sessionID'])\n",
    "rep_user_sessionID = []\n",
    "for i in range(len(rep_userID)):\n",
    "    rep_user_sessionID.append(str(rep_userID[i])+'_'+str(rep_sessionID[i]))\n",
    "Rdf['user_sessionID']=rep_user_sessionID"
   ]
  },
  {
   "cell_type": "code",
   "execution_count": 49,
   "metadata": {},
   "outputs": [],
   "source": [
    "Rdf_sin_nan = Rdf"
   ]
  },
  {
   "cell_type": "code",
   "execution_count": 50,
   "metadata": {},
   "outputs": [],
   "source": [
    "Rdf['sessionID'] = Rdf['sessionID'].astype(int)\n",
    "Rdf['userID'] = Rdf['userID'].astype(int)"
   ]
  },
  {
   "cell_type": "code",
   "execution_count": 51,
   "metadata": {},
   "outputs": [],
   "source": [
    "path_df = '/home/cbclab/Dropbox/postdocUPF/jatos_experiments/dots/notebooks/results_tanda_1/across_sessions/'\n",
    "\n",
    "data_files = [f for f in os.listdir(path_df) if f.startswith('average')]\n",
    "df = {}\n",
    "for f in data_files:\n",
    "    data = [json.loads(line) for line in open(path_df+f, 'r')]\n",
    "    df[data[0]['sessionID'][0]]=pd.DataFrame.from_dict(data[0])\n",
    "\n",
    "DF = pd.concat([df[elem] for elem in range(1,len(data_files)+1)])"
   ]
  },
  {
   "cell_type": "code",
   "execution_count": 52,
   "metadata": {},
   "outputs": [],
   "source": [
    "DF['sessionID'] = DF['sessionID'].astype(int)\n",
    "DF['participantID'] = DF['participantID'].astype(int)"
   ]
  },
  {
   "cell_type": "code",
   "execution_count": 53,
   "metadata": {},
   "outputs": [],
   "source": [
    "gabor_user_sessionID=[]\n",
    "gabor_userID = list(DF['participantID'])\n",
    "gabor_sessionID = list(DF['sessionID'])\n",
    "for i in range(len(gabor_userID)):\n",
    "    gabor_user_sessionID.append(str(gabor_userID[i])+'_'+str(gabor_sessionID[i]))\n",
    "DF['user_sessionID']=gabor_user_sessionID"
   ]
  },
  {
   "cell_type": "code",
   "execution_count": 54,
   "metadata": {},
   "outputs": [],
   "source": [
    "adf = pd.merge(Rdf,DF,on='user_sessionID') "
   ]
  },
  {
   "cell_type": "code",
   "execution_count": 55,
   "metadata": {},
   "outputs": [],
   "source": [
    "df_Hopt = pd.DataFrame(columns=['user_sessionID','HRopt_'])\n",
    "for Day in fday:\n",
    "    for Ses in fsession:\n",
    "        sessionid = 2*Day-2+Ses\n",
    "        path = '/home/cbclab/Dropbox/postdocUPF/jatos_experiments/dots/notebooks/results_tanda_1/day'+str(Day)+'/session'+str(Ses)+'/'\n",
    "        optimalH_files = [f for f in os.listdir(path) if f.startswith('optimalH')]\n",
    "        subj_optimalH = [int(re.search('%s(.*)%s' % ('optimalH_Sub', '_Day'), f).group(1)) for f in optimalH_files]\n",
    "        sorted_subj_optimalH = sorted(subj_optimalH)\n",
    "        index_subj_optimalH = [subj_optimalH.index(elem) for elem in sorted_subj_optimalH]\n",
    "        sorted_optimalH_files = [optimalH_files[i] for i in index_subj_optimalH]\n",
    "        for filename in sorted_optimalH_files:\n",
    "            # optimalH\n",
    "            f = filename\n",
    "            filename=path+f\n",
    "            with open(filename) as f:\n",
    "                data = json.load(f)\n",
    "            for k, v in data.items():\n",
    "                globals()[k]=v\n",
    "            df_Hopt = df_Hopt.append({'HRopt_': HRopt_,\"user_sessionID\":part_sessid},ignore_index=True)"
   ]
  },
  {
   "cell_type": "code",
   "execution_count": 56,
   "metadata": {},
   "outputs": [],
   "source": [
    "adf = pd.merge(adf,df_Hopt,on='user_sessionID') "
   ]
  },
  {
   "cell_type": "code",
   "execution_count": 57,
   "metadata": {},
   "outputs": [],
   "source": [
    "df_PCfit = pd.DataFrame()\n",
    "for Day in fday:\n",
    "    for Ses in fsession:\n",
    "        sessionid = 2*Day-2+Ses\n",
    "        path = '/home/cbclab/Dropbox/postdocUPF/jatos_experiments/dots/notebooks/results_tanda_1/day'+str(Day)+'/session'+str(Ses)+'/'\n",
    "        # Deterministic PC fit\n",
    "        DOfit_files = [f for f in os.listdir(path) if f.startswith('DO_fit')]\n",
    "        aux = [f.replace('DO_fit_oo_Sub','') for f in DOfit_files]\n",
    "        subj_DOfit = [int(f.replace('_Day'+str(Day)+'_Sess'+str(Ses)+'.json','')) for f in aux]\n",
    "        sorted_subj_DOfit = sorted(subj_DOfit)\n",
    "        index_subj_DOfit = [subj_DOfit.index(elem) for elem in sorted_subj_DOfit]\n",
    "        sorted_DOfit_files = [DOfit_files[i] for i in index_subj_DOfit]\n",
    "        \n",
    "        # NO PC fit\n",
    "        NOfit_files = [f for f in os.listdir(path) if f.startswith('NO_fit')]\n",
    "        auxNO = [f.replace('NO_fit_Sub','') for f in NOfit_files]\n",
    "        subj_NOfit = [int(f.replace('_Day'+str(Day)+'_Sess'+str(Ses)+'.json','')) for f in auxNO]\n",
    "        sorted_subj_NOfit = sorted(subj_NOfit)\n",
    "        index_subj_NOfit = [subj_NOfit.index(elem) for elem in sorted_subj_NOfit]\n",
    "        sorted_NOfit_files = [NOfit_files[i] for i in index_subj_NOfit]\n",
    "        \n",
    "        # Stochastic PC fit\n",
    "        SOfit_files = [f for f in os.listdir(path) if f.startswith('SO_fit')]\n",
    "        auxSO = [f.replace('SO_fit_oo_Sub','') for f in SOfit_files]\n",
    "        subj_SOfit = [int(f.replace('_Day'+str(Day)+'_Sess'+str(Ses)+'.json','')) for f in auxSO]\n",
    "        sorted_subj_SOfit = sorted(subj_SOfit)\n",
    "        index_subj_SOfit = [subj_SOfit.index(elem) for elem in sorted_subj_SOfit]\n",
    "        sorted_SOfit_files = [SOfit_files[i] for i in index_subj_SOfit]\n",
    "        \n",
    "        ind = -1\n",
    "        for filename in sorted_DOfit_files:\n",
    "            ind += 1\n",
    "            partid = sorted_subj_DOfit[ind]\n",
    "            part_sessid = str(partid)+'_'+str(sessionid)\n",
    "            # deterministic PC fit\n",
    "            f = filename\n",
    "            filename=path+f\n",
    "            with open(filename) as f:\n",
    "                data = json.load(f)\n",
    "            for k, v in data.items():\n",
    "                globals()[k]=v\n",
    "                \n",
    "            # psychometric curve NON-optout\n",
    "            fNO = sorted_NOfit_files[ind]\n",
    "            filename=path+fNO\n",
    "            with open(filename) as fNO:\n",
    "                dataNO = json.load(fNO)\n",
    "            for k, v in dataNO.items():\n",
    "                globals()[k]=v     \n",
    "                \n",
    "            # stochastic PC fit\n",
    "            fSO = sorted_SOfit_files[ind]\n",
    "            filename=path+fSO\n",
    "            with open(filename) as fSO:\n",
    "                dataSO = json.load(fSO)\n",
    "            for k, v in dataSO.items():\n",
    "                globals()[k]=v   \n",
    "                \n",
    "            df_PCfit = df_PCfit.append({'DHR_oo': DHR_oo,'DHL_oo':DHL_oo,'Dsigma_oo':Dsigma_oo,\\\n",
    "                                        'SHR_oo': SHR_oo,'SHL_oo':SHL_oo,'Ssigma_oo':Ssigma_oo,\\\n",
    "                                        'no_sigma':Sigma, 'no_bias':Hno,\\\n",
    "                                        \"user_sessionID\":part_sessid},ignore_index=True)"
   ]
  },
  {
   "cell_type": "code",
   "execution_count": 58,
   "metadata": {},
   "outputs": [],
   "source": [
    "df_PCfit['HmiddleDO']=(df_PCfit['DHR_oo']+df_PCfit['DHL_oo'])/2\n",
    "df_PCfit['HmiddleSO']=(df_PCfit['SHR_oo']+df_PCfit['SHL_oo'])/2"
   ]
  },
  {
   "cell_type": "code",
   "execution_count": 59,
   "metadata": {},
   "outputs": [],
   "source": [
    "adf = pd.merge(adf,df_PCfit,on='user_sessionID') "
   ]
  },
  {
   "cell_type": "code",
   "execution_count": 60,
   "metadata": {},
   "outputs": [],
   "source": [
    "adf['risk_av'] = adf['Dsubj_perf_oo']-adf['Ssubj_perf_oo']"
   ]
  },
  {
   "cell_type": "code",
   "execution_count": 61,
   "metadata": {},
   "outputs": [],
   "source": [
    "adf['DoverConf'] = (np.abs(2*adf['HRopt_'])-np.abs(adf['DHL_oo']-adf['DHR_oo']))/(np.abs(2*adf['HRopt_'])+np.abs(adf['DHL_oo']-adf['DHR_oo']))"
   ]
  },
  {
   "cell_type": "code",
   "execution_count": 62,
   "metadata": {},
   "outputs": [],
   "source": [
    "adf['SoverConf'] = (np.abs(2*adf['HRopt_'])-np.abs(adf['SHL_oo']-adf['SHR_oo']))/(np.abs(2*adf['HRopt_'])+np.abs(adf['SHL_oo']-adf['SHR_oo']))"
   ]
  },
  {
   "cell_type": "markdown",
   "metadata": {},
   "source": [
    "Pair participant-session excluded because answered randomly or took a long time to answer"
   ]
  },
  {
   "cell_type": "code",
   "execution_count": 63,
   "metadata": {},
   "outputs": [],
   "source": [
    "# evening df\n",
    "edf = adf[adf['sessionID_x']%2==0]"
   ]
  },
  {
   "cell_type": "code",
   "execution_count": 64,
   "metadata": {},
   "outputs": [],
   "source": [
    "# morning df\n",
    "mdf = adf[adf['sessionID_x']%2==1]"
   ]
  },
  {
   "cell_type": "code",
   "execution_count": 65,
   "metadata": {},
   "outputs": [],
   "source": [
    "unique_ids = adf['userID'].unique()"
   ]
  },
  {
   "cell_type": "code",
   "execution_count": 66,
   "metadata": {},
   "outputs": [],
   "source": [
    "edf_sin_nan = edf.copy()\n",
    "edf_sin_nan['sleep']=list(mdf['sleep'])"
   ]
  },
  {
   "cell_type": "code",
   "execution_count": 67,
   "metadata": {},
   "outputs": [
    {
     "name": "stdout",
     "output_type": "stream",
     "text": [
      "excluded:  ['3074_5', '3069_10', '3062_1']\n"
     ]
    }
   ],
   "source": [
    "excluded = list(adf[adf['subj_perf_no']<53].user_sessionID)+['3062_1']\n",
    "print('excluded: ',excluded)"
   ]
  },
  {
   "cell_type": "code",
   "execution_count": 68,
   "metadata": {},
   "outputs": [],
   "source": [
    "# exclusion of session where mean NO perf is lower than 55%\n",
    "adf = adf[adf['subj_perf_no']>53]"
   ]
  },
  {
   "cell_type": "code",
   "execution_count": 69,
   "metadata": {},
   "outputs": [],
   "source": [
    "adf = adf[adf['user_sessionID']!='3062_1']"
   ]
  },
  {
   "cell_type": "code",
   "execution_count": 70,
   "metadata": {},
   "outputs": [],
   "source": [
    "# complete with nan values for excluded pairs user-session\n",
    "\n",
    "replace = [{'mood':np.nan, 'sleep':np.nan, 'food':np.nan, 'stress':np.nan, 'sessionID_x':int(elem.split('_')[1]), \n",
    "        'userID':int(elem.split('_')[0]),'real_stress':np.nan, 'user_sessionID':elem, \n",
    "        'participantID':int(elem.split('_')[0]), 'sessionID_y':int(elem.split('_')[1]),\n",
    "       'Dsubj_perf_oo':np.nan, 'Ssubj_perf_oo':np.nan, 'subj_perf_no':np.nan, 'subj_RT_no':np.nan,\n",
    "       'Dsubj_RT_oo':np.nan, 'Ssubj_RT_oo':np.nan, 'Dsubj_optout_oo':np.nan, 'Ssubj_optout_oo':np.nan,\n",
    "       'HRopt_':np.nan, 'DHL_oo':np.nan, 'DHR_oo':np.nan, 'Dsigma_oo':np.nan, 'SHL_oo':np.nan, 'SHR_oo':np.nan,\n",
    "       'Ssigma_oo':np.nan, 'no_bias':np.nan, 'no_sigma':np.nan, 'HmiddleDO':np.nan, 'HmiddleSO':np.nan, 'risk_av':np.nan,\n",
    "       'DoverConf':np.nan, 'SoverConf':np.nan} for elem in excluded]\n",
    "\n",
    "for elem in replace:\n",
    "    adf = adf.append(elem, ignore_index=True)"
   ]
  },
  {
   "cell_type": "code",
   "execution_count": 71,
   "metadata": {},
   "outputs": [],
   "source": [
    "#adf = adf[adf['userID']!=3062]"
   ]
  },
  {
   "cell_type": "code",
   "execution_count": 72,
   "metadata": {},
   "outputs": [],
   "source": [
    "Rdf_sin_nan = pd.concat([mdf,edf_sin_nan])"
   ]
  },
  {
   "cell_type": "code",
   "execution_count": 73,
   "metadata": {},
   "outputs": [],
   "source": [
    "alex = adf.filter(['userID','sessionID_x','Dsubj_optout_oo'], axis=1)"
   ]
  },
  {
   "cell_type": "code",
   "execution_count": 74,
   "metadata": {},
   "outputs": [],
   "source": [
    "alex.to_csv('for_Doptout_autocorr.csv',index=False)"
   ]
  },
  {
   "cell_type": "code",
   "execution_count": 75,
   "metadata": {},
   "outputs": [],
   "source": [
    "# mean self-reports across participants\n",
    "sessionids = adf['sessionID_x'].unique()"
   ]
  },
  {
   "cell_type": "markdown",
   "metadata": {},
   "source": [
    "## Self-reports"
   ]
  },
  {
   "cell_type": "code",
   "execution_count": 76,
   "metadata": {},
   "outputs": [],
   "source": [
    "def orderOfMagnitude(number):\n",
    "    if number>0:\n",
    "        return m.floor(m.log(number, 10))\n",
    "    elif number==0:\n",
    "        return 0\n",
    "    else:\n",
    "        return m.floor(m.log(-number, 10))\n",
    "def roundP(p_value):\n",
    "    if p_value!=0:\n",
    "        p = np.round(p_value,-orderOfMagnitude(p_value))\n",
    "        return p\n",
    "    else:\n",
    "        return p_value\n",
    "    \n",
    "def auto_corr_mean_shuffled(array,N):\n",
    "    autocorr = []\n",
    "    a = np.array(array)\n",
    "    for i in range(N):\n",
    "        np.random.shuffle(a)\n",
    "        result = matlab_autocorr(a)\n",
    "        autocorr.append(result)\n",
    "    mean_autocorr = np.mean(autocorr, axis=0)\n",
    "    return mean_autocorr\n",
    "\n",
    "def matlab_autocorr(x):\n",
    "    cc = []\n",
    "    x = list(x)\n",
    "    n = len(x)\n",
    "    for k in range(len(x)-2):\n",
    "        x1 = x[:n-k]\n",
    "        x2 = x[k:n]\n",
    "        x1 = np.array(x1)\n",
    "        x2 = np.array(x2)\n",
    "        cc.append(np.ma.corrcoef(np.ma.masked_invalid(x1),np.ma.masked_invalid(x2))[0][1])\n",
    "    return np.array(cc)\n",
    "\n",
    "def cross_corr_mean_shuffled(array1,array2,N):\n",
    "    autocorr = []\n",
    "    a1 = np.array(array1)\n",
    "    a2 = np.array(array2)\n",
    "    for i in range(N):\n",
    "        np.random.shuffle(a2)\n",
    "        result = matlab_crosscorr(a1,a2)\n",
    "        autocorr.append(result)\n",
    "    mean_autocorr = np.mean(autocorr, axis=0)\n",
    "    return mean_autocorr\n",
    "\n",
    "def matlab_crosscorr(x,y):\n",
    "    cc = []\n",
    "    x = list(x)\n",
    "    n = len(x)\n",
    "    for k in range(len(x)-2):\n",
    "        x1 = x[:n-k]\n",
    "        x2 = y[k:n]\n",
    "        x1 = np.array(x1)\n",
    "        x2 = np.array(x2)\n",
    "        cc.append(np.ma.corrcoef(np.ma.masked_invalid(x1),np.ma.masked_invalid(x2))[0][1])\n",
    "    return np.array(cc)"
   ]
  },
  {
   "cell_type": "code",
   "execution_count": 77,
   "metadata": {},
   "outputs": [],
   "source": [
    "userids = adf['userID'].unique()"
   ]
  },
  {
   "cell_type": "code",
   "execution_count": 37,
   "metadata": {},
   "outputs": [],
   "source": [
    "autocorr_mood,autocorr_food,autocorr_stress,autocorr_sleep = [[] for _ in range(4)]\n",
    "for part in userids:\n",
    "    subset = adf[adf['userID']==part]\n",
    "    subset = subset.sort_values(by=['sessionID_x'])\n",
    "    \n",
    "    mood = np.array(subset['mood'])\n",
    "    mean_sh_auto_mo = auto_corr_mean_shuffled(mood,100)\n",
    "    result_mo = matlab_autocorr(mood) - mean_sh_auto_mo\n",
    "    #result_mo = matlab_autocorr(mood)\n",
    "    result_mo = result_mo[:int(result_mo.size/2)-1]\n",
    "    autocorr_mood.append(result_mo)\n",
    "    #ax[0,0].plot(np.arange(len(result_mo)),result_mo,c=[0.4,0.4,1.0], zorder=1)\n",
    "\n",
    "    stress = np.array(subset['real_stress'])\n",
    "    mean_sh_auto_st = auto_corr_mean_shuffled(stress,100)\n",
    "    result_st = matlab_autocorr(stress) - mean_sh_auto_st\n",
    "    #result_st = matlab_autocorr(stress)\n",
    "    result_st = result_st[:int(result_st.size/2)-1]\n",
    "    autocorr_stress.append(result_st)\n",
    "    #ax[1,1].plot(np.arange(len(result_st)),result_st,c=[0.2,0.8,0.2], zorder=1)\n",
    "    \n",
    "    food = np.array(subset['food'])\n",
    "    mean_sh_auto_fo = auto_corr_mean_shuffled(food,100)\n",
    "    result_fo = matlab_autocorr(food) - mean_sh_auto_fo\n",
    "    #result_fo = matlab_autocorr(food)\n",
    "    result_fo = result_fo[:int(result_fo.size/2)-1]\n",
    "    autocorr_food.append(result_fo)\n",
    "    #ax[1,0].plot(np.arange(len(result_fo)),result_fo,c=[1.0,0.4,0.4], zorder=1)\n",
    "    \n",
    "    subset_mor = adf[(adf['userID']==part) & adf['sessionID_x']%2==1]\n",
    "    sleep = np.array(subset_mor['sleep'])\n",
    "    mean_sh_auto_sl = auto_corr_mean_shuffled(sleep,100)\n",
    "    result_sl = matlab_autocorr(sleep) - mean_sh_auto_sl\n",
    "    #result_sl = matlab_autocorr(sleep)\n",
    "    autocorr_sleep.append(result_sl)\n",
    "    #ax[0,1].plot(np.arange(len(result_sl)),result_sl,c=[0.9,0.9,0.4], zorder=1)\n",
    "\n",
    "autocorr_mood = np.array(autocorr_mood)\n",
    "autocorr_food = np.array(autocorr_food)\n",
    "autocorr_stress = np.array(autocorr_stress)\n",
    "autocorr_sleep = np.array(autocorr_sleep)"
   ]
  },
  {
   "cell_type": "code",
   "execution_count": 38,
   "metadata": {},
   "outputs": [],
   "source": [
    "mean_as_autocorr_mo = np.nanmean(autocorr_mood, axis=0)\n",
    "transp_autocorr_mo = np.transpose(autocorr_mood)\n",
    "len_mo = [np.isnan(elem)[np.isnan(elem) == False].size for elem in transp_autocorr_mo]\n",
    "sd_as_autocorr_mo = np.nanstd(autocorr_mood, axis=0)\n",
    "se_as_autocorr_mo = np.array([sd_as_autocorr_mo[i]/np.sqrt(len_mo[i]) for i in range(len(len_mo))])\n",
    "p_auto_mo = np.array([stats.ttest_1samp(elem,0,axis=0)[1] for elem in transp_autocorr_mo])\n",
    "mean_as_autocorr_mo = np.delete(mean_as_autocorr_mo,0)\n",
    "se_as_autocorr_mo = np.delete(se_as_autocorr_mo,0)\n",
    "\n",
    "mean_as_autocorr_st = np.nanmean(autocorr_stress, axis=0)\n",
    "transp_autocorr_st = np.transpose(autocorr_stress)\n",
    "len_st = [np.isnan(elem)[np.isnan(elem) == False].size for elem in transp_autocorr_st]\n",
    "sd_as_autocorr_st = np.nanstd(autocorr_stress, axis=0)\n",
    "se_as_autocorr_st = np.array([sd_as_autocorr_st[i]/np.sqrt(len_st[i]) for i in range(len(len_st))])\n",
    "p_auto_st = [stats.ttest_1samp(elem,0,axis=0)[1] for elem in transp_autocorr_st]\n",
    "mean_as_autocorr_st = np.delete(mean_as_autocorr_st,0)\n",
    "se_as_autocorr_st = np.delete(se_as_autocorr_st,0)\n",
    "\n",
    "mean_as_autocorr_fo = np.nanmean(autocorr_food, axis=0)\n",
    "transp_autocorr_fo = np.transpose(autocorr_food)\n",
    "len_fo = [np.isnan(elem)[np.isnan(elem) == False].size for elem in transp_autocorr_fo]\n",
    "sd_as_autocorr_fo = np.nanstd(autocorr_food, axis=0)\n",
    "se_as_autocorr_fo = np.array([sd_as_autocorr_fo[i]/np.sqrt(len_fo[i]) for i in range(len(len_fo))])\n",
    "p_auto_fo = [stats.ttest_1samp(elem,0,axis=0)[1] for elem in transp_autocorr_fo]\n",
    "mean_as_autocorr_fo = np.delete(mean_as_autocorr_fo,0)\n",
    "se_as_autocorr_fo = np.delete(se_as_autocorr_fo,0)\n",
    "\n",
    "mean_as_autocorr_sl = np.nanmean(autocorr_sleep, axis=0)\n",
    "transp_autocorr_sl = np.transpose(autocorr_sleep)\n",
    "len_sl = [np.isnan(elem)[np.isnan(elem) == False].size for elem in transp_autocorr_sl]\n",
    "sd_as_autocorr_sl = np.nanstd(autocorr_sleep, axis=0)\n",
    "se_as_autocorr_sl = np.array([sd_as_autocorr_sl[i]/np.sqrt(len_sl[i]) for i in range(len(len_sl))])\n",
    "p_auto_sl = [stats.ttest_1samp(elem,0,axis=0)[1] for elem in transp_autocorr_sl]\n",
    "mean_as_autocorr_sl = np.delete(mean_as_autocorr_sl,0)\n",
    "se_as_autocorr_sl = np.delete(se_as_autocorr_sl,0)"
   ]
  },
  {
   "cell_type": "code",
   "execution_count": 39,
   "metadata": {},
   "outputs": [
    {
     "data": {
      "image/png": "[encoded data removed]",
      "text/plain": [
       "<Figure size 864x504 with 4 Axes>"
      ]
     },
     "metadata": {
      "needs_background": "light"
     },
     "output_type": "display_data"
    }
   ],
   "source": [
    "fig, ax = plt.subplots(2,2,figsize=(12,7))\n",
    "plt.subplots_adjust(hspace = 0.4)  \n",
    "\n",
    "for j in range(1,len(mean_as_autocorr_mo)+1):\n",
    "    if p_auto_mo[j]<0.05:\n",
    "        ax[0,0].annotate(str(roundP(p_auto_mo[j])), xy=(j,mean_as_autocorr_mo[j-1]),\\\n",
    "        xycoords='data',xytext=(0.12*j, 0.95), textcoords='axes fraction',\n",
    "        arrowprops=dict(facecolor='k',color='k',alpha=0.7,width=0.2,headwidth=5),\n",
    "        horizontalalignment='right', verticalalignment='top')\n",
    "\n",
    "ax[0,0].plot(np.arange(1,len(mean_as_autocorr_mo)+1),mean_as_autocorr_mo,c='b', zorder=2)\n",
    "ax[0,0].fill_between(np.arange(1,len(mean_as_autocorr_mo)+1),np.array(mean_as_autocorr_mo)-np.array(se_as_autocorr_mo), \\\n",
    "                   np.array(mean_as_autocorr_mo)+np.array(se_as_autocorr_mo), color='b', alpha=0.2)\n",
    "\n",
    "for j in range(1,len(mean_as_autocorr_st)+1):\n",
    "    if p_auto_st[j]<0.05:\n",
    "        ax[1,1].annotate(str(roundP(p_auto_st[j])), xy=(j,mean_as_autocorr_st[j-1]),\\\n",
    "        xycoords='data',xytext=(0.13*j, 0.4), textcoords='axes fraction',\n",
    "        arrowprops=dict(facecolor='k',color='k',alpha=0.7,width=0.2,\\\n",
    "        headwidth=5),horizontalalignment='right', verticalalignment='top')\n",
    "        \n",
    "ax[1,1].plot(np.arange(1,len(mean_as_autocorr_st)+1),mean_as_autocorr_st,c='g', zorder=2)\n",
    "ax[1,1].fill_between(np.arange(1,len(mean_as_autocorr_st)+1),np.array(mean_as_autocorr_st)-np.array(se_as_autocorr_st), \\\n",
    "                   np.array(mean_as_autocorr_st)+np.array(se_as_autocorr_st), color='g', alpha=0.2)\n",
    "\n",
    "for j in range(1,len(mean_as_autocorr_fo)+1):\n",
    "    if p_auto_fo[j]<0.05:\n",
    "        ax[1,0].annotate(str(roundP(p_auto_fo[j])), xy=(j,mean_as_autocorr_fo[j-1]),\\\n",
    "        xycoords='data',xytext=(0.11*j, 0.075*j), textcoords='axes fraction',\n",
    "        arrowprops=dict(facecolor='k',color='k',alpha=0.7,width=0.2,headwidth=5),\n",
    "        horizontalalignment='right', verticalalignment='top')\n",
    "ax[1,0].plot(np.arange(1,len(mean_as_autocorr_fo)+1),mean_as_autocorr_fo,c='r', zorder=2)\n",
    "ax[1,0].fill_between(np.arange(1,len(mean_as_autocorr_fo)+1),np.array(mean_as_autocorr_fo)-np.array(se_as_autocorr_fo), \\\n",
    "                   np.array(mean_as_autocorr_fo)+np.array(se_as_autocorr_fo), color='r', alpha=0.2)\n",
    "\n",
    "for j in range(1,len(mean_as_autocorr_sl)+1):\n",
    "    if p_auto_sl[j]<0.05:\n",
    "        ax[0,1].annotate(str(roundP(p_auto_sl[j])), xy=(j,mean_as_autocorr_sl[j-1]),\\\n",
    "        xycoords='data',xytext=(0.11*j, 0.2*j), textcoords='axes fraction',\n",
    "        arrowprops=dict(facecolor='k',color='k',alpha=0.7,width=0.2,headwidth=5),\n",
    "        horizontalalignment='right', verticalalignment='top')\n",
    "ax[0,1].plot(np.arange(1,len(mean_as_autocorr_sl)+1),mean_as_autocorr_sl,c='y', zorder=2)\n",
    "ax[0,1].fill_between(np.arange(1,len(mean_as_autocorr_sl)+1),np.array(mean_as_autocorr_sl)-np.array(se_as_autocorr_sl), \\\n",
    "                   np.array(mean_as_autocorr_sl)+np.array(se_as_autocorr_sl), color='y', alpha=0.2)\n",
    "\n",
    "ax[0,0].set_ylabel('autocorrelation')\n",
    "ax[1,0].set_ylabel('autocorrelation')\n",
    "ax[1,0].set_xlabel('lag')\n",
    "ax[1,1].set_xlabel('lag')\n",
    "ax[0,0].set_title('mood')\n",
    "ax[1,1].set_title('stress')\n",
    "ax[1,0].set_title('food')\n",
    "ax[0,1].set_title('sleep')\n",
    "for i in range(2):\n",
    "    for j in range(2):\n",
    "        ax[i,j].set_ylim(-0.3,0.3)\n",
    "        ax[i,j].axhline(0.0,c='k')\n",
    "        ax[i,j].set_xticks([1,3,5,7])\n",
    "plt.show()"
   ]
  },
  {
   "cell_type": "markdown",
   "metadata": {},
   "source": [
    "**Figure 1**: Self-reports mean and standard error across participants autocorrelation vs lag. Arrows indicate p-value against the hypotesis of null autocorrelation over a t-test analysis. Blue: mood report. Yellow: sleep report. Red: food report. Green: stress report."
   ]
  },
  {
   "cell_type": "markdown",
   "metadata": {},
   "source": [
    "## Optout, performance and reaction time"
   ]
  },
  {
   "cell_type": "code",
   "execution_count": 78,
   "metadata": {},
   "outputs": [],
   "source": [
    "adf['real_OK_NO_RT'] = adf['OKubj_RT_no']*adf['medianRT']\n",
    "adf['real_OK_DO_RT'] = adf['OKDsubj_RT_oo']*adf['medianRT']\n",
    "adf['real_OK_SO_RT'] = adf['OKSsubj_RT_oo']*adf['medianRT']"
   ]
  },
  {
   "cell_type": "code",
   "execution_count": 41,
   "metadata": {
    "scrolled": true
   },
   "outputs": [
    {
     "ename": "KeyboardInterrupt",
     "evalue": "",
     "output_type": "error",
     "traceback": [
      "\u001b[0;31m---------------------------------------------------------------------------\u001b[0m",
      "\u001b[0;31mKeyboardInterrupt\u001b[0m                         Traceback (most recent call last)",
      "\u001b[0;32m<ipython-input-41-0face3242eea>\u001b[0m in \u001b[0;36m<module>\u001b[0;34m\u001b[0m\n\u001b[1;32m      4\u001b[0m     \u001b[0msubset\u001b[0m \u001b[0;34m=\u001b[0m \u001b[0msubset\u001b[0m\u001b[0;34m.\u001b[0m\u001b[0msort_values\u001b[0m\u001b[0;34m(\u001b[0m\u001b[0mby\u001b[0m\u001b[0;34m=\u001b[0m\u001b[0;34m[\u001b[0m\u001b[0;34m'sessionID_x'\u001b[0m\u001b[0;34m]\u001b[0m\u001b[0;34m)\u001b[0m\u001b[0;34m\u001b[0m\u001b[0;34m\u001b[0m\u001b[0m\n\u001b[1;32m      5\u001b[0m     \u001b[0mDO\u001b[0m \u001b[0;34m=\u001b[0m \u001b[0mnp\u001b[0m\u001b[0;34m.\u001b[0m\u001b[0marray\u001b[0m\u001b[0;34m(\u001b[0m\u001b[0msubset\u001b[0m\u001b[0;34m[\u001b[0m\u001b[0;34m'Dsubj_optout_oo'\u001b[0m\u001b[0;34m]\u001b[0m\u001b[0;34m)\u001b[0m\u001b[0;34m\u001b[0m\u001b[0;34m\u001b[0m\u001b[0m\n\u001b[0;32m----> 6\u001b[0;31m     \u001b[0mmean_sh_auto_do\u001b[0m \u001b[0;34m=\u001b[0m \u001b[0mauto_corr_mean_shuffled\u001b[0m\u001b[0;34m(\u001b[0m\u001b[0mDO\u001b[0m\u001b[0;34m,\u001b[0m\u001b[0;36m100\u001b[0m\u001b[0;34m)\u001b[0m\u001b[0;34m\u001b[0m\u001b[0;34m\u001b[0m\u001b[0m\n\u001b[0m\u001b[1;32m      7\u001b[0m     \u001b[0mresult_do\u001b[0m \u001b[0;34m=\u001b[0m \u001b[0mmatlab_autocorr\u001b[0m\u001b[0;34m(\u001b[0m\u001b[0mDO\u001b[0m\u001b[0;34m)\u001b[0m \u001b[0;34m-\u001b[0m \u001b[0mmean_sh_auto_do\u001b[0m\u001b[0;34m\u001b[0m\u001b[0;34m\u001b[0m\u001b[0m\n\u001b[1;32m      8\u001b[0m     \u001b[0mresult_do\u001b[0m \u001b[0;34m=\u001b[0m \u001b[0mresult_do\u001b[0m\u001b[0;34m[\u001b[0m\u001b[0;34m:\u001b[0m\u001b[0mint\u001b[0m\u001b[0;34m(\u001b[0m\u001b[0mresult_do\u001b[0m\u001b[0;34m.\u001b[0m\u001b[0msize\u001b[0m\u001b[0;34m/\u001b[0m\u001b[0;36m2\u001b[0m\u001b[0;34m)\u001b[0m\u001b[0;34m-\u001b[0m\u001b[0;36m1\u001b[0m\u001b[0;34m]\u001b[0m\u001b[0;34m\u001b[0m\u001b[0;34m\u001b[0m\u001b[0m\n",
      "\u001b[0;32m<ipython-input-35-99d0b0b76c45>\u001b[0m in \u001b[0;36mauto_corr_mean_shuffled\u001b[0;34m(array, N)\u001b[0m\n\u001b[1;32m     18\u001b[0m     \u001b[0;32mfor\u001b[0m \u001b[0mi\u001b[0m \u001b[0;32min\u001b[0m \u001b[0mrange\u001b[0m\u001b[0;34m(\u001b[0m\u001b[0mN\u001b[0m\u001b[0;34m)\u001b[0m\u001b[0;34m:\u001b[0m\u001b[0;34m\u001b[0m\u001b[0;34m\u001b[0m\u001b[0m\n\u001b[1;32m     19\u001b[0m         \u001b[0mnp\u001b[0m\u001b[0;34m.\u001b[0m\u001b[0mrandom\u001b[0m\u001b[0;34m.\u001b[0m\u001b[0mshuffle\u001b[0m\u001b[0;34m(\u001b[0m\u001b[0ma\u001b[0m\u001b[0;34m)\u001b[0m\u001b[0;34m\u001b[0m\u001b[0;34m\u001b[0m\u001b[0m\n\u001b[0;32m---> 20\u001b[0;31m         \u001b[0mresult\u001b[0m \u001b[0;34m=\u001b[0m \u001b[0mmatlab_autocorr\u001b[0m\u001b[0;34m(\u001b[0m\u001b[0ma\u001b[0m\u001b[0;34m)\u001b[0m\u001b[0;34m\u001b[0m\u001b[0;34m\u001b[0m\u001b[0m\n\u001b[0m\u001b[1;32m     21\u001b[0m         \u001b[0mautocorr\u001b[0m\u001b[0;34m.\u001b[0m\u001b[0mappend\u001b[0m\u001b[0;34m(\u001b[0m\u001b[0mresult\u001b[0m\u001b[0;34m)\u001b[0m\u001b[0;34m\u001b[0m\u001b[0;34m\u001b[0m\u001b[0m\n\u001b[1;32m     22\u001b[0m     \u001b[0mmean_autocorr\u001b[0m \u001b[0;34m=\u001b[0m \u001b[0mnp\u001b[0m\u001b[0;34m.\u001b[0m\u001b[0mmean\u001b[0m\u001b[0;34m(\u001b[0m\u001b[0mautocorr\u001b[0m\u001b[0;34m,\u001b[0m \u001b[0maxis\u001b[0m\u001b[0;34m=\u001b[0m\u001b[0;36m0\u001b[0m\u001b[0;34m)\u001b[0m\u001b[0;34m\u001b[0m\u001b[0;34m\u001b[0m\u001b[0m\n",
      "\u001b[0;32m<ipython-input-35-99d0b0b76c45>\u001b[0m in \u001b[0;36mmatlab_autocorr\u001b[0;34m(x)\u001b[0m\n\u001b[1;32m     32\u001b[0m         \u001b[0mx1\u001b[0m \u001b[0;34m=\u001b[0m \u001b[0mnp\u001b[0m\u001b[0;34m.\u001b[0m\u001b[0marray\u001b[0m\u001b[0;34m(\u001b[0m\u001b[0mx1\u001b[0m\u001b[0;34m)\u001b[0m\u001b[0;34m\u001b[0m\u001b[0;34m\u001b[0m\u001b[0m\n\u001b[1;32m     33\u001b[0m         \u001b[0mx2\u001b[0m \u001b[0;34m=\u001b[0m \u001b[0mnp\u001b[0m\u001b[0;34m.\u001b[0m\u001b[0marray\u001b[0m\u001b[0;34m(\u001b[0m\u001b[0mx2\u001b[0m\u001b[0;34m)\u001b[0m\u001b[0;34m\u001b[0m\u001b[0;34m\u001b[0m\u001b[0m\n\u001b[0;32m---> 34\u001b[0;31m         \u001b[0mcc\u001b[0m\u001b[0;34m.\u001b[0m\u001b[0mappend\u001b[0m\u001b[0;34m(\u001b[0m\u001b[0mnp\u001b[0m\u001b[0;34m.\u001b[0m\u001b[0mma\u001b[0m\u001b[0;34m.\u001b[0m\u001b[0mcorrcoef\u001b[0m\u001b[0;34m(\u001b[0m\u001b[0mnp\u001b[0m\u001b[0;34m.\u001b[0m\u001b[0mma\u001b[0m\u001b[0;34m.\u001b[0m\u001b[0mmasked_invalid\u001b[0m\u001b[0;34m(\u001b[0m\u001b[0mx1\u001b[0m\u001b[0;34m)\u001b[0m\u001b[0;34m,\u001b[0m\u001b[0mnp\u001b[0m\u001b[0;34m.\u001b[0m\u001b[0mma\u001b[0m\u001b[0;34m.\u001b[0m\u001b[0mmasked_invalid\u001b[0m\u001b[0;34m(\u001b[0m\u001b[0mx2\u001b[0m\u001b[0;34m)\u001b[0m\u001b[0;34m)\u001b[0m\u001b[0;34m[\u001b[0m\u001b[0;36m0\u001b[0m\u001b[0;34m]\u001b[0m\u001b[0;34m[\u001b[0m\u001b[0;36m1\u001b[0m\u001b[0;34m]\u001b[0m\u001b[0;34m)\u001b[0m\u001b[0;34m\u001b[0m\u001b[0;34m\u001b[0m\u001b[0m\n\u001b[0m\u001b[1;32m     35\u001b[0m     \u001b[0;32mreturn\u001b[0m \u001b[0mnp\u001b[0m\u001b[0;34m.\u001b[0m\u001b[0marray\u001b[0m\u001b[0;34m(\u001b[0m\u001b[0mcc\u001b[0m\u001b[0;34m)\u001b[0m\u001b[0;34m\u001b[0m\u001b[0;34m\u001b[0m\u001b[0m\n\u001b[1;32m     36\u001b[0m \u001b[0;34m\u001b[0m\u001b[0m\n",
      "\u001b[0;32m~/anaconda3/lib/python3.8/site-packages/numpy/ma/extras.py\u001b[0m in \u001b[0;36mcorrcoef\u001b[0;34m(x, y, rowvar, bias, allow_masked, ddof)\u001b[0m\n\u001b[1;32m   1457\u001b[0m                 \u001b[0;32mfor\u001b[0m \u001b[0mj\u001b[0m \u001b[0;32min\u001b[0m \u001b[0mrange\u001b[0m\u001b[0;34m(\u001b[0m\u001b[0mi\u001b[0m \u001b[0;34m+\u001b[0m \u001b[0;36m1\u001b[0m\u001b[0;34m,\u001b[0m \u001b[0mn\u001b[0m\u001b[0;34m)\u001b[0m\u001b[0;34m:\u001b[0m\u001b[0;34m\u001b[0m\u001b[0;34m\u001b[0m\u001b[0m\n\u001b[1;32m   1458\u001b[0m                     \u001b[0m_x\u001b[0m \u001b[0;34m=\u001b[0m \u001b[0mmask_cols\u001b[0m\u001b[0;34m(\u001b[0m\u001b[0mvstack\u001b[0m\u001b[0;34m(\u001b[0m\u001b[0;34m(\u001b[0m\u001b[0mx\u001b[0m\u001b[0;34m[\u001b[0m\u001b[0mi\u001b[0m\u001b[0;34m]\u001b[0m\u001b[0;34m,\u001b[0m \u001b[0mx\u001b[0m\u001b[0;34m[\u001b[0m\u001b[0mj\u001b[0m\u001b[0;34m]\u001b[0m\u001b[0;34m)\u001b[0m\u001b[0;34m)\u001b[0m\u001b[0;34m)\u001b[0m\u001b[0;34m.\u001b[0m\u001b[0mvar\u001b[0m\u001b[0;34m(\u001b[0m\u001b[0maxis\u001b[0m\u001b[0;34m=\u001b[0m\u001b[0;36m1\u001b[0m\u001b[0;34m)\u001b[0m\u001b[0;34m\u001b[0m\u001b[0;34m\u001b[0m\u001b[0m\n\u001b[0;32m-> 1459\u001b[0;31m                     \u001b[0m_denom\u001b[0m\u001b[0;34m[\u001b[0m\u001b[0mi\u001b[0m\u001b[0;34m,\u001b[0m \u001b[0mj\u001b[0m\u001b[0;34m]\u001b[0m \u001b[0;34m=\u001b[0m \u001b[0m_denom\u001b[0m\u001b[0;34m[\u001b[0m\u001b[0mj\u001b[0m\u001b[0;34m,\u001b[0m \u001b[0mi\u001b[0m\u001b[0;34m]\u001b[0m \u001b[0;34m=\u001b[0m \u001b[0mma\u001b[0m\u001b[0;34m.\u001b[0m\u001b[0msqrt\u001b[0m\u001b[0;34m(\u001b[0m\u001b[0mma\u001b[0m\u001b[0;34m.\u001b[0m\u001b[0mmultiply\u001b[0m\u001b[0;34m.\u001b[0m\u001b[0mreduce\u001b[0m\u001b[0;34m(\u001b[0m\u001b[0m_x\u001b[0m\u001b[0;34m)\u001b[0m\u001b[0;34m)\u001b[0m\u001b[0;34m\u001b[0m\u001b[0;34m\u001b[0m\u001b[0m\n\u001b[0m\u001b[1;32m   1460\u001b[0m         \u001b[0;32melse\u001b[0m\u001b[0;34m:\u001b[0m\u001b[0;34m\u001b[0m\u001b[0;34m\u001b[0m\u001b[0m\n\u001b[1;32m   1461\u001b[0m             \u001b[0;32mfor\u001b[0m \u001b[0mi\u001b[0m \u001b[0;32min\u001b[0m \u001b[0mrange\u001b[0m\u001b[0;34m(\u001b[0m\u001b[0mn\u001b[0m \u001b[0;34m-\u001b[0m \u001b[0;36m1\u001b[0m\u001b[0;34m)\u001b[0m\u001b[0;34m:\u001b[0m\u001b[0;34m\u001b[0m\u001b[0;34m\u001b[0m\u001b[0m\n",
      "\u001b[0;32m~/anaconda3/lib/python3.8/site-packages/numpy/ma/core.py\u001b[0m in \u001b[0;36m__call__\u001b[0;34m(self, a, *args, **kwargs)\u001b[0m\n\u001b[1;32m    938\u001b[0m             \u001b[0;31m# nans at masked positions cause RuntimeWarnings, even though\u001b[0m\u001b[0;34m\u001b[0m\u001b[0;34m\u001b[0m\u001b[0;34m\u001b[0m\u001b[0m\n\u001b[1;32m    939\u001b[0m             \u001b[0;31m# they are masked. To avoid this we suppress warnings.\u001b[0m\u001b[0;34m\u001b[0m\u001b[0;34m\u001b[0m\u001b[0;34m\u001b[0m\u001b[0m\n\u001b[0;32m--> 940\u001b[0;31m             \u001b[0;32mwith\u001b[0m \u001b[0mnp\u001b[0m\u001b[0;34m.\u001b[0m\u001b[0merrstate\u001b[0m\u001b[0;34m(\u001b[0m\u001b[0mdivide\u001b[0m\u001b[0;34m=\u001b[0m\u001b[0;34m'ignore'\u001b[0m\u001b[0;34m,\u001b[0m \u001b[0minvalid\u001b[0m\u001b[0;34m=\u001b[0m\u001b[0;34m'ignore'\u001b[0m\u001b[0;34m)\u001b[0m\u001b[0;34m:\u001b[0m\u001b[0;34m\u001b[0m\u001b[0;34m\u001b[0m\u001b[0m\n\u001b[0m\u001b[1;32m    941\u001b[0m                 \u001b[0mresult\u001b[0m \u001b[0;34m=\u001b[0m \u001b[0mself\u001b[0m\u001b[0;34m.\u001b[0m\u001b[0mf\u001b[0m\u001b[0;34m(\u001b[0m\u001b[0md\u001b[0m\u001b[0;34m,\u001b[0m \u001b[0;34m*\u001b[0m\u001b[0margs\u001b[0m\u001b[0;34m,\u001b[0m \u001b[0;34m**\u001b[0m\u001b[0mkwargs\u001b[0m\u001b[0;34m)\u001b[0m\u001b[0;34m\u001b[0m\u001b[0;34m\u001b[0m\u001b[0m\n\u001b[1;32m    942\u001b[0m             \u001b[0;31m# Make a mask\u001b[0m\u001b[0;34m\u001b[0m\u001b[0;34m\u001b[0m\u001b[0;34m\u001b[0m\u001b[0m\n",
      "\u001b[0;31mKeyboardInterrupt\u001b[0m: "
     ]
    }
   ],
   "source": [
    "autocorr_DO,autocorr_SO,autocorr_NOperf,autocorr_noRT = [[] for _ in range(4)]\n",
    "for part in userids:\n",
    "    subset = adf[adf['participantID']==part]\n",
    "    subset = subset.sort_values(by=['sessionID_x'])\n",
    "    DO = np.array(subset['Dsubj_optout_oo'])\n",
    "    mean_sh_auto_do = auto_corr_mean_shuffled(DO,100)    \n",
    "    result_do = matlab_autocorr(DO) - mean_sh_auto_do\n",
    "    result_do = result_do[:int(result_do.size/2)-1]\n",
    "    autocorr_DO.append(result_do)\n",
    "    #ax[0].plot(np.arange(len(result_do)),result_do,c=[1.0,0.4,0.4], zorder=1)\n",
    "\n",
    "    SO = np.array(subset['Ssubj_optout_oo'])\n",
    "    mean_sh_auto_so = auto_corr_mean_shuffled(SO,100) \n",
    "    result_so = matlab_autocorr(SO) - mean_sh_auto_so\n",
    "    result_so = result_so[:int(result_so.size/2)-1] \n",
    "    autocorr_SO.append(result_so)\n",
    "    #ax[1].plot(np.arange(len(result_so)),result_so,c=[0.4,0.4,1.0], zorder=1)\n",
    "\n",
    "    NOperf = np.array(subset['subj_perf_no'])\n",
    "    mean_sh_auto_no = auto_corr_mean_shuffled(NOperf,100) \n",
    "    result_no = matlab_autocorr(NOperf) - mean_sh_auto_no\n",
    "    result_no = result_no[:int(result_no.size/2)-1]\n",
    "    autocorr_NOperf.append(result_no)\n",
    "    #ax[2].plot(np.arange(len(result_no)),result_no,c=[0.4,1.0,0.4], zorder=1)\n",
    "    \n",
    "    NORT = np.array(subset['real_OK_NO_RT'])\n",
    "    mean_sh_auto_noRT = auto_corr_mean_shuffled(NORT,100) \n",
    "    result_noRT = matlab_autocorr(NORT) - mean_sh_auto_noRT\n",
    "    result_noRT = result_noRT[:int(result_noRT.size/2)+4]\n",
    "    autocorr_noRT.append(result_noRT)\n",
    "    #ax[2].plot(np.arange(len(result_noRT)),result_noRT,c=[0.4,1.0,0.4], zorder=1)"
   ]
  },
  {
   "cell_type": "code",
   "execution_count": null,
   "metadata": {},
   "outputs": [],
   "source": [
    "mean_as_autocorr_do = np.nanmean(autocorr_DO, axis=0)\n",
    "transp_autocorr_do = np.transpose(autocorr_DO)\n",
    "len_do = [np.isnan(elem)[np.isnan(elem) == False].size for elem in transp_autocorr_do]\n",
    "sd_as_autocorr_do = np.nanstd(autocorr_DO, axis=0)\n",
    "se_as_autocorr_do = np.array([sd_as_autocorr_do[i]/np.sqrt(len_do[i]) for i in range(len(len_do))])\n",
    "p_auto_do = np.array([stats.ttest_1samp(elem,0,axis=0)[1] for elem in transp_autocorr_do])\n",
    "mean_as_autocorr_do = np.delete(mean_as_autocorr_do,0)\n",
    "se_as_autocorr_do = np.delete(se_as_autocorr_do,0)\n",
    "\n",
    "mean_as_autocorr_so = np.nanmean(autocorr_SO, axis=0)\n",
    "transp_autocorr_so = np.transpose(autocorr_SO)\n",
    "len_so = [np.isnan(elem)[np.isnan(elem) == False].size for elem in transp_autocorr_so]\n",
    "sd_as_autocorr_so = np.nanstd(autocorr_SO, axis=0)\n",
    "se_as_autocorr_so = np.array([sd_as_autocorr_so[i]/np.sqrt(len_so[i]) for i in range(len(len_so))])\n",
    "p_auto_so = np.array([stats.ttest_1samp(elem,0,axis=0)[1] for elem in transp_autocorr_so])\n",
    "mean_as_autocorr_so = np.delete(mean_as_autocorr_so,0)\n",
    "se_as_autocorr_so = np.delete(se_as_autocorr_so,0)\n",
    "\n",
    "mean_as_autocorr_no = np.nanmean(autocorr_NOperf, axis=0)\n",
    "transp_autocorr_no = np.transpose(autocorr_NOperf)\n",
    "len_no = [np.isnan(elem)[np.isnan(elem) == False].size for elem in transp_autocorr_no]\n",
    "sd_as_autocorr_no = np.nanstd(autocorr_NOperf, axis=0)\n",
    "se_as_autocorr_no = np.array([sd_as_autocorr_no[i]/np.sqrt(len_no[i]) for i in range(len(len_no))])\n",
    "p_auto_no = np.array([stats.ttest_1samp(elem,0,axis=0)[1] for elem in transp_autocorr_no])\n",
    "mean_as_autocorr_no = np.delete(mean_as_autocorr_no,0)\n",
    "se_as_autocorr_no = np.delete(se_as_autocorr_no,0)\n",
    "\n",
    "mean_as_autocorr_noRT = np.nanmean(autocorr_noRT, axis=0)\n",
    "transp_autocorr_noRT = np.transpose(autocorr_noRT)\n",
    "len_noRT = [np.isnan(elem)[np.isnan(elem) == False].size for elem in transp_autocorr_noRT]\n",
    "sd_as_autocorr_noRT = np.nanstd(autocorr_noRT, axis=0)\n",
    "se_as_autocorr_noRT = np.array([sd_as_autocorr_noRT[i]/np.sqrt(len_noRT[i]) for i in range(len(len_noRT))])\n",
    "p_auto_noRT = np.array([stats.ttest_1samp(elem,0,axis=0)[1] for elem in transp_autocorr_noRT])\n",
    "mean_as_autocorr_noRT = np.delete(mean_as_autocorr_noRT,0)\n",
    "se_as_autocorr_noRT = np.delete(se_as_autocorr_noRT,0)"
   ]
  },
  {
   "cell_type": "code",
   "execution_count": null,
   "metadata": {},
   "outputs": [],
   "source": [
    "fig, ax = plt.subplots(2,2,figsize=(12,8))\n",
    "plt.subplots_adjust(hspace = 0.4) \n",
    "plt.subplots_adjust(wspace = 0.3) \n",
    "\n",
    "for j in range(1,len(mean_as_autocorr_do)+1):\n",
    "    if p_auto_do[j]<0.05 and j%2==0:\n",
    "        ax[0,0].annotate(str(roundP(p_auto_do[j])), xy=(j,mean_as_autocorr_do[j-1]),\\\n",
    "        xycoords='data',xytext=(0.12*j, 0.95), textcoords='axes fraction',\n",
    "        arrowprops=dict(facecolor='k',color='k',alpha=0.7,width=0.2,headwidth=5),\n",
    "        horizontalalignment='right', verticalalignment='top')\n",
    "    elif p_auto_do[j]<0.05 and j%2==1:\n",
    "        ax[0,0].annotate(str(roundP(p_auto_do[j])), xy=(j,mean_as_autocorr_do[j-1]),\\\n",
    "        xycoords='data',xytext=(0.15*j, 0.1), textcoords='axes fraction',\n",
    "        arrowprops=dict(facecolor='k',color='k',alpha=0.7,width=0.2,headwidth=5),\n",
    "        horizontalalignment='right', verticalalignment='top')\n",
    "ax[0,0].plot(np.arange(1,len(mean_as_autocorr_do)+1),mean_as_autocorr_do,c='r', zorder=2)\n",
    "ax[0,0].fill_between(np.arange(1,len(mean_as_autocorr_do)+1),np.array(mean_as_autocorr_do)-np.array(se_as_autocorr_do), \\\n",
    "                   np.array(mean_as_autocorr_do)+np.array(se_as_autocorr_do), color='r', alpha=0.2)\n",
    "\n",
    "for j in range(1,len(mean_as_autocorr_so)+1):\n",
    "    if p_auto_so[j]<0.05 and j%2==0:\n",
    "        ax[0,1].annotate(str(roundP(p_auto_so[j])), xy=(j,mean_as_autocorr_so[j-1]),\\\n",
    "        xycoords='data',xytext=(0.11*j, 0.95), textcoords='axes fraction',\n",
    "        arrowprops=dict(facecolor='k',color='k',alpha=0.7,width=0.2,headwidth=5),\n",
    "        horizontalalignment='right', verticalalignment='top')\n",
    "    elif p_auto_so[j]<0.05 and j%2==1:\n",
    "        ax[0,1].annotate(str(roundP(p_auto_so[j])), xy=(j,mean_as_autocorr_so[j-1]),\\\n",
    "        xycoords='data',xytext=(0.11*j, 0.1), textcoords='axes fraction',\n",
    "        arrowprops=dict(facecolor='k',color='k',alpha=0.7,width=0.2,headwidth=5),\n",
    "        horizontalalignment='right', verticalalignment='top')\n",
    "ax[0,1].plot(np.arange(1,len(mean_as_autocorr_so)+1),mean_as_autocorr_so,c='b', zorder=2)\n",
    "ax[0,1].fill_between(np.arange(1,len(mean_as_autocorr_so)+1),np.array(mean_as_autocorr_so)-np.array(se_as_autocorr_so), \\\n",
    "                   np.array(mean_as_autocorr_so)+np.array(se_as_autocorr_so), color='b', alpha=0.2)\n",
    "\n",
    "for j in range(1,len(mean_as_autocorr_no)+1):\n",
    "    if p_auto_no[j]<0.05 and j%2==0:\n",
    "        ax[1,0].annotate(str(roundP(p_auto_no[j])), xy=(j,mean_as_autocorr_no[j-1]),\\\n",
    "        xycoords='data',xytext=(0.11*j, 0.95), textcoords='axes fraction',\n",
    "        arrowprops=dict(facecolor='k',color='k',alpha=0.7,width=0.2,headwidth=5),\n",
    "        horizontalalignment='right', verticalalignment='top')\n",
    "    elif p_auto_no[j]<0.05 and j%2==1:\n",
    "        ax[1,0].annotate(str(roundP(p_auto_no[j])), xy=(j,mean_as_autocorr_no[j-1]),\\\n",
    "        xycoords='data',xytext=(0.11*j, 0.1), textcoords='axes fraction',\n",
    "        arrowprops=dict(facecolor='k',color='k',alpha=0.7,width=0.2,headwidth=5),\n",
    "        horizontalalignment='right', verticalalignment='top')\n",
    "ax[1,0].plot(np.arange(1,len(mean_as_autocorr_no)+1),mean_as_autocorr_no,c='g', zorder=2)\n",
    "ax[1,0].fill_between(np.arange(1,len(mean_as_autocorr_no)+1),np.array(mean_as_autocorr_no)-np.array(se_as_autocorr_no), \\\n",
    "                   np.array(mean_as_autocorr_no)+np.array(se_as_autocorr_no), color='g', alpha=0.2)\n",
    "\n",
    "for j in range(1,len(mean_as_autocorr_noRT)+1):\n",
    "    if p_auto_noRT[j]<0.05 and j%2==0:\n",
    "        ax[1,1].annotate(str(roundP(p_auto_noRT[j])), xy=(j,mean_as_autocorr_noRT[j-1]),\\\n",
    "        xycoords='data',xytext=(0.11*j, 0.95), textcoords='axes fraction',\n",
    "        arrowprops=dict(facecolor='k',color='k',alpha=0.7,width=0.2,headwidth=5),\n",
    "        horizontalalignment='right', verticalalignment='top')\n",
    "    elif p_auto_noRT[j]<0.05 and j%2==1:\n",
    "        ax[1,1].annotate(str(roundP(p_auto_noRT[j])), xy=(j,mean_as_autocorr_noRT[j-1]),\\\n",
    "        xycoords='data',xytext=(0.11*j, 0.1), textcoords='axes fraction',\n",
    "        arrowprops=dict(facecolor='k',color='k',alpha=0.7,width=0.2,headwidth=5),\n",
    "        horizontalalignment='right', verticalalignment='top')\n",
    "ax[1,1].plot(np.arange(1,len(mean_as_autocorr_noRT)+1),mean_as_autocorr_noRT,c='g', zorder=2)\n",
    "ax[1,1].fill_between(np.arange(1,len(mean_as_autocorr_noRT)+1),np.array(mean_as_autocorr_noRT)-np.array(se_as_autocorr_noRT), \\\n",
    "                   np.array(mean_as_autocorr_noRT)+np.array(se_as_autocorr_noRT), color='g', alpha=0.2)\n",
    "\n",
    "for i in range(2):\n",
    "    ax[i,0].set_ylabel('autocorrelation')\n",
    "    ax[1,i].set_xlabel('lag')\n",
    "    for j in range(2):\n",
    "        ax[i,j].set_ylim(-0.2,0.75)\n",
    "        ax[i,j].axhline(0,c='k')\n",
    "        if i!=1 or j!=1:\n",
    "            ax[i,j].set_xticks([1,3,5,7])\n",
    "        else: \n",
    "            ax[i,j].set_xticks([1,3,5,7,9,11])\n",
    "ax[0,0].set_title('DO optout')\n",
    "ax[0,1].set_title('SO optout')\n",
    "ax[1,0].set_title('NO perf')\n",
    "ax[1,1].set_title('NO RT')\n",
    "\n",
    "plt.show()"
   ]
  },
  {
   "cell_type": "markdown",
   "metadata": {},
   "source": [
    "**Figure 2**: Mean and standard error across participants of psychometric variables vs lag. Arrows indicate p-value against the hypotesis of null autocorrelation over a t-test analysis. Top left panel: deterministic optout. Top right panel: stochastic optout. Bottom left: performance in non-optout trials. Bottom right: reaction time in non-optout trials."
   ]
  },
  {
   "cell_type": "markdown",
   "metadata": {},
   "source": [
    "## Overconfidence\n",
    "\n",
    "Defined as $\\frac{|H_L^{opt}-H_R^{opt}| - |H_L-H_R|}{|H_L^{opt}-H_R^{opt}|+|H_L-H_R|}$, we study the correlation between overconfidence and self-reports. We calculate $H_R^{opt}$ for the optout trials, defined as the stimulus value where $p(x>0|\\hat{x})=2/3$. The optimal bias for leftward response corresponds to the stimulus value where $p(x<0|\\hat{x})=1/3$: $H_L^{opt}=-H_R^{opt}$."
   ]
  },
  {
   "cell_type": "code",
   "execution_count": null,
   "metadata": {},
   "outputs": [],
   "source": [
    "Dautocorr_ov,Sautocorr_ov = [],[]\n",
    "for part in userids:\n",
    "    subset = adf[adf['userID']==part]\n",
    "    subset = subset.sort_values(by=['sessionID_x'])\n",
    "    DOV = np.array(subset['DoverConf'])\n",
    "    SOV = np.array(subset['SoverConf'])\n",
    "    \n",
    "    mean_sh_auto_dov = auto_corr_mean_shuffled(DOV,100)    \n",
    "    Dresult_ov = matlab_autocorr(DOV) - mean_sh_auto_dov\n",
    "    Dresult_ov = Dresult_ov[:int(Dresult_ov.size/2)-1]\n",
    "    Dautocorr_ov.append(Dresult_ov)\n",
    "    #ax[0].plot(np.arange(len(Dresult_ov)),Dresult_ov,c=[1.0,0.4,0.4], zorder=1)\n",
    "    \n",
    "    mean_sh_auto_sov = auto_corr_mean_shuffled(SOV,100)    \n",
    "    Sresult_ov = matlab_autocorr(SOV) - mean_sh_auto_sov\n",
    "    Sresult_ov = Sresult_ov[:int(Sresult_ov.size/2)-1]\n",
    "    Sautocorr_ov.append(Sresult_ov)\n",
    "    #ax[1].plot(np.arange(len(Sresult_ov)),Sresult_ov,c=[0.4,0.4,1.0], zorder=1)"
   ]
  },
  {
   "cell_type": "code",
   "execution_count": null,
   "metadata": {},
   "outputs": [],
   "source": [
    "mean_as_autocorr_dov = np.nanmean(Dautocorr_ov, axis=0)\n",
    "transp_autocorr_dov = np.transpose(Dautocorr_ov)\n",
    "len_dov = [np.isnan(elem)[np.isnan(elem) == False].size for elem in transp_autocorr_dov]\n",
    "sd_as_autocorr_dov = np.nanstd(Dautocorr_ov, axis=0)\n",
    "se_as_autocorr_dov = np.array([sd_as_autocorr_dov[i]/np.sqrt(len_dov[i]) for i in range(len(len_dov))])\n",
    "p_auto_dov = np.array([stats.ttest_1samp(elem,0,axis=0)[1] for elem in transp_autocorr_dov])\n",
    "mean_as_autocorr_dov = np.delete(mean_as_autocorr_dov,0)\n",
    "se_as_autocorr_dov = np.delete(se_as_autocorr_dov,0)\n",
    "\n",
    "mean_as_autocorr_sov = np.nanmean(Sautocorr_ov, axis=0)\n",
    "transp_autocorr_sov = np.transpose(Sautocorr_ov)\n",
    "len_sov = [np.isnan(elem)[np.isnan(elem) == False].size for elem in transp_autocorr_sov]\n",
    "sd_as_autocorr_sov = np.nanstd(Sautocorr_ov, axis=0)\n",
    "se_as_autocorr_sov = np.array([sd_as_autocorr_sov[i]/np.sqrt(len_sov[i]) for i in range(len(len_sov))])\n",
    "p_auto_sov = np.array([stats.ttest_1samp(elem,0,axis=0)[1] for elem in transp_autocorr_sov])\n",
    "mean_as_autocorr_sov = np.delete(mean_as_autocorr_sov,0)\n",
    "se_as_autocorr_sov = np.delete(se_as_autocorr_sov,0)"
   ]
  },
  {
   "cell_type": "code",
   "execution_count": null,
   "metadata": {},
   "outputs": [],
   "source": [
    "fig,ax = plt.subplots(1,2,figsize=(14,4))\n",
    "\n",
    "for j in range(1,len(mean_as_autocorr_dov)+1):\n",
    "    if p_auto_dov[j]<0.05 and j%2==0:\n",
    "        ax[0].annotate(str(roundP(p_auto_dov[j])), xy=(j,mean_as_autocorr_dov[j-1]),\\\n",
    "        xycoords='data',xytext=(0.11*j, 0.95), textcoords='axes fraction',\n",
    "        arrowprops=dict(facecolor='k',color='k',alpha=0.7,width=0.2,headwidth=5),\n",
    "        horizontalalignment='right', verticalalignment='top')\n",
    "    elif p_auto_dov[j]<0.05 and j%2==1:\n",
    "        ax[0].annotate(str(roundP(p_auto_dov[j])), xy=(j,mean_as_autocorr_dov[j-1]),\\\n",
    "        xycoords='data',xytext=(0.1*j, 0.1), textcoords='axes fraction',\n",
    "        arrowprops=dict(facecolor='k',color='k',alpha=0.7,width=0.2,headwidth=5),\n",
    "        horizontalalignment='right', verticalalignment='top')\n",
    "\n",
    "ax[0].plot(np.arange(1,len(mean_as_autocorr_dov)+1),mean_as_autocorr_dov,c='r', zorder=2)\n",
    "ax[0].fill_between(np.arange(1,len(mean_as_autocorr_dov)+1),np.array(mean_as_autocorr_dov)-np.array(se_as_autocorr_dov), \\\n",
    "                   np.array(mean_as_autocorr_dov)+np.array(se_as_autocorr_dov), color='r', alpha=0.2)\n",
    "ax[0].set_title('Deterministic Overconfidence ')\n",
    "ax[0].set_ylabel('autocorrelation')\n",
    "\n",
    "for j in range(1,len(mean_as_autocorr_sov)+1):\n",
    "    if p_auto_sov[j]<0.05 and j%2==0:\n",
    "        ax[1].annotate(str(roundP(p_auto_sov[j])), xy=(j,mean_as_autocorr_sov[j-1]),\\\n",
    "        xycoords='data',xytext=(0.11*j, 0.95), textcoords='axes fraction',\n",
    "        arrowprops=dict(facecolor='k',color='k',alpha=0.7,width=0.2,headwidth=5),\n",
    "        horizontalalignment='right', verticalalignment='top')\n",
    "    elif p_auto_sov[j]<0.05 and j%2==1:\n",
    "        ax[1].annotate(str(roundP(p_auto_sov[j])), xy=(j,mean_as_autocorr_sov[j-1]),\\\n",
    "        xycoords='data',xytext=(0.1*j, 0.1), textcoords='axes fraction',\n",
    "        arrowprops=dict(facecolor='k',color='k',alpha=0.7,width=0.2,headwidth=5),\n",
    "        horizontalalignment='right', verticalalignment='top')\n",
    "\n",
    "ax[1].plot(np.arange(1,len(mean_as_autocorr_sov)+1),mean_as_autocorr_sov,c='b', zorder=2)\n",
    "ax[1].fill_between(np.arange(1,len(mean_as_autocorr_sov)+1),np.array(mean_as_autocorr_sov)-np.array(se_as_autocorr_sov), \\\n",
    "                   np.array(mean_as_autocorr_sov)+np.array(se_as_autocorr_sov), color='b', alpha=0.2)\n",
    "ax[1].set_title('Stochastic Overconfidence')\n",
    "for i in range(2):\n",
    "    ax[i].set_xlabel('lag')\n",
    "    ax[i].set_ylim(-0.15,0.3)\n",
    "    ax[i].axhline(0,c='k')\n",
    "    ax[i].set_xticks([1,3,5,7])\n",
    "plt.show()"
   ]
  },
  {
   "cell_type": "markdown",
   "metadata": {},
   "source": [
    "**Figure 3**: Mean and standard error across participants of psychometric variables vs lag. Arrows indicate p-value against the hypotesis of null autocorrelation over a t-test analysis. Left panel: overconfidence in deterministic optout trials. Right panel: overconfidence in stochastic optout trials."
   ]
  },
  {
   "cell_type": "markdown",
   "metadata": {},
   "source": [
    "## Risk aversion\n",
    "\n",
    "We define the risk aversion as the difference between the choice opf opt-out option in the *DO* stage and the same amount in the *SO*."
   ]
  },
  {
   "cell_type": "code",
   "execution_count": null,
   "metadata": {},
   "outputs": [],
   "source": [
    "autocorr_ra= []\n",
    "for part in userids:\n",
    "    subset = adf[adf['userID']==part]\n",
    "    subset = subset.sort_values(by=['sessionID_x']) \n",
    "    RA = np.array(subset['risk_av'])\n",
    "    \n",
    "    mean_sh_auto_ra = auto_corr_mean_shuffled(RA,100)    \n",
    "    result_ra = matlab_autocorr(RA) - mean_sh_auto_ra\n",
    "    result_ra = result_ra[:int(result_ra.size/2)-1] \n",
    "    autocorr_ra.append(result_ra)\n",
    "    #plt.plot(np.arange(len(result_ra)),result_ra,c=[0.4,0.4,1.0], zorder=1)\n",
    "\n",
    "mean_as_autocorr_ra = np.nanmean(autocorr_ra, axis=0)\n",
    "transp_autocorr_ra = np.transpose(autocorr_ra)\n",
    "len_ra = [np.isnan(elem)[np.isnan(elem) == False].size for elem in transp_autocorr_ra]\n",
    "sd_as_autocorr_ra = np.nanstd(autocorr_ra, axis=0)\n",
    "se_as_autocorr_ra = np.array([sd_as_autocorr_ra[i]/np.sqrt(len_ra[i]) for i in range(len(len_ra))])\n",
    "p_auto_ra = np.array([stats.ttest_1samp(elem,0,axis=0)[1] for elem in transp_autocorr_ra])\n",
    "mean_as_autocorr_ra = np.delete(mean_as_autocorr_ra,0)\n",
    "se_as_autocorr_ra = np.delete(se_as_autocorr_ra,0)"
   ]
  },
  {
   "cell_type": "code",
   "execution_count": null,
   "metadata": {},
   "outputs": [],
   "source": [
    "fig = plt.figure()\n",
    "for j in range(1,len(mean_as_autocorr_ra)+1):\n",
    "    if p_auto_ra[j]<0.05 and j%2==0:\n",
    "        plt.annotate(str(roundP(p_auto_ra[j])), xy=(j,mean_as_autocorr_ra[j-1]),\\\n",
    "        xycoords='data',xytext=(0.11*j, 0.95), textcoords='axes fraction',\n",
    "        arrowprops=dict(facecolor='k',color='k',alpha=0.7,width=0.2,headwidth=5),\n",
    "        horizontalalignment='right', verticalalignment='top')\n",
    "    elif p_auto_ra[j]<0.05 and j%2==1:\n",
    "        plt.annotate(str(roundP(p_auto_ra[j])), xy=(j,mean_as_autocorr_ra[j-1]),\\\n",
    "        xycoords='data',xytext=(0.1*j, 0.1), textcoords='axes fraction',\n",
    "        arrowprops=dict(facecolor='k',color='k',alpha=0.7,width=0.2,headwidth=5),\n",
    "        horizontalalignment='right', verticalalignment='top')\n",
    "plt.plot(np.arange(1,len(mean_as_autocorr_ra)+1),mean_as_autocorr_ra,c='m', zorder=2)\n",
    "plt.fill_between(np.arange(1,len(mean_as_autocorr_ra)+1),np.array(mean_as_autocorr_ra)-np.array(se_as_autocorr_ra), \\\n",
    "                   np.array(mean_as_autocorr_ra)+np.array(se_as_autocorr_ra), color='m', alpha=0.2)\n",
    "\n",
    "plt.title('Risk Aversion ')\n",
    "plt.ylabel('autocorrelation')\n",
    "plt.xlabel('lag')\n",
    "plt.ylim(-0.2,0.2)\n",
    "plt.axhline(0,c='k')\n",
    "plt.xticks([1,3,5,7])\n",
    "#plt.plot(np.arange(len(autocorr_always_one)),autocorr_always_one,'k')\n",
    "\n",
    "plt.show()"
   ]
  },
  {
   "cell_type": "markdown",
   "metadata": {},
   "source": [
    "**Figure 4**: Mean and standard error across participants of risk aversion autocorrelation vs lag. Arrows indicate p-value against the hypotesis of null autocorrelation over a t-test analysis."
   ]
  },
  {
   "cell_type": "markdown",
   "metadata": {},
   "source": [
    "# Cross-correlation analysis\n",
    "\n",
    "With the aim of studying the relationship between the psychometric variables and self-reports delayed on time, we perform this cross-correlation analysis. Just like we did with autocorrelations of short time series, we also substract the mean cross-correlation of the second placed time series shuffled 100 times. "
   ]
  },
  {
   "cell_type": "markdown",
   "metadata": {},
   "source": [
    "## Performance & self-reports"
   ]
  },
  {
   "cell_type": "code",
   "execution_count": null,
   "metadata": {},
   "outputs": [],
   "source": [
    "crosscorr_mood_perf,crosscorr_food_perf,crosscorr_stress_perf,crosscorr_sleep_perf = [[] for _ in range(4)]\n",
    "for part in userids:\n",
    "    subset = adf[adf['userID']==part]\n",
    "    subset = subset.sort_values(by=['sessionID_x'])\n",
    "    NOperf = np.array(subset['subj_perf_no'])\n",
    "    \n",
    "    mood = np.array(subset['mood'])\n",
    "    mean_sh_cross_mo = cross_corr_mean_shuffled(mood,NOperf,100)\n",
    "    result_mo = matlab_crosscorr(mood,NOperf) - mean_sh_cross_mo\n",
    "    #result_mo = matlab_crosscorr(mood)\n",
    "    result_mo = result_mo[:int(result_mo.size/2)-1]\n",
    "    crosscorr_mood_perf.append(result_mo)\n",
    "    #ax[0,0].plot(np.arange(len(result_mo)),result_mo,c=[0.4,0.4,1.0], zorder=1)\n",
    "\n",
    "    stress = np.array(subset['real_stress'])\n",
    "    mean_sh_cross_st = cross_corr_mean_shuffled(stress,NOperf,100)\n",
    "    result_st = matlab_crosscorr(stress,NOperf) - mean_sh_cross_st\n",
    "    #result_st = matlab_crosscorr(stress)\n",
    "    result_st = result_st[:int(result_st.size/2)-1]\n",
    "    crosscorr_stress_perf.append(result_st)\n",
    "    #ax[1,1].plot(np.arange(len(result_st)),result_st,c=[0.2,0.8,0.2], zorder=1)\n",
    "    \n",
    "    food = np.array(subset['food'])\n",
    "    mean_sh_cross_fo = cross_corr_mean_shuffled(food,NOperf,100)\n",
    "    result_fo = matlab_crosscorr(food,NOperf) - mean_sh_cross_fo\n",
    "    #result_fo = matlab_crosscorr(food)\n",
    "    result_fo = result_fo[:int(result_fo.size/2)-1]\n",
    "    crosscorr_food_perf.append(result_fo)\n",
    "    #ax[1,0].plot(np.arange(len(result_fo)),result_fo,c=[1.0,0.4,0.4], zorder=1)\n",
    "    \n",
    "    subset_mor = adf[(adf['userID']==part) & adf['sessionID_x']%2==1]\n",
    "    sleep = np.array(subset_mor['sleep'])\n",
    "    mean_sh_cross_sl = cross_corr_mean_shuffled(sleep,NOperf,100)\n",
    "    result_sl = matlab_crosscorr(sleep,NOperf) - mean_sh_cross_sl\n",
    "    #result_sl = matlab_crosscorr(sleep)\n",
    "    crosscorr_sleep_perf.append(result_sl)\n",
    "    #ax[0,1].plot(np.arange(len(result_sl)),result_sl,c=[0.9,0.9,0.4], zorder=1)"
   ]
  },
  {
   "cell_type": "code",
   "execution_count": null,
   "metadata": {},
   "outputs": [],
   "source": [
    "crosscorr_mood_perf = np.array(crosscorr_mood_perf)\n",
    "crosscorr_food_perf = np.array(crosscorr_food_perf)\n",
    "crosscorr_stress_perf = np.array(crosscorr_stress_perf)\n",
    "crosscorr_sleep_perf = np.array(crosscorr_sleep_perf)"
   ]
  },
  {
   "cell_type": "code",
   "execution_count": null,
   "metadata": {},
   "outputs": [],
   "source": [
    "mean_as_crosscorr_mo_perf = np.nanmean(crosscorr_mood_perf, axis=0)\n",
    "transp_crosscorr_mo_perf = np.transpose(crosscorr_mood_perf)\n",
    "len_mo_perf = [np.isnan(elem)[np.isnan(elem) == False].size for elem in transp_crosscorr_mo_perf]\n",
    "sd_as_crosscorr_mo_perf = np.nanstd(crosscorr_mood_perf, axis=0)\n",
    "se_as_crosscorr_mo_perf = np.array([sd_as_crosscorr_mo_perf[i]/np.sqrt(len_mo_perf[i]) for i in range(len(len_mo_perf))])\n",
    "p_cross_mo_perf = np.array([stats.ttest_1samp(elem,0,axis=0)[1] for elem in transp_crosscorr_mo_perf])\n",
    "\n",
    "mean_as_crosscorr_st_perf= np.nanmean(crosscorr_stress_perf, axis=0)\n",
    "transp_crosscorr_st_perf= np.transpose(crosscorr_stress_perf)\n",
    "len_st_perf= [np.isnan(elem)[np.isnan(elem) == False].size for elem in transp_crosscorr_st_perf]\n",
    "sd_as_crosscorr_st_perf= np.nanstd(crosscorr_stress_perf, axis=0)\n",
    "se_as_crosscorr_st_perf= np.array([sd_as_crosscorr_st_perf[i]/np.sqrt(len_st_perf[i]) for i in range(len(len_st_perf))])\n",
    "p_cross_st_perf= [stats.ttest_1samp(elem,0,axis=0)[1] for elem in transp_crosscorr_st_perf]\n",
    "\n",
    "mean_as_crosscorr_fo_perf= np.nanmean(crosscorr_food_perf, axis=0)\n",
    "transp_crosscorr_fo_perf= np.transpose(crosscorr_food_perf)\n",
    "len_fo_perf= [np.isnan(elem)[np.isnan(elem) == False].size for elem in transp_crosscorr_fo_perf]\n",
    "sd_as_crosscorr_fo_perf= np.nanstd(crosscorr_food_perf, axis=0)\n",
    "se_as_crosscorr_fo_perf= np.array([sd_as_crosscorr_fo_perf[i]/np.sqrt(len_fo_perf[i]) for i in range(len(len_fo_perf))])\n",
    "p_cross_fo_perf= [stats.ttest_1samp(elem,0,axis=0)[1] for elem in transp_crosscorr_fo_perf]\n",
    "\n",
    "mean_as_crosscorr_sl_perf = np.nanmean(crosscorr_sleep_perf, axis=0)\n",
    "transp_crosscorr_sl_perf = np.transpose(crosscorr_sleep_perf)\n",
    "len_sl_perf = [np.isnan(elem)[np.isnan(elem) == False].size for elem in transp_crosscorr_sl_perf]\n",
    "sd_as_crosscorr_sl_perf = np.nanstd(crosscorr_sleep_perf, axis=0)\n",
    "se_as_crosscorr_sl_perf = np.array([sd_as_crosscorr_sl_perf[i]/np.sqrt(len_sl_perf[i]) for i in range(len(len_sl_perf))])\n",
    "p_cross_sl_perf = [stats.ttest_1samp(elem,0,axis=0)[1] for elem in transp_crosscorr_sl_perf]"
   ]
  },
  {
   "cell_type": "code",
   "execution_count": null,
   "metadata": {},
   "outputs": [],
   "source": [
    "fig, ax = plt.subplots(2,2,figsize=(12,7))\n",
    "plt.subplots_adjust(hspace = 0.4)  \n",
    "\n",
    "for j in range(1,len(mean_as_crosscorr_mo_perf)):\n",
    "    if p_cross_mo_perf[j]<0.05:\n",
    "        ax[0,0].annotate(str(roundP(p_cross_mo_perf[j])), xy=(j,mean_as_crosscorr_mo_perf[j]),\\\n",
    "        xycoords='data',xytext=(0.11*j, 0.95), textcoords='axes fraction',\n",
    "        arrowprops=dict(facecolor='k',color='k',alpha=0.7,width=0.2,headwidth=5),\n",
    "        horizontalalignment='right', verticalalignment='top')\n",
    "\n",
    "ax[0,0].plot(np.arange(len(mean_as_crosscorr_mo_perf)),mean_as_crosscorr_mo_perf,c='b', zorder=2)\n",
    "ax[0,0].fill_between(np.arange(len(mean_as_crosscorr_mo_perf)),np.array(mean_as_crosscorr_mo_perf)-np.array(se_as_crosscorr_mo_perf), \\\n",
    "                   np.array(mean_as_crosscorr_mo_perf)+np.array(se_as_crosscorr_mo_perf), color='b', alpha=0.2)\n",
    "\n",
    "for j in range(1,len(mean_as_crosscorr_st_perf)):\n",
    "    if p_cross_st_perf[j]<0.05:\n",
    "        ax[1,1].annotate(str(roundP(p_cross_st_perf[j])), xy=(j,mean_as_crosscorr_st_perf[j]),\\\n",
    "        xycoords='data',xytext=(0.13*j, 0.4), textcoords='axes fraction',\n",
    "        arrowprops=dict(facecolor='k',color='k',alpha=0.7,width=0.2,\\\n",
    "        headwidth=5),horizontalalignment='right', verticalalignment='top')\n",
    "        \n",
    "ax[1,1].plot(np.arange(len(mean_as_crosscorr_st_perf)),mean_as_crosscorr_st_perf,c='g', zorder=2)\n",
    "ax[1,1].fill_between(np.arange(len(mean_as_crosscorr_st_perf)),np.array(mean_as_crosscorr_st_perf)-np.array(se_as_crosscorr_st_perf), \\\n",
    "                   np.array(mean_as_crosscorr_st_perf)+np.array(se_as_crosscorr_st_perf), color='g', alpha=0.2)\n",
    "\n",
    "for j in range(1,len(mean_as_crosscorr_fo_perf)):\n",
    "    if p_cross_fo_perf[j]<0.05:\n",
    "        ax[1,0].annotate(str(roundP(p_cross_fo_perf[j])), xy=(j,mean_as_crosscorr_fo_perf[j]),\\\n",
    "        xycoords='data',xytext=(0.11*j, 0.075*j), textcoords='axes fraction',\n",
    "        arrowprops=dict(facecolor='k',color='k',alpha=0.7,width=0.2,headwidth=5),\n",
    "        horizontalalignment='right', verticalalignment='top')\n",
    "ax[1,0].plot(np.arange(len(mean_as_crosscorr_fo_perf)),mean_as_crosscorr_fo_perf,c='r', zorder=2)\n",
    "ax[1,0].fill_between(np.arange(len(mean_as_crosscorr_fo_perf)),np.array(mean_as_crosscorr_fo_perf)-np.array(se_as_crosscorr_fo_perf), \\\n",
    "                   np.array(mean_as_crosscorr_fo_perf)+np.array(se_as_crosscorr_fo_perf), color='r', alpha=0.2)\n",
    "\n",
    "for j in range(1,len(mean_as_crosscorr_sl_perf)):\n",
    "    if p_cross_sl_perf[j]<0.05:\n",
    "        ax[0,1].annotate(str(roundP(p_cross_sl_perf[j])), xy=(j,mean_as_crosscorr_sl_perf[j]),\\\n",
    "        xycoords='data',xytext=(0.11*j, 0.2*j), textcoords='axes fraction',\n",
    "        arrowprops=dict(facecolor='k',color='k',alpha=0.7,width=0.2,headwidth=5),\n",
    "        horizontalalignment='right', verticalalignment='top')\n",
    "ax[0,1].plot(np.arange(len(mean_as_crosscorr_sl_perf)),mean_as_crosscorr_sl_perf,c='y', zorder=2)\n",
    "ax[0,1].fill_between(np.arange(len(mean_as_crosscorr_sl_perf)),np.array(mean_as_crosscorr_sl_perf)-np.array(se_as_crosscorr_sl_perf), \\\n",
    "                   np.array(mean_as_crosscorr_sl_perf)+np.array(se_as_crosscorr_sl_perf), color='y', alpha=0.2)\n",
    "\n",
    "ax[0,0].set_ylabel('crosscorrelation')\n",
    "ax[1,0].set_ylabel('crosscorrelation')\n",
    "ax[1,0].set_xlabel('lag')\n",
    "ax[1,1].set_xlabel('lag')\n",
    "ax[0,0].set_title('mood & NO perf')\n",
    "ax[1,1].set_title('stress & NO perf')\n",
    "ax[1,0].set_title('food & NO perf')\n",
    "ax[0,1].set_title('sleep & NO perf')\n",
    "for i in range(2):\n",
    "    for j in range(2):\n",
    "        ax[i,j].set_ylim(-0.3,0.3)\n",
    "        ax[i,j].axhline(0.0,c='k')\n",
    "        ax[i,j].set_xticks([1,3,5,7])\n",
    "plt.show()"
   ]
  },
  {
   "cell_type": "markdown",
   "metadata": {},
   "source": [
    "**Figure 5**: Mean and standard error across participants of performance (in non-optout trials) & self-reports cross-correlation vs lag. Arrows indicate p-value against the hypotesis of null autocorrelation over a t-test analysis. Blue: mood report. Yellow: sleep report. Red: food report. Green: stress report."
   ]
  },
  {
   "cell_type": "markdown",
   "metadata": {},
   "source": [
    "## Reaction time & self-reports"
   ]
  },
  {
   "cell_type": "code",
   "execution_count": null,
   "metadata": {},
   "outputs": [],
   "source": [
    "crosscorr_mood_RT,crosscorr_food_RT,crosscorr_stress_RT,crosscorr_sleep_RT = [[] for _ in range(4)]\n",
    "for part in userids:\n",
    "    subset = adf[adf['userID']==part]\n",
    "    subset = subset.sort_values(by=['sessionID_x'])\n",
    "    NORT = np.array(subset['real_OK_NO_RT'])\n",
    "    \n",
    "    mood = np.array(subset['mood'])\n",
    "    mean_sh_cross_mo = cross_corr_mean_shuffled(mood,NORT,100)\n",
    "    result_mo = matlab_crosscorr(mood,NORT) - mean_sh_cross_mo\n",
    "    #result_mo = matlab_crosscorr(mood)\n",
    "    result_mo = result_mo[:int(result_mo.size/2)-1]\n",
    "    crosscorr_mood_RT.append(result_mo)\n",
    "    #ax[0,0].plot(np.arange(len(result_mo)),result_mo,c=[0.4,0.4,1.0], zorder=1)\n",
    "\n",
    "    stress = np.array(subset['real_stress'])\n",
    "    mean_sh_cross_st = cross_corr_mean_shuffled(stress,NORT,100)\n",
    "    result_st = matlab_crosscorr(stress,NORT) - mean_sh_cross_st\n",
    "    #result_st = matlab_crosscorr(stress)\n",
    "    result_st = result_st[:int(result_st.size/2)-1]\n",
    "    crosscorr_stress_RT.append(result_st)\n",
    "    #ax[1,1].plot(np.arange(len(result_st)),result_st,c=[0.2,0.8,0.2], zorder=1)\n",
    "    \n",
    "    food = np.array(subset['food'])\n",
    "    mean_sh_cross_fo = cross_corr_mean_shuffled(food,NORT,100)\n",
    "    result_fo = matlab_crosscorr(food,NORT) - mean_sh_cross_fo\n",
    "    #result_fo = matlab_crosscorr(food)\n",
    "    result_fo = result_fo[:int(result_fo.size/2)-1]\n",
    "    crosscorr_food_RT.append(result_fo)\n",
    "    #ax[1,0].plot(np.arange(len(result_fo)),result_fo,c=[1.0,0.4,0.4], zorder=1)\n",
    "    \n",
    "    subset_mor = adf[(adf['userID']==part) & adf['sessionID_x']%2==1]\n",
    "    sleep = np.array(subset_mor['sleep'])\n",
    "    mean_sh_cross_sl = cross_corr_mean_shuffled(sleep,NORT,100)\n",
    "    result_sl = matlab_crosscorr(sleep,NORT) - mean_sh_cross_sl\n",
    "    #result_sl = matlab_crosscorr(sleep)\n",
    "    crosscorr_sleep_RT.append(result_sl)\n",
    "    #ax[0,1].plot(np.arange(len(result_sl)),result_sl,c=[0.9,0.9,0.4], zorder=1)"
   ]
  },
  {
   "cell_type": "code",
   "execution_count": null,
   "metadata": {},
   "outputs": [],
   "source": [
    "crosscorr_mood_RT = np.array(crosscorr_mood_RT)\n",
    "crosscorr_food_RT = np.array(crosscorr_food_RT)\n",
    "crosscorr_stress_RT = np.array(crosscorr_stress_RT)\n",
    "crosscorr_sleep_RT = np.array(crosscorr_sleep_RT)"
   ]
  },
  {
   "cell_type": "code",
   "execution_count": null,
   "metadata": {},
   "outputs": [],
   "source": [
    "mean_as_crosscorr_mo_RT = np.nanmean(crosscorr_mood_RT, axis=0)\n",
    "transp_crosscorr_mo_RT = np.transpose(crosscorr_mood_RT)\n",
    "len_mo_RT = [np.isnan(elem)[np.isnan(elem) == False].size for elem in transp_crosscorr_mo_RT]\n",
    "sd_as_crosscorr_mo_RT = np.nanstd(crosscorr_mood_RT, axis=0)\n",
    "se_as_crosscorr_mo_RT = np.array([sd_as_crosscorr_mo_RT[i]/np.sqrt(len_mo_RT[i]) for i in range(len(len_mo_RT))])\n",
    "p_cross_mo_RT = np.array([stats.ttest_1samp(elem,0,axis=0)[1] for elem in transp_crosscorr_mo_RT])\n",
    "\n",
    "mean_as_crosscorr_st_RT= np.nanmean(crosscorr_stress_RT, axis=0)\n",
    "transp_crosscorr_st_RT= np.transpose(crosscorr_stress_RT)\n",
    "len_st_RT= [np.isnan(elem)[np.isnan(elem) == False].size for elem in transp_crosscorr_st_RT]\n",
    "sd_as_crosscorr_st_RT= np.nanstd(crosscorr_stress_RT, axis=0)\n",
    "se_as_crosscorr_st_RT= np.array([sd_as_crosscorr_st_RT[i]/np.sqrt(len_st_RT[i]) for i in range(len(len_st_RT))])\n",
    "p_cross_st_RT= [stats.ttest_1samp(elem,0,axis=0)[1] for elem in transp_crosscorr_st_RT]\n",
    "\n",
    "mean_as_crosscorr_fo_RT= np.nanmean(crosscorr_food_RT, axis=0)\n",
    "transp_crosscorr_fo_RT= np.transpose(crosscorr_food_RT)\n",
    "len_fo_RT= [np.isnan(elem)[np.isnan(elem) == False].size for elem in transp_crosscorr_fo_RT]\n",
    "sd_as_crosscorr_fo_RT= np.nanstd(crosscorr_food_RT, axis=0)\n",
    "se_as_crosscorr_fo_RT= np.array([sd_as_crosscorr_fo_RT[i]/np.sqrt(len_fo_RT[i]) for i in range(len(len_fo_RT))])\n",
    "p_cross_fo_RT= [stats.ttest_1samp(elem,0,axis=0)[1] for elem in transp_crosscorr_fo_RT]\n",
    "\n",
    "mean_as_crosscorr_sl_RT = np.nanmean(crosscorr_sleep_RT, axis=0)\n",
    "transp_crosscorr_sl_RT = np.transpose(crosscorr_sleep_RT)\n",
    "len_sl_RT = [np.isnan(elem)[np.isnan(elem) == False].size for elem in transp_crosscorr_sl_RT]\n",
    "sd_as_crosscorr_sl_RT = np.nanstd(crosscorr_sleep_RT, axis=0)\n",
    "se_as_crosscorr_sl_RT = np.array([sd_as_crosscorr_sl_RT[i]/np.sqrt(len_sl_RT[i]) for i in range(len(len_sl_RT))])\n",
    "p_cross_sl_RT = [stats.ttest_1samp(elem,0,axis=0)[1] for elem in transp_crosscorr_sl_RT]"
   ]
  },
  {
   "cell_type": "code",
   "execution_count": null,
   "metadata": {},
   "outputs": [],
   "source": [
    "fig, ax = plt.subplots(2,2,figsize=(12,7))\n",
    "plt.subplots_adjust(hspace = 0.4)  \n",
    "\n",
    "for j in range(1,len(mean_as_crosscorr_mo_RT)):\n",
    "    if p_cross_mo_RT[j]<0.05:\n",
    "        ax[0,0].annotate(str(roundP(p_cross_mo_RT[j])), xy=(j,mean_as_crosscorr_mo_RT[j]),\\\n",
    "        xycoords='data',xytext=(0.11*j, 0.95), textcoords='axes fraction',\n",
    "        arrowprops=dict(facecolor='k',color='k',alpha=0.7,width=0.2,headwidth=5),\n",
    "        horizontalalignment='right', verticalalignment='top')\n",
    "\n",
    "ax[0,0].plot(np.arange(len(mean_as_crosscorr_mo_RT)),mean_as_crosscorr_mo_RT,c='b', zorder=2)\n",
    "ax[0,0].fill_between(np.arange(len(mean_as_crosscorr_mo_RT)),np.array(mean_as_crosscorr_mo_RT)-np.array(se_as_crosscorr_mo_RT), \\\n",
    "                   np.array(mean_as_crosscorr_mo_RT)+np.array(se_as_crosscorr_mo_RT), color='b', alpha=0.2)\n",
    "\n",
    "for j in range(1,len(mean_as_crosscorr_st_RT)):\n",
    "    if p_cross_st_RT[j]<0.05:\n",
    "        ax[1,1].annotate(str(roundP(p_cross_st_RT[j])), xy=(j,mean_as_crosscorr_st_RT[j]),\\\n",
    "        xycoords='data',xytext=(0.13*j, 0.4), textcoords='axes fraction',\n",
    "        arrowprops=dict(facecolor='k',color='k',alpha=0.7,width=0.2,\\\n",
    "        headwidth=5),horizontalalignment='right', verticalalignment='top')\n",
    "        \n",
    "ax[1,1].plot(np.arange(len(mean_as_crosscorr_st_RT)),mean_as_crosscorr_st_RT,c='g', zorder=2)\n",
    "ax[1,1].fill_between(np.arange(len(mean_as_crosscorr_st_RT)),np.array(mean_as_crosscorr_st_RT)-np.array(se_as_crosscorr_st_RT), \\\n",
    "                   np.array(mean_as_crosscorr_st_RT)+np.array(se_as_crosscorr_st_RT), color='g', alpha=0.2)\n",
    "\n",
    "for j in range(1,len(mean_as_crosscorr_fo_RT)):\n",
    "    if p_cross_fo_RT[j]<0.05:\n",
    "        ax[1,0].annotate(str(roundP(p_cross_fo_RT[j])), xy=(j,mean_as_crosscorr_fo_RT[j]),\\\n",
    "        xycoords='data',xytext=(0.11*j, 0.055*j), textcoords='axes fraction',\n",
    "        arrowprops=dict(facecolor='k',color='k',alpha=0.7,width=0.2,headwidth=5),\n",
    "        horizontalalignment='right', verticalalignment='top')\n",
    "ax[1,0].plot(np.arange(len(mean_as_crosscorr_fo_RT)),mean_as_crosscorr_fo_RT,c='r', zorder=2)\n",
    "ax[1,0].fill_between(np.arange(len(mean_as_crosscorr_fo_RT)),np.array(mean_as_crosscorr_fo_RT)-np.array(se_as_crosscorr_fo_RT), \\\n",
    "                   np.array(mean_as_crosscorr_fo_RT)+np.array(se_as_crosscorr_fo_RT), color='r', alpha=0.2)\n",
    "\n",
    "for j in range(1,len(mean_as_crosscorr_sl_RT)):\n",
    "    if p_cross_sl_RT[j]<0.05:\n",
    "        ax[0,1].annotate(str(roundP(p_cross_sl_RT[j])), xy=(j,mean_as_crosscorr_sl_RT[j]),\\\n",
    "        xycoords='data',xytext=(0.11*j, 0.2*j), textcoords='axes fraction',\n",
    "        arrowprops=dict(facecolor='k',color='k',alpha=0.7,width=0.2,headwidth=5),\n",
    "        horizontalalignment='right', verticalalignment='top')\n",
    "ax[0,1].plot(np.arange(len(mean_as_crosscorr_sl_RT)),mean_as_crosscorr_sl_RT,c='y', zorder=2)\n",
    "ax[0,1].fill_between(np.arange(len(mean_as_crosscorr_sl_RT)),np.array(mean_as_crosscorr_sl_RT)-np.array(se_as_crosscorr_sl_RT), \\\n",
    "                   np.array(mean_as_crosscorr_sl_RT)+np.array(se_as_crosscorr_sl_RT), color='y', alpha=0.2)\n",
    "\n",
    "ax[0,0].set_ylabel('crosscorrelation')\n",
    "ax[1,0].set_ylabel('crosscorrelation')\n",
    "ax[1,0].set_xlabel('lag')\n",
    "ax[1,1].set_xlabel('lag')\n",
    "ax[0,0].set_title('mood & NO RT')\n",
    "ax[1,1].set_title('stress & NO RT')\n",
    "ax[1,0].set_title('food & NO RT')\n",
    "ax[0,1].set_title('sleep & NO RT')\n",
    "for i in range(2):\n",
    "    for j in range(2):\n",
    "        ax[i,j].set_ylim(-0.3,0.3)\n",
    "        ax[i,j].axhline(0.0,c='k')\n",
    "        ax[i,j].set_xticks([1,3,5,7])\n",
    "plt.show()"
   ]
  },
  {
   "cell_type": "markdown",
   "metadata": {},
   "source": [
    "**Figure 6**: Mean and standard error across participants of reaction time (in correct non-optout trials) & self-reports cross-correlation vs lag. Arrows indicate p-value against the hypotesis of null autocorrelation over a t-test analysis. Blue: mood report. Yellow: sleep report. Red: food report. Green: stress report."
   ]
  },
  {
   "cell_type": "markdown",
   "metadata": {},
   "source": [
    "## Optout & self-reports"
   ]
  },
  {
   "cell_type": "code",
   "execution_count": null,
   "metadata": {},
   "outputs": [],
   "source": [
    "crosscorr_mood_DO,crosscorr_food_DO,crosscorr_stress_DO,crosscorr_sleep_DO = [[] for _ in range(4)]\n",
    "for part in userids:\n",
    "    subset = adf[adf['userID']==part]\n",
    "    subset = subset.sort_values(by=['sessionID_x'])\n",
    "    DO = np.array(subset['Dsubj_optout_oo'])\n",
    "    \n",
    "    mood = np.array(subset['mood'])\n",
    "    mean_sh_cross_mo = cross_corr_mean_shuffled(mood,DO,100)\n",
    "    result_mo = matlab_crosscorr(mood,DO) - mean_sh_cross_mo\n",
    "    #result_mo = matlab_crosscorr(mood)\n",
    "    result_mo = result_mo[:int(result_mo.size/2)-1]\n",
    "    crosscorr_mood_DO.append(result_mo)\n",
    "    #ax[0,0].plot(np.arange(len(result_mo)),result_mo,c=[0.4,0.4,1.0], zorder=1)\n",
    "\n",
    "    stress = np.array(subset['real_stress'])\n",
    "    mean_sh_cross_st = cross_corr_mean_shuffled(stress,DO,100)\n",
    "    result_st = matlab_crosscorr(stress,DO) - mean_sh_cross_st\n",
    "    #result_st = matlab_crosscorr(stress)\n",
    "    result_st = result_st[:int(result_st.size/2)-1]\n",
    "    crosscorr_stress_DO.append(result_st)\n",
    "    #ax[1,1].plot(np.arange(len(result_st)),result_st,c=[0.2,0.8,0.2], zorder=1)\n",
    "    \n",
    "    food = np.array(subset['food'])\n",
    "    mean_sh_cross_fo = cross_corr_mean_shuffled(food,DO,100)\n",
    "    result_fo = matlab_crosscorr(food,DO) - mean_sh_cross_fo\n",
    "    #result_fo = matlab_crosscorr(food)\n",
    "    result_fo = result_fo[:int(result_fo.size/2)-1]\n",
    "    crosscorr_food_DO.append(result_fo)\n",
    "    #ax[1,0].plot(np.arange(len(result_fo)),result_fo,c=[1.0,0.4,0.4], zorder=1)\n",
    "    \n",
    "    subset_mor = adf[(adf['userID']==part) & adf['sessionID_x']%2==1]\n",
    "    sleep = np.array(subset_mor['sleep'])\n",
    "    mean_sh_cross_sl = cross_corr_mean_shuffled(sleep,DO,100)\n",
    "    result_sl = matlab_crosscorr(sleep,DO) - mean_sh_cross_sl\n",
    "    #result_sl = matlab_crosscorr(sleep)\n",
    "    crosscorr_sleep_DO.append(result_sl)\n",
    "    #ax[0,1].plot(np.arange(len(result_sl)),result_sl,c=[0.9,0.9,0.4], zorder=1)"
   ]
  },
  {
   "cell_type": "code",
   "execution_count": null,
   "metadata": {},
   "outputs": [],
   "source": [
    "crosscorr_mood_DO = np.array(crosscorr_mood_DO)\n",
    "crosscorr_food_DO = np.array(crosscorr_food_DO)\n",
    "crosscorr_stress_DO = np.array(crosscorr_stress_DO)\n",
    "crosscorr_sleep_DO = np.array(crosscorr_sleep_DO)"
   ]
  },
  {
   "cell_type": "code",
   "execution_count": null,
   "metadata": {},
   "outputs": [],
   "source": [
    "mean_as_crosscorr_mo_DO = np.nanmean(crosscorr_mood_DO, axis=0)\n",
    "transp_crosscorr_mo_DO = np.transpose(crosscorr_mood_DO)\n",
    "len_mo_DO = [np.isnan(elem)[np.isnan(elem) == False].size for elem in transp_crosscorr_mo_DO]\n",
    "sd_as_crosscorr_mo_DO = np.nanstd(crosscorr_mood_DO, axis=0)\n",
    "se_as_crosscorr_mo_DO = np.array([sd_as_crosscorr_mo_DO[i]/np.sqrt(len_mo_DO[i]) for i in range(len(len_mo_DO))])\n",
    "p_cross_mo_DO = np.array([stats.ttest_1samp(elem,0,axis=0)[1] for elem in transp_crosscorr_mo_DO])\n",
    "\n",
    "mean_as_crosscorr_st_DO= np.nanmean(crosscorr_stress_DO, axis=0)\n",
    "transp_crosscorr_st_DO= np.transpose(crosscorr_stress_DO)\n",
    "len_st_DO= [np.isnan(elem)[np.isnan(elem) == False].size for elem in transp_crosscorr_st_DO]\n",
    "sd_as_crosscorr_st_DO= np.nanstd(crosscorr_stress_DO, axis=0)\n",
    "se_as_crosscorr_st_DO= np.array([sd_as_crosscorr_st_DO[i]/np.sqrt(len_st_DO[i]) for i in range(len(len_st_DO))])\n",
    "p_cross_st_DO= [stats.ttest_1samp(elem,0,axis=0)[1] for elem in transp_crosscorr_st_DO]\n",
    "\n",
    "mean_as_crosscorr_fo_DO= np.nanmean(crosscorr_food_DO, axis=0)\n",
    "transp_crosscorr_fo_DO= np.transpose(crosscorr_food_DO)\n",
    "len_fo_DO= [np.isnan(elem)[np.isnan(elem) == False].size for elem in transp_crosscorr_fo_DO]\n",
    "sd_as_crosscorr_fo_DO= np.nanstd(crosscorr_food_DO, axis=0)\n",
    "se_as_crosscorr_fo_DO= np.array([sd_as_crosscorr_fo_DO[i]/np.sqrt(len_fo_DO[i]) for i in range(len(len_fo_DO))])\n",
    "p_cross_fo_DO= [stats.ttest_1samp(elem,0,axis=0)[1] for elem in transp_crosscorr_fo_DO]\n",
    "\n",
    "mean_as_crosscorr_sl_DO = np.nanmean(crosscorr_sleep_DO, axis=0)\n",
    "transp_crosscorr_sl_DO = np.transpose(crosscorr_sleep_DO)\n",
    "len_sl_DO = [np.isnan(elem)[np.isnan(elem) == False].size for elem in transp_crosscorr_sl_DO]\n",
    "sd_as_crosscorr_sl_DO = np.nanstd(crosscorr_sleep_DO, axis=0)\n",
    "se_as_crosscorr_sl_DO = np.array([sd_as_crosscorr_sl_DO[i]/np.sqrt(len_sl_DO[i]) for i in range(len(len_sl_DO))])\n",
    "p_cross_sl_DO = [stats.ttest_1samp(elem,0,axis=0)[1] for elem in transp_crosscorr_sl_DO]"
   ]
  },
  {
   "cell_type": "code",
   "execution_count": null,
   "metadata": {},
   "outputs": [],
   "source": [
    "fig, ax = plt.subplots(2,2,figsize=(12,7))\n",
    "plt.subplots_adjust(hspace = 0.4)  \n",
    "\n",
    "for j in range(1,len(mean_as_crosscorr_mo_DO)):\n",
    "    if p_cross_mo_DO[j]<0.05:\n",
    "        ax[0,0].annotate(str(roundP(p_cross_mo_DO[j])), xy=(j,mean_as_crosscorr_mo_DO[j]),\\\n",
    "        xycoords='data',xytext=(0.11*j, 0.95), textcoords='axes fraction',\n",
    "        arrowprops=dict(facecolor='k',color='k',alpha=0.7,width=0.2,headwidth=5),\n",
    "        horizontalalignment='right', verticalalignment='top')\n",
    "\n",
    "ax[0,0].plot(np.arange(len(mean_as_crosscorr_mo_DO)),mean_as_crosscorr_mo_DO,c='b', zorder=2)\n",
    "ax[0,0].fill_between(np.arange(len(mean_as_crosscorr_mo_DO)),np.array(mean_as_crosscorr_mo_DO)-np.array(se_as_crosscorr_mo_DO), \\\n",
    "                   np.array(mean_as_crosscorr_mo_DO)+np.array(se_as_crosscorr_mo_DO), color='b', alpha=0.2)\n",
    "\n",
    "for j in range(1,len(mean_as_crosscorr_st_DO)):\n",
    "    if p_cross_st_DO[j]<0.05:\n",
    "        ax[1,1].annotate(str(roundP(p_cross_st_DO[j])), xy=(j,mean_as_crosscorr_st_DO[j]),\\\n",
    "        xycoords='data',xytext=(0.13*j, 0.4), textcoords='axes fraction',\n",
    "        arrowprops=dict(facecolor='k',color='k',alpha=0.7,width=0.2,\\\n",
    "        headwidth=5),horizontalalignment='right', verticalalignment='top')\n",
    "        \n",
    "ax[1,1].plot(np.arange(len(mean_as_crosscorr_st_DO)),mean_as_crosscorr_st_DO,c='g', zorder=2)\n",
    "ax[1,1].fill_between(np.arange(len(mean_as_crosscorr_st_DO)),np.array(mean_as_crosscorr_st_DO)-np.array(se_as_crosscorr_st_DO), \\\n",
    "                   np.array(mean_as_crosscorr_st_DO)+np.array(se_as_crosscorr_st_DO), color='g', alpha=0.2)\n",
    "\n",
    "for j in range(1,len(mean_as_crosscorr_fo_DO)):\n",
    "    if p_cross_fo_DO[j]<0.05:\n",
    "        ax[1,0].annotate(str(roundP(p_cross_fo_DO[j])), xy=(j,mean_as_crosscorr_fo_DO[j]),\\\n",
    "        xycoords='data',xytext=(0.13*j, 0.055*j), textcoords='axes fraction',\n",
    "        arrowprops=dict(facecolor='k',color='k',alpha=0.7,width=0.2,headwidth=5),\n",
    "        horizontalalignment='right', verticalalignment='top')\n",
    "ax[1,0].plot(np.arange(len(mean_as_crosscorr_fo_DO)),mean_as_crosscorr_fo_DO,c='r', zorder=2)\n",
    "ax[1,0].fill_between(np.arange(len(mean_as_crosscorr_fo_DO)),np.array(mean_as_crosscorr_fo_DO)-np.array(se_as_crosscorr_fo_DO), \\\n",
    "                   np.array(mean_as_crosscorr_fo_DO)+np.array(se_as_crosscorr_fo_DO), color='r', alpha=0.2)\n",
    "\n",
    "for j in range(1,len(mean_as_crosscorr_sl_DO)):\n",
    "    if p_cross_sl_DO[j]<0.05:\n",
    "        ax[0,1].annotate(str(roundP(p_cross_sl_DO[j])), xy=(j,mean_as_crosscorr_sl_DO[j]),\\\n",
    "        xycoords='data',xytext=(0.11*j, 0.2*j), textcoords='axes fraction',\n",
    "        arrowprops=dict(facecolor='k',color='k',alpha=0.7,width=0.2,headwidth=5),\n",
    "        horizontalalignment='right', verticalalignment='top')\n",
    "ax[0,1].plot(np.arange(len(mean_as_crosscorr_sl_DO)),mean_as_crosscorr_sl_DO,c='y', zorder=2)\n",
    "ax[0,1].fill_between(np.arange(len(mean_as_crosscorr_sl_DO)),np.array(mean_as_crosscorr_sl_DO)-np.array(se_as_crosscorr_sl_DO), \\\n",
    "                   np.array(mean_as_crosscorr_sl_DO)+np.array(se_as_crosscorr_sl_DO), color='y', alpha=0.2)\n",
    "\n",
    "ax[0,0].set_ylabel('crosscorrelation')\n",
    "ax[1,0].set_ylabel('crosscorrelation')\n",
    "ax[1,0].set_xlabel('lag')\n",
    "ax[1,1].set_xlabel('lag')\n",
    "ax[0,0].set_title('mood & DO')\n",
    "ax[1,1].set_title('stress & DO')\n",
    "ax[1,0].set_title('food & DO')\n",
    "ax[0,1].set_title('sleep & DO')\n",
    "for i in range(2):\n",
    "    for j in range(2):\n",
    "        ax[i,j].set_ylim(-0.3,0.3)\n",
    "        ax[i,j].axhline(0.0,c='k')\n",
    "        ax[i,j].set_xticks([1,3,5,7])\n",
    "plt.show()"
   ]
  },
  {
   "cell_type": "markdown",
   "metadata": {},
   "source": [
    "**Figure 7**: Mean and standard error across participants of DO optout election & self-reports cross-correlation vs lag. Arrows indicate p-value against the hypotesis of null autocorrelation over a t-test analysis. Blue: mood report. Yellow: sleep report. Red: food report. Green: stress report."
   ]
  },
  {
   "cell_type": "code",
   "execution_count": 104,
   "metadata": {},
   "outputs": [
    {
     "name": "stdout",
     "output_type": "stream",
     "text": [
      "[0.  0.1 0.2 0.3 0.4 0.5 0.6 0.7 0.8 0.9]\n"
     ]
    }
   ],
   "source": [
    "print(np.arange(0,1,0.1))"
   ]
  },
  {
   "cell_type": "code",
   "execution_count": 117,
   "metadata": {},
   "outputs": [
    {
     "name": "stdout",
     "output_type": "stream",
     "text": [
      "4.978565450851172 23.03713252914822 0.05527090216275269 0.2127340652380042 3.990354124518728\n"
     ]
    },
    {
     "data": {
      "image/png": "[encoded data removed]",
      "text/plain": [
       "<Figure size 432x288 with 1 Axes>"
      ]
     },
     "metadata": {
      "needs_background": "light"
     },
     "output_type": "display_data"
    }
   ],
   "source": [
    "crosscorr_mood_DO,crosscorr_food_DO,crosscorr_stress_DO,crosscorr_sleep_DO = [[] for _ in range(4)]\n",
    "\n",
    "adf = adf.sort_values(by=['sessionID_x'])\n",
    "DO = np.array(adf['Dsubj_optout_oo'])\n",
    "\n",
    "mood = np.array(adf['mood'])\n",
    "stress = np.array(adf['real_stress'])\n",
    "food = np.array(adf['food'])\n",
    "\n",
    "subset_mor = adf[adf['sessionID_x']%2==1]\n",
    "sleep = np.array(subset_mor['sleep'])\n",
    "\n",
    "mask = ~np.isnan(mood) & ~np.isnan(DO)\n",
    "\n",
    "slope, intercept, r_value, p_value, std_err = stats.linregress(mood[mask],DO[mask])\n",
    "fig = plt.figure()\n",
    "plt.subplots_adjust(wspace = 0.3)\n",
    "plt.plot()\n",
    "plt.plot(np.arange(0,1,0.01),intercept+np.arange(0,1,0.01)*slope,'k')\n",
    "plt.scatter(mood,DO)\n",
    "plt.xlabel('mood')\n",
    "plt.ylabel('Doptout')\n",
    "plt.text(0.07,0.,'ttest p: '+np.format_float_scientific(roundP(p_value)), ha='left', wrap=True,fontsize=18)\n",
    "plt.text(0.07,30,'mean r: '+str(roundP(np.mean(r_value))), ha='left', wrap=True,fontsize=18)\n",
    "\n",
    "print(slope, intercept, r_value, p_value, std_err)\n",
    "plt.tight_layout()\n",
    "\n",
    "plt.savefig('DOvsMood_all_data_points.png')\n",
    "\n",
    "plt.show()"
   ]
  },
  {
   "cell_type": "code",
   "execution_count": 119,
   "metadata": {},
   "outputs": [
    {
     "name": "stdout",
     "output_type": "stream",
     "text": [
      "3.239112721658771 11.355455432382014 0.06304406549115621 0.33906046302808523 3.3810621121197233\n"
     ]
    },
    {
     "data": {
      "image/png": "[encoded data removed]",
      "text/plain": [
       "<Figure size 1224x360 with 2 Axes>"
      ]
     },
     "metadata": {
      "needs_background": "light"
     },
     "output_type": "display_data"
    }
   ],
   "source": [
    "crosscorr_mood_DO,crosscorr_food_DO,crosscorr_stress_DO,crosscorr_sleep_DO = [[] for _ in range(4)]\n",
    "\n",
    "adf = adf.sort_values(by=['sessionID_x'])\n",
    "subset = adf[np.logical_and(adf['Dsubj_optout_oo']<25,adf['mood']>0.5)]\n",
    "DO = np.array(subset['Dsubj_optout_oo'])\n",
    "\n",
    "mood = np.array(subset['mood'])\n",
    "stress = np.array(subset['real_stress'])\n",
    "food = np.array(subset['food'])\n",
    "\n",
    "subset_mor = subset[subset['sessionID_x']%2==1]\n",
    "sleep = np.array(subset_mor['sleep'])\n",
    "\n",
    "mask = ~np.isnan(mood) & ~np.isnan(DO)\n",
    "\n",
    "slope, intercept, r_value, p_value, std_err = stats.linregress(mood[mask],DO[mask])\n",
    "fig,ax = plt.subplots(1,2,figsize=(17,5))\n",
    "plt.subplots_adjust(wspace = 0.3)\n",
    "ax[0].plot()\n",
    "ax[0].plot(np.arange(0,1,0.01),intercept+np.arange(0,1,0.01)*slope,'k')\n",
    "ax[0].scatter(mood,DO)\n",
    "ax[0].text(0.07,0.,'ttest p: '+np.format_float_scientific(roundP(p_value)), ha='left', wrap=True,fontsize=18)\n",
    "ax[0].text(0.07,30,'mean r: '+str(roundP(np.mean(r_value))), ha='left', wrap=True,fontsize=18)\n",
    "\n",
    "print(slope, intercept, r_value, p_value, std_err)\n",
    "\n",
    "plt.show()"
   ]
  },
  {
   "cell_type": "code",
   "execution_count": 98,
   "metadata": {},
   "outputs": [
    {
     "ename": "KeyboardInterrupt",
     "evalue": "",
     "output_type": "error",
     "traceback": [
      "\u001b[0;31m---------------------------------------------------------------------------\u001b[0m",
      "\u001b[0;31mKeyboardInterrupt\u001b[0m                         Traceback (most recent call last)",
      "\u001b[0;32m<ipython-input-98-d61a0e948a7c>\u001b[0m in \u001b[0;36m<module>\u001b[0;34m\u001b[0m\n\u001b[1;32m     14\u001b[0m \u001b[0;34m\u001b[0m\u001b[0m\n\u001b[1;32m     15\u001b[0m     \u001b[0mstress\u001b[0m \u001b[0;34m=\u001b[0m \u001b[0mnp\u001b[0m\u001b[0;34m.\u001b[0m\u001b[0marray\u001b[0m\u001b[0;34m(\u001b[0m\u001b[0msubset\u001b[0m\u001b[0;34m[\u001b[0m\u001b[0;34m'real_stress'\u001b[0m\u001b[0;34m]\u001b[0m\u001b[0;34m)\u001b[0m\u001b[0;34m\u001b[0m\u001b[0;34m\u001b[0m\u001b[0m\n\u001b[0;32m---> 16\u001b[0;31m     \u001b[0mmean_sh_cross_st\u001b[0m \u001b[0;34m=\u001b[0m \u001b[0mcross_corr_mean_shuffled\u001b[0m\u001b[0;34m(\u001b[0m\u001b[0mstress\u001b[0m\u001b[0;34m,\u001b[0m\u001b[0mSO\u001b[0m\u001b[0;34m,\u001b[0m\u001b[0;36m100\u001b[0m\u001b[0;34m)\u001b[0m\u001b[0;34m\u001b[0m\u001b[0;34m\u001b[0m\u001b[0m\n\u001b[0m\u001b[1;32m     17\u001b[0m     \u001b[0mresult_st\u001b[0m \u001b[0;34m=\u001b[0m \u001b[0mmatlab_crosscorr\u001b[0m\u001b[0;34m(\u001b[0m\u001b[0mstress\u001b[0m\u001b[0;34m,\u001b[0m\u001b[0mSO\u001b[0m\u001b[0;34m)\u001b[0m \u001b[0;34m-\u001b[0m \u001b[0mmean_sh_cross_st\u001b[0m\u001b[0;34m\u001b[0m\u001b[0;34m\u001b[0m\u001b[0m\n\u001b[1;32m     18\u001b[0m     \u001b[0;31m#result_st = matlab_crosscorr(stress)\u001b[0m\u001b[0;34m\u001b[0m\u001b[0;34m\u001b[0m\u001b[0;34m\u001b[0m\u001b[0m\n",
      "\u001b[0;32m<ipython-input-76-99d0b0b76c45>\u001b[0m in \u001b[0;36mcross_corr_mean_shuffled\u001b[0;34m(array1, array2, N)\u001b[0m\n\u001b[1;32m     41\u001b[0m     \u001b[0;32mfor\u001b[0m \u001b[0mi\u001b[0m \u001b[0;32min\u001b[0m \u001b[0mrange\u001b[0m\u001b[0;34m(\u001b[0m\u001b[0mN\u001b[0m\u001b[0;34m)\u001b[0m\u001b[0;34m:\u001b[0m\u001b[0;34m\u001b[0m\u001b[0;34m\u001b[0m\u001b[0m\n\u001b[1;32m     42\u001b[0m         \u001b[0mnp\u001b[0m\u001b[0;34m.\u001b[0m\u001b[0mrandom\u001b[0m\u001b[0;34m.\u001b[0m\u001b[0mshuffle\u001b[0m\u001b[0;34m(\u001b[0m\u001b[0ma2\u001b[0m\u001b[0;34m)\u001b[0m\u001b[0;34m\u001b[0m\u001b[0;34m\u001b[0m\u001b[0m\n\u001b[0;32m---> 43\u001b[0;31m         \u001b[0mresult\u001b[0m \u001b[0;34m=\u001b[0m \u001b[0mmatlab_crosscorr\u001b[0m\u001b[0;34m(\u001b[0m\u001b[0ma1\u001b[0m\u001b[0;34m,\u001b[0m\u001b[0ma2\u001b[0m\u001b[0;34m)\u001b[0m\u001b[0;34m\u001b[0m\u001b[0;34m\u001b[0m\u001b[0m\n\u001b[0m\u001b[1;32m     44\u001b[0m         \u001b[0mautocorr\u001b[0m\u001b[0;34m.\u001b[0m\u001b[0mappend\u001b[0m\u001b[0;34m(\u001b[0m\u001b[0mresult\u001b[0m\u001b[0;34m)\u001b[0m\u001b[0;34m\u001b[0m\u001b[0;34m\u001b[0m\u001b[0m\n\u001b[1;32m     45\u001b[0m     \u001b[0mmean_autocorr\u001b[0m \u001b[0;34m=\u001b[0m \u001b[0mnp\u001b[0m\u001b[0;34m.\u001b[0m\u001b[0mmean\u001b[0m\u001b[0;34m(\u001b[0m\u001b[0mautocorr\u001b[0m\u001b[0;34m,\u001b[0m \u001b[0maxis\u001b[0m\u001b[0;34m=\u001b[0m\u001b[0;36m0\u001b[0m\u001b[0;34m)\u001b[0m\u001b[0;34m\u001b[0m\u001b[0;34m\u001b[0m\u001b[0m\n",
      "\u001b[0;32m<ipython-input-76-99d0b0b76c45>\u001b[0m in \u001b[0;36mmatlab_crosscorr\u001b[0;34m(x, y)\u001b[0m\n\u001b[1;32m     55\u001b[0m         \u001b[0mx1\u001b[0m \u001b[0;34m=\u001b[0m \u001b[0mnp\u001b[0m\u001b[0;34m.\u001b[0m\u001b[0marray\u001b[0m\u001b[0;34m(\u001b[0m\u001b[0mx1\u001b[0m\u001b[0;34m)\u001b[0m\u001b[0;34m\u001b[0m\u001b[0;34m\u001b[0m\u001b[0m\n\u001b[1;32m     56\u001b[0m         \u001b[0mx2\u001b[0m \u001b[0;34m=\u001b[0m \u001b[0mnp\u001b[0m\u001b[0;34m.\u001b[0m\u001b[0marray\u001b[0m\u001b[0;34m(\u001b[0m\u001b[0mx2\u001b[0m\u001b[0;34m)\u001b[0m\u001b[0;34m\u001b[0m\u001b[0;34m\u001b[0m\u001b[0m\n\u001b[0;32m---> 57\u001b[0;31m         \u001b[0mcc\u001b[0m\u001b[0;34m.\u001b[0m\u001b[0mappend\u001b[0m\u001b[0;34m(\u001b[0m\u001b[0mnp\u001b[0m\u001b[0;34m.\u001b[0m\u001b[0mma\u001b[0m\u001b[0;34m.\u001b[0m\u001b[0mcorrcoef\u001b[0m\u001b[0;34m(\u001b[0m\u001b[0mnp\u001b[0m\u001b[0;34m.\u001b[0m\u001b[0mma\u001b[0m\u001b[0;34m.\u001b[0m\u001b[0mmasked_invalid\u001b[0m\u001b[0;34m(\u001b[0m\u001b[0mx1\u001b[0m\u001b[0;34m)\u001b[0m\u001b[0;34m,\u001b[0m\u001b[0mnp\u001b[0m\u001b[0;34m.\u001b[0m\u001b[0mma\u001b[0m\u001b[0;34m.\u001b[0m\u001b[0mmasked_invalid\u001b[0m\u001b[0;34m(\u001b[0m\u001b[0mx2\u001b[0m\u001b[0;34m)\u001b[0m\u001b[0;34m)\u001b[0m\u001b[0;34m[\u001b[0m\u001b[0;36m0\u001b[0m\u001b[0;34m]\u001b[0m\u001b[0;34m[\u001b[0m\u001b[0;36m1\u001b[0m\u001b[0;34m]\u001b[0m\u001b[0;34m)\u001b[0m\u001b[0;34m\u001b[0m\u001b[0;34m\u001b[0m\u001b[0m\n\u001b[0m\u001b[1;32m     58\u001b[0m     \u001b[0;32mreturn\u001b[0m \u001b[0mnp\u001b[0m\u001b[0;34m.\u001b[0m\u001b[0marray\u001b[0m\u001b[0;34m(\u001b[0m\u001b[0mcc\u001b[0m\u001b[0;34m)\u001b[0m\u001b[0;34m\u001b[0m\u001b[0;34m\u001b[0m\u001b[0m\n",
      "\u001b[0;32m~/anaconda3/lib/python3.8/site-packages/numpy/ma/extras.py\u001b[0m in \u001b[0;36mcorrcoef\u001b[0;34m(x, y, rowvar, bias, allow_masked, ddof)\u001b[0m\n\u001b[1;32m   1456\u001b[0m             \u001b[0;32mfor\u001b[0m \u001b[0mi\u001b[0m \u001b[0;32min\u001b[0m \u001b[0mrange\u001b[0m\u001b[0;34m(\u001b[0m\u001b[0mn\u001b[0m \u001b[0;34m-\u001b[0m \u001b[0;36m1\u001b[0m\u001b[0;34m)\u001b[0m\u001b[0;34m:\u001b[0m\u001b[0;34m\u001b[0m\u001b[0;34m\u001b[0m\u001b[0m\n\u001b[1;32m   1457\u001b[0m                 \u001b[0;32mfor\u001b[0m \u001b[0mj\u001b[0m \u001b[0;32min\u001b[0m \u001b[0mrange\u001b[0m\u001b[0;34m(\u001b[0m\u001b[0mi\u001b[0m \u001b[0;34m+\u001b[0m \u001b[0;36m1\u001b[0m\u001b[0;34m,\u001b[0m \u001b[0mn\u001b[0m\u001b[0;34m)\u001b[0m\u001b[0;34m:\u001b[0m\u001b[0;34m\u001b[0m\u001b[0;34m\u001b[0m\u001b[0m\n\u001b[0;32m-> 1458\u001b[0;31m                     \u001b[0m_x\u001b[0m \u001b[0;34m=\u001b[0m \u001b[0mmask_cols\u001b[0m\u001b[0;34m(\u001b[0m\u001b[0mvstack\u001b[0m\u001b[0;34m(\u001b[0m\u001b[0;34m(\u001b[0m\u001b[0mx\u001b[0m\u001b[0;34m[\u001b[0m\u001b[0mi\u001b[0m\u001b[0;34m]\u001b[0m\u001b[0;34m,\u001b[0m \u001b[0mx\u001b[0m\u001b[0;34m[\u001b[0m\u001b[0mj\u001b[0m\u001b[0;34m]\u001b[0m\u001b[0;34m)\u001b[0m\u001b[0;34m)\u001b[0m\u001b[0;34m)\u001b[0m\u001b[0;34m.\u001b[0m\u001b[0mvar\u001b[0m\u001b[0;34m(\u001b[0m\u001b[0maxis\u001b[0m\u001b[0;34m=\u001b[0m\u001b[0;36m1\u001b[0m\u001b[0;34m)\u001b[0m\u001b[0;34m\u001b[0m\u001b[0;34m\u001b[0m\u001b[0m\n\u001b[0m\u001b[1;32m   1459\u001b[0m                     \u001b[0m_denom\u001b[0m\u001b[0;34m[\u001b[0m\u001b[0mi\u001b[0m\u001b[0;34m,\u001b[0m \u001b[0mj\u001b[0m\u001b[0;34m]\u001b[0m \u001b[0;34m=\u001b[0m \u001b[0m_denom\u001b[0m\u001b[0;34m[\u001b[0m\u001b[0mj\u001b[0m\u001b[0;34m,\u001b[0m \u001b[0mi\u001b[0m\u001b[0;34m]\u001b[0m \u001b[0;34m=\u001b[0m \u001b[0mma\u001b[0m\u001b[0;34m.\u001b[0m\u001b[0msqrt\u001b[0m\u001b[0;34m(\u001b[0m\u001b[0mma\u001b[0m\u001b[0;34m.\u001b[0m\u001b[0mmultiply\u001b[0m\u001b[0;34m.\u001b[0m\u001b[0mreduce\u001b[0m\u001b[0;34m(\u001b[0m\u001b[0m_x\u001b[0m\u001b[0;34m)\u001b[0m\u001b[0;34m)\u001b[0m\u001b[0;34m\u001b[0m\u001b[0;34m\u001b[0m\u001b[0m\n\u001b[1;32m   1460\u001b[0m         \u001b[0;32melse\u001b[0m\u001b[0;34m:\u001b[0m\u001b[0;34m\u001b[0m\u001b[0;34m\u001b[0m\u001b[0m\n",
      "\u001b[0;32m~/anaconda3/lib/python3.8/site-packages/numpy/ma/core.py\u001b[0m in \u001b[0;36mvar\u001b[0;34m(self, axis, dtype, out, ddof, keepdims)\u001b[0m\n\u001b[1;32m   5334\u001b[0m         \u001b[0;32melse\u001b[0m\u001b[0;34m:\u001b[0m\u001b[0;34m\u001b[0m\u001b[0;34m\u001b[0m\u001b[0m\n\u001b[1;32m   5335\u001b[0m             \u001b[0mdanom\u001b[0m \u001b[0;34m*=\u001b[0m \u001b[0mdanom\u001b[0m\u001b[0;34m\u001b[0m\u001b[0;34m\u001b[0m\u001b[0m\n\u001b[0;32m-> 5336\u001b[0;31m         \u001b[0mdvar\u001b[0m \u001b[0;34m=\u001b[0m \u001b[0mdivide\u001b[0m\u001b[0;34m(\u001b[0m\u001b[0mdanom\u001b[0m\u001b[0;34m.\u001b[0m\u001b[0msum\u001b[0m\u001b[0;34m(\u001b[0m\u001b[0maxis\u001b[0m\u001b[0;34m,\u001b[0m \u001b[0;34m**\u001b[0m\u001b[0mkwargs\u001b[0m\u001b[0;34m)\u001b[0m\u001b[0;34m,\u001b[0m \u001b[0mcnt\u001b[0m\u001b[0;34m)\u001b[0m\u001b[0;34m.\u001b[0m\u001b[0mview\u001b[0m\u001b[0;34m(\u001b[0m\u001b[0mtype\u001b[0m\u001b[0;34m(\u001b[0m\u001b[0mself\u001b[0m\u001b[0;34m)\u001b[0m\u001b[0;34m)\u001b[0m\u001b[0;34m\u001b[0m\u001b[0;34m\u001b[0m\u001b[0m\n\u001b[0m\u001b[1;32m   5337\u001b[0m         \u001b[0;31m# Apply the mask if it's not a scalar\u001b[0m\u001b[0;34m\u001b[0m\u001b[0;34m\u001b[0m\u001b[0;34m\u001b[0m\u001b[0m\n\u001b[1;32m   5338\u001b[0m         \u001b[0;32mif\u001b[0m \u001b[0mdvar\u001b[0m\u001b[0;34m.\u001b[0m\u001b[0mndim\u001b[0m\u001b[0;34m:\u001b[0m\u001b[0;34m\u001b[0m\u001b[0;34m\u001b[0m\u001b[0m\n",
      "\u001b[0;32m~/anaconda3/lib/python3.8/site-packages/numpy/ma/core.py\u001b[0m in \u001b[0;36msum\u001b[0;34m(self, axis, dtype, out, keepdims)\u001b[0m\n\u001b[1;32m   5084\u001b[0m             \u001b[0mrndim\u001b[0m \u001b[0;34m=\u001b[0m \u001b[0mgetattr\u001b[0m\u001b[0;34m(\u001b[0m\u001b[0mresult\u001b[0m\u001b[0;34m,\u001b[0m \u001b[0;34m'ndim'\u001b[0m\u001b[0;34m,\u001b[0m \u001b[0;36m0\u001b[0m\u001b[0;34m)\u001b[0m\u001b[0;34m\u001b[0m\u001b[0;34m\u001b[0m\u001b[0m\n\u001b[1;32m   5085\u001b[0m             \u001b[0;32mif\u001b[0m \u001b[0mrndim\u001b[0m\u001b[0;34m:\u001b[0m\u001b[0;34m\u001b[0m\u001b[0;34m\u001b[0m\u001b[0m\n\u001b[0;32m-> 5086\u001b[0;31m                 \u001b[0mresult\u001b[0m \u001b[0;34m=\u001b[0m \u001b[0mresult\u001b[0m\u001b[0;34m.\u001b[0m\u001b[0mview\u001b[0m\u001b[0;34m(\u001b[0m\u001b[0mtype\u001b[0m\u001b[0;34m(\u001b[0m\u001b[0mself\u001b[0m\u001b[0;34m)\u001b[0m\u001b[0;34m)\u001b[0m\u001b[0;34m\u001b[0m\u001b[0;34m\u001b[0m\u001b[0m\n\u001b[0m\u001b[1;32m   5087\u001b[0m                 \u001b[0mresult\u001b[0m\u001b[0;34m.\u001b[0m\u001b[0m__setmask__\u001b[0m\u001b[0;34m(\u001b[0m\u001b[0mnewmask\u001b[0m\u001b[0;34m)\u001b[0m\u001b[0;34m\u001b[0m\u001b[0;34m\u001b[0m\u001b[0m\n\u001b[1;32m   5088\u001b[0m             \u001b[0;32melif\u001b[0m \u001b[0mnewmask\u001b[0m\u001b[0;34m:\u001b[0m\u001b[0;34m\u001b[0m\u001b[0;34m\u001b[0m\u001b[0m\n",
      "\u001b[0;32m~/anaconda3/lib/python3.8/site-packages/numpy/ma/core.py\u001b[0m in \u001b[0;36m__array_finalize__\u001b[0;34m(self, obj)\u001b[0m\n\u001b[1;32m   3060\u001b[0m \u001b[0;34m\u001b[0m\u001b[0m\n\u001b[1;32m   3061\u001b[0m         \u001b[0;31m# Finalize the fill_value\u001b[0m\u001b[0;34m\u001b[0m\u001b[0;34m\u001b[0m\u001b[0;34m\u001b[0m\u001b[0m\n\u001b[0;32m-> 3062\u001b[0;31m         \u001b[0;32mif\u001b[0m \u001b[0mself\u001b[0m\u001b[0;34m.\u001b[0m\u001b[0m_fill_value\u001b[0m \u001b[0;32mis\u001b[0m \u001b[0;32mnot\u001b[0m \u001b[0;32mNone\u001b[0m\u001b[0;34m:\u001b[0m\u001b[0;34m\u001b[0m\u001b[0;34m\u001b[0m\u001b[0m\n\u001b[0m\u001b[1;32m   3063\u001b[0m             \u001b[0mself\u001b[0m\u001b[0;34m.\u001b[0m\u001b[0m_fill_value\u001b[0m \u001b[0;34m=\u001b[0m \u001b[0m_check_fill_value\u001b[0m\u001b[0;34m(\u001b[0m\u001b[0mself\u001b[0m\u001b[0;34m.\u001b[0m\u001b[0m_fill_value\u001b[0m\u001b[0;34m,\u001b[0m \u001b[0mself\u001b[0m\u001b[0;34m.\u001b[0m\u001b[0mdtype\u001b[0m\u001b[0;34m)\u001b[0m\u001b[0;34m\u001b[0m\u001b[0;34m\u001b[0m\u001b[0m\n\u001b[1;32m   3064\u001b[0m         \u001b[0;32melif\u001b[0m \u001b[0mself\u001b[0m\u001b[0;34m.\u001b[0m\u001b[0mdtype\u001b[0m\u001b[0;34m.\u001b[0m\u001b[0mnames\u001b[0m \u001b[0;32mis\u001b[0m \u001b[0;32mnot\u001b[0m \u001b[0;32mNone\u001b[0m\u001b[0;34m:\u001b[0m\u001b[0;34m\u001b[0m\u001b[0;34m\u001b[0m\u001b[0m\n",
      "\u001b[0;31mKeyboardInterrupt\u001b[0m: "
     ]
    }
   ],
   "source": [
    "crosscorr_mood_SO,crosscorr_food_SO,crosscorr_stress_SO,crosscorr_sleep_SO = [[] for _ in range(4)]\n",
    "for part in userids:\n",
    "    subset = adf[adf['userID']==part]\n",
    "    subset = subset.sort_values(by=['sessionID_x'])\n",
    "    SO = np.array(subset['Ssubj_optout_oo'])\n",
    "    \n",
    "    mood = np.array(subset['mood'])\n",
    "    mean_sh_cross_mo = cross_corr_mean_shuffled(mood,SO,100)\n",
    "    result_mo = matlab_crosscorr(mood,SO) - mean_sh_cross_mo\n",
    "    #result_mo = matlab_crosscorr(mood)\n",
    "    result_mo = result_mo[:int(result_mo.size/2)-1]\n",
    "    crosscorr_mood_SO.append(result_mo)\n",
    "    #ax[0,0].plot(np.arange(len(result_mo)),result_mo,c=[0.4,0.4,1.0], zorder=1)\n",
    "\n",
    "    stress = np.array(subset['real_stress'])\n",
    "    mean_sh_cross_st = cross_corr_mean_shuffled(stress,SO,100)\n",
    "    result_st = matlab_crosscorr(stress,SO) - mean_sh_cross_st\n",
    "    #result_st = matlab_crosscorr(stress)\n",
    "    result_st = result_st[:int(result_st.size/2)-1]\n",
    "    crosscorr_stress_SO.append(result_st)\n",
    "    #ax[1,1].plot(np.arange(len(result_st)),result_st,c=[0.2,0.8,0.2], zorder=1)\n",
    "    \n",
    "    food = np.array(subset['food'])\n",
    "    mean_sh_cross_fo = cross_corr_mean_shuffled(food,SO,100)\n",
    "    result_fo = matlab_crosscorr(food,SO) - mean_sh_cross_fo\n",
    "    #result_fo = matlab_crosscorr(food)\n",
    "    result_fo = result_fo[:int(result_fo.size/2)-1]\n",
    "    crosscorr_food_SO.append(result_fo)\n",
    "    #ax[1,0].plot(np.arange(len(result_fo)),result_fo,c=[1.0,0.4,0.4], zorder=1)\n",
    "    \n",
    "    subset_mor = adf[(adf['userID']==part) & adf['sessionID_x']%2==1]\n",
    "    sleep = np.array(subset_mor['sleep'])\n",
    "    mean_sh_cross_sl = cross_corr_mean_shuffled(sleep,SO,100)\n",
    "    result_sl = matlab_crosscorr(sleep,SO) - mean_sh_cross_sl\n",
    "    #result_sl = matlab_crosscorr(sleep)\n",
    "    crosscorr_sleep_SO.append(result_sl)\n",
    "    #ax[0,1].plot(np.arange(len(result_sl)),result_sl,c=[0.9,0.9,0.4], zorder=1)"
   ]
  },
  {
   "cell_type": "code",
   "execution_count": null,
   "metadata": {},
   "outputs": [],
   "source": [
    "crosscorr_mood_SO = np.array(crosscorr_mood_SO)\n",
    "crosscorr_food_SO = np.array(crosscorr_food_SO)\n",
    "crosscorr_stress_SO = np.array(crosscorr_stress_SO)\n",
    "crosscorr_sleep_SO = np.array(crosscorr_sleep_SO)"
   ]
  },
  {
   "cell_type": "code",
   "execution_count": null,
   "metadata": {},
   "outputs": [],
   "source": [
    "mean_as_crosscorr_mo_SO = np.nanmean(crosscorr_mood_SO, axis=0)\n",
    "transp_crosscorr_mo_SO = np.transpose(crosscorr_mood_SO)\n",
    "len_mo_SO = [np.isnan(elem)[np.isnan(elem) == False].size for elem in transp_crosscorr_mo_SO]\n",
    "sd_as_crosscorr_mo_SO = np.nanstd(crosscorr_mood_SO, axis=0)\n",
    "se_as_crosscorr_mo_SO = np.array([sd_as_crosscorr_mo_SO[i]/np.sqrt(len_mo_SO[i]) for i in range(len(len_mo_SO))])\n",
    "p_cross_mo_SO = np.array([stats.ttest_1samp(elem,0,axis=0)[1] for elem in transp_crosscorr_mo_SO])\n",
    "\n",
    "mean_as_crosscorr_st_SO= np.nanmean(crosscorr_stress_SO, axis=0)\n",
    "transp_crosscorr_st_SO= np.transpose(crosscorr_stress_SO)\n",
    "len_st_SO= [np.isnan(elem)[np.isnan(elem) == False].size for elem in transp_crosscorr_st_SO]\n",
    "sd_as_crosscorr_st_SO= np.nanstd(crosscorr_stress_SO, axis=0)\n",
    "se_as_crosscorr_st_SO= np.array([sd_as_crosscorr_st_SO[i]/np.sqrt(len_st_SO[i]) for i in range(len(len_st_SO))])\n",
    "p_cross_st_SO= [stats.ttest_1samp(elem,0,axis=0)[1] for elem in transp_crosscorr_st_SO]\n",
    "\n",
    "mean_as_crosscorr_fo_SO= np.nanmean(crosscorr_food_SO, axis=0)\n",
    "transp_crosscorr_fo_SO= np.transpose(crosscorr_food_SO)\n",
    "len_fo_SO= [np.isnan(elem)[np.isnan(elem) == False].size for elem in transp_crosscorr_fo_SO]\n",
    "sd_as_crosscorr_fo_SO= np.nanstd(crosscorr_food_SO, axis=0)\n",
    "se_as_crosscorr_fo_SO= np.array([sd_as_crosscorr_fo_SO[i]/np.sqrt(len_fo_SO[i]) for i in range(len(len_fo_SO))])\n",
    "p_cross_fo_SO= [stats.ttest_1samp(elem,0,axis=0)[1] for elem in transp_crosscorr_fo_SO]\n",
    "\n",
    "mean_as_crosscorr_sl_SO = np.nanmean(crosscorr_sleep_SO, axis=0)\n",
    "transp_crosscorr_sl_SO = np.transpose(crosscorr_sleep_SO)\n",
    "len_sl_SO = [np.isnan(elem)[np.isnan(elem) == False].size for elem in transp_crosscorr_sl_SO]\n",
    "sd_as_crosscorr_sl_SO = np.nanstd(crosscorr_sleep_SO, axis=0)\n",
    "se_as_crosscorr_sl_SO = np.array([sd_as_crosscorr_sl_SO[i]/np.sqrt(len_sl_SO[i]) for i in range(len(len_sl_SO))])\n",
    "p_cross_sl_SO = [stats.ttest_1samp(elem,0,axis=0)[1] for elem in transp_crosscorr_sl_SO]"
   ]
  },
  {
   "cell_type": "code",
   "execution_count": null,
   "metadata": {},
   "outputs": [],
   "source": [
    "fig, ax = plt.subplots(2,2,figsize=(12,7))\n",
    "plt.subplots_adjust(hspace = 0.4)  \n",
    "\n",
    "for j in range(1,len(mean_as_crosscorr_mo_SO)):\n",
    "    if p_cross_mo_SO[j]<0.05:\n",
    "        ax[0,0].annotate(str(roundP(p_cross_mo_SO[j])), xy=(j,mean_as_crosscorr_mo_SO[j]),\\\n",
    "        xycoords='data',xytext=(0.11*j, 0.95), textcoords='axes fraction',\n",
    "        arrowprops=dict(facecolor='k',color='k',alpha=0.7,width=0.2,headwidth=5),\n",
    "        horizontalalignment='right', verticalalignment='top')\n",
    "\n",
    "ax[0,0].plot(np.arange(len(mean_as_crosscorr_mo_SO)),mean_as_crosscorr_mo_SO,c='b', zorder=2)\n",
    "ax[0,0].fill_between(np.arange(len(mean_as_crosscorr_mo_SO)),np.array(mean_as_crosscorr_mo_SO)-np.array(se_as_crosscorr_mo_SO), \\\n",
    "                   np.array(mean_as_crosscorr_mo_SO)+np.array(se_as_crosscorr_mo_SO), color='b', alpha=0.2)\n",
    "\n",
    "for j in range(1,len(mean_as_crosscorr_st_SO)):\n",
    "    if p_cross_st_SO[j]<0.05:\n",
    "        ax[1,1].annotate(str(roundP(p_cross_st_SO[j])), xy=(j,mean_as_crosscorr_st_SO[j]),\\\n",
    "        xycoords='data',xytext=(0.13*j, 0.4), textcoords='axes fraction',\n",
    "        arrowprops=dict(facecolor='k',color='k',alpha=0.7,width=0.2,\\\n",
    "        headwidth=5),horizontalalignment='right', verticalalignment='top')\n",
    "        \n",
    "ax[1,1].plot(np.arange(len(mean_as_crosscorr_st_SO)),mean_as_crosscorr_st_SO,c='g', zorder=2)\n",
    "ax[1,1].fill_between(np.arange(len(mean_as_crosscorr_st_SO)),np.array(mean_as_crosscorr_st_SO)-np.array(se_as_crosscorr_st_SO), \\\n",
    "                   np.array(mean_as_crosscorr_st_SO)+np.array(se_as_crosscorr_st_SO), color='g', alpha=0.2)\n",
    "\n",
    "for j in range(1,len(mean_as_crosscorr_fo_SO)):\n",
    "    if p_cross_fo_SO[j]<0.05:\n",
    "        ax[1,0].annotate(str(roundP(p_cross_fo_SO[j])), xy=(j,mean_as_crosscorr_fo_SO[j]),\\\n",
    "        xycoords='data',xytext=(0.13*j, 0.055*j), textcoords='axes fraction',\n",
    "        arrowprops=dict(facecolor='k',color='k',alpha=0.7,width=0.2,headwidth=5),\n",
    "        horizontalalignment='right', verticalalignment='top')\n",
    "ax[1,0].plot(np.arange(len(mean_as_crosscorr_fo_SO)),mean_as_crosscorr_fo_SO,c='r', zorder=2)\n",
    "ax[1,0].fill_between(np.arange(len(mean_as_crosscorr_fo_SO)),np.array(mean_as_crosscorr_fo_SO)-np.array(se_as_crosscorr_fo_SO), \\\n",
    "                   np.array(mean_as_crosscorr_fo_SO)+np.array(se_as_crosscorr_fo_SO), color='r', alpha=0.2)\n",
    "\n",
    "for j in range(1,len(mean_as_crosscorr_sl_SO)):\n",
    "    if p_cross_sl_SO[j]<0.05:\n",
    "        ax[0,1].annotate(str(roundP(p_cross_sl_SO[j])), xy=(j,mean_as_crosscorr_sl_SO[j]),\\\n",
    "        xycoords='data',xytext=(0.11*j, 0.2*j), textcoords='axes fraction',\n",
    "        arrowprops=dict(facecolor='k',color='k',alpha=0.7,width=0.2,headwidth=5),\n",
    "        horizontalalignment='right', verticalalignment='top')\n",
    "ax[0,1].plot(np.arange(len(mean_as_crosscorr_sl_SO)),mean_as_crosscorr_sl_SO,c='y', zorder=2)\n",
    "ax[0,1].fill_between(np.arange(len(mean_as_crosscorr_sl_SO)),np.array(mean_as_crosscorr_sl_SO)-np.array(se_as_crosscorr_sl_SO), \\\n",
    "                   np.array(mean_as_crosscorr_sl_SO)+np.array(se_as_crosscorr_sl_SO), color='y', alpha=0.2)\n",
    "\n",
    "ax[0,0].set_ylabel('crosscorrelation')\n",
    "ax[1,0].set_ylabel('crosscorrelation')\n",
    "ax[1,0].set_xlabel('lag')\n",
    "ax[1,1].set_xlabel('lag')\n",
    "ax[0,0].set_title('mood & SO')\n",
    "ax[1,1].set_title('stress & SO')\n",
    "ax[1,0].set_title('food & SO')\n",
    "ax[0,1].set_title('sleep & SO')\n",
    "for i in range(2):\n",
    "    for j in range(2):\n",
    "        ax[i,j].set_ylim(-0.3,0.3)\n",
    "        ax[i,j].axhline(0.0,c='k')\n",
    "        ax[i,j].set_xticks([1,3,5,7])\n",
    "plt.show()"
   ]
  },
  {
   "cell_type": "markdown",
   "metadata": {},
   "source": [
    "**Figure 8**: Mean and standard error across participants of SO optout election & self-reports cross-correlation vs lag. Arrows indicate p-value against the hypotesis of null autocorrelation over a t-test analysis. Blue: mood report. Yellow: sleep report. Red: food report. Green: stress report."
   ]
  },
  {
   "cell_type": "markdown",
   "metadata": {},
   "source": [
    "**References**:\n",
    "\n",
    "[1] Hecht, M., & Zitzmann, S. (2020). Sample size recommendations for continuous-time models: Compensating shorter time series with larger numbers of persons and vice versa. Structural Equation Modeling: A Multidisciplinary Journal, 1 (8), 1070-5511, doi: 10.1080/10705511.2020.1779069\n",
    "\n",
    "[2] Arnau, J., Bono, R. Autocorrelation and Bias in Short Time Series: An Alternative Estimator. Quality & Quantity 35, 365–387 (2001). https://doi.org/10.1023/A:1012223430234\n",
    "\n",
    "[3] Marriott, F., & Pope, J. (1954). Bias in the Estimation of Autocorrelations. Biometrika, 41(3/4), 390-402. doi:10.2307/2332719"
   ]
  },
  {
   "cell_type": "code",
   "execution_count": null,
   "metadata": {},
   "outputs": [],
   "source": []
  }
 ],
 "metadata": {
  "kernelspec": {
   "display_name": "Python 3",
   "language": "python",
   "name": "python3"
  },
  "language_info": {
   "codemirror_mode": {
    "name": "ipython",
    "version": 3
   },
   "file_extension": ".py",
   "mimetype": "text/x-python",
   "name": "python",
   "nbconvert_exporter": "python",
   "pygments_lexer": "ipython3",
   "version": "3.8.5"
  }
 },
 "nbformat": 4,
 "nbformat_minor": 4
}
