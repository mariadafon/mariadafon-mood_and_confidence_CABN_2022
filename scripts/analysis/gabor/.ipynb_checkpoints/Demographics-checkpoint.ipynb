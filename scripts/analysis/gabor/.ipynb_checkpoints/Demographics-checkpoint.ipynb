{
 "cells": [
  {
   "cell_type": "code",
   "execution_count": null,
   "id": "swiss-reynolds",
   "metadata": {},
   "outputs": [],
   "source": [
    "import pandas as pd\n",
    "import os\n",
    "import json\n",
    "import numpy as np\n",
    "from itertools import groupby\n",
    "import matplotlib.pyplot as plt\n",
    "from scipy import stats\n",
    "import matplotlib as mpl\n",
    "from sklearn.linear_model import LogisticRegression\n",
    "import random\n",
    "import re\n",
    "import csv\n",
    "import warnings\n",
    "warnings.filterwarnings('ignore')\n",
    "from IPython.display import HTML, display, Image\n",
    "from datetime import date,datetime"
   ]
  },
  {
   "cell_type": "code",
   "execution_count": null,
   "id": "japanese-chemistry",
   "metadata": {},
   "outputs": [],
   "source": [
    "current_path = os.path.abspath(os.getcwd())\n",
    "parent_path = os.path.abspath(os.path.join(current_path, os.pardir))\n",
    "grand_parent_path = os.path.abspath(os.path.join(parent_path, os.pardir))\n",
    "main_path = os.path.abspath(os.path.join(grand_parent_path, os.pardir))\n",
    "\n",
    "path_results = main_path+'/results/gabor/'\n",
    "path_data = main_path+'/data/'"
   ]
  },
  {
   "cell_type": "code",
   "execution_count": 11,
   "id": "heavy-bangkok",
   "metadata": {},
   "outputs": [],
   "source": [
    "\n",
    "\n",
    "path = path_data + 'day1/session1/'\n",
    "filename= 'demographics.json'"
   ]
  },
  {
   "cell_type": "code",
   "execution_count": 13,
   "id": "composed-academy",
   "metadata": {},
   "outputs": [],
   "source": [
    "def calculate_age(born):\n",
    "    exp_starting_day = datetime.strptime('2020-11-25','%Y-%m-%d')\n",
    "    return exp_starting_day.year - born.year - ((exp_starting_day.month, exp_starting_day.day) < (born.month, born.day))"
   ]
  },
  {
   "cell_type": "code",
   "execution_count": 7,
   "id": "wrong-subsection",
   "metadata": {},
   "outputs": [],
   "source": [
    "data_files = [f for f in os.listdir(path) if f.endswith('_day1_session1')]\n",
    "dem_list = []\n",
    "for f in data_files:\n",
    "    data = [] \n",
    "    for line in open(path+f, 'r'):\n",
    "        if line.strip():\n",
    "            data.append(json.loads(line))\n",
    "    dem_list.append(data[0])"
   ]
  },
  {
   "cell_type": "code",
   "execution_count": 8,
   "id": "electoral-allergy",
   "metadata": {},
   "outputs": [],
   "source": [
    "df = pd.DataFrame(dem_list)"
   ]
  },
  {
   "cell_type": "code",
   "execution_count": 9,
   "id": "original-twenty",
   "metadata": {},
   "outputs": [
    {
     "data": {
      "text/html": [
       "<div>\n",
       "<style scoped>\n",
       "    .dataframe tbody tr th:only-of-type {\n",
       "        vertical-align: middle;\n",
       "    }\n",
       "\n",
       "    .dataframe tbody tr th {\n",
       "        vertical-align: top;\n",
       "    }\n",
       "\n",
       "    .dataframe thead th {\n",
       "        text-align: right;\n",
       "    }\n",
       "</style>\n",
       "<table border=\"1\" class=\"dataframe\">\n",
       "  <thead>\n",
       "    <tr style=\"text-align: right;\">\n",
       "      <th></th>\n",
       "      <th>birthday</th>\n",
       "      <th>country</th>\n",
       "      <th>gender</th>\n",
       "      <th>school</th>\n",
       "      <th>psycho</th>\n",
       "      <th>medication</th>\n",
       "      <th>userID</th>\n",
       "    </tr>\n",
       "  </thead>\n",
       "  <tbody>\n",
       "    <tr>\n",
       "      <th>0</th>\n",
       "      <td>1992-08-28</td>\n",
       "      <td>Spain</td>\n",
       "      <td>Femenino</td>\n",
       "      <td>Universidad completa</td>\n",
       "      <td>No</td>\n",
       "      <td>No</td>\n",
       "      <td>Sophia</td>\n",
       "    </tr>\n",
       "    <tr>\n",
       "      <th>1</th>\n",
       "      <td>1998-02-01</td>\n",
       "      <td>Spain</td>\n",
       "      <td>Masculino</td>\n",
       "      <td>Posgrado incompleto</td>\n",
       "      <td>No</td>\n",
       "      <td>No</td>\n",
       "      <td>pablogm11</td>\n",
       "    </tr>\n",
       "    <tr>\n",
       "      <th>2</th>\n",
       "      <td>1998-05-19</td>\n",
       "      <td>Spain</td>\n",
       "      <td>Femenino</td>\n",
       "      <td>Universidad completa</td>\n",
       "      <td>No</td>\n",
       "      <td>No</td>\n",
       "      <td>Mary</td>\n",
       "    </tr>\n",
       "    <tr>\n",
       "      <th>3</th>\n",
       "      <td>1999-09-18</td>\n",
       "      <td>Spain</td>\n",
       "      <td>Masculino</td>\n",
       "      <td>Universidad incompleta</td>\n",
       "      <td>No</td>\n",
       "      <td>no</td>\n",
       "      <td>mcmarc14</td>\n",
       "    </tr>\n",
       "    <tr>\n",
       "      <th>4</th>\n",
       "      <td>2000-03-29</td>\n",
       "      <td>Spain</td>\n",
       "      <td>Femenino</td>\n",
       "      <td>Universidad incompleta</td>\n",
       "      <td>No</td>\n",
       "      <td>No</td>\n",
       "      <td>LauraC</td>\n",
       "    </tr>\n",
       "  </tbody>\n",
       "</table>\n",
       "</div>"
      ],
      "text/plain": [
       "     birthday country     gender                  school psycho medication  \\\n",
       "0  1992-08-28   Spain   Femenino    Universidad completa     No         No   \n",
       "1  1998-02-01   Spain  Masculino     Posgrado incompleto     No         No   \n",
       "2  1998-05-19   Spain   Femenino    Universidad completa     No         No   \n",
       "3  1999-09-18   Spain  Masculino  Universidad incompleta     No         no   \n",
       "4  2000-03-29   Spain   Femenino  Universidad incompleta     No         No   \n",
       "\n",
       "      userID  \n",
       "0     Sophia  \n",
       "1  pablogm11  \n",
       "2       Mary  \n",
       "3   mcmarc14  \n",
       "4     LauraC  "
      ]
     },
     "execution_count": 9,
     "metadata": {},
     "output_type": "execute_result"
    }
   ],
   "source": [
    "df.head()"
   ]
  },
  {
   "cell_type": "code",
   "execution_count": 14,
   "id": "mighty-rotation",
   "metadata": {},
   "outputs": [],
   "source": [
    "df['age'] = [calculate_age(datetime.strptime(elem,'%Y-%m-%d')) for elem in list(df['birthday'])]"
   ]
  },
  {
   "cell_type": "code",
   "execution_count": 10,
   "id": "detailed-guatemala",
   "metadata": {},
   "outputs": [
    {
     "data": {
      "text/plain": [
       "Femenino             18\n",
       "Masculino             4\n",
       "Prefiero no decir     1\n",
       "Name: gender, dtype: int64"
      ]
     },
     "execution_count": 10,
     "metadata": {},
     "output_type": "execute_result"
    }
   ],
   "source": [
    "df['gender'].value_counts()"
   ]
  },
  {
   "cell_type": "code",
   "execution_count": null,
   "id": "loved-mattress",
   "metadata": {},
   "outputs": [],
   "source": [
    "df['gender'].value_counts()"
   ]
  },
  {
   "cell_type": "code",
   "execution_count": 15,
   "id": "ordinary-paste",
   "metadata": {},
   "outputs": [
    {
     "name": "stdout",
     "output_type": "stream",
     "text": [
      "median age =  23.0\n"
     ]
    }
   ],
   "source": [
    "print('median age = ',np.median(df['age']))"
   ]
  },
  {
   "cell_type": "code",
   "execution_count": 16,
   "id": "verified-blast",
   "metadata": {},
   "outputs": [
    {
     "name": "stdout",
     "output_type": "stream",
     "text": [
      "minimum age =  20\n"
     ]
    }
   ],
   "source": [
    "print('minimum age = ',np.min(df['age']))"
   ]
  },
  {
   "cell_type": "code",
   "execution_count": 17,
   "id": "earned-supervisor",
   "metadata": {},
   "outputs": [
    {
     "name": "stdout",
     "output_type": "stream",
     "text": [
      "maximun age =  34\n"
     ]
    }
   ],
   "source": [
    "print('maximun age = ',np.max(df['age']))"
   ]
  },
  {
   "cell_type": "code",
   "execution_count": 19,
   "id": "dimensional-spray",
   "metadata": {},
   "outputs": [
    {
     "data": {
      "text/plain": [
       "Universidad incompleta    9\n",
       "Universidad completa      7\n",
       "Posgrado incompleto       4\n",
       "Posgrado completo         3\n",
       "Name: school, dtype: int64"
      ]
     },
     "execution_count": 19,
     "metadata": {},
     "output_type": "execute_result"
    }
   ],
   "source": [
    "df['school'].value_counts()"
   ]
  },
  {
   "cell_type": "code",
   "execution_count": 20,
   "id": "induced-major",
   "metadata": {},
   "outputs": [
    {
     "data": {
      "text/plain": [
       "No                   21\n",
       "Sí                    1\n",
       "Prefiero no decir     1\n",
       "Name: psycho, dtype: int64"
      ]
     },
     "execution_count": 20,
     "metadata": {},
     "output_type": "execute_result"
    }
   ],
   "source": [
    "df['psycho'].value_counts()"
   ]
  },
  {
   "cell_type": "code",
   "execution_count": 21,
   "id": "alert-priest",
   "metadata": {},
   "outputs": [
    {
     "data": {
      "text/plain": [
       "No            14\n",
       "no             7\n",
       "Loratadina     1\n",
       "Aerius         1\n",
       "Name: medication, dtype: int64"
      ]
     },
     "execution_count": 21,
     "metadata": {},
     "output_type": "execute_result"
    }
   ],
   "source": [
    "df['medication'].value_counts()"
   ]
  },
  {
   "cell_type": "code",
   "execution_count": 22,
   "id": "registered-cover",
   "metadata": {},
   "outputs": [
    {
     "data": {
      "text/plain": [
       "Spain       22\n",
       "Colombia     1\n",
       "Name: country, dtype: int64"
      ]
     },
     "execution_count": 22,
     "metadata": {},
     "output_type": "execute_result"
    }
   ],
   "source": [
    "df['country'].value_counts()"
   ]
  },
  {
   "cell_type": "code",
   "execution_count": null,
   "id": "saving-genesis",
   "metadata": {},
   "outputs": [],
   "source": []
  }
 ],
 "metadata": {
  "kernelspec": {
   "display_name": "Python 3",
   "language": "python",
   "name": "python3"
  },
  "language_info": {
   "codemirror_mode": {
    "name": "ipython",
    "version": 3
   },
   "file_extension": ".py",
   "mimetype": "text/x-python",
   "name": "python",
   "nbconvert_exporter": "python",
   "pygments_lexer": "ipython3",
   "version": "3.8.5"
  }
 },
 "nbformat": 4,
 "nbformat_minor": 5
}
