{
 "cells": [
  {
   "cell_type": "code",
   "execution_count": null,
   "id": "interim-medicine",
   "metadata": {},
   "outputs": [],
   "source": [
    "import os\n",
    "import json\n",
    "import numpy as np\n",
    "\n",
    "fday = [1,2,3,4,5,6,7,8,9,10]\n",
    "fsession = [1,2]"
   ]
  },
  {
   "cell_type": "code",
   "execution_count": null,
   "id": "hawaiian-montgomery",
   "metadata": {},
   "outputs": [],
   "source": [
    "current_path = os.path.abspath(os.getcwd())\n",
    "parent_path = os.path.abspath(os.path.join(current_path, os.pardir))\n",
    "grand_parent_path = os.path.abspath(os.path.join(parent_path, os.pardir))\n",
    "main_path = os.path.abspath(os.path.join(grand_parent_path, os.pardir))"
   ]
  },
  {
   "cell_type": "code",
   "execution_count": null,
   "id": "affiliated-romantic",
   "metadata": {},
   "outputs": [],
   "source": [
    "path_results = main_path+'/results/gabor/'\n",
    "general_path = path_results+'/day'"
   ]
  },
  {
   "cell_type": "code",
   "execution_count": null,
   "id": "young-destruction",
   "metadata": {},
   "outputs": [],
   "source": [
    "for Day in fday:\n",
    "    for Ses in fsession:\n",
    "        path = general_path+str(Day)+'/session'+str(Ses)+'/'\n",
    "        DO_files = [f for f in os.listdir(path) if f.startswith('DO_fit')]\n",
    "        lista = []\n",
    "        for fi in DO_files:\n",
    "            with open(path+fi) as f:\n",
    "                data = json.load(f)\n",
    "                if data['DFit']==0:\n",
    "                    lala = fi.split('Sub')\n",
    "                    lala2 = lala[1].split('_Day')\n",
    "                    lista.append(int(lala2[0]))\n",
    "        np.save(path+'DO_sub2changeFit.npy',lista)       \n",
    "        print(Day,Ses,lista)"
   ]
  },
  {
   "cell_type": "code",
   "execution_count": null,
   "id": "crucial-warner",
   "metadata": {},
   "outputs": [],
   "source": [
    "for Day in fday:\n",
    "    for Ses in fsession:\n",
    "        path = general_path+str(Day)+'/session'+str(Ses)+'/'\n",
    "        SO_files = [f for f in os.listdir(path) if f.startswith('SO_fit')]\n",
    "        listaS = []\n",
    "        for fiS in SO_files:\n",
    "            with open(path+fiS) as f:\n",
    "                data = json.load(f)\n",
    "                if data['SFit']==0:\n",
    "                    lala = fiS.split('Sub')\n",
    "                    lala2 = lala[1].split('_Day')\n",
    "                    listaS.append(int(lala2[0]))\n",
    "        np.save(path+'SO_sub2changeFit.npy',listaS)        \n",
    "        print(Day,Ses,listaS)"
   ]
  }
 ],
 "metadata": {
  "kernelspec": {
   "display_name": "Python 3",
   "language": "python",
   "name": "python3"
  },
  "language_info": {
   "codemirror_mode": {
    "name": "ipython",
    "version": 3
   },
   "file_extension": ".py",
   "mimetype": "text/x-python",
   "name": "python",
   "nbconvert_exporter": "python",
   "pygments_lexer": "ipython3",
   "version": "3.8.5"
  }
 },
 "nbformat": 4,
 "nbformat_minor": 5
}
