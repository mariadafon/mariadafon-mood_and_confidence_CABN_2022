{
 "cells": [
  {
   "cell_type": "code",
   "execution_count": null,
   "id": "administrative-spotlight",
   "metadata": {},
   "outputs": [],
   "source": [
    "import pandas as pd\n",
    "import os\n",
    "import json\n",
    "import numpy as np\n",
    "from itertools import groupby\n",
    "import matplotlib.pyplot as plt\n",
    "from scipy import stats,signal\n",
    "import matplotlib as mpl\n",
    "from sklearn.linear_model import LogisticRegression\n",
    "import random\n",
    "import re\n",
    "import csv\n",
    "from IPython.display import HTML, display, Image\n",
    "import tabulate\n",
    "import math as m\n",
    "import warnings\n",
    "warnings.filterwarnings('ignore')\n",
    "import statsmodels.api as sm\n",
    "import statsmodels.formula.api as smf\n",
    "\n",
    "mpl.rcParams['lines.linewidth'] = 2\n",
    "mpl.rcParams['axes.titlesize'] = 20\n",
    "mpl.rcParams['axes.labelsize'] = 18\n",
    "mpl.rcParams['lines.markersize'] = 10\n",
    "mpl.rcParams['xtick.labelsize'] = 20\n",
    "mpl.rcParams['ytick.labelsize'] = 20\n",
    "mpl.rcParams['axes.linewidth'] = 1\n",
    "#mpl.rcParams['xtick.major.size'] = 20\n",
    "mpl.rcParams['xtick.major.width'] = 1\n",
    "#mpl.rcParams['xtick.minor.size'] = 10\n",
    "mpl.rcParams['xtick.minor.width'] = 1\n",
    "mpl.rcParams['ytick.major.width'] = 1\n",
    "mpl.rcParams['ytick.minor.width'] = 1\n",
    "mpl.rcParams['axes.spines.right'] = False\n",
    "mpl.rcParams['axes.spines.top'] = False\n",
    "\n",
    "fday = [1,2,3,4,5,6,7,8,9,10]\n",
    "fsession = [1,2]\n",
    "excluded_miss = [(1011,11), (1011,18), (1014,12)]\n",
    "excluded_time = [(1008,2),(1009,9)]\n",
    "excluded = excluded_miss+excluded_time"
   ]
  },
  {
   "cell_type": "code",
   "execution_count": null,
   "id": "interesting-musical",
   "metadata": {},
   "outputs": [],
   "source": [
    "current_path = os.path.abspath(os.getcwd())\n",
    "parent_path = os.path.abspath(os.path.join(current_path, os.pardir))\n",
    "grand_parent_path = os.path.abspath(os.path.join(parent_path, os.pardir))\n",
    "main_path = os.path.abspath(os.path.join(grand_parent_path, os.pardir))\n",
    "\n",
    "path_results = main_path+'/results/gabor/'\n",
    "path_data = main_path+'/data/jatos_gabor_data/tanda1/'"
   ]
  },
  {
   "cell_type": "code",
   "execution_count": null,
   "id": "macro-israel",
   "metadata": {},
   "outputs": [],
   "source": [
    "def completeWithZero(domain, xlista, ylista):\n",
    "    if len(domain)==len(xlista):\n",
    "        return ylista\n",
    "    elif len(domain)<len(xlista):\n",
    "        print(domain,xlista)\n",
    "        return 'Error'\n",
    "    else:\n",
    "        set1 = set(domain)\n",
    "        set2 = set(xlista)\n",
    "        # missed values\n",
    "        missing = list(sorted(set1 - set2))\n",
    "        # index of missed values\n",
    "        index = []\n",
    "        [index.append(domain.index(elem)) for elem in missing]\n",
    "        # insert zero in ylista\n",
    "        [ylista.insert(elem,0) for elem in index]\n",
    "        return ylista"
   ]
  },
  {
   "cell_type": "code",
   "execution_count": null,
   "id": "matched-convenience",
   "metadata": {},
   "outputs": [],
   "source": [
    "# list of participants \n",
    "participants = [991+i for i in range(13)]+[1005+i for i in range(10)]"
   ]
  },
  {
   "cell_type": "code",
   "execution_count": null,
   "id": "official-number",
   "metadata": {},
   "outputs": [],
   "source": [
    "StairC = {}\n",
    "for part in participants:\n",
    "    StairC[part] = {}"
   ]
  },
  {
   "cell_type": "code",
   "execution_count": null,
   "id": "useful-mechanism",
   "metadata": {},
   "outputs": [],
   "source": [
    "for day in fday:\n",
    "    for session in fsession:\n",
    "        sessionid = 2*day-2+session\n",
    "        \n",
    "        path = path_results+'day'+str(day)+'/session'+str(session)+'/'\n",
    "        # data_files = [f for f in os.listdir(path) if f.endswith('_day'+str(day)+'_session'+str(session))]\n",
    "\n",
    "        stair_files = [f for f in os.listdir(path) if f.startswith('staircase_')]\n",
    "        aux_st = [f.replace('staircase_Sub','') for f in stair_files]\n",
    "        subj_stair = [int(f.replace('_Day'+str(day)+'_Sess'+str(session)+'.json','')) for f in aux_st]\n",
    "        sorted_subj_stair = sorted(subj_stair)\n",
    "        index_subj_stair = [subj_stair.index(elem) for elem in sorted_subj_stair]\n",
    "        sorted_stair_files = [stair_files[i] for i in index_subj_stair]\n",
    "\n",
    "        ind = -1\n",
    "        for part in sorted_subj_stair:\n",
    "            part_ses = str(part)+'_'+str(sessionid)\n",
    "            if part_ses not in excluded:\n",
    "                f_stair = sorted_stair_files[ind]\n",
    "                filename=path+f_stair\n",
    "                with open(filename) as f_stair:\n",
    "                    data_stair = json.load(f_stair)\n",
    "                for k, v in data_stair.items():\n",
    "                    globals()[k]=v \n",
    "                StairC[part][sessionid] = np.array(Cnoise)\n",
    "                ind += 1"
   ]
  },
  {
   "cell_type": "code",
   "execution_count": null,
   "id": "acquired-popularity",
   "metadata": {},
   "outputs": [],
   "source": [
    "np.arange(1,20)"
   ]
  },
  {
   "cell_type": "code",
   "execution_count": null,
   "id": "flush-massachusetts",
   "metadata": {},
   "outputs": [],
   "source": [
    "meanStairC,stdStairC = {},{}\n",
    "for part in participants:\n",
    "    meanStairC[part] = sum(StairC[part].values())/len(StairC[part])\n",
    "    stdStairC[part] = np.std(np.array(list(StairC[part].values())),axis=0)"
   ]
  },
  {
   "cell_type": "code",
   "execution_count": null,
   "id": "operating-jerusalem",
   "metadata": {},
   "outputs": [],
   "source": [
    "len(StairC[991])"
   ]
  },
  {
   "cell_type": "code",
   "execution_count": null,
   "id": "later-banking",
   "metadata": {},
   "outputs": [],
   "source": [
    "ind = -1\n",
    "fig, ax = plt.subplots(6,4,figsize=(18,22))\n",
    "plt.subplots_adjust(wspace = 0.2)\n",
    "plt.subplots_adjust(hspace = 0.6)\n",
    "for part in participants:\n",
    "\n",
    "    ind += 1\n",
    "    ind1 = ind%6\n",
    "    ind2 = int(round(ind/6,1))\n",
    "    # ax[ind1,ind2].set_title('participante:'+str(part))\n",
    "    # ax[ind1,ind2].plot(np.arange(1,61),Cresult,'ok')\n",
    "    \n",
    "    # ax[ind1,ind2].fill_between(np.arange(1,61),meanStairC[part]-stdStairC[part], \n",
    "    #                             meanStairC[part]+stdStairC[part], alpha=0.2, color = 'k')\n",
    "    for k in StairC[part].keys():\n",
    "        ax[ind1,ind2].plot(np.arange(1,61),StairC[part][k],'k', alpha=0.2)\n",
    "    ax[ind1,ind2].set_ylim(0,1)\n",
    "    if ind1<5:\n",
    "        ax[ind1,ind2].set_xticks([0,20,40,60])\n",
    "        ax[ind1,ind2].set_xticklabels([])        \n",
    "    if ind2>0:\n",
    "        ax[ind1,ind2].set_yticks([0,0.5,1])\n",
    "        ax[ind1,ind2].set_yticklabels([])\n",
    "    ax[ind1,ind2].plot(np.arange(1,61),meanStairC[part],color=[0.7,0.3,0.1])\n",
    "    ax[ind1,0].set_ylabel('noise level')\n",
    "    ax[5,ind2].set_xlabel('trial number')\n",
    "    ax[4,3].set_xlabel('trial number')\n",
    "    ax[4,3].set_xticklabels([0,20,40,60])  \n",
    "    ax[5,3].axis('off')\n",
    "plt.tight_layout()\n",
    "plt.savefig('traces_staircase.png')\n",
    "plt.show()"
   ]
  },
  {
   "cell_type": "code",
   "execution_count": null,
   "id": "further-deputy",
   "metadata": {},
   "outputs": [],
   "source": []
  }
 ],
 "metadata": {
  "kernelspec": {
   "display_name": "Python 3",
   "language": "python",
   "name": "python3"
  },
  "language_info": {
   "codemirror_mode": {
    "name": "ipython",
    "version": 3
   },
   "file_extension": ".py",
   "mimetype": "text/x-python",
   "name": "python",
   "nbconvert_exporter": "python",
   "pygments_lexer": "ipython3",
   "version": "3.8.5"
  }
 },
 "nbformat": 4,
 "nbformat_minor": 5
}
